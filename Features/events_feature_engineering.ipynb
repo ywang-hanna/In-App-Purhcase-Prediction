{
 "cells": [
  {
   "cell_type": "markdown",
   "metadata": {},
   "source": [
    "# Split events.csv the same as sessions.csv"
   ]
  },
  {
   "cell_type": "markdown",
   "metadata": {},
   "source": [
    "Skip this and just grab events_train and events_val from s3!"
   ]
  },
  {
   "cell_type": "code",
   "execution_count": 1,
   "metadata": {},
   "outputs": [],
   "source": [
    "import pandas as pd\n",
    "import numpy as np"
   ]
  },
  {
   "cell_type": "code",
   "execution_count": 2,
   "metadata": {},
   "outputs": [],
   "source": [
    "#session_train = pd.read_csv('~/data/train_val/session_train.csv')\n",
    "#session_val = pd.read_csv('~/data/train_val/session_val.csv')"
   ]
  },
  {
   "cell_type": "code",
   "execution_count": 3,
   "metadata": {},
   "outputs": [],
   "source": [
    "#train_session_ids = session_train['session_id'].unique()\n",
    "#val_session_ids = session_val['session_id'].unique()"
   ]
  },
  {
   "cell_type": "code",
   "execution_count": 4,
   "metadata": {},
   "outputs": [],
   "source": [
    "#events = pd.read_csv('~/data/raw_csv/events.csv')"
   ]
  },
  {
   "cell_type": "code",
   "execution_count": 5,
   "metadata": {},
   "outputs": [],
   "source": [
    "#train_events = events[events['session_id'].isin(train_session_ids)]\n",
    "#val_events = events[events['session_id'].isin(val_session_ids)]"
   ]
  },
  {
   "cell_type": "code",
   "execution_count": 6,
   "metadata": {},
   "outputs": [],
   "source": [
    "#train_events.to_csv('~/data/train_val/events_train.csv', index=False)\n",
    "#val_events.to_csv('~/data/train_val/events_val.csv', index=False)"
   ]
  },
  {
   "cell_type": "markdown",
   "metadata": {},
   "source": [
    "# Read in events_session"
   ]
  },
  {
   "cell_type": "code",
   "execution_count": 7,
   "metadata": {},
   "outputs": [],
   "source": [
    "events_train = pd.read_csv('~/data/train_val/events_train.csv')\n",
    "events_val = pd.read_csv('~/data/train_val/events_val.csv')\n"
   ]
  },
  {
   "cell_type": "code",
   "execution_count": 8,
   "metadata": {},
   "outputs": [
    {
     "data": {
      "text/html": [
       "<div>\n",
       "<style scoped>\n",
       "    .dataframe tbody tr th:only-of-type {\n",
       "        vertical-align: middle;\n",
       "    }\n",
       "\n",
       "    .dataframe tbody tr th {\n",
       "        vertical-align: top;\n",
       "    }\n",
       "\n",
       "    .dataframe thead th {\n",
       "        text-align: right;\n",
       "    }\n",
       "</style>\n",
       "<table border=\"1\" class=\"dataframe\">\n",
       "  <thead>\n",
       "    <tr style=\"text-align: right;\">\n",
       "      <th></th>\n",
       "      <th>app_id</th>\n",
       "      <th>session_id</th>\n",
       "      <th>event</th>\n",
       "      <th>event_timestamp</th>\n",
       "      <th>event_value</th>\n",
       "      <th>user_id_hash</th>\n",
       "    </tr>\n",
       "  </thead>\n",
       "  <tbody>\n",
       "    <tr>\n",
       "      <th>0</th>\n",
       "      <td>4724682771660800</td>\n",
       "      <td>5558845121177764917</td>\n",
       "      <td>45</td>\n",
       "      <td>1542215397132</td>\n",
       "      <td>0.0</td>\n",
       "      <td>9943447915df3a45fd6720a026af905b6da6b56a37701b...</td>\n",
       "    </tr>\n",
       "    <tr>\n",
       "      <th>1</th>\n",
       "      <td>4724682771660800</td>\n",
       "      <td>5558845121177764917</td>\n",
       "      <td>45</td>\n",
       "      <td>1542215484895</td>\n",
       "      <td>0.0</td>\n",
       "      <td>9943447915df3a45fd6720a026af905b6da6b56a37701b...</td>\n",
       "    </tr>\n",
       "    <tr>\n",
       "      <th>2</th>\n",
       "      <td>4724682771660800</td>\n",
       "      <td>7689508378645584666</td>\n",
       "      <td>.m5100869650219008</td>\n",
       "      <td>1541124410372</td>\n",
       "      <td>0.0</td>\n",
       "      <td>9943447915df3a45fd6720a026af905b6da6b56a37701b...</td>\n",
       "    </tr>\n",
       "    <tr>\n",
       "      <th>3</th>\n",
       "      <td>4724682771660800</td>\n",
       "      <td>18781111175537580</td>\n",
       "      <td>.m6335456823869440</td>\n",
       "      <td>1539215572790</td>\n",
       "      <td>0.0</td>\n",
       "      <td>9943447915df3a45fd6720a026af905b6da6b56a37701b...</td>\n",
       "    </tr>\n",
       "    <tr>\n",
       "      <th>4</th>\n",
       "      <td>4724682771660800</td>\n",
       "      <td>18781111175537580</td>\n",
       "      <td>1</td>\n",
       "      <td>1539215608399</td>\n",
       "      <td>0.0</td>\n",
       "      <td>9943447915df3a45fd6720a026af905b6da6b56a37701b...</td>\n",
       "    </tr>\n",
       "  </tbody>\n",
       "</table>\n",
       "</div>"
      ],
      "text/plain": [
       "             app_id           session_id               event  event_timestamp  \\\n",
       "0  4724682771660800  5558845121177764917                  45    1542215397132   \n",
       "1  4724682771660800  5558845121177764917                  45    1542215484895   \n",
       "2  4724682771660800  7689508378645584666  .m5100869650219008    1541124410372   \n",
       "3  4724682771660800    18781111175537580  .m6335456823869440    1539215572790   \n",
       "4  4724682771660800    18781111175537580                   1    1539215608399   \n",
       "\n",
       "   event_value                                       user_id_hash  \n",
       "0          0.0  9943447915df3a45fd6720a026af905b6da6b56a37701b...  \n",
       "1          0.0  9943447915df3a45fd6720a026af905b6da6b56a37701b...  \n",
       "2          0.0  9943447915df3a45fd6720a026af905b6da6b56a37701b...  \n",
       "3          0.0  9943447915df3a45fd6720a026af905b6da6b56a37701b...  \n",
       "4          0.0  9943447915df3a45fd6720a026af905b6da6b56a37701b...  "
      ]
     },
     "execution_count": 8,
     "metadata": {},
     "output_type": "execute_result"
    }
   ],
   "source": [
    "events_train.head()"
   ]
  },
  {
   "cell_type": "code",
   "execution_count": 9,
   "metadata": {
    "scrolled": false
   },
   "outputs": [
    {
     "data": {
      "text/plain": [
       "array(['.a4640834587066368', '.a4767693735067648', '.a4905497451167744',\n",
       "       '.a4920882459443200', '.a4936179179192320', '.a4955822838251520',\n",
       "       '.a5027911885258752', '.a5061295285075968', '.a5400102822346752',\n",
       "       '.a5516611293544448', '.a5523274289512448', '.a5678563962912768',\n",
       "       '.a5686782234722304', '.a5924766976704512', '.a5933275901722624',\n",
       "       '.a6017451431428096', '.a6030168535203840', '.a6031326957797376',\n",
       "       '.a6266265261441024', '.a6278994001788928', '.a6544973222248448',\n",
       "       '.c4673994986356736 Enter', '.c4673994986356736 Exit',\n",
       "       '.m4545368715427840', '.m4545368715427840 Accept',\n",
       "       '.m4592402159501312', '.m4609541589565440',\n",
       "       '.m4609541589565440 Accept', '.m4609541589565440 Held Back',\n",
       "       '.m4728338570018816', '.m4912602330693632',\n",
       "       '.m4912602330693632 Bounce', '.m4912602330693632 Held Back',\n",
       "       '.m5100869650219008', '.m5100869650219008 Accept',\n",
       "       '.m5243740553347072', '.m5243740553347072 Accept',\n",
       "       '.m5243740553347072 Held Back', '.m5295687445250048',\n",
       "       '.m5295687445250048 Accept', '.m5295687445250048 Held Back',\n",
       "       '.m5411830689693696', '.m5411830689693696 Accept',\n",
       "       '.m5411830689693696 Held Back', '.m5488050202738688',\n",
       "       '.m5548385265778688', '.m5611570240946176', '.m5666730055958528',\n",
       "       '.m5666730055958528 Accept', '.m5894328212389888',\n",
       "       '.m5894328212389888 Accept', '.m5925072799399936',\n",
       "       '.m5925072799399936 Accept', '.m6006728682897408',\n",
       "       '.m6209287803633664', '.m6209287803633664 Accept',\n",
       "       '.m6209287803633664 Held Back', '.m6311588362059776',\n",
       "       '.m6311588362059776 Accept', '.m6311698772393984',\n",
       "       '.m6311698772393984 Accept', '.m6335456823869440',\n",
       "       '.m6335456823869440 Accept', '.m6386247411433472',\n",
       "       '.m6386247411433472 Accept', '0', '0/', '1', '1/', '10', '11',\n",
       "       '14', '3', '32', '4', '40', '41', '42', '43', '44', '45', '47',\n",
       "       '48', '49', '5', '50', '51', '52', '54', '55', '56', '57', '58',\n",
       "       '59', '6', '60', '61', '63', '64', '7', '8', '9'], dtype=object)"
      ]
     },
     "execution_count": 9,
     "metadata": {},
     "output_type": "execute_result"
    }
   ],
   "source": [
    "events = events_train['event'].unique()\n",
    "events.sort()\n",
    "events"
   ]
  },
  {
   "cell_type": "code",
   "execution_count": 10,
   "metadata": {},
   "outputs": [
    {
     "data": {
      "text/plain": [
       "array(['5', '7', '11', '8', '9', '10'], dtype=object)"
      ]
     },
     "execution_count": 10,
     "metadata": {},
     "output_type": "execute_result"
    }
   ],
   "source": [
    "events_train[events_train['event_value']>0]['event'].unique()"
   ]
  },
  {
   "cell_type": "markdown",
   "metadata": {},
   "source": [
    "# Group by user and feature engineer"
   ]
  },
  {
   "cell_type": "markdown",
   "metadata": {},
   "source": [
    "## Events with numerical values"
   ]
  },
  {
   "cell_type": "code",
   "execution_count": 11,
   "metadata": {},
   "outputs": [],
   "source": [
    "events_5 = events_train[events_train['event']=='5']\n",
    "events_5_grouped = events_5.groupby('user_id_hash',as_index=False).agg({'event':'count','event_value':'mean'})\n",
    "\n",
    "events_7 = events_train[events_train['event']=='7']\n",
    "events_7_grouped = events_7.groupby('user_id_hash',as_index=False).agg({'event':'count','event_value':'mean'})\n",
    "\n",
    "events_11 = events_train[events_train['event']=='11']\n",
    "events_11_grouped = events_11.groupby('user_id_hash',as_index=False).agg({'event':'count','event_value':'mean'})\n",
    "\n",
    "events_8 = events_train[events_train['event']=='8']\n",
    "events_8_grouped = events_8.groupby('user_id_hash',as_index=False).agg({'event':'count','event_value':'mean'})\n",
    "\n",
    "events_9 = events_train[events_train['event']=='9']\n",
    "events_9_grouped = events_9.groupby('user_id_hash',as_index=False).agg({'event':'count','event_value':'mean'})\n",
    "\n",
    "events_10 = events_train[events_train['event']=='10']\n",
    "events_10_grouped = events_10.groupby('user_id_hash',as_index=False).agg({'event':'count','event_value':'mean'})"
   ]
  },
  {
   "cell_type": "markdown",
   "metadata": {},
   "source": [
    "## Events without numerical values"
   ]
  },
  {
   "cell_type": "code",
   "execution_count": 12,
   "metadata": {},
   "outputs": [],
   "source": [
    "events_0 = events_train[events_train['event']=='0']\n",
    "events_0_grouped = events_0.groupby('user_id_hash',as_index=False).agg({'event':'count'})\n",
    "\n",
    "events_1 = events_train[events_train['event']=='1']\n",
    "events_1_grouped = events_1.groupby('user_id_hash',as_index=False).agg({'event':'count'})\n",
    "\n",
    "events_14 = events_train[events_train['event']=='14']\n",
    "events_14_grouped = events_14.groupby('user_id_hash',as_index=False).agg({'event':'count'})\n",
    "\n",
    "events_3 = events_train[events_train['event']=='3']\n",
    "events_3_grouped = events_3.groupby('user_id_hash',as_index=False).agg({'event':'count'})\n",
    "\n",
    "events_32 = events_train[events_train['event']=='32']\n",
    "events_32_grouped = events_32.groupby('user_id_hash',as_index=False).agg({'event':'count'})\n",
    "\n",
    "events_4 = events_train[events_train['event']=='4']\n",
    "events_4_grouped = events_4.groupby('user_id_hash',as_index=False).agg({'event':'count'})\n",
    "\n",
    "events_40 = events_train[events_train['event']=='40']\n",
    "events_40_grouped = events_40.groupby('user_id_hash',as_index=False).agg({'event':'count'})\n",
    "\n",
    "events_41 = events_train[events_train['event']=='41']\n",
    "events_41_grouped = events_41.groupby('user_id_hash',as_index=False).agg({'event':'count'})\n",
    "\n",
    "events_42 = events_train[events_train['event']=='42']\n",
    "events_42_grouped = events_42.groupby('user_id_hash',as_index=False).agg({'event':'count'})\n",
    "\n",
    "events_4 = events_train[events_train['event']=='4']\n",
    "events_4_grouped = events_4.groupby('user_id_hash',as_index=False).agg({'event':'count'})\n",
    "\n",
    "events_4 = events_train[events_train['event']=='4']\n",
    "events_4_grouped = events_4.groupby('user_id_hash',as_index=False).agg({'event':'count'})"
   ]
  },
  {
   "cell_type": "code",
   "execution_count": 13,
   "metadata": {},
   "outputs": [],
   "source": [
    "target = pd.read_csv('~/data/train_val/train_target.csv',index_col=0)"
   ]
  },
  {
   "cell_type": "code",
   "execution_count": 14,
   "metadata": {},
   "outputs": [],
   "source": [
    "users = np.array(target.index)"
   ]
  },
  {
   "cell_type": "code",
   "execution_count": 15,
   "metadata": {},
   "outputs": [],
   "source": [
    "events_5_grouped.index = events_5_grouped['user_id_hash']\n",
    "events_train_features = pd.DataFrame({'user_id_hash':users},index=users).join(events_5_grouped,rsuffix='_e',lsuffix='_u',how='left')\n",
    "events_train_features = events_train_features.drop('user_id_hash_e',axis=1)\n",
    "events_train_features = events_train_features.rename({'user_id_hash_u':'user_id_hash','event':'event_5','event_value':'event_5_value'},axis=1)"
   ]
  },
  {
   "cell_type": "code",
   "execution_count": 16,
   "metadata": {},
   "outputs": [],
   "source": [
    "events_7_grouped.index = events_7_grouped['user_id_hash']\n",
    "events_train_features = events_train_features.join(events_7_grouped,rsuffix='_e',lsuffix='_u',how='left')\n",
    "events_train_features = events_train_features.drop('user_id_hash_e',axis=1)\n",
    "events_train_features = events_train_features.rename({'user_id_hash_u':'user_id_hash','event':'event_7','event_value':'event_7_value'},axis=1)"
   ]
  },
  {
   "cell_type": "code",
   "execution_count": 17,
   "metadata": {},
   "outputs": [],
   "source": [
    "events_11_grouped.index = events_11_grouped['user_id_hash']\n",
    "events_train_features = events_train_features.join(events_11_grouped,rsuffix='_e',lsuffix='_u',how='left')\n",
    "events_train_features = events_train_features.drop('user_id_hash_e',axis=1)\n",
    "events_train_features = events_train_features.rename({'user_id_hash_u':'user_id_hash','event':'event_11','event_value':'event_11_value'},axis=1)"
   ]
  },
  {
   "cell_type": "code",
   "execution_count": 18,
   "metadata": {},
   "outputs": [],
   "source": [
    "events_8_grouped.index = events_8_grouped['user_id_hash']\n",
    "events_train_features = events_train_features.join(events_8_grouped,rsuffix='_e',lsuffix='_u',how='left')\n",
    "events_train_features = events_train_features.drop('user_id_hash_e',axis=1)\n",
    "events_train_features = events_train_features.rename({'user_id_hash_u':'user_id_hash','event':'event_8','event_value':'event_8_value'},axis=1)"
   ]
  },
  {
   "cell_type": "code",
   "execution_count": 19,
   "metadata": {},
   "outputs": [],
   "source": [
    "events_9_grouped.index = events_9_grouped['user_id_hash']\n",
    "events_train_features = events_train_features.join(events_9_grouped,rsuffix='_e',lsuffix='_u',how='left')\n",
    "events_train_features = events_train_features.drop('user_id_hash_e',axis=1)\n",
    "events_train_features = events_train_features.rename({'user_id_hash_u':'user_id_hash','event':'event_9','event_value':'event_9_value'},axis=1)"
   ]
  },
  {
   "cell_type": "code",
   "execution_count": 20,
   "metadata": {},
   "outputs": [],
   "source": [
    "events_10_grouped.index = events_10_grouped['user_id_hash']\n",
    "events_train_features = events_train_features.join(events_10_grouped,rsuffix='_e',lsuffix='_u',how='left')\n",
    "events_train_features = events_train_features.drop('user_id_hash_e',axis=1)\n",
    "events_train_features = events_train_features.rename({'user_id_hash_u':'user_id_hash','event':'event_10','event_value':'event_10_value'},axis=1)"
   ]
  },
  {
   "cell_type": "markdown",
   "metadata": {},
   "source": [
    "## Do same for val set"
   ]
  },
  {
   "cell_type": "code",
   "execution_count": 25,
   "metadata": {},
   "outputs": [],
   "source": [
    "events_5 = events_val[events_val['event']=='5']\n",
    "events_5_grouped = events_5.groupby('user_id_hash',as_index=False).agg({'event':'count','event_value':'mean'})\n",
    "\n",
    "events_7 = events_val[events_val['event']=='7']\n",
    "events_7_grouped = events_7.groupby('user_id_hash',as_index=False).agg({'event':'count','event_value':'mean'})\n",
    "\n",
    "events_11 = events_val[events_val['event']=='11']\n",
    "events_11_grouped = events_11.groupby('user_id_hash',as_index=False).agg({'event':'count','event_value':'mean'})\n",
    "\n",
    "events_8 = events_val[events_val['event']=='8']\n",
    "events_8_grouped = events_8.groupby('user_id_hash',as_index=False).agg({'event':'count','event_value':'mean'})\n",
    "\n",
    "events_9 = events_val[events_val['event']=='9']\n",
    "events_9_grouped = events_9.groupby('user_id_hash',as_index=False).agg({'event':'count','event_value':'mean'})\n",
    "\n",
    "events_10 = events_val[events_val['event']=='10']\n",
    "events_10_grouped = events_10.groupby('user_id_hash',as_index=False).agg({'event':'count','event_value':'mean'})"
   ]
  },
  {
   "cell_type": "code",
   "execution_count": 26,
   "metadata": {},
   "outputs": [],
   "source": [
    "target_val = pd.read_csv('~/data/train_val/val_target.csv',index_col=0)"
   ]
  },
  {
   "cell_type": "code",
   "execution_count": 27,
   "metadata": {},
   "outputs": [],
   "source": [
    "users_val = np.array(target_val.index)"
   ]
  },
  {
   "cell_type": "code",
   "execution_count": 30,
   "metadata": {},
   "outputs": [],
   "source": [
    "events_5_grouped.index = events_5_grouped['user_id_hash']\n",
    "events_val_features = pd.DataFrame({'user_id_hash':users_val},index=users_val).join(events_5_grouped,rsuffix='_e',lsuffix='_u',how='left')\n",
    "events_val_features = events_val_features.drop('user_id_hash_e',axis=1)\n",
    "events_val_features = events_val_features.rename({'user_id_hash_u':'user_id_hash','event':'event_5','event_value':'event_5_value'},axis=1)"
   ]
  },
  {
   "cell_type": "code",
   "execution_count": 31,
   "metadata": {},
   "outputs": [],
   "source": [
    "events_7_grouped.index = events_7_grouped['user_id_hash']\n",
    "events_val_features = events_val_features.join(events_7_grouped,rsuffix='_e',lsuffix='_u',how='left')\n",
    "events_val_features = events_val_features.drop('user_id_hash_e',axis=1)\n",
    "events_val_features = events_val_features.rename({'user_id_hash_u':'user_id_hash','event':'event_7','event_value':'event_7_value'},axis=1)"
   ]
  },
  {
   "cell_type": "code",
   "execution_count": 32,
   "metadata": {},
   "outputs": [],
   "source": [
    "events_11_grouped.index = events_11_grouped['user_id_hash']\n",
    "events_val_features = events_val_features.join(events_11_grouped,rsuffix='_e',lsuffix='_u',how='left')\n",
    "events_val_features = events_val_features.drop('user_id_hash_e',axis=1)\n",
    "events_val_features = events_val_features.rename({'user_id_hash_u':'user_id_hash','event':'event_11','event_value':'event_11_value'},axis=1)"
   ]
  },
  {
   "cell_type": "code",
   "execution_count": 33,
   "metadata": {},
   "outputs": [],
   "source": [
    "events_8_grouped.index = events_8_grouped['user_id_hash']\n",
    "events_val_features = events_val_features.join(events_8_grouped,rsuffix='_e',lsuffix='_u',how='left')\n",
    "events_val_features = events_val_features.drop('user_id_hash_e',axis=1)\n",
    "events_val_features = events_val_features.rename({'user_id_hash_u':'user_id_hash','event':'event_8','event_value':'event_8_value'},axis=1)"
   ]
  },
  {
   "cell_type": "code",
   "execution_count": 34,
   "metadata": {},
   "outputs": [],
   "source": [
    "events_9_grouped.index = events_9_grouped['user_id_hash']\n",
    "events_val_features = events_val_features.join(events_9_grouped,rsuffix='_e',lsuffix='_u',how='left')\n",
    "events_val_features = events_val_features.drop('user_id_hash_e',axis=1)\n",
    "events_val_features = events_val_features.rename({'user_id_hash_u':'user_id_hash','event':'event_9','event_value':'event_9_value'},axis=1)"
   ]
  },
  {
   "cell_type": "code",
   "execution_count": 35,
   "metadata": {},
   "outputs": [],
   "source": [
    "events_10_grouped.index = events_10_grouped['user_id_hash']\n",
    "events_val_features = events_val_features.join(events_10_grouped,rsuffix='_e',lsuffix='_u',how='left')\n",
    "events_val_features = events_val_features.drop('user_id_hash_e',axis=1)\n",
    "events_val_features = events_val_features.rename({'user_id_hash_u':'user_id_hash','event':'event_10','event_value':'event_10_value'},axis=1)"
   ]
  },
  {
   "cell_type": "markdown",
   "metadata": {},
   "source": [
    "# Logistic Regression"
   ]
  },
  {
   "cell_type": "code",
   "execution_count": 44,
   "metadata": {},
   "outputs": [],
   "source": [
    "events_train_features.fillna(0,inplace=True)\n",
    "events_val_features.fillna(0,inplace=True)"
   ]
  },
  {
   "cell_type": "code",
   "execution_count": 45,
   "metadata": {},
   "outputs": [],
   "source": [
    "events_train_features = events_train_features.sort_values(by='user_id_hash')\n",
    "target = target.sort_values(by='user_id_hash')\n",
    "\n",
    "events_val_features = events_val_features.sort_values(by='user_id_hash')\n",
    "target_val = target_val.sort_values(by='user_id_hash')"
   ]
  },
  {
   "cell_type": "code",
   "execution_count": 46,
   "metadata": {},
   "outputs": [],
   "source": [
    "X_train = events_train_features[['event_5', 'event_5_value', 'event_7', 'event_7_value',\n",
    "       'event_11', 'event_11_value', 'event_8', 'event_8_value', 'event_9',\n",
    "       'event_9_value', 'event_10', 'event_10_value']]\n",
    "\n",
    "y7_train = target[['user_purchase_binary_7_days']]\n",
    "y14_train = target[['user_purchase_binary_14_days']]\n",
    "\n",
    "X_val = events_val_features[['event_5', 'event_5_value', 'event_7', 'event_7_value',\n",
    "       'event_11', 'event_11_value', 'event_8', 'event_8_value', 'event_9',\n",
    "       'event_9_value', 'event_10', 'event_10_value']]\n",
    "\n",
    "y7_val = target_val[['user_purchase_binary_7_days']]\n",
    "y14_val = target_val[['user_purchase_binary_14_days']]"
   ]
  },
  {
   "cell_type": "code",
   "execution_count": 47,
   "metadata": {},
   "outputs": [],
   "source": [
    "from sklearn.linear_model import LogisticRegression"
   ]
  },
  {
   "cell_type": "code",
   "execution_count": 48,
   "metadata": {},
   "outputs": [
    {
     "name": "stderr",
     "output_type": "stream",
     "text": [
      "/home/ec2-user/miniconda3/envs/msds630/lib/python3.7/site-packages/sklearn/linear_model/logistic.py:433: FutureWarning: Default solver will be changed to 'lbfgs' in 0.22. Specify a solver to silence this warning.\n",
      "  FutureWarning)\n",
      "/home/ec2-user/miniconda3/envs/msds630/lib/python3.7/site-packages/sklearn/utils/validation.py:761: DataConversionWarning: A column-vector y was passed when a 1d array was expected. Please change the shape of y to (n_samples, ), for example using ravel().\n",
      "  y = column_or_1d(y, warn=True)\n",
      "/home/ec2-user/miniconda3/envs/msds630/lib/python3.7/site-packages/sklearn/linear_model/logistic.py:433: FutureWarning: Default solver will be changed to 'lbfgs' in 0.22. Specify a solver to silence this warning.\n",
      "  FutureWarning)\n",
      "/home/ec2-user/miniconda3/envs/msds630/lib/python3.7/site-packages/sklearn/utils/validation.py:761: DataConversionWarning: A column-vector y was passed when a 1d array was expected. Please change the shape of y to (n_samples, ), for example using ravel().\n",
      "  y = column_or_1d(y, warn=True)\n"
     ]
    }
   ],
   "source": [
    "clf7 = LogisticRegression().fit(X_train,y7_train)\n",
    "clf14= LogisticRegression().fit(X_train,y14_train)"
   ]
  },
  {
   "cell_type": "code",
   "execution_count": 52,
   "metadata": {},
   "outputs": [],
   "source": [
    "pred7 = clf7.predict(X_val)\n",
    "pred14 = clf14.predict(X_val)"
   ]
  },
  {
   "cell_type": "code",
   "execution_count": 53,
   "metadata": {},
   "outputs": [
    {
     "name": "stdout",
     "output_type": "stream",
     "text": [
      "              precision    recall  f1-score   support\n",
      "\n",
      "           0       0.95      1.00      0.97     84562\n",
      "           1       0.63      0.03      0.06      4729\n",
      "\n",
      "   micro avg       0.95      0.95      0.95     89291\n",
      "   macro avg       0.79      0.51      0.52     89291\n",
      "weighted avg       0.93      0.95      0.92     89291\n",
      "\n",
      "0.9477102955505035\n"
     ]
    }
   ],
   "source": [
    "from sklearn.metrics import classification_report, confusion_matrix, accuracy_score\n",
    "print(classification_report(y7_val,pred7))  \n",
    "print(accuracy_score(y7_val,pred7))"
   ]
  },
  {
   "cell_type": "code",
   "execution_count": 54,
   "metadata": {},
   "outputs": [
    {
     "name": "stdout",
     "output_type": "stream",
     "text": [
      "              precision    recall  f1-score   support\n",
      "\n",
      "           0       0.93      1.00      0.96     83165\n",
      "           1       0.68      0.03      0.05      6126\n",
      "\n",
      "   micro avg       0.93      0.93      0.93     89291\n",
      "   macro avg       0.81      0.51      0.51     89291\n",
      "weighted avg       0.92      0.93      0.90     89291\n",
      "\n",
      "0.9323672038615314\n"
     ]
    }
   ],
   "source": [
    "print(classification_report(y14_val,pred14))  \n",
    "print(accuracy_score(y14_val,pred14))"
   ]
  },
  {
   "cell_type": "markdown",
   "metadata": {},
   "source": [
    "# Test set for final preds"
   ]
  },
  {
   "cell_type": "code",
   "execution_count": 55,
   "metadata": {},
   "outputs": [],
   "source": [
    "events = pd.read_csv('~/data/raw_csv/events.csv')\n",
    "sample_submit = pd.read_csv('~/data/raw_csv/sample_submission.csv',index_col=0)\n",
    "users_test = np.array(sample_submit.index)"
   ]
  },
  {
   "cell_type": "code",
   "execution_count": 56,
   "metadata": {},
   "outputs": [],
   "source": [
    "events_5 = events[events['event']=='5']\n",
    "events_5_grouped = events_5.groupby('user_id_hash',as_index=False).agg({'event':'count','event_value':'mean'})\n",
    "\n",
    "events_7 = events[events['event']=='7']\n",
    "events_7_grouped = events_7.groupby('user_id_hash',as_index=False).agg({'event':'count','event_value':'mean'})\n",
    "\n",
    "events_11 = events[events['event']=='11']\n",
    "events_11_grouped = events_11.groupby('user_id_hash',as_index=False).agg({'event':'count','event_value':'mean'})\n",
    "\n",
    "events_8 = events[events['event']=='8']\n",
    "events_8_grouped = events_8.groupby('user_id_hash',as_index=False).agg({'event':'count','event_value':'mean'})\n",
    "\n",
    "events_9 = events[events['event']=='9']\n",
    "events_9_grouped = events_9.groupby('user_id_hash',as_index=False).agg({'event':'count','event_value':'mean'})\n",
    "\n",
    "events_10 = events[events['event']=='10']\n",
    "events_10_grouped = events_10.groupby('user_id_hash',as_index=False).agg({'event':'count','event_value':'mean'})"
   ]
  },
  {
   "cell_type": "code",
   "execution_count": 57,
   "metadata": {},
   "outputs": [],
   "source": [
    "events_5_grouped.index = events_5_grouped['user_id_hash']\n",
    "events_test_features = pd.DataFrame({'user_id_hash':users_test},index=users_test).join(events_5_grouped,rsuffix='_e',lsuffix='_u',how='left')\n",
    "events_test_features = events_test_features.drop('user_id_hash_e',axis=1)\n",
    "events_test_features = events_test_features.rename({'user_id_hash_u':'user_id_hash','event':'event_5','event_value':'event_5_value'},axis=1)"
   ]
  },
  {
   "cell_type": "code",
   "execution_count": 58,
   "metadata": {},
   "outputs": [],
   "source": [
    "events_7_grouped.index = events_7_grouped['user_id_hash']\n",
    "events_test_features = events_test_features.join(events_7_grouped,rsuffix='_e',lsuffix='_u',how='left')\n",
    "events_test_features = events_test_features.drop('user_id_hash_e',axis=1)\n",
    "events_test_features = events_test_features.rename({'user_id_hash_u':'user_id_hash','event':'event_7','event_value':'event_7_value'},axis=1)"
   ]
  },
  {
   "cell_type": "code",
   "execution_count": 59,
   "metadata": {},
   "outputs": [],
   "source": [
    "events_11_grouped.index = events_11_grouped['user_id_hash']\n",
    "events_test_features = events_test_features.join(events_11_grouped,rsuffix='_e',lsuffix='_u',how='left')\n",
    "events_test_features = events_test_features.drop('user_id_hash_e',axis=1)\n",
    "events_test_features = events_test_features.rename({'user_id_hash_u':'user_id_hash','event':'event_11','event_value':'event_11_value'},axis=1)"
   ]
  },
  {
   "cell_type": "code",
   "execution_count": 60,
   "metadata": {},
   "outputs": [],
   "source": [
    "events_8_grouped.index = events_8_grouped['user_id_hash']\n",
    "events_test_features = events_test_features.join(events_8_grouped,rsuffix='_e',lsuffix='_u',how='left')\n",
    "events_test_features = events_test_features.drop('user_id_hash_e',axis=1)\n",
    "events_test_features = events_test_features.rename({'user_id_hash_u':'user_id_hash','event':'event_8','event_value':'event_8_value'},axis=1)"
   ]
  },
  {
   "cell_type": "code",
   "execution_count": 61,
   "metadata": {},
   "outputs": [],
   "source": [
    "events_9_grouped.index = events_9_grouped['user_id_hash']\n",
    "events_test_features = events_test_features.join(events_9_grouped,rsuffix='_e',lsuffix='_u',how='left')\n",
    "events_test_features = events_test_features.drop('user_id_hash_e',axis=1)\n",
    "events_test_features = events_test_features.rename({'user_id_hash_u':'user_id_hash','event':'event_9','event_value':'event_9_value'},axis=1)"
   ]
  },
  {
   "cell_type": "code",
   "execution_count": 62,
   "metadata": {},
   "outputs": [],
   "source": [
    "events_10_grouped.index = events_10_grouped['user_id_hash']\n",
    "events_test_features = events_test_features.join(events_10_grouped,rsuffix='_e',lsuffix='_u',how='left')\n",
    "events_test_features = events_test_features.drop('user_id_hash_e',axis=1)\n",
    "events_test_features = events_test_features.rename({'user_id_hash_u':'user_id_hash','event':'event_10','event_value':'event_10_value'},axis=1)"
   ]
  },
  {
   "cell_type": "code",
   "execution_count": 63,
   "metadata": {},
   "outputs": [],
   "source": [
    "events_test_features.fillna(0,inplace=True)\n",
    "\n",
    "events_test_features = events_test_features.sort_values(by='user_id_hash')\n",
    "sample_submit = sample_submit.sort_values(by='user_id_hash')"
   ]
  },
  {
   "cell_type": "code",
   "execution_count": 67,
   "metadata": {},
   "outputs": [],
   "source": [
    "X_test = events_test_features[['event_5', 'event_5_value', 'event_7', 'event_7_value',\n",
    "       'event_11', 'event_11_value', 'event_8', 'event_8_value', 'event_9',\n",
    "       'event_9_value', 'event_10', 'event_10_value']]"
   ]
  },
  {
   "cell_type": "code",
   "execution_count": 71,
   "metadata": {},
   "outputs": [],
   "source": [
    "sample_submit['user_id_hash']=sample_submit.index\n",
    "sample_submit['user_purchase_binary_7_days'] = clf7.predict_proba(X_test)\n",
    "sample_submit['user_purchase_binary_14_days'] = clf14.predict_proba(X_test)"
   ]
  },
  {
   "cell_type": "markdown",
   "metadata": {},
   "source": [
    "# Random Forest"
   ]
  },
  {
   "cell_type": "code",
   "execution_count": 77,
   "metadata": {},
   "outputs": [],
   "source": [
    "from sklearn.ensemble import RandomForestClassifier\n",
    "from sklearn.model_selection import GridSearchCV"
   ]
  },
  {
   "cell_type": "code",
   "execution_count": 82,
   "metadata": {},
   "outputs": [
    {
     "name": "stderr",
     "output_type": "stream",
     "text": [
      "/home/ec2-user/miniconda3/envs/msds630/lib/python3.7/site-packages/sklearn/model_selection/_split.py:2053: FutureWarning: You should specify a value for 'cv' instead of relying on the default value. The default value will change from 3 to 5 in version 0.22.\n",
      "  warnings.warn(CV_WARNING, FutureWarning)\n"
     ]
    },
    {
     "name": "stdout",
     "output_type": "stream",
     "text": [
      "{'max_depth': 5, 'max_features': 'sqrt', 'max_leaf_nodes': 11}\n"
     ]
    }
   ],
   "source": [
    "## For 7 days prediction\n",
    "rf = RandomForestClassifier(n_estimators=100)\n",
    "param_grid = {\n",
    "    'max_depth': list(range(5, 10)),\n",
    "    'max_leaf_nodes': list(range(8, 12)),\n",
    "    'max_features': ['sqrt', 'auto', 'log2']\n",
    "}\n",
    "\n",
    "rf_cv = GridSearchCV(estimator=rf,\n",
    "                     param_grid=param_grid)\n",
    "rf_cv.fit(X_train, y7_train['user_purchase_binary_7_days'])\n",
    "print(rf_cv.best_params_)"
   ]
  },
  {
   "cell_type": "code",
   "execution_count": 83,
   "metadata": {},
   "outputs": [
    {
     "name": "stderr",
     "output_type": "stream",
     "text": [
      "/home/ec2-user/miniconda3/envs/msds630/lib/python3.7/site-packages/sklearn/model_selection/_split.py:2053: FutureWarning: You should specify a value for 'cv' instead of relying on the default value. The default value will change from 3 to 5 in version 0.22.\n",
      "  warnings.warn(CV_WARNING, FutureWarning)\n"
     ]
    },
    {
     "name": "stdout",
     "output_type": "stream",
     "text": [
      "{'max_depth': 6, 'max_features': 'log2', 'max_leaf_nodes': 11}\n"
     ]
    }
   ],
   "source": [
    "## For 14 days prediction\n",
    "rf = RandomForestClassifier(n_estimators=100)\n",
    "param_grid = {\n",
    "    'max_depth': list(range(5, 10)),\n",
    "    'max_leaf_nodes': list(range(8, 12)),\n",
    "    'max_features': ['sqrt', 'auto', 'log2']\n",
    "}\n",
    "\n",
    "rf_cv = GridSearchCV(estimator=rf,\n",
    "                     param_grid=param_grid)\n",
    "rf_cv.fit(X_train, y14_train['user_purchase_binary_14_days'])\n",
    "print(rf_cv.best_params_)"
   ]
  },
  {
   "cell_type": "code",
   "execution_count": 91,
   "metadata": {},
   "outputs": [
    {
     "name": "stdout",
     "output_type": "stream",
     "text": [
      "              precision    recall  f1-score   support\n",
      "\n",
      "           0       0.95      1.00      0.97     84562\n",
      "           1       1.00      0.00      0.00      4729\n",
      "\n",
      "   micro avg       0.95      0.95      0.95     89291\n",
      "   macro avg       0.97      0.50      0.49     89291\n",
      "weighted avg       0.95      0.95      0.92     89291\n",
      "\n",
      "0.9471391293635417\n"
     ]
    }
   ],
   "source": [
    "import warnings\n",
    "warnings.filterwarnings('ignore')\n",
    "from sklearn.metrics import classification_report, confusion_matrix, accuracy_score\n",
    "rf_7 = RandomForestClassifier(n_estimators=100, max_depth =5, max_features = 'sqrt', max_leaf_nodes= 11).fit(X_train, y7_train['user_purchase_binary_7_days'])\n",
    "y_pred = rf_7.predict(X_val) \n",
    "print(classification_report(y7_val,y_pred))  \n",
    "print(accuracy_score(y7_val,y_pred))"
   ]
  },
  {
   "cell_type": "code",
   "execution_count": 92,
   "metadata": {},
   "outputs": [
    {
     "name": "stdout",
     "output_type": "stream",
     "text": [
      "              precision    recall  f1-score   support\n",
      "\n",
      "           0       0.94      1.00      0.97     83165\n",
      "           1       0.73      0.10      0.18      6126\n",
      "\n",
      "   micro avg       0.94      0.94      0.94     89291\n",
      "   macro avg       0.84      0.55      0.57     89291\n",
      "weighted avg       0.92      0.94      0.91     89291\n",
      "\n",
      "The accuracy for the model is \n",
      "0.935850197668298\n"
     ]
    }
   ],
   "source": [
    "rf_14 = RandomForestClassifier(n_estimators=100,  max_depth =6, max_features = 'log2', max_leaf_nodes= 11).fit(X_train, y14_train['user_purchase_binary_14_days'])\n",
    "y_pred = rf_14.predict(X_val) \n",
    "print(classification_report(y14_val,y_pred))  \n",
    "print(\"The accuracy for the model is \")\n",
    "print(accuracy_score(y14_val,y_pred))"
   ]
  },
  {
   "cell_type": "code",
   "execution_count": 95,
   "metadata": {},
   "outputs": [],
   "source": [
    "frames = [X_train,X_val]\n",
    "train = pd.concat(frames)\n",
    "frames = [y7_train,y7_val]\n",
    "y7 = pd.concat(frames)\n",
    "frames = [y14_train,y14_val]\n",
    "y14 = pd.concat(frames)"
   ]
  },
  {
   "cell_type": "code",
   "execution_count": 97,
   "metadata": {},
   "outputs": [],
   "source": [
    "rf_7_test = RandomForestClassifier(n_estimators=100,  max_depth =5, max_features = 'sqrt', max_leaf_nodes= 11).fit(train, y7)\n",
    "rf_7_prob = rf_7_test.predict_proba(X_test) \n",
    "rf_14_test = RandomForestClassifier(n_estimators=100,  max_depth =6, max_features = 'log2', max_leaf_nodes= 11).fit(train, y14)\n",
    "rf_14_prob = rf_14_test.predict_proba(X_test) "
   ]
  },
  {
   "cell_type": "code",
   "execution_count": 98,
   "metadata": {},
   "outputs": [],
   "source": [
    "sample_submit['user_id_hash']=sample_submit.index\n",
    "sample_submit['user_purchase_binary_7_days'] = rf_7_prob\n",
    "sample_submit['user_purchase_binary_14_days'] = rf_14_prob"
   ]
  },
  {
   "cell_type": "code",
   "execution_count": 99,
   "metadata": {},
   "outputs": [],
   "source": [
    "sample_submit.to_csv('~/data/train_val/predictions.csv',index=False)"
   ]
  }
 ],
 "metadata": {
  "kernelspec": {
   "display_name": "Python 3",
   "language": "python",
   "name": "python3"
  },
  "language_info": {
   "codemirror_mode": {
    "name": "ipython",
    "version": 3
   },
   "file_extension": ".py",
   "mimetype": "text/x-python",
   "name": "python",
   "nbconvert_exporter": "python",
   "pygments_lexer": "ipython3",
   "version": "3.6.7"
  }
 },
 "nbformat": 4,
 "nbformat_minor": 2
}
