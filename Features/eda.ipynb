{
 "cells": [
  {
   "cell_type": "code",
   "execution_count": 1,
   "metadata": {},
   "outputs": [],
   "source": [
    "import boto3\n",
    "import pandas as pd"
   ]
  },
  {
   "cell_type": "code",
   "execution_count": 2,
   "metadata": {},
   "outputs": [],
   "source": [
    "client = boto3.client(\n",
    "    's3',\n",
    "    aws_access_key_id='',\n",
    "    aws_secret_access_key=''\n",
    ")"
   ]
  },
  {
   "cell_type": "markdown",
   "metadata": {},
   "source": [
    "# Session Data"
   ]
  },
  {
   "cell_type": "code",
   "execution_count": 3,
   "metadata": {},
   "outputs": [],
   "source": [
    "## Load the session data \n",
    "bucket_name = 'msds630projbucket' # Add your bucket name\n",
    "file_name = 'raw_csv/sessions.csv'\n",
    "s3 = boto3.resource('s3')\n",
    "bucket = s3.Bucket(bucket_name)\n",
    "obj = bucket.Object(key=file_name)  # S3 uses key-value structure wherekey is your file name \n",
    "file_content = obj.get()[\"Body\"].read().decode('utf-8')  # Read the Body which is the contents of the file."
   ]
  },
  {
   "cell_type": "code",
   "execution_count": 4,
   "metadata": {
    "collapsed": true
   },
   "outputs": [],
   "source": [
    "\n",
    "import sys\n",
    "if sys.version_info[0] < 3: \n",
    "    from StringIO import StringIO # Python 2.x\n",
    "else:\n",
    "    from io import StringIO # Python 3.x\n",
    "# read data into pandas dataframe\n",
    "df = pd.read_csv(StringIO(file_content))"
   ]
  },
  {
   "cell_type": "code",
   "execution_count": 5,
   "metadata": {},
   "outputs": [],
   "source": [
    "df = pd.read_csv(StringIO(file_content))"
   ]
  },
  {
   "cell_type": "code",
   "execution_count": 6,
   "metadata": {},
   "outputs": [
    {
     "data": {
      "text/html": [
       "<div>\n",
       "<table border=\"1\" class=\"dataframe\">\n",
       "  <thead>\n",
       "    <tr style=\"text-align: right;\">\n",
       "      <th></th>\n",
       "      <th>app_id</th>\n",
       "      <th>session_id</th>\n",
       "      <th>start_timestamp</th>\n",
       "      <th>timezone</th>\n",
       "      <th>timezone_offset</th>\n",
       "      <th>previous_sessions_duration</th>\n",
       "      <th>user_created_timestamp</th>\n",
       "      <th>is_user_first_session</th>\n",
       "      <th>is_session</th>\n",
       "      <th>is_developer</th>\n",
       "      <th>...</th>\n",
       "      <th>country</th>\n",
       "      <th>region</th>\n",
       "      <th>city</th>\n",
       "      <th>latitude</th>\n",
       "      <th>longitude</th>\n",
       "      <th>locale</th>\n",
       "      <th>os_name</th>\n",
       "      <th>session_index</th>\n",
       "      <th>device_id</th>\n",
       "      <th>user_id_hash</th>\n",
       "    </tr>\n",
       "  </thead>\n",
       "  <tbody>\n",
       "    <tr>\n",
       "      <th>0</th>\n",
       "      <td>4724682771660800</td>\n",
       "      <td>5558845121177764917</td>\n",
       "      <td>1542215364580</td>\n",
       "      <td>Asia/Manila</td>\n",
       "      <td>28800000.0</td>\n",
       "      <td>25837591</td>\n",
       "      <td>1538874289458</td>\n",
       "      <td>False</td>\n",
       "      <td>True</td>\n",
       "      <td>False</td>\n",
       "      <td>...</td>\n",
       "      <td>PH</td>\n",
       "      <td>00</td>\n",
       "      <td>makati</td>\n",
       "      <td>14.554729</td>\n",
       "      <td>121.024445</td>\n",
       "      <td>en_GB</td>\n",
       "      <td>Android OS</td>\n",
       "      <td>30</td>\n",
       "      <td>546a3d98-d540-4e72-ad82-9ebd64e0839b</td>\n",
       "      <td>9943447915df3a45fd6720a026af905b6da6b56a37701b...</td>\n",
       "    </tr>\n",
       "    <tr>\n",
       "      <th>1</th>\n",
       "      <td>4724682771660800</td>\n",
       "      <td>2201961907282901522</td>\n",
       "      <td>1543712977293</td>\n",
       "      <td>Asia/Manila</td>\n",
       "      <td>28800000.0</td>\n",
       "      <td>35050130</td>\n",
       "      <td>1538874289458</td>\n",
       "      <td>False</td>\n",
       "      <td>True</td>\n",
       "      <td>False</td>\n",
       "      <td>...</td>\n",
       "      <td>PH</td>\n",
       "      <td>00</td>\n",
       "      <td>quezon city</td>\n",
       "      <td>14.676041</td>\n",
       "      <td>121.043701</td>\n",
       "      <td>en_GB</td>\n",
       "      <td>Android OS</td>\n",
       "      <td>47</td>\n",
       "      <td>546a3d98-d540-4e72-ad82-9ebd64e0839b</td>\n",
       "      <td>9943447915df3a45fd6720a026af905b6da6b56a37701b...</td>\n",
       "    </tr>\n",
       "    <tr>\n",
       "      <th>2</th>\n",
       "      <td>4724682771660800</td>\n",
       "      <td>18781111175537580</td>\n",
       "      <td>1539215568666</td>\n",
       "      <td>Asia/Manila</td>\n",
       "      <td>28800000.0</td>\n",
       "      <td>11343848</td>\n",
       "      <td>1538874289458</td>\n",
       "      <td>False</td>\n",
       "      <td>True</td>\n",
       "      <td>False</td>\n",
       "      <td>...</td>\n",
       "      <td>PH</td>\n",
       "      <td>00</td>\n",
       "      <td>makati</td>\n",
       "      <td>14.554729</td>\n",
       "      <td>121.024445</td>\n",
       "      <td>en_GB</td>\n",
       "      <td>Android OS</td>\n",
       "      <td>10</td>\n",
       "      <td>546a3d98-d540-4e72-ad82-9ebd64e0839b</td>\n",
       "      <td>9943447915df3a45fd6720a026af905b6da6b56a37701b...</td>\n",
       "    </tr>\n",
       "    <tr>\n",
       "      <th>3</th>\n",
       "      <td>4724682771660800</td>\n",
       "      <td>1477540082628742048</td>\n",
       "      <td>1540120743010</td>\n",
       "      <td>Asia/Manila</td>\n",
       "      <td>28800000.0</td>\n",
       "      <td>13499724</td>\n",
       "      <td>1538874289458</td>\n",
       "      <td>False</td>\n",
       "      <td>True</td>\n",
       "      <td>False</td>\n",
       "      <td>...</td>\n",
       "      <td>PH</td>\n",
       "      <td>11</td>\n",
       "      <td>davao city</td>\n",
       "      <td>7.190708</td>\n",
       "      <td>125.455338</td>\n",
       "      <td>en_GB</td>\n",
       "      <td>Android OS</td>\n",
       "      <td>13</td>\n",
       "      <td>546a3d98-d540-4e72-ad82-9ebd64e0839b</td>\n",
       "      <td>9943447915df3a45fd6720a026af905b6da6b56a37701b...</td>\n",
       "    </tr>\n",
       "  </tbody>\n",
       "</table>\n",
       "<p>4 rows × 22 columns</p>\n",
       "</div>"
      ],
      "text/plain": [
       "             app_id           session_id  start_timestamp     timezone  \\\n",
       "0  4724682771660800  5558845121177764917    1542215364580  Asia/Manila   \n",
       "1  4724682771660800  2201961907282901522    1543712977293  Asia/Manila   \n",
       "2  4724682771660800    18781111175537580    1539215568666  Asia/Manila   \n",
       "3  4724682771660800  1477540082628742048    1540120743010  Asia/Manila   \n",
       "\n",
       "   timezone_offset  previous_sessions_duration  user_created_timestamp  \\\n",
       "0       28800000.0                    25837591           1538874289458   \n",
       "1       28800000.0                    35050130           1538874289458   \n",
       "2       28800000.0                    11343848           1538874289458   \n",
       "3       28800000.0                    13499724           1538874289458   \n",
       "\n",
       "  is_user_first_session is_session is_developer  \\\n",
       "0                 False       True        False   \n",
       "1                 False       True        False   \n",
       "2                 False       True        False   \n",
       "3                 False       True        False   \n",
       "\n",
       "                         ...                         country region  \\\n",
       "0                        ...                              PH     00   \n",
       "1                        ...                              PH     00   \n",
       "2                        ...                              PH     00   \n",
       "3                        ...                              PH     11   \n",
       "\n",
       "          city   latitude   longitude  locale     os_name session_index  \\\n",
       "0       makati  14.554729  121.024445   en_GB  Android OS            30   \n",
       "1  quezon city  14.676041  121.043701   en_GB  Android OS            47   \n",
       "2       makati  14.554729  121.024445   en_GB  Android OS            10   \n",
       "3   davao city   7.190708  125.455338   en_GB  Android OS            13   \n",
       "\n",
       "                              device_id  \\\n",
       "0  546a3d98-d540-4e72-ad82-9ebd64e0839b   \n",
       "1  546a3d98-d540-4e72-ad82-9ebd64e0839b   \n",
       "2  546a3d98-d540-4e72-ad82-9ebd64e0839b   \n",
       "3  546a3d98-d540-4e72-ad82-9ebd64e0839b   \n",
       "\n",
       "                                        user_id_hash  \n",
       "0  9943447915df3a45fd6720a026af905b6da6b56a37701b...  \n",
       "1  9943447915df3a45fd6720a026af905b6da6b56a37701b...  \n",
       "2  9943447915df3a45fd6720a026af905b6da6b56a37701b...  \n",
       "3  9943447915df3a45fd6720a026af905b6da6b56a37701b...  \n",
       "\n",
       "[4 rows x 22 columns]"
      ]
     },
     "execution_count": 6,
     "metadata": {},
     "output_type": "execute_result"
    }
   ],
   "source": [
    "df.head(4) ## show the first few lines in seesion dataframe"
   ]
  },
  {
   "cell_type": "code",
   "execution_count": 7,
   "metadata": {},
   "outputs": [
    {
     "data": {
      "text/plain": [
       "Index(['app_id', 'session_id', 'start_timestamp', 'timezone',\n",
       "       'timezone_offset', 'previous_sessions_duration',\n",
       "       'user_created_timestamp', 'is_user_first_session', 'is_session',\n",
       "       'is_developer', 'is_wau', 'is_mau', 'country', 'region', 'city',\n",
       "       'latitude', 'longitude', 'locale', 'os_name', 'session_index',\n",
       "       'device_id', 'user_id_hash'],\n",
       "      dtype='object')"
      ]
     },
     "execution_count": 7,
     "metadata": {},
     "output_type": "execute_result"
    }
   ],
   "source": [
    "df.columns ## show the columns of the session "
   ]
  },
  {
   "cell_type": "markdown",
   "metadata": {},
   "source": [
    "### Description of the Session Data\n",
    "* app_id: application id\n",
    "* session_id: randomly generated id for the session\n",
    "* start_timestamp: epoch (milliseconds) of session start\n",
    "* user_id_hash: user id\n",
    "* session_index: lifetime count of sessions\n",
    "* is_session: whether or not the given session is an online session or offline session (true=online, null=offline)\n",
    "* is_developer: whether or not the given user is a mobile developer (developers are not real app users)(true=developer, null=not developer)\n",
    "* is_wau: whether this record should be counted as a weekly active user for this day (true/null)\n",
    "* is_mau: whether this record should be counted as a monthly active user for this day (true/null)\n",
    "* user_created_timestamp: epoch (milliseconds) of when the user was created\n",
    "* is_user_first_session: whether or not the given session is user's first session with the app (true/null)\n",
    "* previous_session_duration: length of last session in seconds\n",
    "* device_id: mobile device id associated with the session\n",
    "* os_name: mobile operating system\n",
    "* timezone: user's timezone during the session\n",
    "* timezone_offset: user's timezone offset against UTC\n",
    "* country: user's country during the session\n",
    "* region: user's region during the session\n",
    "* city: user's city during the session\n",
    "* latitude: user's latitude at session start\n",
    "* longitude: user's longitude at session start\n",
    "* locale: user's local during the session\n"
   ]
  },
  {
   "cell_type": "markdown",
   "metadata": {},
   "source": [
    "## Check and remove the missing values in the  session  dataframe"
   ]
  },
  {
   "cell_type": "code",
   "execution_count": 12,
   "metadata": {},
   "outputs": [
    {
     "data": {
      "text/plain": [
       "6239836"
      ]
     },
     "execution_count": 12,
     "metadata": {},
     "output_type": "execute_result"
    }
   ],
   "source": [
    "df.shape[0] ## there are 6239836 in the dataframe "
   ]
  },
  {
   "cell_type": "code",
   "execution_count": 10,
   "metadata": {},
   "outputs": [
    {
     "data": {
      "text/plain": [
       "app_id                            0\n",
       "session_id                        0\n",
       "start_timestamp                   0\n",
       "timezone                       9538\n",
       "timezone_offset                9538\n",
       "previous_sessions_duration        0\n",
       "user_created_timestamp            0\n",
       "is_user_first_session             0\n",
       "is_session                        0\n",
       "is_developer                      0\n",
       "is_wau                            0\n",
       "is_mau                            0\n",
       "country                       16657\n",
       "region                        12926\n",
       "city                          12918\n",
       "latitude                      12918\n",
       "longitude                     12918\n",
       "locale                         9538\n",
       "os_name                       27444\n",
       "session_index                     0\n",
       "device_id                     18073\n",
       "user_id_hash                      0\n",
       "dtype: int64"
      ]
     },
     "execution_count": 10,
     "metadata": {},
     "output_type": "execute_result"
    }
   ],
   "source": [
    "df.isnull().sum()"
   ]
  },
  {
   "cell_type": "markdown",
   "metadata": {},
   "source": [
    "Drop the missing value from the dataframe "
   ]
  },
  {
   "cell_type": "code",
   "execution_count": 13,
   "metadata": {
    "collapsed": true
   },
   "outputs": [],
   "source": [
    "df1 = df.dropna()"
   ]
  },
  {
   "cell_type": "code",
   "execution_count": 15,
   "metadata": {},
   "outputs": [
    {
     "data": {
      "text/plain": [
       "37918"
      ]
     },
     "execution_count": 15,
     "metadata": {},
     "output_type": "execute_result"
    }
   ],
   "source": [
    "df.shape[0]- df1.shape[0] ## we have drop 37918 rows from the whole dataset "
   ]
  },
  {
   "cell_type": "code",
   "execution_count": 16,
   "metadata": {},
   "outputs": [
    {
     "data": {
      "text/plain": [
       "6201918"
      ]
     },
     "execution_count": 16,
     "metadata": {},
     "output_type": "execute_result"
    }
   ],
   "source": [
    "df1.shape[0] # Number of rows of removing the missing values "
   ]
  },
  {
   "cell_type": "markdown",
   "metadata": {},
   "source": [
    "### We also need to remove value when is_mau and is_wau is true."
   ]
  },
  {
   "cell_type": "code",
   "execution_count": 20,
   "metadata": {},
   "outputs": [
    {
     "data": {
      "text/plain": [
       "False    6201918\n",
       "Name: is_mau, dtype: int64"
      ]
     },
     "execution_count": 20,
     "metadata": {},
     "output_type": "execute_result"
    }
   ],
   "source": [
    "df1.is_mau.value_counts()  ## no true left "
   ]
  },
  {
   "cell_type": "code",
   "execution_count": 21,
   "metadata": {},
   "outputs": [
    {
     "data": {
      "text/plain": [
       "False    6201918\n",
       "Name: is_wau, dtype: int64"
      ]
     },
     "execution_count": 21,
     "metadata": {},
     "output_type": "execute_result"
    }
   ],
   "source": [
    "df1.is_wau.value_counts()  ## no true left "
   ]
  },
  {
   "cell_type": "markdown",
   "metadata": {},
   "source": [
    "## Get the data distribution of  previous_sessions_duration"
   ]
  },
  {
   "cell_type": "code",
   "execution_count": 17,
   "metadata": {},
   "outputs": [
    {
     "data": {
      "text/plain": [
       "count    6.201918e+06\n",
       "mean     4.205090e+07\n",
       "std      7.497780e+07\n",
       "min      0.000000e+00\n",
       "25%      3.041209e+06\n",
       "50%      1.476391e+07\n",
       "75%      4.924822e+07\n",
       "max      1.956532e+09\n",
       "Name: previous_sessions_duration, dtype: float64"
      ]
     },
     "execution_count": 17,
     "metadata": {},
     "output_type": "execute_result"
    }
   ],
   "source": [
    "df1.previous_sessions_duration.describe()"
   ]
  },
  {
   "cell_type": "code",
   "execution_count": 18,
   "metadata": {},
   "outputs": [
    {
     "data": {
      "image/png": "[encoded data removed]",
      "text/plain": [
       "<matplotlib.figure.Figure at 0x7f56b670c7f0>"
      ]
     },
     "metadata": {},
     "output_type": "display_data"
    }
   ],
   "source": [
    "import matplotlib.pyplot as plt\n",
    "fig = plt.figure(figsize=(10,8))\n",
    "plt.hist(df1.previous_sessions_duration, bins =100)\n",
    "plt.xlabel(\"previous_sessions_duration\", fontsize =20)\n",
    "plt.ylabel(\"Count\", fontsize =20)\n",
    "plt.xticks(fontsize=15)\n",
    "plt.yticks(fontsize=15)\n",
    "fig.suptitle('The distribution of previous_sessions_duration', fontsize =25)\n",
    "plt.show()"
   ]
  },
  {
   "cell_type": "markdown",
   "metadata": {},
   "source": [
    "The distribution of previous_sessions_duration is an exponetial distribution. At the time of previous_sessions_duration increase, the less likely they are. \n"
   ]
  },
  {
   "cell_type": "markdown",
   "metadata": {},
   "source": [
    "## is_user_first_session : \n",
    "is_user_first_seesion is an importan feature we need to check it. Usually, people in their first session seems unlikely to make purchase.\n"
   ]
  },
  {
   "cell_type": "code",
   "execution_count": 58,
   "metadata": {},
   "outputs": [
    {
     "data": {
      "text/plain": [
       "is_user_first_session\n",
       "False    5363296\n",
       "True      838622\n",
       "Name: user_id_hash, dtype: int64"
      ]
     },
     "execution_count": 58,
     "metadata": {},
     "output_type": "execute_result"
    }
   ],
   "source": [
    "df1.groupby('is_user_first_session')['user_id_hash'].count()"
   ]
  },
  {
   "cell_type": "code",
   "execution_count": 32,
   "metadata": {},
   "outputs": [
    {
     "data": {
      "text/plain": [
       "<matplotlib.axes._subplots.AxesSubplot at 0x7f56bb9c9b00>"
      ]
     },
     "execution_count": 32,
     "metadata": {},
     "output_type": "execute_result"
    },
    {
     "data": {
      "image/png": "[encoded data removed]",
      "text/plain": [
       "<matplotlib.figure.Figure at 0x7f56b311a550>"
      ]
     },
     "metadata": {},
     "output_type": "display_data"
    }
   ],
   "source": [
    "%matplotlib inline\n",
    "pd.value_counts(df1['is_user_first_session']).plot.bar()"
   ]
  },
  {
   "cell_type": "markdown",
   "metadata": {},
   "source": [
    "In our dataset, most of sessions are not the user first session. The ratio between them is around 6:1"
   ]
  },
  {
   "cell_type": "markdown",
   "metadata": {},
   "source": [
    "## os_name "
   ]
  },
  {
   "cell_type": "code",
   "execution_count": 61,
   "metadata": {},
   "outputs": [
    {
     "data": {
      "text/plain": [
       "os_name\n",
       "Android OS    4198130\n",
       "iOS           1961437\n",
       "iPhone OS       42351\n",
       "Name: user_id_hash, dtype: int64"
      ]
     },
     "execution_count": 61,
     "metadata": {},
     "output_type": "execute_result"
    }
   ],
   "source": [
    "df1.groupby('os_name')['user_id_hash'].count()"
   ]
  },
  {
   "cell_type": "code",
   "execution_count": 62,
   "metadata": {},
   "outputs": [
    {
     "data": {
      "text/plain": [
       "<matplotlib.axes._subplots.AxesSubplot at 0x7f56bb9db3c8>"
      ]
     },
     "execution_count": 62,
     "metadata": {},
     "output_type": "execute_result"
    },
    {
     "data": {
      "image/png": "[encoded data removed]",
      "text/plain": [
       "<matplotlib.figure.Figure at 0x7f56b59dfa58>"
      ]
     },
     "metadata": {},
     "output_type": "display_data"
    }
   ],
   "source": [
    "%matplotlib inline\n",
    "pd.value_counts(df1['os_name']).plot.bar()"
   ]
  },
  {
   "cell_type": "markdown",
   "metadata": {},
   "source": [
    "Most of user are using Android OS. We have both IOS and iphone OS. We believe they have some overlaps. We may consider to merge them together."
   ]
  },
  {
   "cell_type": "markdown",
   "metadata": {},
   "source": [
    "## is_developer"
   ]
  },
  {
   "cell_type": "code",
   "execution_count": 34,
   "metadata": {},
   "outputs": [
    {
     "data": {
      "text/plain": [
       "False    6199336\n",
       "True        2582\n",
       "Name: is_developer, dtype: int64"
      ]
     },
     "execution_count": 34,
     "metadata": {},
     "output_type": "execute_result"
    }
   ],
   "source": [
    "df1.is_developer.value_counts()  "
   ]
  },
  {
   "cell_type": "code",
   "execution_count": 35,
   "metadata": {},
   "outputs": [
    {
     "data": {
      "text/plain": [
       "<matplotlib.axes._subplots.AxesSubplot at 0x7f56b59bdac8>"
      ]
     },
     "execution_count": 35,
     "metadata": {},
     "output_type": "execute_result"
    },
    {
     "data": {
      "image/png": "[encoded data removed]",
      "text/plain": [
       "<matplotlib.figure.Figure at 0x7f56b6cdf4e0>"
      ]
     },
     "metadata": {},
     "output_type": "display_data"
    }
   ],
   "source": [
    "pd.value_counts(df1['is_developer']).plot.bar()"
   ]
  },
  {
   "cell_type": "markdown",
   "metadata": {},
   "source": [
    "From the above plot, we can see most of uers are not developer."
   ]
  },
  {
   "cell_type": "markdown",
   "metadata": {},
   "source": [
    "## is_session : Online, Offline "
   ]
  },
  {
   "cell_type": "code",
   "execution_count": 52,
   "metadata": {},
   "outputs": [
    {
     "data": {
      "text/plain": [
       "True     5159370\n",
       "False    1042548\n",
       "Name: is_session, dtype: int64"
      ]
     },
     "execution_count": 52,
     "metadata": {},
     "output_type": "execute_result"
    }
   ],
   "source": [
    "df1.is_session.value_counts() "
   ]
  },
  {
   "cell_type": "code",
   "execution_count": 36,
   "metadata": {},
   "outputs": [
    {
     "data": {
      "text/plain": [
       "<matplotlib.axes._subplots.AxesSubplot at 0x7f56b6cb4860>"
      ]
     },
     "execution_count": 36,
     "metadata": {},
     "output_type": "execute_result"
    },
    {
     "data": {
      "image/png": "[encoded data removed]",
      "text/plain": [
       "<matplotlib.figure.Figure at 0x7f56b72ab5f8>"
      ]
     },
     "metadata": {},
     "output_type": "display_data"
    }
   ],
   "source": [
    "pd.value_counts(df1['is_session']).plot.bar()"
   ]
  },
  {
   "cell_type": "markdown",
   "metadata": {},
   "source": [
    "The Online sessions are outweighted than the offline sessions. "
   ]
  },
  {
   "cell_type": "markdown",
   "metadata": {},
   "source": [
    "## TimeZone "
   ]
  },
  {
   "cell_type": "code",
   "execution_count": 57,
   "metadata": {},
   "outputs": [
    {
     "data": {
      "text/html": [
       "<div>\n",
       "<table border=\"1\" class=\"dataframe\">\n",
       "  <thead>\n",
       "    <tr style=\"text-align: right;\">\n",
       "      <th></th>\n",
       "      <th>user_id_hash</th>\n",
       "    </tr>\n",
       "    <tr>\n",
       "      <th>timezone</th>\n",
       "      <th></th>\n",
       "    </tr>\n",
       "  </thead>\n",
       "  <tbody>\n",
       "    <tr>\n",
       "      <th>America/New_York</th>\n",
       "      <td>1220635</td>\n",
       "    </tr>\n",
       "    <tr>\n",
       "      <th>America/Chicago</th>\n",
       "      <td>881236</td>\n",
       "    </tr>\n",
       "    <tr>\n",
       "      <th>Europe/London</th>\n",
       "      <td>440045</td>\n",
       "    </tr>\n",
       "    <tr>\n",
       "      <th>America/Los_Angeles</th>\n",
       "      <td>359126</td>\n",
       "    </tr>\n",
       "    <tr>\n",
       "      <th>Asia/Kolkata</th>\n",
       "      <td>273996</td>\n",
       "    </tr>\n",
       "    <tr>\n",
       "      <th>Asia/Manila</th>\n",
       "      <td>255188</td>\n",
       "    </tr>\n",
       "    <tr>\n",
       "      <th>Asia/Calcutta</th>\n",
       "      <td>217286</td>\n",
       "    </tr>\n",
       "    <tr>\n",
       "      <th>Africa/Johannesburg</th>\n",
       "      <td>160536</td>\n",
       "    </tr>\n",
       "    <tr>\n",
       "      <th>America/Denver</th>\n",
       "      <td>131768</td>\n",
       "    </tr>\n",
       "    <tr>\n",
       "      <th>Asia/Jakarta</th>\n",
       "      <td>89448</td>\n",
       "    </tr>\n",
       "    <tr>\n",
       "      <th>Asia/Kuala_Lumpur</th>\n",
       "      <td>84680</td>\n",
       "    </tr>\n",
       "    <tr>\n",
       "      <th>America/Detroit</th>\n",
       "      <td>84174</td>\n",
       "    </tr>\n",
       "    <tr>\n",
       "      <th>America/Toronto</th>\n",
       "      <td>84034</td>\n",
       "    </tr>\n",
       "    <tr>\n",
       "      <th>Europe/Berlin</th>\n",
       "      <td>70121</td>\n",
       "    </tr>\n",
       "    <tr>\n",
       "      <th>Australia/Sydney</th>\n",
       "      <td>61101</td>\n",
       "    </tr>\n",
       "  </tbody>\n",
       "</table>\n",
       "</div>"
      ],
      "text/plain": [
       "                     user_id_hash\n",
       "timezone                         \n",
       "America/New_York          1220635\n",
       "America/Chicago            881236\n",
       "Europe/London              440045\n",
       "America/Los_Angeles        359126\n",
       "Asia/Kolkata               273996\n",
       "Asia/Manila                255188\n",
       "Asia/Calcutta              217286\n",
       "Africa/Johannesburg        160536\n",
       "America/Denver             131768\n",
       "Asia/Jakarta                89448\n",
       "Asia/Kuala_Lumpur           84680\n",
       "America/Detroit             84174\n",
       "America/Toronto             84034\n",
       "Europe/Berlin               70121\n",
       "Australia/Sydney            61101"
      ]
     },
     "execution_count": 57,
     "metadata": {},
     "output_type": "execute_result"
    }
   ],
   "source": [
    "d1= df1.groupby('timezone')['user_id_hash'].count()\n",
    "d = pd.DataFrame(d1)\n",
    "d.sort_values(by='user_id_hash',ascending=False).head(15)## show the top 15 timezones in terms of num of users"
   ]
  },
  {
   "cell_type": "markdown",
   "metadata": {},
   "source": [
    "## device_id"
   ]
  },
  {
   "cell_type": "code",
   "execution_count": 45,
   "metadata": {},
   "outputs": [
    {
     "data": {
      "text/plain": [
       "612737"
      ]
     },
     "execution_count": 45,
     "metadata": {},
     "output_type": "execute_result"
    }
   ],
   "source": [
    "len(df1.device_id.unique()) ## show the number of unique device_id "
   ]
  },
  {
   "cell_type": "markdown",
   "metadata": {},
   "source": [
    "## country"
   ]
  },
  {
   "cell_type": "code",
   "execution_count": 48,
   "metadata": {},
   "outputs": [
    {
     "data": {
      "text/plain": [
       "228"
      ]
     },
     "execution_count": 48,
     "metadata": {},
     "output_type": "execute_result"
    }
   ],
   "source": [
    "len(df1.country.unique()) ## show the number of unique country "
   ]
  },
  {
   "cell_type": "code",
   "execution_count": 56,
   "metadata": {},
   "outputs": [
    {
     "data": {
      "text/html": [
       "<div>\n",
       "<table border=\"1\" class=\"dataframe\">\n",
       "  <thead>\n",
       "    <tr style=\"text-align: right;\">\n",
       "      <th></th>\n",
       "      <th>user_id_hash</th>\n",
       "    </tr>\n",
       "    <tr>\n",
       "      <th>country</th>\n",
       "      <th></th>\n",
       "    </tr>\n",
       "  </thead>\n",
       "  <tbody>\n",
       "    <tr>\n",
       "      <th>US</th>\n",
       "      <td>2801229</td>\n",
       "    </tr>\n",
       "    <tr>\n",
       "      <th>IN</th>\n",
       "      <td>493055</td>\n",
       "    </tr>\n",
       "    <tr>\n",
       "      <th>GB</th>\n",
       "      <td>442294</td>\n",
       "    </tr>\n",
       "    <tr>\n",
       "      <th>PH</th>\n",
       "      <td>258448</td>\n",
       "    </tr>\n",
       "    <tr>\n",
       "      <th>CA</th>\n",
       "      <td>187894</td>\n",
       "    </tr>\n",
       "    <tr>\n",
       "      <th>ZA</th>\n",
       "      <td>164362</td>\n",
       "    </tr>\n",
       "    <tr>\n",
       "      <th>AU</th>\n",
       "      <td>147849</td>\n",
       "    </tr>\n",
       "    <tr>\n",
       "      <th>ID</th>\n",
       "      <td>102139</td>\n",
       "    </tr>\n",
       "    <tr>\n",
       "      <th>MY</th>\n",
       "      <td>87399</td>\n",
       "    </tr>\n",
       "    <tr>\n",
       "      <th>DE</th>\n",
       "      <td>73333</td>\n",
       "    </tr>\n",
       "    <tr>\n",
       "      <th>BR</th>\n",
       "      <td>71931</td>\n",
       "    </tr>\n",
       "    <tr>\n",
       "      <th>NG</th>\n",
       "      <td>58651</td>\n",
       "    </tr>\n",
       "    <tr>\n",
       "      <th>NL</th>\n",
       "      <td>53855</td>\n",
       "    </tr>\n",
       "    <tr>\n",
       "      <th>PK</th>\n",
       "      <td>45192</td>\n",
       "    </tr>\n",
       "    <tr>\n",
       "      <th>PL</th>\n",
       "      <td>41632</td>\n",
       "    </tr>\n",
       "  </tbody>\n",
       "</table>\n",
       "</div>"
      ],
      "text/plain": [
       "         user_id_hash\n",
       "country              \n",
       "US            2801229\n",
       "IN             493055\n",
       "GB             442294\n",
       "PH             258448\n",
       "CA             187894\n",
       "ZA             164362\n",
       "AU             147849\n",
       "ID             102139\n",
       "MY              87399\n",
       "DE              73333\n",
       "BR              71931\n",
       "NG              58651\n",
       "NL              53855\n",
       "PK              45192\n",
       "PL              41632"
      ]
     },
     "execution_count": 56,
     "metadata": {},
     "output_type": "execute_result"
    }
   ],
   "source": [
    "d1= df1.groupby('country')['user_id_hash'].count()\n",
    "d = pd.DataFrame(d1)\n",
    "d.sort_values(by='user_id_hash',ascending=False).head(15) ## show the top 15 countries in terms of number of users"
   ]
  },
  {
   "cell_type": "markdown",
   "metadata": {},
   "source": [
    "# messages.csv"
   ]
  },
  {
   "cell_type": "code",
   "execution_count": 3,
   "metadata": {},
   "outputs": [],
   "source": [
    "## Load the session data \n",
    "bucket_name = 'msds630projbucket' # Add your bucket name\n",
    "file_name = 'raw_csv/messages.csv'\n",
    "s3 = boto3.resource('s3')\n",
    "bucket = s3.Bucket(bucket_name)\n",
    "obj = bucket.Object(key=file_name)  # S3 uses key-value structure wherekey is your file name \n",
    "file_content = obj.get()[\"Body\"].read().decode('utf-8')  "
   ]
  },
  {
   "cell_type": "code",
   "execution_count": 4,
   "metadata": {},
   "outputs": [],
   "source": [
    "import sys\n",
    "if sys.version_info[0] < 3: \n",
    "    from StringIO import StringIO # Python 2.x\n",
    "else:\n",
    "    from io import StringIO # Python 3.x\n",
    "# read data into pandas dataframe\n",
    "message = pd.read_csv(StringIO(file_content))"
   ]
  },
  {
   "cell_type": "code",
   "execution_count": 5,
   "metadata": {},
   "outputs": [
    {
     "data": {
      "text/html": [
       "<div>\n",
       "<style scoped>\n",
       "    .dataframe tbody tr th:only-of-type {\n",
       "        vertical-align: middle;\n",
       "    }\n",
       "\n",
       "    .dataframe tbody tr th {\n",
       "        vertical-align: top;\n",
       "    }\n",
       "\n",
       "    .dataframe thead th {\n",
       "        text-align: right;\n",
       "    }\n",
       "</style>\n",
       "<table border=\"1\" class=\"dataframe\">\n",
       "  <thead>\n",
       "    <tr style=\"text-align: right;\">\n",
       "      <th></th>\n",
       "      <th>app_id</th>\n",
       "      <th>message_id</th>\n",
       "      <th>action_type</th>\n",
       "      <th>delivery_type</th>\n",
       "      <th>delivery_time_mode</th>\n",
       "      <th>goal_kind</th>\n",
       "    </tr>\n",
       "  </thead>\n",
       "  <tbody>\n",
       "    <tr>\n",
       "      <th>0</th>\n",
       "      <td>6196435404455936</td>\n",
       "      <td>5420304779837440</td>\n",
       "      <td>__Push Notification</td>\n",
       "      <td>4</td>\n",
       "      <td>3</td>\n",
       "      <td>NaN</td>\n",
       "    </tr>\n",
       "    <tr>\n",
       "      <th>1</th>\n",
       "      <td>6196435404455936</td>\n",
       "      <td>5059935179767808</td>\n",
       "      <td>__Push Notification</td>\n",
       "      <td>0</td>\n",
       "      <td>3</td>\n",
       "      <td>NaN</td>\n",
       "    </tr>\n",
       "    <tr>\n",
       "      <th>2</th>\n",
       "      <td>6196435404455936</td>\n",
       "      <td>6563799154425856</td>\n",
       "      <td>__Webhook</td>\n",
       "      <td>4</td>\n",
       "      <td>3</td>\n",
       "      <td>NaN</td>\n",
       "    </tr>\n",
       "    <tr>\n",
       "      <th>3</th>\n",
       "      <td>6196435404455936</td>\n",
       "      <td>4680497250304000</td>\n",
       "      <td>__Push Notification</td>\n",
       "      <td>0</td>\n",
       "      <td>3</td>\n",
       "      <td>NaN</td>\n",
       "    </tr>\n",
       "  </tbody>\n",
       "</table>\n",
       "</div>"
      ],
      "text/plain": [
       "             app_id        message_id          action_type  delivery_type  \\\n",
       "0  6196435404455936  5420304779837440  __Push Notification              4   \n",
       "1  6196435404455936  5059935179767808  __Push Notification              0   \n",
       "2  6196435404455936  6563799154425856            __Webhook              4   \n",
       "3  6196435404455936  4680497250304000  __Push Notification              0   \n",
       "\n",
       "   delivery_time_mode  goal_kind  \n",
       "0                   3        NaN  \n",
       "1                   3        NaN  \n",
       "2                   3        NaN  \n",
       "3                   3        NaN  "
      ]
     },
     "execution_count": 5,
     "metadata": {},
     "output_type": "execute_result"
    }
   ],
   "source": [
    "message.head(4)"
   ]
  },
  {
   "cell_type": "code",
   "execution_count": 7,
   "metadata": {},
   "outputs": [
    {
     "data": {
      "text/plain": [
       "(2896, 6)"
      ]
     },
     "execution_count": 7,
     "metadata": {},
     "output_type": "execute_result"
    }
   ],
   "source": [
    "message.shape "
   ]
  },
  {
   "cell_type": "code",
   "execution_count": 6,
   "metadata": {},
   "outputs": [
    {
     "data": {
      "text/plain": [
       "app_id                   0\n",
       "message_id               0\n",
       "action_type              0\n",
       "delivery_type            0\n",
       "delivery_time_mode       0\n",
       "goal_kind             1640\n",
       "dtype: int64"
      ]
     },
     "execution_count": 6,
     "metadata": {},
     "output_type": "execute_result"
    }
   ],
   "source": [
    "message.isnull().sum() ## half of the data is missing with the goal_kind "
   ]
  },
  {
   "cell_type": "markdown",
   "metadata": {},
   "source": [
    "### The description of the message data\n",
    "app_id: application id\n",
    "<br>\n",
    "message_id: message id\n",
    "<br>\n",
    "action_type: type of the message <br>\n",
    "delivery_type: (0: immediate, 1: scheduled, 2: manual, 3: trigger locally, 4: trigger server side, 5: recurring)<br>\n",
    "delivery_time_mode: (0: browser time, 1: UTC, 2: user timezone, 3: optimal time)<br>\n",
    "goal_kind: (0: metric, 1: funnel, 2: stack, 3: event, 4: state, 5: filtered, 6: user action)\n"
   ]
  },
  {
   "cell_type": "markdown",
   "metadata": {},
   "source": [
    "### action_type"
   ]
  },
  {
   "cell_type": "code",
   "execution_count": 10,
   "metadata": {},
   "outputs": [
    {
     "data": {
      "text/plain": [
       "__Push Notification      1545\n",
       "__Email                   356\n",
       "Center Popup              250\n",
       "Floating Interstitial     219\n",
       "__Webhook                 200\n",
       "__Newsfeed Message        109\n",
       "Confirm                    69\n",
       "Alert                      35\n",
       "Interstitial               35\n",
       "banner                     25\n",
       "new_banner                 21\n",
       "Custom Center Popup        15\n",
       "Push Ask to Ask             4\n",
       "message or action222        3\n",
       "Web Interstitial            3\n",
       "3-button Confirm            3\n",
       "Banner                      3\n",
       "Request App Rating          1\n",
       "Name: action_type, dtype: int64"
      ]
     },
     "execution_count": 10,
     "metadata": {},
     "output_type": "execute_result"
    }
   ],
   "source": [
    "message.action_type.value_counts() ## The most type of the message is the Push Notification "
   ]
  },
  {
   "cell_type": "code",
   "execution_count": 9,
   "metadata": {},
   "outputs": [
    {
     "data": {
      "text/plain": [
       "<matplotlib.axes._subplots.AxesSubplot at 0x1191b9e48>"
      ]
     },
     "execution_count": 9,
     "metadata": {},
     "output_type": "execute_result"
    },
    {
     "data": {
      "image/png": "[encoded data removed]",
      "text/plain": [
       "<matplotlib.figure.Figure at 0x1191b9780>"
      ]
     },
     "metadata": {
      "needs_background": "light"
     },
     "output_type": "display_data"
    }
   ],
   "source": [
    "import pandas as pd\n",
    "%matplotlib inline  \n",
    "pd.value_counts(message['action_type']).plot.bar()"
   ]
  },
  {
   "cell_type": "code",
   "execution_count": 11,
   "metadata": {},
   "outputs": [
    {
     "data": {
      "text/plain": [
       "0    1794\n",
       "1     609\n",
       "4     491\n",
       "2       2\n",
       "Name: delivery_type, dtype: int64"
      ]
     },
     "execution_count": 11,
     "metadata": {},
     "output_type": "execute_result"
    }
   ],
   "source": [
    "message.delivery_type.value_counts()"
   ]
  },
  {
   "cell_type": "markdown",
   "metadata": {},
   "source": [
    "### Delivery_type"
   ]
  },
  {
   "cell_type": "code",
   "execution_count": 12,
   "metadata": {},
   "outputs": [
    {
     "data": {
      "text/plain": [
       "<matplotlib.axes._subplots.AxesSubplot at 0x1191b9d68>"
      ]
     },
     "execution_count": 12,
     "metadata": {},
     "output_type": "execute_result"
    },
    {
     "data": {
      "image/png": "[encoded data removed]",
      "text/plain": [
       "<matplotlib.figure.Figure at 0x1192b9ba8>"
      ]
     },
     "metadata": {
      "needs_background": "light"
     },
     "output_type": "display_data"
    }
   ],
   "source": [
    "%matplotlib inline  \n",
    "pd.value_counts(message['delivery_type']).plot.bar()"
   ]
  },
  {
   "cell_type": "markdown",
   "metadata": {},
   "source": [
    "The dataset only has the following deliver type :\n",
    "* 0: immediate, \n",
    "* 1: scheduled, \n",
    "* 2: manual,  \n",
    "* 4: trigger server side \n",
    "<br>\n",
    "Most of the deliver type is immediate, followed by scheduled and trigger sever side. We only had little manual deliver type."
   ]
  },
  {
   "cell_type": "markdown",
   "metadata": {},
   "source": [
    "### delivery_time_mode"
   ]
  },
  {
   "cell_type": "code",
   "execution_count": 13,
   "metadata": {},
   "outputs": [
    {
     "data": {
      "text/plain": [
       "3    2456\n",
       "2     334\n",
       "0     104\n",
       "1       2\n",
       "Name: delivery_time_mode, dtype: int64"
      ]
     },
     "execution_count": 13,
     "metadata": {},
     "output_type": "execute_result"
    }
   ],
   "source": [
    "message.delivery_time_mode.value_counts()"
   ]
  },
  {
   "cell_type": "code",
   "execution_count": 16,
   "metadata": {},
   "outputs": [
    {
     "data": {
      "text/plain": [
       "<matplotlib.axes._subplots.AxesSubplot at 0x11969a518>"
      ]
     },
     "execution_count": 16,
     "metadata": {},
     "output_type": "execute_result"
    },
    {
     "data": {
      "image/png": "[encoded data removed]",
      "text/plain": [
       "<matplotlib.figure.Figure at 0x119723278>"
      ]
     },
     "metadata": {
      "needs_background": "light"
     },
     "output_type": "display_data"
    }
   ],
   "source": [
    " pd.value_counts(message.delivery_time_mode).plot.bar()"
   ]
  },
  {
   "cell_type": "markdown",
   "metadata": {},
   "source": [
    "The most of the dlivery_time_mode is optimal time and the least dlivery_time_mode is browser time"
   ]
  },
  {
   "cell_type": "markdown",
   "metadata": {},
   "source": [
    "### goal_kind"
   ]
  },
  {
   "cell_type": "code",
   "execution_count": 14,
   "metadata": {},
   "outputs": [
    {
     "data": {
      "text/plain": [
       "3.0    704\n",
       "6.0    415\n",
       "0.0    117\n",
       "4.0     20\n",
       "Name: goal_kind, dtype: int64"
      ]
     },
     "execution_count": 14,
     "metadata": {},
     "output_type": "execute_result"
    }
   ],
   "source": [
    "message.goal_kind.value_counts()"
   ]
  },
  {
   "cell_type": "code",
   "execution_count": 15,
   "metadata": {},
   "outputs": [
    {
     "data": {
      "text/plain": [
       "<matplotlib.axes._subplots.AxesSubplot at 0x119629780>"
      ]
     },
     "execution_count": 15,
     "metadata": {},
     "output_type": "execute_result"
    },
    {
     "data": {
      "image/png": "[encoded data removed]",
      "text/plain": [
       "<matplotlib.figure.Figure at 0x1191b9550>"
      ]
     },
     "metadata": {
      "needs_background": "light"
     },
     "output_type": "display_data"
    }
   ],
   "source": [
    "pd.value_counts(message.goal_kind).plot.bar()"
   ]
  },
  {
   "cell_type": "markdown",
   "metadata": {},
   "source": [
    "We only have the following goal_kind in our dataset : \n",
    "* 3: event\n",
    "* 6: user action\n",
    "* 0: metric\n",
    "* 4: state   \n",
    "Most of the goal_kind is about the event."
   ]
  }
 ],
 "metadata": {
  "anaconda-cloud": {},
  "kernelspec": {
   "display_name": "Python 3",
   "language": "python",
   "name": "python3"
  },
  "language_info": {
   "codemirror_mode": {
    "name": "ipython",
    "version": 3
   },
   "file_extension": ".py",
   "mimetype": "text/x-python",
   "name": "python",
   "nbconvert_exporter": "python",
   "pygments_lexer": "ipython3",
   "version": "3.6.7"
  }
 },
 "nbformat": 4,
 "nbformat_minor": 1
}
