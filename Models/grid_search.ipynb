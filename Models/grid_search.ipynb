{
 "cells": [
  {
   "cell_type": "code",
   "execution_count": 1,
   "metadata": {
    "ExecuteTime": {
     "end_time": "2019-03-05T20:48:51.764403Z",
     "start_time": "2019-03-05T20:48:50.347878Z"
    }
   },
   "outputs": [],
   "source": [
    "import pandas as pd\n",
    "import numpy as np\n",
    "import pickle\n",
    "from pandas import Timestamp\n",
    "from collections import Counter\n",
    "from sklearn.utils import shuffle\n",
    "\n",
    "from sklearn.metrics import roc_curve, auc\n",
    "import sys\n",
    "import matplotlib.pyplot as plt\n",
    "import warnings\n",
    "from sklearn.metrics import accuracy_score\n",
    "from sklearn.metrics import classification_report\n",
    "from sklearn.metrics import roc_curve, auc\n",
    "from sklearn.metrics import confusion_matrix\n",
    "from sklearn.metrics import classification_report\n",
    "from pylab import rcParams\n",
    "from sklearn import metrics\n",
    "from sklearn.ensemble import RandomForestClassifier"
   ]
  },
  {
   "cell_type": "code",
   "execution_count": null,
   "metadata": {},
   "outputs": [],
   "source": []
  },
  {
   "cell_type": "code",
   "execution_count": null,
   "metadata": {},
   "outputs": [],
   "source": []
  },
  {
   "cell_type": "markdown",
   "metadata": {},
   "source": [
    "## Load data and clean"
   ]
  },
  {
   "cell_type": "code",
   "execution_count": 2,
   "metadata": {
    "ExecuteTime": {
     "end_time": "2019-03-05T20:50:54.596631Z",
     "start_time": "2019-03-05T20:49:01.473593Z"
    }
   },
   "outputs": [],
   "source": [
    "sessions = pickle.load(open('../Data/sessions.pkl', 'rb'))\n",
    "events = pd.read_csv('../Data/events.csv')"
   ]
  },
  {
   "cell_type": "code",
   "execution_count": 3,
   "metadata": {
    "ExecuteTime": {
     "end_time": "2019-03-05T20:50:54.669414Z",
     "start_time": "2019-03-05T20:50:54.606840Z"
    }
   },
   "outputs": [
    {
     "data": {
      "text/html": [
       "<div>\n",
       "<style scoped>\n",
       "    .dataframe tbody tr th:only-of-type {\n",
       "        vertical-align: middle;\n",
       "    }\n",
       "\n",
       "    .dataframe tbody tr th {\n",
       "        vertical-align: top;\n",
       "    }\n",
       "\n",
       "    .dataframe thead th {\n",
       "        text-align: right;\n",
       "    }\n",
       "</style>\n",
       "<table border=\"1\" class=\"dataframe\">\n",
       "  <thead>\n",
       "    <tr style=\"text-align: right;\">\n",
       "      <th></th>\n",
       "      <th>session_id</th>\n",
       "      <th>start_timestamp</th>\n",
       "      <th>timezone</th>\n",
       "      <th>timezone_offset</th>\n",
       "      <th>previous_sessions_duration</th>\n",
       "      <th>user_created_timestamp</th>\n",
       "      <th>is_user_first_session</th>\n",
       "      <th>is_session</th>\n",
       "      <th>country</th>\n",
       "      <th>region</th>\n",
       "      <th>city</th>\n",
       "      <th>latitude</th>\n",
       "      <th>longitude</th>\n",
       "      <th>locale</th>\n",
       "      <th>os_name</th>\n",
       "      <th>session_index</th>\n",
       "      <th>device_id</th>\n",
       "      <th>user_id_hash</th>\n",
       "    </tr>\n",
       "  </thead>\n",
       "  <tbody>\n",
       "    <tr>\n",
       "      <th>0</th>\n",
       "      <td>5558845121177764917</td>\n",
       "      <td>1542215364580</td>\n",
       "      <td>Asia/Manila</td>\n",
       "      <td>28800000</td>\n",
       "      <td>25837591</td>\n",
       "      <td>1538874289458</td>\n",
       "      <td>False</td>\n",
       "      <td>True</td>\n",
       "      <td>PH</td>\n",
       "      <td>00</td>\n",
       "      <td>makati</td>\n",
       "      <td>14.554729</td>\n",
       "      <td>121.024445</td>\n",
       "      <td>en_GB</td>\n",
       "      <td>Android OS</td>\n",
       "      <td>30</td>\n",
       "      <td>546a3d98-d540-4e72-ad82-9ebd64e0839b</td>\n",
       "      <td>9943447915df3a45fd6720a026af905b6da6b56a37701b...</td>\n",
       "    </tr>\n",
       "    <tr>\n",
       "      <th>1</th>\n",
       "      <td>2201961907282901522</td>\n",
       "      <td>1543712977293</td>\n",
       "      <td>Asia/Manila</td>\n",
       "      <td>28800000</td>\n",
       "      <td>35050130</td>\n",
       "      <td>1538874289458</td>\n",
       "      <td>False</td>\n",
       "      <td>True</td>\n",
       "      <td>PH</td>\n",
       "      <td>00</td>\n",
       "      <td>quezon city</td>\n",
       "      <td>14.676041</td>\n",
       "      <td>121.043701</td>\n",
       "      <td>en_GB</td>\n",
       "      <td>Android OS</td>\n",
       "      <td>47</td>\n",
       "      <td>546a3d98-d540-4e72-ad82-9ebd64e0839b</td>\n",
       "      <td>9943447915df3a45fd6720a026af905b6da6b56a37701b...</td>\n",
       "    </tr>\n",
       "    <tr>\n",
       "      <th>2</th>\n",
       "      <td>18781111175537580</td>\n",
       "      <td>1539215568666</td>\n",
       "      <td>Asia/Manila</td>\n",
       "      <td>28800000</td>\n",
       "      <td>11343848</td>\n",
       "      <td>1538874289458</td>\n",
       "      <td>False</td>\n",
       "      <td>True</td>\n",
       "      <td>PH</td>\n",
       "      <td>00</td>\n",
       "      <td>makati</td>\n",
       "      <td>14.554729</td>\n",
       "      <td>121.024445</td>\n",
       "      <td>en_GB</td>\n",
       "      <td>Android OS</td>\n",
       "      <td>10</td>\n",
       "      <td>546a3d98-d540-4e72-ad82-9ebd64e0839b</td>\n",
       "      <td>9943447915df3a45fd6720a026af905b6da6b56a37701b...</td>\n",
       "    </tr>\n",
       "    <tr>\n",
       "      <th>3</th>\n",
       "      <td>1477540082628742048</td>\n",
       "      <td>1540120743010</td>\n",
       "      <td>Asia/Manila</td>\n",
       "      <td>28800000</td>\n",
       "      <td>13499724</td>\n",
       "      <td>1538874289458</td>\n",
       "      <td>False</td>\n",
       "      <td>True</td>\n",
       "      <td>PH</td>\n",
       "      <td>11</td>\n",
       "      <td>davao city</td>\n",
       "      <td>7.190708</td>\n",
       "      <td>125.455338</td>\n",
       "      <td>en_GB</td>\n",
       "      <td>Android OS</td>\n",
       "      <td>13</td>\n",
       "      <td>546a3d98-d540-4e72-ad82-9ebd64e0839b</td>\n",
       "      <td>9943447915df3a45fd6720a026af905b6da6b56a37701b...</td>\n",
       "    </tr>\n",
       "    <tr>\n",
       "      <th>4</th>\n",
       "      <td>8184875317380844086</td>\n",
       "      <td>1542671625528</td>\n",
       "      <td>Asia/Manila</td>\n",
       "      <td>28800000</td>\n",
       "      <td>32788010</td>\n",
       "      <td>1538874289458</td>\n",
       "      <td>False</td>\n",
       "      <td>True</td>\n",
       "      <td>PH</td>\n",
       "      <td>00</td>\n",
       "      <td>makati</td>\n",
       "      <td>14.554729</td>\n",
       "      <td>121.024445</td>\n",
       "      <td>en_GB</td>\n",
       "      <td>Android OS</td>\n",
       "      <td>41</td>\n",
       "      <td>546a3d98-d540-4e72-ad82-9ebd64e0839b</td>\n",
       "      <td>9943447915df3a45fd6720a026af905b6da6b56a37701b...</td>\n",
       "    </tr>\n",
       "  </tbody>\n",
       "</table>\n",
       "</div>"
      ],
      "text/plain": [
       "            session_id  start_timestamp     timezone  timezone_offset  \\\n",
       "0  5558845121177764917    1542215364580  Asia/Manila         28800000   \n",
       "1  2201961907282901522    1543712977293  Asia/Manila         28800000   \n",
       "2    18781111175537580    1539215568666  Asia/Manila         28800000   \n",
       "3  1477540082628742048    1540120743010  Asia/Manila         28800000   \n",
       "4  8184875317380844086    1542671625528  Asia/Manila         28800000   \n",
       "\n",
       "   previous_sessions_duration  user_created_timestamp  is_user_first_session  \\\n",
       "0                    25837591           1538874289458                  False   \n",
       "1                    35050130           1538874289458                  False   \n",
       "2                    11343848           1538874289458                  False   \n",
       "3                    13499724           1538874289458                  False   \n",
       "4                    32788010           1538874289458                  False   \n",
       "\n",
       "   is_session country region         city   latitude   longitude locale  \\\n",
       "0        True      PH     00       makati  14.554729  121.024445  en_GB   \n",
       "1        True      PH     00  quezon city  14.676041  121.043701  en_GB   \n",
       "2        True      PH     00       makati  14.554729  121.024445  en_GB   \n",
       "3        True      PH     11   davao city   7.190708  125.455338  en_GB   \n",
       "4        True      PH     00       makati  14.554729  121.024445  en_GB   \n",
       "\n",
       "      os_name  session_index                             device_id  \\\n",
       "0  Android OS             30  546a3d98-d540-4e72-ad82-9ebd64e0839b   \n",
       "1  Android OS             47  546a3d98-d540-4e72-ad82-9ebd64e0839b   \n",
       "2  Android OS             10  546a3d98-d540-4e72-ad82-9ebd64e0839b   \n",
       "3  Android OS             13  546a3d98-d540-4e72-ad82-9ebd64e0839b   \n",
       "4  Android OS             41  546a3d98-d540-4e72-ad82-9ebd64e0839b   \n",
       "\n",
       "                                        user_id_hash  \n",
       "0  9943447915df3a45fd6720a026af905b6da6b56a37701b...  \n",
       "1  9943447915df3a45fd6720a026af905b6da6b56a37701b...  \n",
       "2  9943447915df3a45fd6720a026af905b6da6b56a37701b...  \n",
       "3  9943447915df3a45fd6720a026af905b6da6b56a37701b...  \n",
       "4  9943447915df3a45fd6720a026af905b6da6b56a37701b...  "
      ]
     },
     "execution_count": 3,
     "metadata": {},
     "output_type": "execute_result"
    }
   ],
   "source": [
    "sessions.head()"
   ]
  },
  {
   "cell_type": "code",
   "execution_count": 4,
   "metadata": {
    "ExecuteTime": {
     "end_time": "2019-03-05T20:50:54.680796Z",
     "start_time": "2019-03-05T20:50:54.671547Z"
    }
   },
   "outputs": [
    {
     "data": {
      "text/html": [
       "<div>\n",
       "<style scoped>\n",
       "    .dataframe tbody tr th:only-of-type {\n",
       "        vertical-align: middle;\n",
       "    }\n",
       "\n",
       "    .dataframe tbody tr th {\n",
       "        vertical-align: top;\n",
       "    }\n",
       "\n",
       "    .dataframe thead th {\n",
       "        text-align: right;\n",
       "    }\n",
       "</style>\n",
       "<table border=\"1\" class=\"dataframe\">\n",
       "  <thead>\n",
       "    <tr style=\"text-align: right;\">\n",
       "      <th></th>\n",
       "      <th>app_id</th>\n",
       "      <th>session_id</th>\n",
       "      <th>event</th>\n",
       "      <th>event_timestamp</th>\n",
       "      <th>event_value</th>\n",
       "      <th>user_id_hash</th>\n",
       "    </tr>\n",
       "  </thead>\n",
       "  <tbody>\n",
       "    <tr>\n",
       "      <th>0</th>\n",
       "      <td>4724682771660800</td>\n",
       "      <td>5558845121177764917</td>\n",
       "      <td>45</td>\n",
       "      <td>1542215397132</td>\n",
       "      <td>0.0</td>\n",
       "      <td>9943447915df3a45fd6720a026af905b6da6b56a37701b...</td>\n",
       "    </tr>\n",
       "    <tr>\n",
       "      <th>1</th>\n",
       "      <td>4724682771660800</td>\n",
       "      <td>5558845121177764917</td>\n",
       "      <td>45</td>\n",
       "      <td>1542215484895</td>\n",
       "      <td>0.0</td>\n",
       "      <td>9943447915df3a45fd6720a026af905b6da6b56a37701b...</td>\n",
       "    </tr>\n",
       "    <tr>\n",
       "      <th>2</th>\n",
       "      <td>4724682771660800</td>\n",
       "      <td>7689508378645584666</td>\n",
       "      <td>.m5100869650219008</td>\n",
       "      <td>1541124410372</td>\n",
       "      <td>0.0</td>\n",
       "      <td>9943447915df3a45fd6720a026af905b6da6b56a37701b...</td>\n",
       "    </tr>\n",
       "    <tr>\n",
       "      <th>3</th>\n",
       "      <td>4724682771660800</td>\n",
       "      <td>2201961907282901522</td>\n",
       "      <td>4</td>\n",
       "      <td>1543713091129</td>\n",
       "      <td>0.0</td>\n",
       "      <td>9943447915df3a45fd6720a026af905b6da6b56a37701b...</td>\n",
       "    </tr>\n",
       "    <tr>\n",
       "      <th>4</th>\n",
       "      <td>4724682771660800</td>\n",
       "      <td>2201961907282901522</td>\n",
       "      <td>6</td>\n",
       "      <td>1543713093116</td>\n",
       "      <td>0.0</td>\n",
       "      <td>9943447915df3a45fd6720a026af905b6da6b56a37701b...</td>\n",
       "    </tr>\n",
       "  </tbody>\n",
       "</table>\n",
       "</div>"
      ],
      "text/plain": [
       "             app_id           session_id               event  event_timestamp  \\\n",
       "0  4724682771660800  5558845121177764917                  45    1542215397132   \n",
       "1  4724682771660800  5558845121177764917                  45    1542215484895   \n",
       "2  4724682771660800  7689508378645584666  .m5100869650219008    1541124410372   \n",
       "3  4724682771660800  2201961907282901522                   4    1543713091129   \n",
       "4  4724682771660800  2201961907282901522                   6    1543713093116   \n",
       "\n",
       "   event_value                                       user_id_hash  \n",
       "0          0.0  9943447915df3a45fd6720a026af905b6da6b56a37701b...  \n",
       "1          0.0  9943447915df3a45fd6720a026af905b6da6b56a37701b...  \n",
       "2          0.0  9943447915df3a45fd6720a026af905b6da6b56a37701b...  \n",
       "3          0.0  9943447915df3a45fd6720a026af905b6da6b56a37701b...  \n",
       "4          0.0  9943447915df3a45fd6720a026af905b6da6b56a37701b...  "
      ]
     },
     "execution_count": 4,
     "metadata": {},
     "output_type": "execute_result"
    }
   ],
   "source": [
    "events.head()"
   ]
  },
  {
   "cell_type": "code",
   "execution_count": 5,
   "metadata": {
    "ExecuteTime": {
     "end_time": "2019-03-05T20:50:59.501513Z",
     "start_time": "2019-03-05T20:50:54.682958Z"
    }
   },
   "outputs": [],
   "source": [
    "sessions = sessions.drop(['timezone_offset', 'timezone', 'is_user_first_session', 'city', 'region',\n",
    "                        'latitude', 'longitude', 'locale', 'device_id'], axis=1).dropna()\n",
    "sessions = sessions[sessions['is_session']==True].drop('is_session', axis=1)\n",
    "sessions['start_timestamp'] = pd.to_datetime(sessions['start_timestamp'], unit='ms')\n",
    "sessions['user_created_timestamp'] = pd.to_datetime(sessions['user_created_timestamp'], unit='ms')\n",
    "sessions = sessions.sort_values(by='start_timestamp')\n",
    "sessions = sessions.reset_index(drop=True)"
   ]
  },
  {
   "cell_type": "code",
   "execution_count": 6,
   "metadata": {
    "ExecuteTime": {
     "end_time": "2019-03-05T20:52:17.436077Z",
     "start_time": "2019-03-05T20:50:59.503529Z"
    }
   },
   "outputs": [],
   "source": [
    "events = events.drop('app_id', axis=1)\n",
    "events = events[events['event'].map(lambda x: x[0]!='.')]\n",
    "events['event_timestamp'] = pd.to_datetime(events['event_timestamp'],unit='ms')\n",
    "events = events.sort_values(by='event_timestamp')\n",
    "events = events.reset_index(drop=True)"
   ]
  },
  {
   "cell_type": "code",
   "execution_count": 7,
   "metadata": {
    "ExecuteTime": {
     "end_time": "2019-03-05T20:52:17.473951Z",
     "start_time": "2019-03-05T20:52:17.440660Z"
    }
   },
   "outputs": [
    {
     "data": {
      "text/html": [
       "<div>\n",
       "<style scoped>\n",
       "    .dataframe tbody tr th:only-of-type {\n",
       "        vertical-align: middle;\n",
       "    }\n",
       "\n",
       "    .dataframe tbody tr th {\n",
       "        vertical-align: top;\n",
       "    }\n",
       "\n",
       "    .dataframe thead th {\n",
       "        text-align: right;\n",
       "    }\n",
       "</style>\n",
       "<table border=\"1\" class=\"dataframe\">\n",
       "  <thead>\n",
       "    <tr style=\"text-align: right;\">\n",
       "      <th></th>\n",
       "      <th>session_id</th>\n",
       "      <th>start_timestamp</th>\n",
       "      <th>previous_sessions_duration</th>\n",
       "      <th>user_created_timestamp</th>\n",
       "      <th>country</th>\n",
       "      <th>os_name</th>\n",
       "      <th>session_index</th>\n",
       "      <th>user_id_hash</th>\n",
       "    </tr>\n",
       "  </thead>\n",
       "  <tbody>\n",
       "    <tr>\n",
       "      <th>0</th>\n",
       "      <td>4339488202460077611</td>\n",
       "      <td>2018-10-01 07:00:04.526</td>\n",
       "      <td>0</td>\n",
       "      <td>2018-10-01 07:00:04.526</td>\n",
       "      <td>AU</td>\n",
       "      <td>iPhone OS</td>\n",
       "      <td>1</td>\n",
       "      <td>c9bad12f865142f1b3938c9ab8a3003a7882136a2b4a12...</td>\n",
       "    </tr>\n",
       "    <tr>\n",
       "      <th>1</th>\n",
       "      <td>7012480646309837595</td>\n",
       "      <td>2018-10-01 07:00:08.476</td>\n",
       "      <td>0</td>\n",
       "      <td>2018-10-01 07:00:08.476</td>\n",
       "      <td>NZ</td>\n",
       "      <td>iOS</td>\n",
       "      <td>1</td>\n",
       "      <td>285863e47df26bf47664c93d45c35ee3b9cfc8e253da23...</td>\n",
       "    </tr>\n",
       "    <tr>\n",
       "      <th>2</th>\n",
       "      <td>2920311224184894615</td>\n",
       "      <td>2018-10-01 07:01:02.101</td>\n",
       "      <td>1000637</td>\n",
       "      <td>2018-10-01 06:44:08.468</td>\n",
       "      <td>IN</td>\n",
       "      <td>Android OS</td>\n",
       "      <td>2</td>\n",
       "      <td>475f8f20576637055c5331513dda4db1d889f5e951c8e5...</td>\n",
       "    </tr>\n",
       "    <tr>\n",
       "      <th>3</th>\n",
       "      <td>8483277250870486701</td>\n",
       "      <td>2018-10-01 07:01:30.694</td>\n",
       "      <td>0</td>\n",
       "      <td>2018-10-01 07:01:30.694</td>\n",
       "      <td>US</td>\n",
       "      <td>Android OS</td>\n",
       "      <td>1</td>\n",
       "      <td>4bc7b52d56b24d258ba1746994492f354fd4b17fcaae81...</td>\n",
       "    </tr>\n",
       "    <tr>\n",
       "      <th>4</th>\n",
       "      <td>8114762104527844914</td>\n",
       "      <td>2018-10-01 07:01:57.770</td>\n",
       "      <td>2415582</td>\n",
       "      <td>2018-10-01 06:18:23.919</td>\n",
       "      <td>US</td>\n",
       "      <td>Android OS</td>\n",
       "      <td>2</td>\n",
       "      <td>82349b0d1a80b42e59519068ded46178778084b9602b9c...</td>\n",
       "    </tr>\n",
       "  </tbody>\n",
       "</table>\n",
       "</div>"
      ],
      "text/plain": [
       "            session_id         start_timestamp  previous_sessions_duration  \\\n",
       "0  4339488202460077611 2018-10-01 07:00:04.526                           0   \n",
       "1  7012480646309837595 2018-10-01 07:00:08.476                           0   \n",
       "2  2920311224184894615 2018-10-01 07:01:02.101                     1000637   \n",
       "3  8483277250870486701 2018-10-01 07:01:30.694                           0   \n",
       "4  8114762104527844914 2018-10-01 07:01:57.770                     2415582   \n",
       "\n",
       "   user_created_timestamp country     os_name  session_index  \\\n",
       "0 2018-10-01 07:00:04.526      AU   iPhone OS              1   \n",
       "1 2018-10-01 07:00:08.476      NZ         iOS              1   \n",
       "2 2018-10-01 06:44:08.468      IN  Android OS              2   \n",
       "3 2018-10-01 07:01:30.694      US  Android OS              1   \n",
       "4 2018-10-01 06:18:23.919      US  Android OS              2   \n",
       "\n",
       "                                        user_id_hash  \n",
       "0  c9bad12f865142f1b3938c9ab8a3003a7882136a2b4a12...  \n",
       "1  285863e47df26bf47664c93d45c35ee3b9cfc8e253da23...  \n",
       "2  475f8f20576637055c5331513dda4db1d889f5e951c8e5...  \n",
       "3  4bc7b52d56b24d258ba1746994492f354fd4b17fcaae81...  \n",
       "4  82349b0d1a80b42e59519068ded46178778084b9602b9c...  "
      ]
     },
     "execution_count": 7,
     "metadata": {},
     "output_type": "execute_result"
    }
   ],
   "source": [
    "sessions.head()"
   ]
  },
  {
   "cell_type": "code",
   "execution_count": 8,
   "metadata": {
    "ExecuteTime": {
     "end_time": "2019-03-05T20:52:17.487654Z",
     "start_time": "2019-03-05T20:52:17.476615Z"
    }
   },
   "outputs": [
    {
     "data": {
      "text/html": [
       "<div>\n",
       "<style scoped>\n",
       "    .dataframe tbody tr th:only-of-type {\n",
       "        vertical-align: middle;\n",
       "    }\n",
       "\n",
       "    .dataframe tbody tr th {\n",
       "        vertical-align: top;\n",
       "    }\n",
       "\n",
       "    .dataframe thead th {\n",
       "        text-align: right;\n",
       "    }\n",
       "</style>\n",
       "<table border=\"1\" class=\"dataframe\">\n",
       "  <thead>\n",
       "    <tr style=\"text-align: right;\">\n",
       "      <th></th>\n",
       "      <th>session_id</th>\n",
       "      <th>event</th>\n",
       "      <th>event_timestamp</th>\n",
       "      <th>event_value</th>\n",
       "      <th>user_id_hash</th>\n",
       "    </tr>\n",
       "  </thead>\n",
       "  <tbody>\n",
       "    <tr>\n",
       "      <th>0</th>\n",
       "      <td>7012480646309837595</td>\n",
       "      <td>44</td>\n",
       "      <td>2018-10-01 07:00:40.514</td>\n",
       "      <td>0.0</td>\n",
       "      <td>285863e47df26bf47664c93d45c35ee3b9cfc8e253da23...</td>\n",
       "    </tr>\n",
       "    <tr>\n",
       "      <th>1</th>\n",
       "      <td>7012480646309837595</td>\n",
       "      <td>5</td>\n",
       "      <td>2018-10-01 07:00:42.744</td>\n",
       "      <td>0.0</td>\n",
       "      <td>285863e47df26bf47664c93d45c35ee3b9cfc8e253da23...</td>\n",
       "    </tr>\n",
       "    <tr>\n",
       "      <th>2</th>\n",
       "      <td>7012480646309837595</td>\n",
       "      <td>45</td>\n",
       "      <td>2018-10-01 07:01:06.395</td>\n",
       "      <td>0.0</td>\n",
       "      <td>285863e47df26bf47664c93d45c35ee3b9cfc8e253da23...</td>\n",
       "    </tr>\n",
       "    <tr>\n",
       "      <th>3</th>\n",
       "      <td>7012480646309837595</td>\n",
       "      <td>14</td>\n",
       "      <td>2018-10-01 07:01:44.065</td>\n",
       "      <td>0.0</td>\n",
       "      <td>285863e47df26bf47664c93d45c35ee3b9cfc8e253da23...</td>\n",
       "    </tr>\n",
       "    <tr>\n",
       "      <th>4</th>\n",
       "      <td>4339488202460077611</td>\n",
       "      <td>44</td>\n",
       "      <td>2018-10-01 07:01:54.780</td>\n",
       "      <td>0.0</td>\n",
       "      <td>c9bad12f865142f1b3938c9ab8a3003a7882136a2b4a12...</td>\n",
       "    </tr>\n",
       "  </tbody>\n",
       "</table>\n",
       "</div>"
      ],
      "text/plain": [
       "            session_id event         event_timestamp  event_value  \\\n",
       "0  7012480646309837595    44 2018-10-01 07:00:40.514          0.0   \n",
       "1  7012480646309837595     5 2018-10-01 07:00:42.744          0.0   \n",
       "2  7012480646309837595    45 2018-10-01 07:01:06.395          0.0   \n",
       "3  7012480646309837595    14 2018-10-01 07:01:44.065          0.0   \n",
       "4  4339488202460077611    44 2018-10-01 07:01:54.780          0.0   \n",
       "\n",
       "                                        user_id_hash  \n",
       "0  285863e47df26bf47664c93d45c35ee3b9cfc8e253da23...  \n",
       "1  285863e47df26bf47664c93d45c35ee3b9cfc8e253da23...  \n",
       "2  285863e47df26bf47664c93d45c35ee3b9cfc8e253da23...  \n",
       "3  285863e47df26bf47664c93d45c35ee3b9cfc8e253da23...  \n",
       "4  c9bad12f865142f1b3938c9ab8a3003a7882136a2b4a12...  "
      ]
     },
     "execution_count": 8,
     "metadata": {},
     "output_type": "execute_result"
    }
   ],
   "source": [
    "events.head()"
   ]
  },
  {
   "cell_type": "code",
   "execution_count": 9,
   "metadata": {
    "ExecuteTime": {
     "end_time": "2019-03-05T20:52:17.496466Z",
     "start_time": "2019-03-05T20:52:17.490206Z"
    }
   },
   "outputs": [
    {
     "name": "stdout",
     "output_type": "stream",
     "text": [
      "5157590 109627861\n"
     ]
    }
   ],
   "source": [
    "print(len(sessions), len(events))"
   ]
  },
  {
   "cell_type": "code",
   "execution_count": null,
   "metadata": {},
   "outputs": [],
   "source": []
  },
  {
   "cell_type": "code",
   "execution_count": null,
   "metadata": {},
   "outputs": [],
   "source": []
  },
  {
   "cell_type": "markdown",
   "metadata": {},
   "source": [
    "## Get data & label"
   ]
  },
  {
   "cell_type": "code",
   "execution_count": 12,
   "metadata": {
    "ExecuteTime": {
     "end_time": "2019-03-05T21:04:59.137175Z",
     "start_time": "2019-03-05T21:04:47.342978Z"
    }
   },
   "outputs": [],
   "source": [
    "events_data_val = events[np.logical_and(events['event_timestamp']\n",
    "                                        <=(events.event_timestamp.iloc[-1] - pd.Timedelta(days=14)),\n",
    "                                        events['event_timestamp']\n",
    "                                        >(events.event_timestamp.iloc[0] + pd.Timedelta(days=14)))]\n",
    "events_label_val = events[events['event_timestamp']>(events.event_timestamp.iloc[-1] - pd.Timedelta(days=14))]"
   ]
  },
  {
   "cell_type": "code",
   "execution_count": 13,
   "metadata": {
    "ExecuteTime": {
     "end_time": "2019-03-05T21:08:28.357741Z",
     "start_time": "2019-03-05T21:08:18.967528Z"
    }
   },
   "outputs": [],
   "source": [
    "events_data_train = events[events['event_timestamp']<=(events.event_timestamp.iloc[-1] - pd.Timedelta(days=28))]\n",
    "events_label_train = events[np.logical_and(events['event_timestamp']\n",
    "                                           >(events.event_timestamp.iloc[-1] - pd.Timedelta(days=28)),\n",
    "                                           events['event_timestamp']\n",
    "                                           <=(events.event_timestamp.iloc[-1] - pd.Timedelta(days=14)))]"
   ]
  },
  {
   "cell_type": "code",
   "execution_count": 14,
   "metadata": {
    "ExecuteTime": {
     "end_time": "2019-03-05T21:10:58.977523Z",
     "start_time": "2019-03-05T21:10:57.419892Z"
    }
   },
   "outputs": [],
   "source": [
    "sessions_data_val = sessions[np.logical_and(sessions['start_timestamp']\n",
    "                                            <=(sessions.start_timestamp.iloc[-1]-pd.Timedelta(days=14)),\n",
    "                                            sessions['start_timestamp']\n",
    "                                            >(sessions.start_timestamp.iloc[0]+pd.Timedelta(days=14)))]\n",
    "sessions_data_train = sessions[sessions['start_timestamp']<=(sessions.start_timestamp.iloc[-1]-pd.Timedelta(days=28))]"
   ]
  },
  {
   "cell_type": "code",
   "execution_count": 17,
   "metadata": {
    "ExecuteTime": {
     "end_time": "2019-03-05T21:20:26.671810Z",
     "start_time": "2019-03-05T21:20:04.772522Z"
    }
   },
   "outputs": [],
   "source": [
    "events_7_days_val = events_label_val[events_label['event_timestamp']\n",
    "                                     <=(events.event_timestamp.iloc[-1] - pd.Timedelta(days=7))].\\\n",
    "                    groupby('user_id_hash')['event'].apply(lambda x: list(x)).reset_index()\n",
    "events_14_days_val = events_label_val.groupby('user_id_hash')['event'].apply(lambda x: list(x)).reset_index()\n",
    "events_7_days_val['user_purchase_binary_7_days'] = [int('8' in e) for e in events_7_days_val.event]\n",
    "events_14_days_val['user_purchase_binary_14_days'] = [int('8' in e) for e in events_14_days_val.event]\n",
    "val_label = events_14_days_val.merge(events_7_days_val, how='left', on='user_id_hash').fillna(0)\n",
    "val_label = val_label.drop(['event_x', 'event_y'], axis=1)"
   ]
  },
  {
   "cell_type": "markdown",
   "metadata": {},
   "source": [
    "### train & val labels"
   ]
  },
  {
   "cell_type": "code",
   "execution_count": 18,
   "metadata": {
    "ExecuteTime": {
     "end_time": "2019-03-05T21:20:26.688361Z",
     "start_time": "2019-03-05T21:20:26.673743Z"
    }
   },
   "outputs": [
    {
     "data": {
      "text/html": [
       "<div>\n",
       "<style scoped>\n",
       "    .dataframe tbody tr th:only-of-type {\n",
       "        vertical-align: middle;\n",
       "    }\n",
       "\n",
       "    .dataframe tbody tr th {\n",
       "        vertical-align: top;\n",
       "    }\n",
       "\n",
       "    .dataframe thead th {\n",
       "        text-align: right;\n",
       "    }\n",
       "</style>\n",
       "<table border=\"1\" class=\"dataframe\">\n",
       "  <thead>\n",
       "    <tr style=\"text-align: right;\">\n",
       "      <th></th>\n",
       "      <th>user_id_hash</th>\n",
       "      <th>user_purchase_binary_14_days</th>\n",
       "      <th>user_purchase_binary_7_days</th>\n",
       "    </tr>\n",
       "  </thead>\n",
       "  <tbody>\n",
       "    <tr>\n",
       "      <th>0</th>\n",
       "      <td>00000db35682058bb7916cb90f85709f54c1a0f7a3b6de...</td>\n",
       "      <td>0</td>\n",
       "      <td>0.0</td>\n",
       "    </tr>\n",
       "    <tr>\n",
       "      <th>1</th>\n",
       "      <td>000081a7d841b0f953bdba6c185fd5cc335fd6015a30c3...</td>\n",
       "      <td>0</td>\n",
       "      <td>0.0</td>\n",
       "    </tr>\n",
       "    <tr>\n",
       "      <th>2</th>\n",
       "      <td>0000a464ad921c3288e73a3a788b5f113cabf84251a74b...</td>\n",
       "      <td>0</td>\n",
       "      <td>0.0</td>\n",
       "    </tr>\n",
       "    <tr>\n",
       "      <th>3</th>\n",
       "      <td>0000bc4e8bfc829d327fa69bdc426dd8a789c52550ed87...</td>\n",
       "      <td>0</td>\n",
       "      <td>0.0</td>\n",
       "    </tr>\n",
       "    <tr>\n",
       "      <th>4</th>\n",
       "      <td>00020102f66f89759868c843ae9fe634870f132f9e3d79...</td>\n",
       "      <td>0</td>\n",
       "      <td>0.0</td>\n",
       "    </tr>\n",
       "  </tbody>\n",
       "</table>\n",
       "</div>"
      ],
      "text/plain": [
       "                                        user_id_hash  \\\n",
       "0  00000db35682058bb7916cb90f85709f54c1a0f7a3b6de...   \n",
       "1  000081a7d841b0f953bdba6c185fd5cc335fd6015a30c3...   \n",
       "2  0000a464ad921c3288e73a3a788b5f113cabf84251a74b...   \n",
       "3  0000bc4e8bfc829d327fa69bdc426dd8a789c52550ed87...   \n",
       "4  00020102f66f89759868c843ae9fe634870f132f9e3d79...   \n",
       "\n",
       "   user_purchase_binary_14_days  user_purchase_binary_7_days  \n",
       "0                             0                          0.0  \n",
       "1                             0                          0.0  \n",
       "2                             0                          0.0  \n",
       "3                             0                          0.0  \n",
       "4                             0                          0.0  "
      ]
     },
     "execution_count": 18,
     "metadata": {},
     "output_type": "execute_result"
    }
   ],
   "source": [
    "val_label.head()"
   ]
  },
  {
   "cell_type": "code",
   "execution_count": 19,
   "metadata": {
    "ExecuteTime": {
     "end_time": "2019-03-05T21:20:26.694000Z",
     "start_time": "2019-03-05T21:20:26.689821Z"
    }
   },
   "outputs": [
    {
     "data": {
      "text/plain": [
       "84467"
      ]
     },
     "execution_count": 19,
     "metadata": {},
     "output_type": "execute_result"
    }
   ],
   "source": [
    "len(val_label)"
   ]
  },
  {
   "cell_type": "code",
   "execution_count": 20,
   "metadata": {
    "ExecuteTime": {
     "end_time": "2019-03-05T21:26:34.315631Z",
     "start_time": "2019-03-05T21:25:44.937618Z"
    }
   },
   "outputs": [],
   "source": [
    "events_7_days_train = events_label_train[events_label_train['event_timestamp']\n",
    "                                         <=(events_label_train.event_timestamp.iloc[-1] - pd.Timedelta(days=7))].\\\n",
    "                    groupby('user_id_hash')['event'].apply(lambda x: list(x)).reset_index()\n",
    "events_14_days_train = events_label_train.groupby('user_id_hash')['event'].apply(lambda x: list(x)).reset_index()\n",
    "events_7_days_train['user_purchase_binary_7_days'] = [int('8' in e) for e in events_7_days_train.event]\n",
    "events_14_days_train['user_purchase_binary_14_days'] = [int('8' in e) for e in events_14_days_train.event]\n",
    "train_label = events_14_days_train.merge(events_7_days_train, how='left', on='user_id_hash').fillna(0)\n",
    "train_label = train_label.drop(['event_x', 'event_y'], axis=1)"
   ]
  },
  {
   "cell_type": "code",
   "execution_count": 21,
   "metadata": {
    "ExecuteTime": {
     "end_time": "2019-03-05T21:26:34.329240Z",
     "start_time": "2019-03-05T21:26:34.318504Z"
    }
   },
   "outputs": [
    {
     "data": {
      "text/html": [
       "<div>\n",
       "<style scoped>\n",
       "    .dataframe tbody tr th:only-of-type {\n",
       "        vertical-align: middle;\n",
       "    }\n",
       "\n",
       "    .dataframe tbody tr th {\n",
       "        vertical-align: top;\n",
       "    }\n",
       "\n",
       "    .dataframe thead th {\n",
       "        text-align: right;\n",
       "    }\n",
       "</style>\n",
       "<table border=\"1\" class=\"dataframe\">\n",
       "  <thead>\n",
       "    <tr style=\"text-align: right;\">\n",
       "      <th></th>\n",
       "      <th>user_id_hash</th>\n",
       "      <th>user_purchase_binary_14_days</th>\n",
       "      <th>user_purchase_binary_7_days</th>\n",
       "    </tr>\n",
       "  </thead>\n",
       "  <tbody>\n",
       "    <tr>\n",
       "      <th>0</th>\n",
       "      <td>000059859ec188af6035870faf885c3038cedda05b3a54...</td>\n",
       "      <td>1</td>\n",
       "      <td>1.0</td>\n",
       "    </tr>\n",
       "    <tr>\n",
       "      <th>1</th>\n",
       "      <td>000081a7d841b0f953bdba6c185fd5cc335fd6015a30c3...</td>\n",
       "      <td>0</td>\n",
       "      <td>0.0</td>\n",
       "    </tr>\n",
       "    <tr>\n",
       "      <th>2</th>\n",
       "      <td>0000a464ad921c3288e73a3a788b5f113cabf84251a74b...</td>\n",
       "      <td>0</td>\n",
       "      <td>0.0</td>\n",
       "    </tr>\n",
       "    <tr>\n",
       "      <th>3</th>\n",
       "      <td>0000bc4e8bfc829d327fa69bdc426dd8a789c52550ed87...</td>\n",
       "      <td>0</td>\n",
       "      <td>0.0</td>\n",
       "    </tr>\n",
       "    <tr>\n",
       "      <th>4</th>\n",
       "      <td>000161848e5ccdcd4d3b0c7be9ec844730c39e6bcbc2a7...</td>\n",
       "      <td>0</td>\n",
       "      <td>0.0</td>\n",
       "    </tr>\n",
       "  </tbody>\n",
       "</table>\n",
       "</div>"
      ],
      "text/plain": [
       "                                        user_id_hash  \\\n",
       "0  000059859ec188af6035870faf885c3038cedda05b3a54...   \n",
       "1  000081a7d841b0f953bdba6c185fd5cc335fd6015a30c3...   \n",
       "2  0000a464ad921c3288e73a3a788b5f113cabf84251a74b...   \n",
       "3  0000bc4e8bfc829d327fa69bdc426dd8a789c52550ed87...   \n",
       "4  000161848e5ccdcd4d3b0c7be9ec844730c39e6bcbc2a7...   \n",
       "\n",
       "   user_purchase_binary_14_days  user_purchase_binary_7_days  \n",
       "0                             1                          1.0  \n",
       "1                             0                          0.0  \n",
       "2                             0                          0.0  \n",
       "3                             0                          0.0  \n",
       "4                             0                          0.0  "
      ]
     },
     "execution_count": 21,
     "metadata": {},
     "output_type": "execute_result"
    }
   ],
   "source": [
    "train_label.head()"
   ]
  },
  {
   "cell_type": "code",
   "execution_count": 22,
   "metadata": {
    "ExecuteTime": {
     "end_time": "2019-03-05T21:26:34.334925Z",
     "start_time": "2019-03-05T21:26:34.330883Z"
    }
   },
   "outputs": [
    {
     "data": {
      "text/plain": [
       "208880"
      ]
     },
     "execution_count": 22,
     "metadata": {},
     "output_type": "execute_result"
    }
   ],
   "source": [
    "len(train_label)"
   ]
  },
  {
   "cell_type": "markdown",
   "metadata": {},
   "source": [
    "### train & val data"
   ]
  },
  {
   "cell_type": "code",
   "execution_count": 23,
   "metadata": {
    "ExecuteTime": {
     "end_time": "2019-03-05T21:27:34.833553Z",
     "start_time": "2019-03-05T21:27:34.827874Z"
    }
   },
   "outputs": [],
   "source": [
    "def get_training_data(df_data, df_label):\n",
    "    return df_data[df_data['user_id_hash'].isin(df_label.user_id_hash)]"
   ]
  },
  {
   "cell_type": "code",
   "execution_count": 24,
   "metadata": {
    "ExecuteTime": {
     "end_time": "2019-03-05T21:29:19.262001Z",
     "start_time": "2019-03-05T21:28:38.330962Z"
    }
   },
   "outputs": [],
   "source": [
    "events_data_val = get_training_data(events_data_val, val_label)\n",
    "sessions_data_val = get_training_data(sessions_data_val, val_label)\n",
    "events_data_train = get_training_data(events_data_train, train_label)\n",
    "sessions_data_train = get_training_data(sessions_data_train, train_label)"
   ]
  },
  {
   "cell_type": "code",
   "execution_count": 25,
   "metadata": {
    "ExecuteTime": {
     "end_time": "2019-03-05T21:29:19.272267Z",
     "start_time": "2019-03-05T21:29:19.264655Z"
    }
   },
   "outputs": [
    {
     "name": "stdout",
     "output_type": "stream",
     "text": [
      "37831292 1767742\n",
      "32300425 1491326\n"
     ]
    }
   ],
   "source": [
    "print(len(events_data_val), len(sessions_data_val))\n",
    "print(len(events_data_train), len(sessions_data_train))"
   ]
  },
  {
   "cell_type": "code",
   "execution_count": 26,
   "metadata": {
    "ExecuteTime": {
     "end_time": "2019-03-05T21:29:53.918949Z",
     "start_time": "2019-03-05T21:29:51.102219Z"
    }
   },
   "outputs": [],
   "source": [
    "events_data_val = events_data_val.reset_index(drop=True)\n",
    "sessions_data_val = sessions_data_val.reset_index(drop=True)\n",
    "events_data_train = events_data_train.reset_index(drop=True)\n",
    "sessions_data_train = sessions_data_train.reset_index(drop=True)"
   ]
  },
  {
   "cell_type": "code",
   "execution_count": null,
   "metadata": {},
   "outputs": [],
   "source": []
  },
  {
   "cell_type": "code",
   "execution_count": null,
   "metadata": {},
   "outputs": [],
   "source": []
  },
  {
   "cell_type": "markdown",
   "metadata": {},
   "source": [
    "## Feature Engineering"
   ]
  },
  {
   "cell_type": "code",
   "execution_count": 27,
   "metadata": {
    "ExecuteTime": {
     "end_time": "2019-03-05T21:38:57.692095Z",
     "start_time": "2019-03-05T21:38:57.682478Z"
    }
   },
   "outputs": [],
   "source": [
    "def avg_diff(ls, seven_endtime, fourteen_endtime, last=0, last2=0):\n",
    "    '''calculate average intervals'''\n",
    "    if last:\n",
    "        ls2 = [e for e in ls if e > seven_endtime]\n",
    "        if len(ls2) == 0: return 200  # no event last week\n",
    "        if len(ls2) == 1: return 120  # only one event last week\n",
    "        return avg_diff(ls2, seven_endtime, fourteen_endtime)\n",
    "    if last2:\n",
    "        ls2 = [e for e in ls if e > fourteen_endtime]\n",
    "        if len(ls2) == 0: return 360  # no event last two weeks\n",
    "        if len(ls2) == 1: return 200  # only one event last two weeks\n",
    "        return avg_diff(ls2, seven_endtime, fourteen_endtime)\n",
    "    if last==0 and last2==0:\n",
    "        if len(ls) == 1: return 600\n",
    "        if len(ls) == 0: return 1100\n",
    "        return sum([(ls[i+1] - ls[i]).total_seconds()/3600 for i in range(len(ls)-1)])/(len(ls)-1)   "
   ]
  },
  {
   "cell_type": "code",
   "execution_count": 28,
   "metadata": {
    "ExecuteTime": {
     "end_time": "2019-03-05T21:38:59.713366Z",
     "start_time": "2019-03-05T21:38:59.709069Z"
    }
   },
   "outputs": [],
   "source": [
    "def standardize(ls):\n",
    "    mean = ls.mean()\n",
    "    std = ls.std()\n",
    "    ls = (ls - mean)/std\n",
    "    return ls"
   ]
  },
  {
   "cell_type": "markdown",
   "metadata": {},
   "source": [
    "### feature from events"
   ]
  },
  {
   "cell_type": "code",
   "execution_count": 91,
   "metadata": {
    "ExecuteTime": {
     "end_time": "2019-03-06T02:42:01.277533Z",
     "start_time": "2019-03-06T02:42:01.237462Z"
    }
   },
   "outputs": [],
   "source": [
    "def compute_event_features(events):\n",
    "    '''compute featuers from events'''\n",
    "    \n",
    "    \n",
    "    user_id_hash = events.groupby('session_id')[\"user_id_hash\"].first().reset_index(name=\"user_id_hash\")\n",
    "    # number of events in each session\n",
    "    num_events = events.groupby('session_id')[\"event\"].count().reset_index(name=\"event_count\")\n",
    "    # duration = last event - first event\n",
    "    first_event = events.groupby('session_id')['event_timestamp'].first().reset_index(name=\"first_event\")\n",
    "    last_event = events.groupby('session_id')['event_timestamp'].last().reset_index(name=\"last_event\")\n",
    "    duration = first_event.join(last_event.set_index('session_id'), on='session_id')\n",
    "    duration['duration'] = duration['last_event'] - duration['first_event']\n",
    "    duration['duration'] = [e.total_seconds()/3600 for e in duration.duration]  # in hours\n",
    "    \n",
    "    \n",
    "    event_endtime = events.event_timestamp.iloc[-1]\n",
    "    seven_endtime = pd.to_datetime(event_endtime) - pd.Timedelta(days=7)\n",
    "    fourteen_endtime = pd.to_datetime(event_endtime) - pd.Timedelta(days=14)\n",
    "    per_session = user_id_hash.merge(num_events,on='session_id').merge(duration,on='session_id')\n",
    "\n",
    "    # time spent on the app in hours\n",
    "    total_time = per_session.groupby('user_id_hash')['duration'].sum().reset_index(name='total_time')\n",
    "    total_time_last_week = per_session[per_session['first_event']>seven_endtime].\\\n",
    "                            groupby('user_id_hash')['duration'].sum().reset_index(name='total_time_last_week')\n",
    "    total_time_last_two_week = per_session[per_session['first_event']>fourteen_endtime].\\\n",
    "                            groupby('user_id_hash')['duration'].sum().reset_index(name='total_time_last_two_week')\n",
    "\n",
    "    # avg session duration\n",
    "    avg_session_duration = per_session.groupby('user_id_hash')['duration'].mean().reset_index(name='avg_session_duration')\n",
    "    avg_session_duration_last_week = per_session[per_session['first_event']>seven_endtime].\\\n",
    "                                        groupby('user_id_hash')['duration'].mean().\\\n",
    "                                        reset_index(name='avg_session_duration_last_week')\n",
    "    avg_session_duration_last_two_week = per_session[per_session['first_event']>fourteen_endtime].\\\n",
    "                                        groupby('user_id_hash')['duration'].mean().\\\n",
    "                                        reset_index(name='avg_session_duration_last_two_week')\n",
    "\n",
    "    # avg count of events in each session\n",
    "    avg_event_count = per_session.groupby('user_id_hash')['event_count'].mean().reset_index(name='avg_event_count')\n",
    "\n",
    "    # sum of purchase\n",
    "    sum_purchase_value = events[events['event']=='8'].groupby('user_id_hash')['event_value'].\\\n",
    "                            sum().reset_index(name='sum_purchase_value')\n",
    "    sum_purchase_value_last_week = events[(events['event']=='8') & (events['event_timestamp']>seven_endtime)].\\\n",
    "                            groupby('user_id_hash')['event_value'].\\\n",
    "                            sum().reset_index(name='sum_purchase_value_last_week')\n",
    "    sum_purchase_value_last_two_week = events[(events['event']=='8') & (events['event_timestamp']>fourteen_endtime)].\\\n",
    "                            groupby('user_id_hash')['event_value'].\\\n",
    "                            sum().reset_index(name='sum_purchase_value_last_two_week')\n",
    "\n",
    "    # number of purchase\n",
    "    purchase_count = events[events['event']=='8'].groupby('user_id_hash')['event_value'].\\\n",
    "                            count().reset_index(name='purchase_count')\n",
    "    purchase_count_last_week = events[(events['event']=='8') & (events['event_timestamp']>seven_endtime)].\\\n",
    "                            groupby('user_id_hash')['event_value'].\\\n",
    "                            count().reset_index(name='purchase_count_last_week')\n",
    "    purchase_count_last_two_week = events[(events['event']=='8') & (events['event_timestamp']>fourteen_endtime)].\\\n",
    "                            groupby('user_id_hash')['event_value'].\\\n",
    "                            count().reset_index(name='purchase_count_last_two_week')\n",
    "    \n",
    "    \n",
    "    event_features = total_time.merge(total_time_last_week, how='left', on='user_id_hash').\\\n",
    "                    merge(total_time_last_two_week, how='left', on='user_id_hash').\\\n",
    "                    merge(avg_session_duration, on='user_id_hash').\\\n",
    "                    merge(avg_session_duration_last_week, how='left', on='user_id_hash').\\\n",
    "                    merge(avg_session_duration_last_two_week, how='left', on='user_id_hash').\\\n",
    "                    merge(avg_event_count, on='user_id_hash').\\\n",
    "                    merge(sum_purchase_value, how='left', on='user_id_hash').\\\n",
    "                    merge(sum_purchase_value_last_week, how='left', on='user_id_hash').\\\n",
    "                    merge(sum_purchase_value_last_two_week, how='left', on='user_id_hash').\\\n",
    "                    merge(purchase_count, how='left', on='user_id_hash').\\\n",
    "                    merge(purchase_count_last_week, how='left', on='user_id_hash').\\\n",
    "                    merge(purchase_count_last_two_week, how='left', on='user_id_hash').fillna(0)\n",
    "    \n",
    "    \n",
    "    # avg interval between purchases in hours\n",
    "    purchase_events = events[events['event']=='8'][['event_timestamp', 'user_id_hash']].groupby('user_id_hash').\\\n",
    "                        agg({'event_timestamp': lambda x: list(x)})\n",
    "    \n",
    "    \n",
    "    purchase_events['purchase_interval'] = purchase_events.event_timestamp.\\\n",
    "                                            apply(lambda x: avg_diff(x, seven_endtime, fourteen_endtime))\n",
    "    purchase_events['purchase_interval_last_week'] = purchase_events.event_timestamp.\\\n",
    "                                                    apply(lambda x: avg_diff(x, seven_endtime, fourteen_endtime, 1, 0))\n",
    "    purchase_events['purchase_interval_last_two_week'] = purchase_events.event_timestamp.\\\n",
    "                                                        apply(lambda x: avg_diff(x, seven_endtime, fourteen_endtime, 0, 1))\n",
    "    purchase_events = purchase_events.drop('event_timestamp', axis=1)\n",
    "    event_features = event_features.merge(purchase_events, how='left', on='user_id_hash')\n",
    "    event_features['purchase_interval'] = event_features['purchase_interval'].fillna(1440)\n",
    "    event_features['purchase_interval_last_week'] = event_features['purchase_interval_last_week'].fillna(168)\n",
    "    event_features['purchase_interval_last_two_week'] = event_features['purchase_interval_last_two_week'].fillna(336)\n",
    "    \n",
    "    \n",
    "    return event_features"
   ]
  },
  {
   "cell_type": "code",
   "execution_count": null,
   "metadata": {},
   "outputs": [],
   "source": []
  },
  {
   "cell_type": "code",
   "execution_count": null,
   "metadata": {},
   "outputs": [],
   "source": []
  },
  {
   "cell_type": "markdown",
   "metadata": {},
   "source": [
    "### features from sessions"
   ]
  },
  {
   "cell_type": "code",
   "execution_count": 159,
   "metadata": {
    "ExecuteTime": {
     "end_time": "2019-03-06T06:43:15.323036Z",
     "start_time": "2019-03-06T06:43:15.313018Z"
    }
   },
   "outputs": [
    {
     "data": {
      "text/html": [
       "<div>\n",
       "<style scoped>\n",
       "    .dataframe tbody tr th:only-of-type {\n",
       "        vertical-align: middle;\n",
       "    }\n",
       "\n",
       "    .dataframe tbody tr th {\n",
       "        vertical-align: top;\n",
       "    }\n",
       "\n",
       "    .dataframe thead th {\n",
       "        text-align: right;\n",
       "    }\n",
       "</style>\n",
       "<table border=\"1\" class=\"dataframe\">\n",
       "  <thead>\n",
       "    <tr style=\"text-align: right;\">\n",
       "      <th></th>\n",
       "      <th>user_id_hash</th>\n",
       "      <th>user_purchase_binary_14_days</th>\n",
       "      <th>user_purchase_binary_7_days</th>\n",
       "    </tr>\n",
       "  </thead>\n",
       "  <tbody>\n",
       "    <tr>\n",
       "      <th>0</th>\n",
       "      <td>000059859ec188af6035870faf885c3038cedda05b3a54...</td>\n",
       "      <td>1</td>\n",
       "      <td>1.0</td>\n",
       "    </tr>\n",
       "    <tr>\n",
       "      <th>1</th>\n",
       "      <td>000081a7d841b0f953bdba6c185fd5cc335fd6015a30c3...</td>\n",
       "      <td>0</td>\n",
       "      <td>0.0</td>\n",
       "    </tr>\n",
       "    <tr>\n",
       "      <th>2</th>\n",
       "      <td>0000a464ad921c3288e73a3a788b5f113cabf84251a74b...</td>\n",
       "      <td>0</td>\n",
       "      <td>0.0</td>\n",
       "    </tr>\n",
       "    <tr>\n",
       "      <th>3</th>\n",
       "      <td>0000bc4e8bfc829d327fa69bdc426dd8a789c52550ed87...</td>\n",
       "      <td>0</td>\n",
       "      <td>0.0</td>\n",
       "    </tr>\n",
       "    <tr>\n",
       "      <th>4</th>\n",
       "      <td>000161848e5ccdcd4d3b0c7be9ec844730c39e6bcbc2a7...</td>\n",
       "      <td>0</td>\n",
       "      <td>0.0</td>\n",
       "    </tr>\n",
       "  </tbody>\n",
       "</table>\n",
       "</div>"
      ],
      "text/plain": [
       "                                        user_id_hash  \\\n",
       "0  000059859ec188af6035870faf885c3038cedda05b3a54...   \n",
       "1  000081a7d841b0f953bdba6c185fd5cc335fd6015a30c3...   \n",
       "2  0000a464ad921c3288e73a3a788b5f113cabf84251a74b...   \n",
       "3  0000bc4e8bfc829d327fa69bdc426dd8a789c52550ed87...   \n",
       "4  000161848e5ccdcd4d3b0c7be9ec844730c39e6bcbc2a7...   \n",
       "\n",
       "   user_purchase_binary_14_days  user_purchase_binary_7_days  \n",
       "0                             1                          1.0  \n",
       "1                             0                          0.0  \n",
       "2                             0                          0.0  \n",
       "3                             0                          0.0  \n",
       "4                             0                          0.0  "
      ]
     },
     "execution_count": 159,
     "metadata": {},
     "output_type": "execute_result"
    }
   ],
   "source": [
    "train_label.head()"
   ]
  },
  {
   "cell_type": "code",
   "execution_count": 168,
   "metadata": {
    "ExecuteTime": {
     "end_time": "2019-03-06T06:45:27.545348Z",
     "start_time": "2019-03-06T06:45:27.488754Z"
    }
   },
   "outputs": [],
   "source": [
    "# target_encoding_train = sessions_data_train.merge(train_label, how='left', on='user_id_hash')\n",
    "# country_encoding_14 = pd.DataFrame({'country_encoding_14': target_encoding_train.groupby('country')['user_purchase_binary_14_days'].mean()}).reset_index()\n",
    "# country_encoding_7 = pd.DataFrame({'country_encoding_7': target_encoding_train.groupby('country')['user_purchase_binary_7_days'].mean()}).reset_index()\n",
    "# os_encoding_14 = pd.DataFrame({'os_encoding_14': target_encoding_train.groupby('os_name')['user_purchase_binary_14_days'].mean()}).reset_index()\n",
    "# os_encoding_7 = pd.DataFrame({'os_encoding_7': target_encoding_train.groupby('os_name')['user_purchase_binary_7_days'].mean()}).reset_index()\n",
    "# target_encoding_train = target_encoding_train.merge(country_encoding_14, how='left', on='country').merge(country_encoding_7, how='left', on='country')\n",
    "# target_encoding_train = target_encoding_train.merge(os_encoding_14, how='left', on='os_name').merge(os_encoding_7, how='left', on='os_name')\n",
    "# target_encoding_train = target_encoding_train[['user_id_hash', 'country_encoding_14', 'country_encoding_7',\n",
    "#                                  'os_encoding_14', 'os_encoding_7']]\n",
    "# target_encoding_train.reset_index(inplace=True)\n",
    "# target_encoding_train = target_encoding_train.drop('index', axis=1)"
   ]
  },
  {
   "cell_type": "code",
   "execution_count": 92,
   "metadata": {
    "ExecuteTime": {
     "end_time": "2019-03-06T02:42:09.644236Z",
     "start_time": "2019-03-06T02:42:09.630985Z"
    }
   },
   "outputs": [],
   "source": [
    "def compute_session_features(sessions):\n",
    "    '''compute features from sessions'''\n",
    "    \n",
    "    \n",
    "    session_endtime = sessions.start_timestamp.iloc[-1]\n",
    "    seven_endtime = pd.to_datetime(session_endtime) - pd.Timedelta(days=7)\n",
    "    fourteen_endtime = pd.to_datetime(session_endtime) - pd.Timedelta(days=14)\n",
    "    \n",
    "    \n",
    "    session_timestamp = sessions.groupby('user_id_hash').agg({'start_timestamp': lambda x: list(x)})\n",
    "    user_sessions = sessions.groupby('user_id_hash').agg({'session_id': 'count',\n",
    "                                                          'previous_sessions_duration': 'mean',\n",
    "                                                          'user_created_timestamp': lambda x: x.iloc[0],\n",
    "                                                          'country': lambda x: x.iloc[0],\n",
    "                                                          'os_name': lambda x: x.iloc[0]}).\\\n",
    "                                                     merge(session_timestamp, on='user_id_hash')\n",
    "    user_sessions = user_sessions.rename(columns={'session_id':'session_count', \n",
    "                                                  'previous_sessions_duration':'avg_session_duration'})\n",
    "    user_sessions['avg_session_duration'] = [e/3600000 for e in user_sessions.avg_session_duration]\n",
    "    \n",
    "    \n",
    "    user_sessions['elapse_since_last_session'] = [(session_endtime-e[-1]).total_seconds()/3600 for e in user_sessions.start_timestamp]\n",
    "    user_sessions['since_register'] = [(session_endtime-e).total_seconds()/3600 for e in user_sessions.user_created_timestamp]\n",
    "    \n",
    "    \n",
    "    user_sessions['avg_session_interval'] = user_sessions.start_timestamp.\\\n",
    "                                        apply(lambda x: avg_diff(x, seven_endtime, fourteen_endtime))\n",
    "    user_sessions['avg_session_interval_last_week'] = user_sessions.start_timestamp.\\\n",
    "                                                    apply(lambda x: avg_diff(x, seven_endtime, fourteen_endtime, 1, 0))\n",
    "    user_sessions['avg_session_interval_last_two_week'] = user_sessions.start_timestamp.\\\n",
    "                                                        apply(lambda x: avg_diff(x, seven_endtime, fourteen_endtime, 0, 1))\n",
    "    user_sessions = user_sessions.drop(['user_created_timestamp', 'start_timestamp'], axis=1).reset_index()\n",
    "    \n",
    "    \n",
    "    return user_sessions"
   ]
  },
  {
   "cell_type": "code",
   "execution_count": null,
   "metadata": {},
   "outputs": [],
   "source": []
  },
  {
   "cell_type": "code",
   "execution_count": null,
   "metadata": {},
   "outputs": [],
   "source": []
  },
  {
   "cell_type": "markdown",
   "metadata": {},
   "source": [
    "### features from attributes"
   ]
  },
  {
   "cell_type": "code",
   "execution_count": 93,
   "metadata": {
    "ExecuteTime": {
     "end_time": "2019-03-06T02:43:36.316292Z",
     "start_time": "2019-03-06T02:42:13.145290Z"
    }
   },
   "outputs": [],
   "source": [
    "attr = pd.read_csv('../Data/attr1.csv')"
   ]
  },
  {
   "cell_type": "code",
   "execution_count": 94,
   "metadata": {
    "ExecuteTime": {
     "end_time": "2019-03-06T02:44:08.207281Z",
     "start_time": "2019-03-06T02:43:38.578598Z"
    }
   },
   "outputs": [],
   "source": [
    "attr = attr.groupby(['user_id_hash', 'attribute'])['attribute_value'].max().reset_index()"
   ]
  },
  {
   "cell_type": "code",
   "execution_count": 95,
   "metadata": {
    "ExecuteTime": {
     "end_time": "2019-03-06T02:44:08.658251Z",
     "start_time": "2019-03-06T02:44:08.211949Z"
    }
   },
   "outputs": [],
   "source": [
    "attr = attr[attr['attribute'].isin([1,13,14,15,16])]\n",
    "attr = attr.reset_index(drop=True)"
   ]
  },
  {
   "cell_type": "code",
   "execution_count": 96,
   "metadata": {
    "ExecuteTime": {
     "end_time": "2019-03-06T02:44:08.682306Z",
     "start_time": "2019-03-06T02:44:08.659683Z"
    }
   },
   "outputs": [
    {
     "data": {
      "text/html": [
       "<div>\n",
       "<style scoped>\n",
       "    .dataframe tbody tr th:only-of-type {\n",
       "        vertical-align: middle;\n",
       "    }\n",
       "\n",
       "    .dataframe tbody tr th {\n",
       "        vertical-align: top;\n",
       "    }\n",
       "\n",
       "    .dataframe thead th {\n",
       "        text-align: right;\n",
       "    }\n",
       "</style>\n",
       "<table border=\"1\" class=\"dataframe\">\n",
       "  <thead>\n",
       "    <tr style=\"text-align: right;\">\n",
       "      <th></th>\n",
       "      <th>user_id_hash</th>\n",
       "      <th>attribute</th>\n",
       "      <th>attribute_value</th>\n",
       "    </tr>\n",
       "  </thead>\n",
       "  <tbody>\n",
       "    <tr>\n",
       "      <th>0</th>\n",
       "      <td>00000db35682058bb7916cb90f85709f54c1a0f7a3b6de...</td>\n",
       "      <td>1</td>\n",
       "      <td>144.00</td>\n",
       "    </tr>\n",
       "    <tr>\n",
       "      <th>1</th>\n",
       "      <td>00000db35682058bb7916cb90f85709f54c1a0f7a3b6de...</td>\n",
       "      <td>13</td>\n",
       "      <td>94.60</td>\n",
       "    </tr>\n",
       "    <tr>\n",
       "      <th>2</th>\n",
       "      <td>00000db35682058bb7916cb90f85709f54c1a0f7a3b6de...</td>\n",
       "      <td>14</td>\n",
       "      <td>94.25</td>\n",
       "    </tr>\n",
       "    <tr>\n",
       "      <th>3</th>\n",
       "      <td>00000db35682058bb7916cb90f85709f54c1a0f7a3b6de...</td>\n",
       "      <td>15</td>\n",
       "      <td>33.00</td>\n",
       "    </tr>\n",
       "    <tr>\n",
       "      <th>4</th>\n",
       "      <td>00000db35682058bb7916cb90f85709f54c1a0f7a3b6de...</td>\n",
       "      <td>16</td>\n",
       "      <td>83.00</td>\n",
       "    </tr>\n",
       "  </tbody>\n",
       "</table>\n",
       "</div>"
      ],
      "text/plain": [
       "                                        user_id_hash  attribute  \\\n",
       "0  00000db35682058bb7916cb90f85709f54c1a0f7a3b6de...          1   \n",
       "1  00000db35682058bb7916cb90f85709f54c1a0f7a3b6de...         13   \n",
       "2  00000db35682058bb7916cb90f85709f54c1a0f7a3b6de...         14   \n",
       "3  00000db35682058bb7916cb90f85709f54c1a0f7a3b6de...         15   \n",
       "4  00000db35682058bb7916cb90f85709f54c1a0f7a3b6de...         16   \n",
       "\n",
       "   attribute_value  \n",
       "0           144.00  \n",
       "1            94.60  \n",
       "2            94.25  \n",
       "3            33.00  \n",
       "4            83.00  "
      ]
     },
     "execution_count": 96,
     "metadata": {},
     "output_type": "execute_result"
    }
   ],
   "source": [
    "attr.head()"
   ]
  },
  {
   "cell_type": "code",
   "execution_count": 97,
   "metadata": {
    "ExecuteTime": {
     "end_time": "2019-03-06T02:44:11.050029Z",
     "start_time": "2019-03-06T02:44:08.685516Z"
    }
   },
   "outputs": [],
   "source": [
    "key_attr = attr.pivot(index='user_id_hash', columns='attribute', values='attribute_value').reset_index()"
   ]
  },
  {
   "cell_type": "code",
   "execution_count": 98,
   "metadata": {
    "ExecuteTime": {
     "end_time": "2019-03-06T02:44:11.240937Z",
     "start_time": "2019-03-06T02:44:11.052910Z"
    }
   },
   "outputs": [],
   "source": [
    "key_attr = key_attr.dropna()"
   ]
  },
  {
   "cell_type": "code",
   "execution_count": 99,
   "metadata": {
    "ExecuteTime": {
     "end_time": "2019-03-06T02:44:11.253865Z",
     "start_time": "2019-03-06T02:44:11.242868Z"
    }
   },
   "outputs": [
    {
     "data": {
      "text/html": [
       "<div>\n",
       "<style scoped>\n",
       "    .dataframe tbody tr th:only-of-type {\n",
       "        vertical-align: middle;\n",
       "    }\n",
       "\n",
       "    .dataframe tbody tr th {\n",
       "        vertical-align: top;\n",
       "    }\n",
       "\n",
       "    .dataframe thead th {\n",
       "        text-align: right;\n",
       "    }\n",
       "</style>\n",
       "<table border=\"1\" class=\"dataframe\">\n",
       "  <thead>\n",
       "    <tr style=\"text-align: right;\">\n",
       "      <th>attribute</th>\n",
       "      <th>user_id_hash</th>\n",
       "      <th>1</th>\n",
       "      <th>13</th>\n",
       "      <th>14</th>\n",
       "      <th>15</th>\n",
       "      <th>16</th>\n",
       "    </tr>\n",
       "  </thead>\n",
       "  <tbody>\n",
       "    <tr>\n",
       "      <th>0</th>\n",
       "      <td>00000db35682058bb7916cb90f85709f54c1a0f7a3b6de...</td>\n",
       "      <td>144.0</td>\n",
       "      <td>94.60</td>\n",
       "      <td>94.25</td>\n",
       "      <td>33.0</td>\n",
       "      <td>83.0</td>\n",
       "    </tr>\n",
       "    <tr>\n",
       "      <th>1</th>\n",
       "      <td>000059859ec188af6035870faf885c3038cedda05b3a54...</td>\n",
       "      <td>0.0</td>\n",
       "      <td>1.45</td>\n",
       "      <td>1.39</td>\n",
       "      <td>1.0</td>\n",
       "      <td>3.0</td>\n",
       "    </tr>\n",
       "    <tr>\n",
       "      <th>2</th>\n",
       "      <td>000062e9be78f3da274fec338e78f89d12000e781967f2...</td>\n",
       "      <td>0.0</td>\n",
       "      <td>0.21</td>\n",
       "      <td>0.00</td>\n",
       "      <td>0.0</td>\n",
       "      <td>5.0</td>\n",
       "    </tr>\n",
       "    <tr>\n",
       "      <th>3</th>\n",
       "      <td>00006ad44c0d33a2a526caf75514643639b7b7070dfffd...</td>\n",
       "      <td>0.0</td>\n",
       "      <td>0.08</td>\n",
       "      <td>0.00</td>\n",
       "      <td>0.0</td>\n",
       "      <td>3.0</td>\n",
       "    </tr>\n",
       "    <tr>\n",
       "      <th>4</th>\n",
       "      <td>000081a7d841b0f953bdba6c185fd5cc335fd6015a30c3...</td>\n",
       "      <td>0.0</td>\n",
       "      <td>0.00</td>\n",
       "      <td>0.00</td>\n",
       "      <td>0.0</td>\n",
       "      <td>2.0</td>\n",
       "    </tr>\n",
       "  </tbody>\n",
       "</table>\n",
       "</div>"
      ],
      "text/plain": [
       "attribute                                       user_id_hash      1     13  \\\n",
       "0          00000db35682058bb7916cb90f85709f54c1a0f7a3b6de...  144.0  94.60   \n",
       "1          000059859ec188af6035870faf885c3038cedda05b3a54...    0.0   1.45   \n",
       "2          000062e9be78f3da274fec338e78f89d12000e781967f2...    0.0   0.21   \n",
       "3          00006ad44c0d33a2a526caf75514643639b7b7070dfffd...    0.0   0.08   \n",
       "4          000081a7d841b0f953bdba6c185fd5cc335fd6015a30c3...    0.0   0.00   \n",
       "\n",
       "attribute     14    15    16  \n",
       "0          94.25  33.0  83.0  \n",
       "1           1.39   1.0   3.0  \n",
       "2           0.00   0.0   5.0  \n",
       "3           0.00   0.0   3.0  \n",
       "4           0.00   0.0   2.0  "
      ]
     },
     "execution_count": 99,
     "metadata": {},
     "output_type": "execute_result"
    }
   ],
   "source": [
    "key_attr.head()"
   ]
  },
  {
   "cell_type": "code",
   "execution_count": 100,
   "metadata": {
    "ExecuteTime": {
     "end_time": "2019-03-06T02:44:11.259982Z",
     "start_time": "2019-03-06T02:44:11.256435Z"
    }
   },
   "outputs": [
    {
     "data": {
      "text/plain": [
       "621460"
      ]
     },
     "execution_count": 100,
     "metadata": {},
     "output_type": "execute_result"
    }
   ],
   "source": [
    "len(key_attr)"
   ]
  },
  {
   "cell_type": "code",
   "execution_count": null,
   "metadata": {},
   "outputs": [],
   "source": []
  },
  {
   "cell_type": "code",
   "execution_count": null,
   "metadata": {},
   "outputs": [],
   "source": []
  },
  {
   "cell_type": "markdown",
   "metadata": {},
   "source": [
    "### compute features"
   ]
  },
  {
   "cell_type": "code",
   "execution_count": 101,
   "metadata": {
    "ExecuteTime": {
     "end_time": "2019-03-06T02:44:23.138572Z",
     "start_time": "2019-03-06T02:44:23.125824Z"
    }
   },
   "outputs": [],
   "source": [
    "def compute_features(event_data, session_data, attribute_data):\n",
    "    '''\n",
    "    combine features from sessions and events\n",
    "    '''\n",
    "    \n",
    "    # event_X\n",
    "    event_X = compute_event_features(event_data)\n",
    "    for c in list(event_X.columns)[1:]:\n",
    "        event_X[c] = standardize(event_X[c])\n",
    "    \n",
    "    # session_X\n",
    "    session_X = compute_session_features(session_data)\n",
    "    for c in ['session_count', 'avg_session_duration','elapse_since_last_session',\n",
    "              'since_register', 'avg_session_interval', 'avg_session_interval_last_week', \n",
    "              'avg_session_interval_last_two_week']:\n",
    "        session_X[c] = standardize(session_X[c])\n",
    "    session_X = session_X.drop(['country', 'os_name'], axis=1)\n",
    "    \n",
    "    # attribute X\n",
    "    for c in [1,13,14,15,16]:\n",
    "        attribute_data[c] = standardize(attribute_data[c])\n",
    "\n",
    "    # combine to X\n",
    "    X = event_X.merge(session_X, how='inner', on='user_id_hash').\\\n",
    "                merge(attribute_data, how='inner', on='user_id_hash').reset_index(drop=True)\n",
    "    \n",
    "    \n",
    "    return X"
   ]
  },
  {
   "cell_type": "code",
   "execution_count": null,
   "metadata": {},
   "outputs": [],
   "source": []
  },
  {
   "cell_type": "code",
   "execution_count": null,
   "metadata": {},
   "outputs": [],
   "source": []
  },
  {
   "cell_type": "markdown",
   "metadata": {},
   "source": [
    "## Model (using all training data, without validation)"
   ]
  },
  {
   "cell_type": "markdown",
   "metadata": {},
   "source": [
    "### fit"
   ]
  },
  {
   "cell_type": "code",
   "execution_count": 176,
   "metadata": {
    "ExecuteTime": {
     "end_time": "2019-03-06T06:51:20.579608Z",
     "start_time": "2019-03-06T06:49:49.386076Z"
    }
   },
   "outputs": [
    {
     "data": {
      "text/plain": [
       "78507"
      ]
     },
     "execution_count": 176,
     "metadata": {},
     "output_type": "execute_result"
    }
   ],
   "source": [
    "X_train = compute_features(events_data_train, sessions_data_train, key_attr)\n",
    "y_train = train_label[train_label['user_id_hash'].isin(X_train.user_id_hash)]\n",
    "len(X_train)"
   ]
  },
  {
   "cell_type": "code",
   "execution_count": 177,
   "metadata": {
    "ExecuteTime": {
     "end_time": "2019-03-06T06:51:20.605255Z",
     "start_time": "2019-03-06T06:51:20.581798Z"
    }
   },
   "outputs": [
    {
     "data": {
      "text/html": [
       "<div>\n",
       "<style scoped>\n",
       "    .dataframe tbody tr th:only-of-type {\n",
       "        vertical-align: middle;\n",
       "    }\n",
       "\n",
       "    .dataframe tbody tr th {\n",
       "        vertical-align: top;\n",
       "    }\n",
       "\n",
       "    .dataframe thead th {\n",
       "        text-align: right;\n",
       "    }\n",
       "</style>\n",
       "<table border=\"1\" class=\"dataframe\">\n",
       "  <thead>\n",
       "    <tr style=\"text-align: right;\">\n",
       "      <th></th>\n",
       "      <th>user_id_hash</th>\n",
       "      <th>total_time</th>\n",
       "      <th>total_time_last_week</th>\n",
       "      <th>total_time_last_two_week</th>\n",
       "      <th>avg_session_duration_x</th>\n",
       "      <th>avg_session_duration_last_week</th>\n",
       "      <th>avg_session_duration_last_two_week</th>\n",
       "      <th>avg_event_count</th>\n",
       "      <th>sum_purchase_value</th>\n",
       "      <th>sum_purchase_value_last_week</th>\n",
       "      <th>...</th>\n",
       "      <th>elapse_since_last_session</th>\n",
       "      <th>since_register</th>\n",
       "      <th>avg_session_interval</th>\n",
       "      <th>avg_session_interval_last_week</th>\n",
       "      <th>avg_session_interval_last_two_week</th>\n",
       "      <th>1</th>\n",
       "      <th>13</th>\n",
       "      <th>14</th>\n",
       "      <th>15</th>\n",
       "      <th>16</th>\n",
       "    </tr>\n",
       "  </thead>\n",
       "  <tbody>\n",
       "    <tr>\n",
       "      <th>0</th>\n",
       "      <td>000161848e5ccdcd4d3b0c7be9ec844730c39e6bcbc2a7...</td>\n",
       "      <td>-0.474304</td>\n",
       "      <td>-0.501942</td>\n",
       "      <td>-0.510511</td>\n",
       "      <td>-0.506584</td>\n",
       "      <td>-0.857070</td>\n",
       "      <td>-1.028596</td>\n",
       "      <td>-0.417065</td>\n",
       "      <td>-0.181588</td>\n",
       "      <td>-0.151591</td>\n",
       "      <td>...</td>\n",
       "      <td>1.628828</td>\n",
       "      <td>0.473815</td>\n",
       "      <td>1.894276</td>\n",
       "      <td>1.387222</td>\n",
       "      <td>1.935591</td>\n",
       "      <td>-0.109338</td>\n",
       "      <td>-0.089247</td>\n",
       "      <td>-0.086988</td>\n",
       "      <td>-0.08723</td>\n",
       "      <td>-0.088107</td>\n",
       "    </tr>\n",
       "    <tr>\n",
       "      <th>1</th>\n",
       "      <td>000300fc05df6d06ba1fcfcd4a02720c52933660bf4f75...</td>\n",
       "      <td>-0.475618</td>\n",
       "      <td>-0.448354</td>\n",
       "      <td>-0.478760</td>\n",
       "      <td>-0.567804</td>\n",
       "      <td>-0.157439</td>\n",
       "      <td>-0.317140</td>\n",
       "      <td>-0.248422</td>\n",
       "      <td>-0.181588</td>\n",
       "      <td>-0.151591</td>\n",
       "      <td>...</td>\n",
       "      <td>-0.564394</td>\n",
       "      <td>-1.041206</td>\n",
       "      <td>1.894276</td>\n",
       "      <td>0.402106</td>\n",
       "      <td>0.700381</td>\n",
       "      <td>-0.109338</td>\n",
       "      <td>-0.089247</td>\n",
       "      <td>-0.086988</td>\n",
       "      <td>-0.08723</td>\n",
       "      <td>-0.179133</td>\n",
       "    </tr>\n",
       "    <tr>\n",
       "      <th>2</th>\n",
       "      <td>0004254c12f732e958e157c5e507347944e7ae2b0d9abc...</td>\n",
       "      <td>-0.057613</td>\n",
       "      <td>-0.351231</td>\n",
       "      <td>0.008814</td>\n",
       "      <td>-0.194520</td>\n",
       "      <td>1.110583</td>\n",
       "      <td>0.135064</td>\n",
       "      <td>-0.160977</td>\n",
       "      <td>-0.181588</td>\n",
       "      <td>-0.151591</td>\n",
       "      <td>...</td>\n",
       "      <td>-0.670749</td>\n",
       "      <td>0.015667</td>\n",
       "      <td>-0.566355</td>\n",
       "      <td>0.402106</td>\n",
       "      <td>-0.684758</td>\n",
       "      <td>-0.109338</td>\n",
       "      <td>-0.086385</td>\n",
       "      <td>-0.086988</td>\n",
       "      <td>-0.08723</td>\n",
       "      <td>0.048432</td>\n",
       "    </tr>\n",
       "    <tr>\n",
       "      <th>3</th>\n",
       "      <td>000640d9f785d21ded61bdff159144b25dea23300ae1b8...</td>\n",
       "      <td>1.334042</td>\n",
       "      <td>3.351498</td>\n",
       "      <td>3.088632</td>\n",
       "      <td>-0.009454</td>\n",
       "      <td>0.340782</td>\n",
       "      <td>0.212121</td>\n",
       "      <td>-0.027888</td>\n",
       "      <td>-0.181588</td>\n",
       "      <td>-0.151591</td>\n",
       "      <td>...</td>\n",
       "      <td>-0.694406</td>\n",
       "      <td>-0.186574</td>\n",
       "      <td>-0.607625</td>\n",
       "      <td>-1.039117</td>\n",
       "      <td>-0.818583</td>\n",
       "      <td>-0.109338</td>\n",
       "      <td>-0.037726</td>\n",
       "      <td>-0.086988</td>\n",
       "      <td>-0.08723</td>\n",
       "      <td>0.549073</td>\n",
       "    </tr>\n",
       "    <tr>\n",
       "      <th>4</th>\n",
       "      <td>0006bad9825e391ebb0f047092ad858fcd3ff20d2c96d7...</td>\n",
       "      <td>-0.489303</td>\n",
       "      <td>-0.501942</td>\n",
       "      <td>-0.510511</td>\n",
       "      <td>-1.205538</td>\n",
       "      <td>-0.857070</td>\n",
       "      <td>-1.028596</td>\n",
       "      <td>-1.091638</td>\n",
       "      <td>-0.181588</td>\n",
       "      <td>-0.151591</td>\n",
       "      <td>...</td>\n",
       "      <td>1.821792</td>\n",
       "      <td>0.607111</td>\n",
       "      <td>1.894276</td>\n",
       "      <td>1.387222</td>\n",
       "      <td>1.935591</td>\n",
       "      <td>-0.109338</td>\n",
       "      <td>-0.089247</td>\n",
       "      <td>-0.086988</td>\n",
       "      <td>-0.08723</td>\n",
       "      <td>-0.179133</td>\n",
       "    </tr>\n",
       "  </tbody>\n",
       "</table>\n",
       "<p>5 rows × 29 columns</p>\n",
       "</div>"
      ],
      "text/plain": [
       "                                        user_id_hash  total_time  \\\n",
       "0  000161848e5ccdcd4d3b0c7be9ec844730c39e6bcbc2a7...   -0.474304   \n",
       "1  000300fc05df6d06ba1fcfcd4a02720c52933660bf4f75...   -0.475618   \n",
       "2  0004254c12f732e958e157c5e507347944e7ae2b0d9abc...   -0.057613   \n",
       "3  000640d9f785d21ded61bdff159144b25dea23300ae1b8...    1.334042   \n",
       "4  0006bad9825e391ebb0f047092ad858fcd3ff20d2c96d7...   -0.489303   \n",
       "\n",
       "   total_time_last_week  total_time_last_two_week  avg_session_duration_x  \\\n",
       "0             -0.501942                 -0.510511               -0.506584   \n",
       "1             -0.448354                 -0.478760               -0.567804   \n",
       "2             -0.351231                  0.008814               -0.194520   \n",
       "3              3.351498                  3.088632               -0.009454   \n",
       "4             -0.501942                 -0.510511               -1.205538   \n",
       "\n",
       "   avg_session_duration_last_week  avg_session_duration_last_two_week  \\\n",
       "0                       -0.857070                           -1.028596   \n",
       "1                       -0.157439                           -0.317140   \n",
       "2                        1.110583                            0.135064   \n",
       "3                        0.340782                            0.212121   \n",
       "4                       -0.857070                           -1.028596   \n",
       "\n",
       "   avg_event_count  sum_purchase_value  sum_purchase_value_last_week  ...  \\\n",
       "0        -0.417065           -0.181588                     -0.151591  ...   \n",
       "1        -0.248422           -0.181588                     -0.151591  ...   \n",
       "2        -0.160977           -0.181588                     -0.151591  ...   \n",
       "3        -0.027888           -0.181588                     -0.151591  ...   \n",
       "4        -1.091638           -0.181588                     -0.151591  ...   \n",
       "\n",
       "   elapse_since_last_session  since_register  avg_session_interval  \\\n",
       "0                   1.628828        0.473815              1.894276   \n",
       "1                  -0.564394       -1.041206              1.894276   \n",
       "2                  -0.670749        0.015667             -0.566355   \n",
       "3                  -0.694406       -0.186574             -0.607625   \n",
       "4                   1.821792        0.607111              1.894276   \n",
       "\n",
       "   avg_session_interval_last_week  avg_session_interval_last_two_week  \\\n",
       "0                        1.387222                            1.935591   \n",
       "1                        0.402106                            0.700381   \n",
       "2                        0.402106                           -0.684758   \n",
       "3                       -1.039117                           -0.818583   \n",
       "4                        1.387222                            1.935591   \n",
       "\n",
       "          1        13        14       15        16  \n",
       "0 -0.109338 -0.089247 -0.086988 -0.08723 -0.088107  \n",
       "1 -0.109338 -0.089247 -0.086988 -0.08723 -0.179133  \n",
       "2 -0.109338 -0.086385 -0.086988 -0.08723  0.048432  \n",
       "3 -0.109338 -0.037726 -0.086988 -0.08723  0.549073  \n",
       "4 -0.109338 -0.089247 -0.086988 -0.08723 -0.179133  \n",
       "\n",
       "[5 rows x 29 columns]"
      ]
     },
     "execution_count": 177,
     "metadata": {},
     "output_type": "execute_result"
    }
   ],
   "source": [
    "X_train.head()"
   ]
  },
  {
   "cell_type": "code",
   "execution_count": 178,
   "metadata": {
    "ExecuteTime": {
     "end_time": "2019-03-06T06:51:48.539205Z",
     "start_time": "2019-03-06T06:51:40.356843Z"
    }
   },
   "outputs": [],
   "source": [
    "rf_7 = RandomForestClassifier(n_estimators=100, max_depth =5, max_features = 'sqrt', max_leaf_nodes= 8).\\\n",
    "                    fit(X_train.iloc[:,1:], y_train['user_purchase_binary_7_days'])\n",
    "rf_14 = RandomForestClassifier(n_estimators=100, max_depth =5, max_features = 'sqrt', max_leaf_nodes= 8).\\\n",
    "                    fit(X_train.iloc[:,1:], y_train['user_purchase_binary_14_days'])"
   ]
  },
  {
   "cell_type": "markdown",
   "metadata": {},
   "source": [
    "### validate"
   ]
  },
  {
   "cell_type": "code",
   "execution_count": 179,
   "metadata": {
    "ExecuteTime": {
     "end_time": "2019-03-06T06:55:29.359228Z",
     "start_time": "2019-03-06T06:53:45.027202Z"
    }
   },
   "outputs": [
    {
     "data": {
      "text/plain": [
       "80448"
      ]
     },
     "execution_count": 179,
     "metadata": {},
     "output_type": "execute_result"
    }
   ],
   "source": [
    "X_val = compute_features(events_data_val, sessions_data_val, key_attr)\n",
    "y_val = val_label[val_label['user_id_hash'].isin(X_val.user_id_hash)]\n",
    "len(X_val)"
   ]
  },
  {
   "cell_type": "code",
   "execution_count": 180,
   "metadata": {
    "ExecuteTime": {
     "end_time": "2019-03-06T06:56:00.756589Z",
     "start_time": "2019-03-06T06:56:00.733815Z"
    }
   },
   "outputs": [
    {
     "data": {
      "text/html": [
       "<div>\n",
       "<style scoped>\n",
       "    .dataframe tbody tr th:only-of-type {\n",
       "        vertical-align: middle;\n",
       "    }\n",
       "\n",
       "    .dataframe tbody tr th {\n",
       "        vertical-align: top;\n",
       "    }\n",
       "\n",
       "    .dataframe thead th {\n",
       "        text-align: right;\n",
       "    }\n",
       "</style>\n",
       "<table border=\"1\" class=\"dataframe\">\n",
       "  <thead>\n",
       "    <tr style=\"text-align: right;\">\n",
       "      <th></th>\n",
       "      <th>user_id_hash</th>\n",
       "      <th>total_time</th>\n",
       "      <th>total_time_last_week</th>\n",
       "      <th>total_time_last_two_week</th>\n",
       "      <th>avg_session_duration_x</th>\n",
       "      <th>avg_session_duration_last_week</th>\n",
       "      <th>avg_session_duration_last_two_week</th>\n",
       "      <th>avg_event_count</th>\n",
       "      <th>sum_purchase_value</th>\n",
       "      <th>sum_purchase_value_last_week</th>\n",
       "      <th>...</th>\n",
       "      <th>elapse_since_last_session</th>\n",
       "      <th>since_register</th>\n",
       "      <th>avg_session_interval</th>\n",
       "      <th>avg_session_interval_last_week</th>\n",
       "      <th>avg_session_interval_last_two_week</th>\n",
       "      <th>1</th>\n",
       "      <th>13</th>\n",
       "      <th>14</th>\n",
       "      <th>15</th>\n",
       "      <th>16</th>\n",
       "    </tr>\n",
       "  </thead>\n",
       "  <tbody>\n",
       "    <tr>\n",
       "      <th>0</th>\n",
       "      <td>00000db35682058bb7916cb90f85709f54c1a0f7a3b6de...</td>\n",
       "      <td>-0.044320</td>\n",
       "      <td>-0.493310</td>\n",
       "      <td>-0.513369</td>\n",
       "      <td>0.391311</td>\n",
       "      <td>-0.799658</td>\n",
       "      <td>-0.985584</td>\n",
       "      <td>0.547216</td>\n",
       "      <td>0.938346</td>\n",
       "      <td>-0.153168</td>\n",
       "      <td>...</td>\n",
       "      <td>0.652978</td>\n",
       "      <td>0.122507</td>\n",
       "      <td>-0.564323</td>\n",
       "      <td>1.292713</td>\n",
       "      <td>0.624862</td>\n",
       "      <td>3.240703</td>\n",
       "      <td>3.295367</td>\n",
       "      <td>3.297755</td>\n",
       "      <td>3.68320</td>\n",
       "      <td>3.598436</td>\n",
       "    </tr>\n",
       "    <tr>\n",
       "      <th>1</th>\n",
       "      <td>000081a7d841b0f953bdba6c185fd5cc335fd6015a30c3...</td>\n",
       "      <td>-0.466966</td>\n",
       "      <td>-0.493310</td>\n",
       "      <td>-0.445266</td>\n",
       "      <td>-0.512462</td>\n",
       "      <td>-0.799658</td>\n",
       "      <td>-0.227394</td>\n",
       "      <td>-0.400570</td>\n",
       "      <td>-0.187390</td>\n",
       "      <td>-0.153168</td>\n",
       "      <td>...</td>\n",
       "      <td>-0.011247</td>\n",
       "      <td>-0.643318</td>\n",
       "      <td>-0.542424</td>\n",
       "      <td>1.292713</td>\n",
       "      <td>-0.763052</td>\n",
       "      <td>-0.109338</td>\n",
       "      <td>-0.089247</td>\n",
       "      <td>-0.086988</td>\n",
       "      <td>-0.08723</td>\n",
       "      <td>-0.088107</td>\n",
       "    </tr>\n",
       "    <tr>\n",
       "      <th>2</th>\n",
       "      <td>0000a464ad921c3288e73a3a788b5f113cabf84251a74b...</td>\n",
       "      <td>-0.479360</td>\n",
       "      <td>-0.493310</td>\n",
       "      <td>-0.472821</td>\n",
       "      <td>-0.840742</td>\n",
       "      <td>-0.799658</td>\n",
       "      <td>-0.534162</td>\n",
       "      <td>-0.761442</td>\n",
       "      <td>-0.187390</td>\n",
       "      <td>-0.153168</td>\n",
       "      <td>...</td>\n",
       "      <td>0.078618</td>\n",
       "      <td>-0.606871</td>\n",
       "      <td>-0.515489</td>\n",
       "      <td>1.292713</td>\n",
       "      <td>-0.717481</td>\n",
       "      <td>-0.109338</td>\n",
       "      <td>-0.089247</td>\n",
       "      <td>-0.086988</td>\n",
       "      <td>-0.08723</td>\n",
       "      <td>-0.133620</td>\n",
       "    </tr>\n",
       "    <tr>\n",
       "      <th>3</th>\n",
       "      <td>0000bc4e8bfc829d327fa69bdc426dd8a789c52550ed87...</td>\n",
       "      <td>-0.402113</td>\n",
       "      <td>-0.130549</td>\n",
       "      <td>-0.301081</td>\n",
       "      <td>-0.691542</td>\n",
       "      <td>-0.221758</td>\n",
       "      <td>-0.394739</td>\n",
       "      <td>-0.601826</td>\n",
       "      <td>-0.187390</td>\n",
       "      <td>-0.153168</td>\n",
       "      <td>...</td>\n",
       "      <td>-0.461059</td>\n",
       "      <td>-0.855167</td>\n",
       "      <td>-0.572778</td>\n",
       "      <td>-1.041170</td>\n",
       "      <td>-0.814407</td>\n",
       "      <td>-0.109338</td>\n",
       "      <td>-0.089247</td>\n",
       "      <td>-0.086988</td>\n",
       "      <td>-0.08723</td>\n",
       "      <td>-0.088107</td>\n",
       "    </tr>\n",
       "    <tr>\n",
       "      <th>4</th>\n",
       "      <td>00020102f66f89759868c843ae9fe634870f132f9e3d79...</td>\n",
       "      <td>-0.491469</td>\n",
       "      <td>-0.470024</td>\n",
       "      <td>-0.499742</td>\n",
       "      <td>-0.999126</td>\n",
       "      <td>-0.502888</td>\n",
       "      <td>-0.682167</td>\n",
       "      <td>-0.678164</td>\n",
       "      <td>-0.187390</td>\n",
       "      <td>-0.153168</td>\n",
       "      <td>...</td>\n",
       "      <td>-0.708969</td>\n",
       "      <td>-1.130028</td>\n",
       "      <td>2.033552</td>\n",
       "      <td>0.329392</td>\n",
       "      <td>0.624862</td>\n",
       "      <td>-0.109338</td>\n",
       "      <td>-0.089247</td>\n",
       "      <td>-0.086988</td>\n",
       "      <td>-0.08723</td>\n",
       "      <td>-0.179133</td>\n",
       "    </tr>\n",
       "  </tbody>\n",
       "</table>\n",
       "<p>5 rows × 29 columns</p>\n",
       "</div>"
      ],
      "text/plain": [
       "                                        user_id_hash  total_time  \\\n",
       "0  00000db35682058bb7916cb90f85709f54c1a0f7a3b6de...   -0.044320   \n",
       "1  000081a7d841b0f953bdba6c185fd5cc335fd6015a30c3...   -0.466966   \n",
       "2  0000a464ad921c3288e73a3a788b5f113cabf84251a74b...   -0.479360   \n",
       "3  0000bc4e8bfc829d327fa69bdc426dd8a789c52550ed87...   -0.402113   \n",
       "4  00020102f66f89759868c843ae9fe634870f132f9e3d79...   -0.491469   \n",
       "\n",
       "   total_time_last_week  total_time_last_two_week  avg_session_duration_x  \\\n",
       "0             -0.493310                 -0.513369                0.391311   \n",
       "1             -0.493310                 -0.445266               -0.512462   \n",
       "2             -0.493310                 -0.472821               -0.840742   \n",
       "3             -0.130549                 -0.301081               -0.691542   \n",
       "4             -0.470024                 -0.499742               -0.999126   \n",
       "\n",
       "   avg_session_duration_last_week  avg_session_duration_last_two_week  \\\n",
       "0                       -0.799658                           -0.985584   \n",
       "1                       -0.799658                           -0.227394   \n",
       "2                       -0.799658                           -0.534162   \n",
       "3                       -0.221758                           -0.394739   \n",
       "4                       -0.502888                           -0.682167   \n",
       "\n",
       "   avg_event_count  sum_purchase_value  sum_purchase_value_last_week  ...  \\\n",
       "0         0.547216            0.938346                     -0.153168  ...   \n",
       "1        -0.400570           -0.187390                     -0.153168  ...   \n",
       "2        -0.761442           -0.187390                     -0.153168  ...   \n",
       "3        -0.601826           -0.187390                     -0.153168  ...   \n",
       "4        -0.678164           -0.187390                     -0.153168  ...   \n",
       "\n",
       "   elapse_since_last_session  since_register  avg_session_interval  \\\n",
       "0                   0.652978        0.122507             -0.564323   \n",
       "1                  -0.011247       -0.643318             -0.542424   \n",
       "2                   0.078618       -0.606871             -0.515489   \n",
       "3                  -0.461059       -0.855167             -0.572778   \n",
       "4                  -0.708969       -1.130028              2.033552   \n",
       "\n",
       "   avg_session_interval_last_week  avg_session_interval_last_two_week  \\\n",
       "0                        1.292713                            0.624862   \n",
       "1                        1.292713                           -0.763052   \n",
       "2                        1.292713                           -0.717481   \n",
       "3                       -1.041170                           -0.814407   \n",
       "4                        0.329392                            0.624862   \n",
       "\n",
       "          1        13        14       15        16  \n",
       "0  3.240703  3.295367  3.297755  3.68320  3.598436  \n",
       "1 -0.109338 -0.089247 -0.086988 -0.08723 -0.088107  \n",
       "2 -0.109338 -0.089247 -0.086988 -0.08723 -0.133620  \n",
       "3 -0.109338 -0.089247 -0.086988 -0.08723 -0.088107  \n",
       "4 -0.109338 -0.089247 -0.086988 -0.08723 -0.179133  \n",
       "\n",
       "[5 rows x 29 columns]"
      ]
     },
     "execution_count": 180,
     "metadata": {},
     "output_type": "execute_result"
    }
   ],
   "source": [
    "X_val.head()"
   ]
  },
  {
   "cell_type": "code",
   "execution_count": 182,
   "metadata": {
    "ExecuteTime": {
     "end_time": "2019-03-06T06:56:54.919738Z",
     "start_time": "2019-03-06T06:56:54.911063Z"
    }
   },
   "outputs": [
    {
     "data": {
      "text/html": [
       "<div>\n",
       "<style scoped>\n",
       "    .dataframe tbody tr th:only-of-type {\n",
       "        vertical-align: middle;\n",
       "    }\n",
       "\n",
       "    .dataframe tbody tr th {\n",
       "        vertical-align: top;\n",
       "    }\n",
       "\n",
       "    .dataframe thead th {\n",
       "        text-align: right;\n",
       "    }\n",
       "</style>\n",
       "<table border=\"1\" class=\"dataframe\">\n",
       "  <thead>\n",
       "    <tr style=\"text-align: right;\">\n",
       "      <th></th>\n",
       "      <th>user_id_hash</th>\n",
       "      <th>user_purchase_binary_14_days</th>\n",
       "      <th>user_purchase_binary_7_days</th>\n",
       "    </tr>\n",
       "  </thead>\n",
       "  <tbody>\n",
       "    <tr>\n",
       "      <th>0</th>\n",
       "      <td>00000db35682058bb7916cb90f85709f54c1a0f7a3b6de...</td>\n",
       "      <td>0</td>\n",
       "      <td>0.0</td>\n",
       "    </tr>\n",
       "    <tr>\n",
       "      <th>1</th>\n",
       "      <td>000081a7d841b0f953bdba6c185fd5cc335fd6015a30c3...</td>\n",
       "      <td>0</td>\n",
       "      <td>0.0</td>\n",
       "    </tr>\n",
       "    <tr>\n",
       "      <th>2</th>\n",
       "      <td>0000a464ad921c3288e73a3a788b5f113cabf84251a74b...</td>\n",
       "      <td>0</td>\n",
       "      <td>0.0</td>\n",
       "    </tr>\n",
       "    <tr>\n",
       "      <th>3</th>\n",
       "      <td>0000bc4e8bfc829d327fa69bdc426dd8a789c52550ed87...</td>\n",
       "      <td>0</td>\n",
       "      <td>0.0</td>\n",
       "    </tr>\n",
       "    <tr>\n",
       "      <th>4</th>\n",
       "      <td>00020102f66f89759868c843ae9fe634870f132f9e3d79...</td>\n",
       "      <td>0</td>\n",
       "      <td>0.0</td>\n",
       "    </tr>\n",
       "  </tbody>\n",
       "</table>\n",
       "</div>"
      ],
      "text/plain": [
       "                                        user_id_hash  \\\n",
       "0  00000db35682058bb7916cb90f85709f54c1a0f7a3b6de...   \n",
       "1  000081a7d841b0f953bdba6c185fd5cc335fd6015a30c3...   \n",
       "2  0000a464ad921c3288e73a3a788b5f113cabf84251a74b...   \n",
       "3  0000bc4e8bfc829d327fa69bdc426dd8a789c52550ed87...   \n",
       "4  00020102f66f89759868c843ae9fe634870f132f9e3d79...   \n",
       "\n",
       "   user_purchase_binary_14_days  user_purchase_binary_7_days  \n",
       "0                             0                          0.0  \n",
       "1                             0                          0.0  \n",
       "2                             0                          0.0  \n",
       "3                             0                          0.0  \n",
       "4                             0                          0.0  "
      ]
     },
     "execution_count": 182,
     "metadata": {},
     "output_type": "execute_result"
    }
   ],
   "source": [
    "y_val.head()"
   ]
  },
  {
   "cell_type": "code",
   "execution_count": 183,
   "metadata": {
    "ExecuteTime": {
     "end_time": "2019-03-06T06:59:56.300969Z",
     "start_time": "2019-03-06T06:59:55.832522Z"
    }
   },
   "outputs": [
    {
     "data": {
      "image/png": "[encoded data removed]",
      "text/plain": [
       "<Figure size 360x360 with 1 Axes>"
      ]
     },
     "metadata": {
      "needs_background": "light"
     },
     "output_type": "display_data"
    }
   ],
   "source": [
    "# Plot ROC in one graph\n",
    "y_hat_7 = rf_7.predict_proba(X_val.iloc[:,1:])[:,1]\n",
    "fpr_rf, tpr_rf, _rf = roc_curve(y_val['user_purchase_binary_7_days'], y_hat_7)\n",
    "roc_rf_auc = auc(fpr_rf, tpr_rf)\n",
    "\n",
    "plt.figure(figsize=(5, 5))\n",
    "plt.plot(fpr_rf, tpr_rf, label='RF ROC curve (area = %0.2f)' % roc_rf_auc)\n",
    "plt.plot([0, 1], [0, 1], 'k--')\n",
    "plt.xlim([0.0, 1.0])\n",
    "plt.ylim([0.0, 1.005])\n",
    "plt.xlabel('False Positive Rate')\n",
    "plt.ylabel('True Positive Rate')\n",
    "plt.title('Receiver operating characteristic for next 7 days model ')\n",
    "plt.legend(loc=\"lower right\")\n",
    "plt.show()"
   ]
  },
  {
   "cell_type": "code",
   "execution_count": 184,
   "metadata": {
    "ExecuteTime": {
     "end_time": "2019-03-06T07:00:28.592080Z",
     "start_time": "2019-03-06T07:00:28.200161Z"
    }
   },
   "outputs": [
    {
     "data": {
      "image/png": "[encoded data removed]",
      "text/plain": [
       "<Figure size 360x360 with 1 Axes>"
      ]
     },
     "metadata": {
      "needs_background": "light"
     },
     "output_type": "display_data"
    }
   ],
   "source": [
    "# Plot ROC in one graph\n",
    "y_hat_14 = rf_14.predict_proba(X_val.iloc[:,1:])[:,1]\n",
    "fpr_rf, tpr_rf, _rf = roc_curve(y_val['user_purchase_binary_14_days'], y_hat_14)\n",
    "roc_rf_auc = auc(fpr_rf, tpr_rf)\n",
    "\n",
    "plt.figure(figsize=(5, 5))\n",
    "plt.plot(fpr_rf, tpr_rf, label='RF ROC curve (area = %0.2f)' % roc_rf_auc)\n",
    "plt.plot([0, 1], [0, 1], 'k--')\n",
    "plt.xlim([0.0, 1.0])\n",
    "plt.ylim([0.0, 1.005])\n",
    "plt.xlabel('False Positive Rate')\n",
    "plt.ylabel('True Positive Rate')\n",
    "plt.title('Receiver operating characteristic for next 14 days model ')\n",
    "plt.legend(loc=\"lower right\")\n",
    "plt.show()"
   ]
  },
  {
   "cell_type": "code",
   "execution_count": 207,
   "metadata": {
    "ExecuteTime": {
     "end_time": "2019-03-06T07:15:17.976435Z",
     "start_time": "2019-03-06T07:15:17.747797Z"
    }
   },
   "outputs": [
    {
     "name": "stdout",
     "output_type": "stream",
     "text": [
      "             Feature importance of Random Forest Model (7 days)\n"
     ]
    },
    {
     "data": {
      "image/png": "[encoded data removed]",
      "text/plain": [
       "<Figure size 360x360 with 1 Axes>"
      ]
     },
     "metadata": {},
     "output_type": "display_data"
    }
   ],
   "source": [
    "# Check feature importance and display in bar plot.\n",
    "\n",
    "print('             Feature importance of Random Forest Model (7 days)')\n",
    "plt.style.use('ggplot')\n",
    "fig = plt.figure(figsize=(5, 5))\n",
    "feat_importances = pd.Series(rf_7.feature_importances_, index=X_train.columns[1:])\n",
    "feat_importances.nlargest(15).plot(kind='barh', alpha=0.7)\n",
    "plt.show()"
   ]
  },
  {
   "cell_type": "code",
   "execution_count": 206,
   "metadata": {
    "ExecuteTime": {
     "end_time": "2019-03-06T07:14:44.066125Z",
     "start_time": "2019-03-06T07:14:43.849468Z"
    }
   },
   "outputs": [
    {
     "name": "stdout",
     "output_type": "stream",
     "text": [
      "             Feature importance of Random Forest Model (14 days)\n"
     ]
    },
    {
     "data": {
      "image/png": "[encoded data removed]",
      "text/plain": [
       "<Figure size 360x360 with 1 Axes>"
      ]
     },
     "metadata": {},
     "output_type": "display_data"
    }
   ],
   "source": [
    "# Check feature importance and display in bar plot.\n",
    "\n",
    "print('             Feature importance of Random Forest Model (14 days)')\n",
    "plt.style.use('ggplot')\n",
    "fig = plt.figure(figsize=(5, 5))\n",
    "feat_importances = pd.Series(rf_14.feature_importances_, index=X_train.columns[1:])\n",
    "feat_importances.nlargest(15).plot(kind='barh', alpha=0.7)\n",
    "plt.show()"
   ]
  },
  {
   "cell_type": "markdown",
   "metadata": {},
   "source": [
    "### predict"
   ]
  },
  {
   "cell_type": "code",
   "execution_count": 185,
   "metadata": {
    "ExecuteTime": {
     "end_time": "2019-03-06T07:01:18.082566Z",
     "start_time": "2019-03-06T07:01:17.706247Z"
    }
   },
   "outputs": [],
   "source": [
    "submission = pd.read_csv('../Data/sample_submission_2.csv')"
   ]
  },
  {
   "cell_type": "code",
   "execution_count": 186,
   "metadata": {
    "ExecuteTime": {
     "end_time": "2019-03-06T07:02:00.305278Z",
     "start_time": "2019-03-06T07:01:18.084986Z"
    }
   },
   "outputs": [],
   "source": [
    "events_pred = get_training_data(events, submission)\n",
    "sessions_pred = get_training_data(sessions, submission)"
   ]
  },
  {
   "cell_type": "code",
   "execution_count": 187,
   "metadata": {
    "ExecuteTime": {
     "end_time": "2019-03-06T07:05:24.977535Z",
     "start_time": "2019-03-06T07:02:00.326150Z"
    }
   },
   "outputs": [],
   "source": [
    "X_pred = compute_features(events_pred, sessions_pred, key_attr)"
   ]
  },
  {
   "cell_type": "code",
   "execution_count": 188,
   "metadata": {
    "ExecuteTime": {
     "end_time": "2019-03-06T07:05:25.005474Z",
     "start_time": "2019-03-06T07:05:24.980990Z"
    }
   },
   "outputs": [
    {
     "data": {
      "text/html": [
       "<div>\n",
       "<style scoped>\n",
       "    .dataframe tbody tr th:only-of-type {\n",
       "        vertical-align: middle;\n",
       "    }\n",
       "\n",
       "    .dataframe tbody tr th {\n",
       "        vertical-align: top;\n",
       "    }\n",
       "\n",
       "    .dataframe thead th {\n",
       "        text-align: right;\n",
       "    }\n",
       "</style>\n",
       "<table border=\"1\" class=\"dataframe\">\n",
       "  <thead>\n",
       "    <tr style=\"text-align: right;\">\n",
       "      <th></th>\n",
       "      <th>user_id_hash</th>\n",
       "      <th>total_time</th>\n",
       "      <th>total_time_last_week</th>\n",
       "      <th>total_time_last_two_week</th>\n",
       "      <th>avg_session_duration_x</th>\n",
       "      <th>avg_session_duration_last_week</th>\n",
       "      <th>avg_session_duration_last_two_week</th>\n",
       "      <th>avg_event_count</th>\n",
       "      <th>sum_purchase_value</th>\n",
       "      <th>sum_purchase_value_last_week</th>\n",
       "      <th>...</th>\n",
       "      <th>elapse_since_last_session</th>\n",
       "      <th>since_register</th>\n",
       "      <th>avg_session_interval</th>\n",
       "      <th>avg_session_interval_last_week</th>\n",
       "      <th>avg_session_interval_last_two_week</th>\n",
       "      <th>1</th>\n",
       "      <th>13</th>\n",
       "      <th>14</th>\n",
       "      <th>15</th>\n",
       "      <th>16</th>\n",
       "    </tr>\n",
       "  </thead>\n",
       "  <tbody>\n",
       "    <tr>\n",
       "      <th>0</th>\n",
       "      <td>00000db35682058bb7916cb90f85709f54c1a0f7a3b6de...</td>\n",
       "      <td>0.441477</td>\n",
       "      <td>0.219348</td>\n",
       "      <td>0.030461</td>\n",
       "      <td>0.924145</td>\n",
       "      <td>4.518048</td>\n",
       "      <td>3.654081</td>\n",
       "      <td>1.283193</td>\n",
       "      <td>1.552283</td>\n",
       "      <td>-0.053125</td>\n",
       "      <td>...</td>\n",
       "      <td>-1.892289</td>\n",
       "      <td>-0.564582</td>\n",
       "      <td>-0.892446</td>\n",
       "      <td>-1.842897</td>\n",
       "      <td>-1.484856</td>\n",
       "      <td>3.240703</td>\n",
       "      <td>3.295367</td>\n",
       "      <td>3.297755</td>\n",
       "      <td>3.683200</td>\n",
       "      <td>3.598436</td>\n",
       "    </tr>\n",
       "    <tr>\n",
       "      <th>1</th>\n",
       "      <td>000059859ec188af6035870faf885c3038cedda05b3a54...</td>\n",
       "      <td>-0.053697</td>\n",
       "      <td>-0.122268</td>\n",
       "      <td>-0.143104</td>\n",
       "      <td>-0.073329</td>\n",
       "      <td>-0.187696</td>\n",
       "      <td>-0.234003</td>\n",
       "      <td>0.452875</td>\n",
       "      <td>-0.019483</td>\n",
       "      <td>-0.053125</td>\n",
       "      <td>...</td>\n",
       "      <td>-0.927795</td>\n",
       "      <td>-1.297924</td>\n",
       "      <td>-1.001589</td>\n",
       "      <td>0.250443</td>\n",
       "      <td>0.326989</td>\n",
       "      <td>-0.109338</td>\n",
       "      <td>-0.037368</td>\n",
       "      <td>-0.037070</td>\n",
       "      <td>0.027026</td>\n",
       "      <td>-0.042594</td>\n",
       "    </tr>\n",
       "    <tr>\n",
       "      <th>2</th>\n",
       "      <td>000081a7d841b0f953bdba6c185fd5cc335fd6015a30c3...</td>\n",
       "      <td>-0.256374</td>\n",
       "      <td>-0.122268</td>\n",
       "      <td>-0.143104</td>\n",
       "      <td>-0.333810</td>\n",
       "      <td>-0.187696</td>\n",
       "      <td>-0.234003</td>\n",
       "      <td>-0.344722</td>\n",
       "      <td>-0.120609</td>\n",
       "      <td>-0.053125</td>\n",
       "      <td>...</td>\n",
       "      <td>-0.892998</td>\n",
       "      <td>-1.301366</td>\n",
       "      <td>-0.972964</td>\n",
       "      <td>0.250443</td>\n",
       "      <td>0.326989</td>\n",
       "      <td>-0.109338</td>\n",
       "      <td>-0.089247</td>\n",
       "      <td>-0.086988</td>\n",
       "      <td>-0.087230</td>\n",
       "      <td>-0.088107</td>\n",
       "    </tr>\n",
       "    <tr>\n",
       "      <th>3</th>\n",
       "      <td>0000bc4e8bfc829d327fa69bdc426dd8a789c52550ed87...</td>\n",
       "      <td>-0.156948</td>\n",
       "      <td>-0.122268</td>\n",
       "      <td>-0.143104</td>\n",
       "      <td>-0.311196</td>\n",
       "      <td>-0.187696</td>\n",
       "      <td>-0.234003</td>\n",
       "      <td>-0.297002</td>\n",
       "      <td>-0.120609</td>\n",
       "      <td>-0.053125</td>\n",
       "      <td>...</td>\n",
       "      <td>-1.120403</td>\n",
       "      <td>-1.505182</td>\n",
       "      <td>-0.997060</td>\n",
       "      <td>0.250443</td>\n",
       "      <td>0.326989</td>\n",
       "      <td>-0.109338</td>\n",
       "      <td>-0.089247</td>\n",
       "      <td>-0.086988</td>\n",
       "      <td>-0.087230</td>\n",
       "      <td>-0.088107</td>\n",
       "    </tr>\n",
       "    <tr>\n",
       "      <th>4</th>\n",
       "      <td>0000c5de50d243cc39f6ac4268d7511705585ca3f2a20f...</td>\n",
       "      <td>-0.240051</td>\n",
       "      <td>-0.122268</td>\n",
       "      <td>-0.143104</td>\n",
       "      <td>-0.132510</td>\n",
       "      <td>-0.187696</td>\n",
       "      <td>-0.234003</td>\n",
       "      <td>0.146107</td>\n",
       "      <td>-0.120609</td>\n",
       "      <td>-0.053125</td>\n",
       "      <td>...</td>\n",
       "      <td>-0.025502</td>\n",
       "      <td>0.114124</td>\n",
       "      <td>-0.672629</td>\n",
       "      <td>0.250443</td>\n",
       "      <td>0.326989</td>\n",
       "      <td>-0.109338</td>\n",
       "      <td>-0.089247</td>\n",
       "      <td>-0.086988</td>\n",
       "      <td>-0.087230</td>\n",
       "      <td>-0.088107</td>\n",
       "    </tr>\n",
       "  </tbody>\n",
       "</table>\n",
       "<p>5 rows × 29 columns</p>\n",
       "</div>"
      ],
      "text/plain": [
       "                                        user_id_hash  total_time  \\\n",
       "0  00000db35682058bb7916cb90f85709f54c1a0f7a3b6de...    0.441477   \n",
       "1  000059859ec188af6035870faf885c3038cedda05b3a54...   -0.053697   \n",
       "2  000081a7d841b0f953bdba6c185fd5cc335fd6015a30c3...   -0.256374   \n",
       "3  0000bc4e8bfc829d327fa69bdc426dd8a789c52550ed87...   -0.156948   \n",
       "4  0000c5de50d243cc39f6ac4268d7511705585ca3f2a20f...   -0.240051   \n",
       "\n",
       "   total_time_last_week  total_time_last_two_week  avg_session_duration_x  \\\n",
       "0              0.219348                  0.030461                0.924145   \n",
       "1             -0.122268                 -0.143104               -0.073329   \n",
       "2             -0.122268                 -0.143104               -0.333810   \n",
       "3             -0.122268                 -0.143104               -0.311196   \n",
       "4             -0.122268                 -0.143104               -0.132510   \n",
       "\n",
       "   avg_session_duration_last_week  avg_session_duration_last_two_week  \\\n",
       "0                        4.518048                            3.654081   \n",
       "1                       -0.187696                           -0.234003   \n",
       "2                       -0.187696                           -0.234003   \n",
       "3                       -0.187696                           -0.234003   \n",
       "4                       -0.187696                           -0.234003   \n",
       "\n",
       "   avg_event_count  sum_purchase_value  sum_purchase_value_last_week  ...  \\\n",
       "0         1.283193            1.552283                     -0.053125  ...   \n",
       "1         0.452875           -0.019483                     -0.053125  ...   \n",
       "2        -0.344722           -0.120609                     -0.053125  ...   \n",
       "3        -0.297002           -0.120609                     -0.053125  ...   \n",
       "4         0.146107           -0.120609                     -0.053125  ...   \n",
       "\n",
       "   elapse_since_last_session  since_register  avg_session_interval  \\\n",
       "0                  -1.892289       -0.564582             -0.892446   \n",
       "1                  -0.927795       -1.297924             -1.001589   \n",
       "2                  -0.892998       -1.301366             -0.972964   \n",
       "3                  -1.120403       -1.505182             -0.997060   \n",
       "4                  -0.025502        0.114124             -0.672629   \n",
       "\n",
       "   avg_session_interval_last_week  avg_session_interval_last_two_week  \\\n",
       "0                       -1.842897                           -1.484856   \n",
       "1                        0.250443                            0.326989   \n",
       "2                        0.250443                            0.326989   \n",
       "3                        0.250443                            0.326989   \n",
       "4                        0.250443                            0.326989   \n",
       "\n",
       "          1        13        14        15        16  \n",
       "0  3.240703  3.295367  3.297755  3.683200  3.598436  \n",
       "1 -0.109338 -0.037368 -0.037070  0.027026 -0.042594  \n",
       "2 -0.109338 -0.089247 -0.086988 -0.087230 -0.088107  \n",
       "3 -0.109338 -0.089247 -0.086988 -0.087230 -0.088107  \n",
       "4 -0.109338 -0.089247 -0.086988 -0.087230 -0.088107  \n",
       "\n",
       "[5 rows x 29 columns]"
      ]
     },
     "execution_count": 188,
     "metadata": {},
     "output_type": "execute_result"
    }
   ],
   "source": [
    "X_pred.head()"
   ]
  },
  {
   "cell_type": "code",
   "execution_count": 189,
   "metadata": {
    "ExecuteTime": {
     "end_time": "2019-03-06T07:05:27.068899Z",
     "start_time": "2019-03-06T07:05:25.007319Z"
    }
   },
   "outputs": [],
   "source": [
    "X_pred['pred_7'] = rf_7.predict_proba(X_pred.iloc[:,1:])[:,1]\n",
    "X_pred['pred_14'] = rf_14.predict_proba(X_pred.iloc[:,1:-1])[:,1]"
   ]
  },
  {
   "cell_type": "code",
   "execution_count": 190,
   "metadata": {
    "ExecuteTime": {
     "end_time": "2019-03-06T07:05:27.187106Z",
     "start_time": "2019-03-06T07:05:27.070673Z"
    }
   },
   "outputs": [],
   "source": [
    "pred_7 = X_pred[['user_id_hash','pred_7']]\n",
    "pred_14 = X_pred[['user_id_hash','pred_14']]"
   ]
  },
  {
   "cell_type": "code",
   "execution_count": 191,
   "metadata": {
    "ExecuteTime": {
     "end_time": "2019-03-06T07:05:27.842591Z",
     "start_time": "2019-03-06T07:05:27.189186Z"
    }
   },
   "outputs": [],
   "source": [
    "submit = submission.copy()\n",
    "submit = submit.merge(pred_7, how='left', on='user_id_hash').merge(pred_14, how='left', on='user_id_hash').fillna(0)"
   ]
  },
  {
   "cell_type": "code",
   "execution_count": 192,
   "metadata": {
    "ExecuteTime": {
     "end_time": "2019-03-06T07:05:27.857680Z",
     "start_time": "2019-03-06T07:05:27.844622Z"
    }
   },
   "outputs": [],
   "source": [
    "submit = submit.drop(['user_purchase_binary_7_days', 'user_purchase_binary_14_days'],axis=1)"
   ]
  },
  {
   "cell_type": "code",
   "execution_count": 193,
   "metadata": {
    "ExecuteTime": {
     "end_time": "2019-03-06T07:05:27.880122Z",
     "start_time": "2019-03-06T07:05:27.860822Z"
    }
   },
   "outputs": [],
   "source": [
    "submit = submit.rename(columns={'pred_7':'user_purchase_binary_7_days', 'pred_14':'user_purchase_binary_14_days'})"
   ]
  },
  {
   "cell_type": "code",
   "execution_count": 194,
   "metadata": {
    "ExecuteTime": {
     "end_time": "2019-03-06T07:05:27.890800Z",
     "start_time": "2019-03-06T07:05:27.882064Z"
    }
   },
   "outputs": [
    {
     "data": {
      "text/html": [
       "<div>\n",
       "<style scoped>\n",
       "    .dataframe tbody tr th:only-of-type {\n",
       "        vertical-align: middle;\n",
       "    }\n",
       "\n",
       "    .dataframe tbody tr th {\n",
       "        vertical-align: top;\n",
       "    }\n",
       "\n",
       "    .dataframe thead th {\n",
       "        text-align: right;\n",
       "    }\n",
       "</style>\n",
       "<table border=\"1\" class=\"dataframe\">\n",
       "  <thead>\n",
       "    <tr style=\"text-align: right;\">\n",
       "      <th></th>\n",
       "      <th>user_id_hash</th>\n",
       "      <th>user_purchase_binary_7_days</th>\n",
       "      <th>user_purchase_binary_14_days</th>\n",
       "    </tr>\n",
       "  </thead>\n",
       "  <tbody>\n",
       "    <tr>\n",
       "      <th>0</th>\n",
       "      <td>e469dfaed039ead9110165d9bc457acb11609ca34057dc...</td>\n",
       "      <td>0.017246</td>\n",
       "      <td>0.040978</td>\n",
       "    </tr>\n",
       "    <tr>\n",
       "      <th>1</th>\n",
       "      <td>afcc639a324b6c598ef83d360450afa011cb2dd1358bf9...</td>\n",
       "      <td>0.261977</td>\n",
       "      <td>0.265889</td>\n",
       "    </tr>\n",
       "    <tr>\n",
       "      <th>2</th>\n",
       "      <td>fd5a7cf211d08e3e00f7be6a9df6e6ea3d2e5c22a5d9c3...</td>\n",
       "      <td>0.017246</td>\n",
       "      <td>0.040978</td>\n",
       "    </tr>\n",
       "    <tr>\n",
       "      <th>3</th>\n",
       "      <td>00bfff98b9d0329f014c2eeac7ce47cd18b2bc6e10d608...</td>\n",
       "      <td>0.017246</td>\n",
       "      <td>0.041251</td>\n",
       "    </tr>\n",
       "    <tr>\n",
       "      <th>4</th>\n",
       "      <td>0d298f3638c43e915c119d4935e1ce8d168f81b5e3e8c1...</td>\n",
       "      <td>0.017246</td>\n",
       "      <td>0.040978</td>\n",
       "    </tr>\n",
       "  </tbody>\n",
       "</table>\n",
       "</div>"
      ],
      "text/plain": [
       "                                        user_id_hash  \\\n",
       "0  e469dfaed039ead9110165d9bc457acb11609ca34057dc...   \n",
       "1  afcc639a324b6c598ef83d360450afa011cb2dd1358bf9...   \n",
       "2  fd5a7cf211d08e3e00f7be6a9df6e6ea3d2e5c22a5d9c3...   \n",
       "3  00bfff98b9d0329f014c2eeac7ce47cd18b2bc6e10d608...   \n",
       "4  0d298f3638c43e915c119d4935e1ce8d168f81b5e3e8c1...   \n",
       "\n",
       "   user_purchase_binary_7_days  user_purchase_binary_14_days  \n",
       "0                     0.017246                      0.040978  \n",
       "1                     0.261977                      0.265889  \n",
       "2                     0.017246                      0.040978  \n",
       "3                     0.017246                      0.041251  \n",
       "4                     0.017246                      0.040978  "
      ]
     },
     "execution_count": 194,
     "metadata": {},
     "output_type": "execute_result"
    }
   ],
   "source": [
    "submit.head()"
   ]
  },
  {
   "cell_type": "code",
   "execution_count": 195,
   "metadata": {
    "ExecuteTime": {
     "end_time": "2019-03-06T07:05:29.239149Z",
     "start_time": "2019-03-06T07:05:27.892448Z"
    }
   },
   "outputs": [],
   "source": [
    "submit.to_csv('submit/add_attr_2.csv', index=False)"
   ]
  },
  {
   "cell_type": "code",
   "execution_count": 196,
   "metadata": {
    "ExecuteTime": {
     "end_time": "2019-03-06T07:05:29.243338Z",
     "start_time": "2019-03-06T07:05:29.240613Z"
    }
   },
   "outputs": [
    {
     "data": {
      "text/plain": [
       "312568"
      ]
     },
     "execution_count": 196,
     "metadata": {},
     "output_type": "execute_result"
    }
   ],
   "source": [
    "len(submit)"
   ]
  },
  {
   "cell_type": "code",
   "execution_count": null,
   "metadata": {},
   "outputs": [],
   "source": []
  },
  {
   "cell_type": "code",
   "execution_count": null,
   "metadata": {},
   "outputs": [],
   "source": []
  }
 ],
 "metadata": {
  "anaconda-cloud": {},
  "kernelspec": {
   "display_name": "Python 3",
   "language": "python",
   "name": "python3"
  },
  "language_info": {
   "codemirror_mode": {
    "name": "ipython",
    "version": 3
   },
   "file_extension": ".py",
   "mimetype": "text/x-python",
   "name": "python",
   "nbconvert_exporter": "python",
   "pygments_lexer": "ipython3",
   "version": "3.6.7"
  }
 },
 "nbformat": 4,
 "nbformat_minor": 1
}
