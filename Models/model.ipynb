{
 "cells": [
  {
   "cell_type": "code",
   "execution_count": 46,
   "metadata": {},
   "outputs": [],
   "source": [
    "import boto3\n",
    "import pandas as pd\n",
    "import numpy as np\n",
    "from sklearn.metrics import roc_curve, auc\n",
    "import sys\n",
    "# data visualization package\n",
    "import matplotlib.pyplot as plt\n",
    "\n",
    "# ignore the warning\n",
    "import warnings\n",
    "# for evaluation metric\n",
    "# accuracy\n",
    "from sklearn.metrics import accuracy_score\n",
    "# Report\n",
    "from sklearn.metrics import classification_report\n",
    "# AUC\n",
    "from sklearn.metrics import roc_curve, auc\n",
    "from sklearn.metrics import confusion_matrix\n",
    "from sklearn.metrics import classification_report\n",
    "from pylab import rcParams\n",
    "\n",
    "# for model comparision\n",
    "from sklearn import metrics"
   ]
  },
  {
   "cell_type": "code",
   "execution_count": 2,
   "metadata": {
    "collapsed": true
   },
   "outputs": [],
   "source": [
    "client = boto3.client(\n",
    "    's3',\n",
    "    aws_access_key_id='',\n",
    "    aws_secret_access_key=''\n",
    ")"
   ]
  },
  {
   "cell_type": "markdown",
   "metadata": {},
   "source": [
    "## Loading Files from S3"
   ]
  },
  {
   "cell_type": "code",
   "execution_count": 4,
   "metadata": {},
   "outputs": [],
   "source": [
    "## Load the session training features  \n",
    "bucket_name = 'msds630projbucket' # Add your bucket name\n",
    "file_name = 'train_val/train_session_features.csv'\n",
    "s3 = boto3.resource('s3')\n",
    "bucket = s3.Bucket(bucket_name)\n",
    "obj = bucket.Object(key=file_name)  # S3 uses key-value structure wherekey is your file name \n",
    "file_content = obj.get()[\"Body\"].read().decode('utf-8')  # Read the Body which is the contents of the file.\n",
    "if sys.version_info[0] < 3: \n",
    "    from StringIO import StringIO # Python 2.x\n",
    "else:\n",
    "    from io import StringIO # Python 3.x\n",
    "# read data into pandas dataframe\n",
    "df_session_train_features = pd.read_csv(StringIO(file_content))"
   ]
  },
  {
   "cell_type": "code",
   "execution_count": 7,
   "metadata": {},
   "outputs": [
    {
     "data": {
      "text/html": [
       "<div>\n",
       "<table border=\"1\" class=\"dataframe\">\n",
       "  <thead>\n",
       "    <tr style=\"text-align: right;\">\n",
       "      <th></th>\n",
       "      <th>user_id_hash</th>\n",
       "      <th>is_session</th>\n",
       "      <th>previous_sessions_duration</th>\n",
       "      <th>is_user_first_session</th>\n",
       "      <th>session_index</th>\n",
       "      <th>os_name_encoding_7</th>\n",
       "      <th>os_name_encoding_14</th>\n",
       "      <th>user_id_hash.1</th>\n",
       "      <th>timezone_encoding_7</th>\n",
       "      <th>timezone_encoding_14</th>\n",
       "      <th>country_encoding_7</th>\n",
       "      <th>country_encoding_14</th>\n",
       "    </tr>\n",
       "  </thead>\n",
       "  <tbody>\n",
       "    <tr>\n",
       "      <th>0</th>\n",
       "      <td>00000db35682058bb7916cb90f85709f54c1a0f7a3b6de...</td>\n",
       "      <td>1.000000</td>\n",
       "      <td>7.129631e+06</td>\n",
       "      <td>1</td>\n",
       "      <td>22</td>\n",
       "      <td>0.043905</td>\n",
       "      <td>0.043905</td>\n",
       "      <td>00000db35682058bb7916cb90f85709f54c1a0f7a3b6de...</td>\n",
       "      <td>0.000736</td>\n",
       "      <td>0.000736</td>\n",
       "      <td>0.003497</td>\n",
       "      <td>0.003497</td>\n",
       "    </tr>\n",
       "    <tr>\n",
       "      <th>1</th>\n",
       "      <td>000062e9be78f3da274fec338e78f89d12000e781967f2...</td>\n",
       "      <td>0.931034</td>\n",
       "      <td>1.026536e+07</td>\n",
       "      <td>1</td>\n",
       "      <td>27</td>\n",
       "      <td>0.054341</td>\n",
       "      <td>0.054341</td>\n",
       "      <td>000062e9be78f3da274fec338e78f89d12000e781967f2...</td>\n",
       "      <td>0.008479</td>\n",
       "      <td>0.008479</td>\n",
       "      <td>0.064337</td>\n",
       "      <td>0.064337</td>\n",
       "    </tr>\n",
       "    <tr>\n",
       "      <th>2</th>\n",
       "      <td>00006ad44c0d33a2a526caf75514643639b7b7070dfffd...</td>\n",
       "      <td>0.777778</td>\n",
       "      <td>4.552652e+06</td>\n",
       "      <td>1</td>\n",
       "      <td>7</td>\n",
       "      <td>0.054341</td>\n",
       "      <td>0.054341</td>\n",
       "      <td>00006ad44c0d33a2a526caf75514643639b7b7070dfffd...</td>\n",
       "      <td>0.001011</td>\n",
       "      <td>0.001011</td>\n",
       "      <td>0.001214</td>\n",
       "      <td>0.001214</td>\n",
       "    </tr>\n",
       "    <tr>\n",
       "      <th>3</th>\n",
       "      <td>0000c5de50d243cc39f6ac4268d7511705585ca3f2a20f...</td>\n",
       "      <td>1.000000</td>\n",
       "      <td>8.027227e+05</td>\n",
       "      <td>1</td>\n",
       "      <td>3</td>\n",
       "      <td>0.054341</td>\n",
       "      <td>0.054341</td>\n",
       "      <td>0000c5de50d243cc39f6ac4268d7511705585ca3f2a20f...</td>\n",
       "      <td>0.003958</td>\n",
       "      <td>0.003958</td>\n",
       "      <td>0.064337</td>\n",
       "      <td>0.064337</td>\n",
       "    </tr>\n",
       "  </tbody>\n",
       "</table>\n",
       "</div>"
      ],
      "text/plain": [
       "                                        user_id_hash  is_session  \\\n",
       "0  00000db35682058bb7916cb90f85709f54c1a0f7a3b6de...    1.000000   \n",
       "1  000062e9be78f3da274fec338e78f89d12000e781967f2...    0.931034   \n",
       "2  00006ad44c0d33a2a526caf75514643639b7b7070dfffd...    0.777778   \n",
       "3  0000c5de50d243cc39f6ac4268d7511705585ca3f2a20f...    1.000000   \n",
       "\n",
       "   previous_sessions_duration  is_user_first_session  session_index  \\\n",
       "0                7.129631e+06                      1             22   \n",
       "1                1.026536e+07                      1             27   \n",
       "2                4.552652e+06                      1              7   \n",
       "3                8.027227e+05                      1              3   \n",
       "\n",
       "   os_name_encoding_7  os_name_encoding_14  \\\n",
       "0            0.043905             0.043905   \n",
       "1            0.054341             0.054341   \n",
       "2            0.054341             0.054341   \n",
       "3            0.054341             0.054341   \n",
       "\n",
       "                                      user_id_hash.1  timezone_encoding_7  \\\n",
       "0  00000db35682058bb7916cb90f85709f54c1a0f7a3b6de...             0.000736   \n",
       "1  000062e9be78f3da274fec338e78f89d12000e781967f2...             0.008479   \n",
       "2  00006ad44c0d33a2a526caf75514643639b7b7070dfffd...             0.001011   \n",
       "3  0000c5de50d243cc39f6ac4268d7511705585ca3f2a20f...             0.003958   \n",
       "\n",
       "   timezone_encoding_14  country_encoding_7  country_encoding_14  \n",
       "0              0.000736            0.003497             0.003497  \n",
       "1              0.008479            0.064337             0.064337  \n",
       "2              0.001011            0.001214             0.001214  \n",
       "3              0.003958            0.064337             0.064337  "
      ]
     },
     "execution_count": 7,
     "metadata": {},
     "output_type": "execute_result"
    }
   ],
   "source": [
    "df_session_train_features.head(4)"
   ]
  },
  {
   "cell_type": "code",
   "execution_count": 18,
   "metadata": {},
   "outputs": [],
   "source": [
    "## Load the  training  target \n",
    "bucket_name = 'msds630projbucket' # Add your bucket name\n",
    "file_name = 'train_val/train_target.csv'\n",
    "s3 = boto3.resource('s3')\n",
    "bucket = s3.Bucket(bucket_name)\n",
    "obj = bucket.Object(key=file_name)  # S3 uses key-value structure wherekey is your file name \n",
    "file_content = obj.get()[\"Body\"].read().decode('utf-8')  # Read the Body which is the contents of the file.\n",
    "import sys\n",
    "if sys.version_info[0] < 3: \n",
    "    from StringIO import StringIO # Python 2.x\n",
    "else:\n",
    "    from io import StringIO # Python 3.x\n",
    "# read data into pandas dataframe\n",
    "df_train_target = pd.read_csv(StringIO(file_content))"
   ]
  },
  {
   "cell_type": "code",
   "execution_count": 20,
   "metadata": {},
   "outputs": [
    {
     "data": {
      "text/html": [
       "<div>\n",
       "<table border=\"1\" class=\"dataframe\">\n",
       "  <thead>\n",
       "    <tr style=\"text-align: right;\">\n",
       "      <th></th>\n",
       "      <th>user_id_hash</th>\n",
       "      <th>user_purchase_binary_7_days</th>\n",
       "      <th>user_purchase_binary_14_days</th>\n",
       "    </tr>\n",
       "  </thead>\n",
       "  <tbody>\n",
       "    <tr>\n",
       "      <th>0</th>\n",
       "      <td>9943447915df3a45fd6720a026af905b6da6b56a37701b...</td>\n",
       "      <td>0</td>\n",
       "      <td>0</td>\n",
       "    </tr>\n",
       "    <tr>\n",
       "      <th>1</th>\n",
       "      <td>4e6bc35cf7fd79a5312047651e7865915f4a6bec193cf2...</td>\n",
       "      <td>0</td>\n",
       "      <td>0</td>\n",
       "    </tr>\n",
       "    <tr>\n",
       "      <th>2</th>\n",
       "      <td>bcfb7c8c0e926b7b6227b5b866b1cd82f1a7d09c6ea669...</td>\n",
       "      <td>0</td>\n",
       "      <td>0</td>\n",
       "    </tr>\n",
       "    <tr>\n",
       "      <th>3</th>\n",
       "      <td>a9d73e6928310527462fb3181a968853d1388770fc9152...</td>\n",
       "      <td>0</td>\n",
       "      <td>0</td>\n",
       "    </tr>\n",
       "  </tbody>\n",
       "</table>\n",
       "</div>"
      ],
      "text/plain": [
       "                                        user_id_hash  \\\n",
       "0  9943447915df3a45fd6720a026af905b6da6b56a37701b...   \n",
       "1  4e6bc35cf7fd79a5312047651e7865915f4a6bec193cf2...   \n",
       "2  bcfb7c8c0e926b7b6227b5b866b1cd82f1a7d09c6ea669...   \n",
       "3  a9d73e6928310527462fb3181a968853d1388770fc9152...   \n",
       "\n",
       "   user_purchase_binary_7_days  user_purchase_binary_14_days  \n",
       "0                            0                             0  \n",
       "1                            0                             0  \n",
       "2                            0                             0  \n",
       "3                            0                             0  "
      ]
     },
     "execution_count": 20,
     "metadata": {},
     "output_type": "execute_result"
    }
   ],
   "source": [
    "df_train_target.head(4)"
   ]
  },
  {
   "cell_type": "code",
   "execution_count": 6,
   "metadata": {
    "collapsed": true
   },
   "outputs": [],
   "source": [
    "##  Load the session validation features  \n",
    "bucket_name = 'msds630projbucket' # Add your bucket name\n",
    "file_name = 'train_val/val_session_features.csv'\n",
    "s3 = boto3.resource('s3')\n",
    "bucket = s3.Bucket(bucket_name)\n",
    "obj = bucket.Object(key=file_name)  # S3 uses key-value structure wherekey is your file name \n",
    "file_content = obj.get()[\"Body\"].read().decode('utf-8')  # Read the Body which is the contents of the file.\n",
    "import sys\n",
    "if sys.version_info[0] < 3: \n",
    "    from StringIO import StringIO # Python 2.x\n",
    "else:\n",
    "    from io import StringIO # Python 3.x\n",
    "# read data into pandas dataframe\n",
    "df_session_val_features = pd.read_csv(StringIO(file_content))"
   ]
  },
  {
   "cell_type": "code",
   "execution_count": 8,
   "metadata": {},
   "outputs": [
    {
     "data": {
      "text/html": [
       "<div>\n",
       "<table border=\"1\" class=\"dataframe\">\n",
       "  <thead>\n",
       "    <tr style=\"text-align: right;\">\n",
       "      <th></th>\n",
       "      <th>user_id_hash</th>\n",
       "      <th>is_session</th>\n",
       "      <th>previous_sessions_duration</th>\n",
       "      <th>is_user_first_session</th>\n",
       "      <th>session_index</th>\n",
       "      <th>os_name_encoding_7</th>\n",
       "      <th>os_name_encoding_14</th>\n",
       "      <th>user_id_hash.1</th>\n",
       "      <th>timezone_encoding_7</th>\n",
       "      <th>timezone_encoding_14</th>\n",
       "      <th>country_encoding_7</th>\n",
       "      <th>country_encoding_14</th>\n",
       "    </tr>\n",
       "  </thead>\n",
       "  <tbody>\n",
       "    <tr>\n",
       "      <th>0</th>\n",
       "      <td>000059859ec188af6035870faf885c3038cedda05b3a54...</td>\n",
       "      <td>0.833333</td>\n",
       "      <td>5.113220e+06</td>\n",
       "      <td>1</td>\n",
       "      <td>10</td>\n",
       "      <td>0.062538</td>\n",
       "      <td>0.062538</td>\n",
       "      <td>000059859ec188af6035870faf885c3038cedda05b3a54...</td>\n",
       "      <td>0.007943</td>\n",
       "      <td>0.007943</td>\n",
       "      <td>0.077159</td>\n",
       "      <td>0.077159</td>\n",
       "    </tr>\n",
       "    <tr>\n",
       "      <th>1</th>\n",
       "      <td>000081a7d841b0f953bdba6c185fd5cc335fd6015a30c3...</td>\n",
       "      <td>0.750000</td>\n",
       "      <td>6.851255e+05</td>\n",
       "      <td>1</td>\n",
       "      <td>3</td>\n",
       "      <td>0.062538</td>\n",
       "      <td>0.062538</td>\n",
       "      <td>000081a7d841b0f953bdba6c185fd5cc335fd6015a30c3...</td>\n",
       "      <td>0.035739</td>\n",
       "      <td>0.035739</td>\n",
       "      <td>0.077159</td>\n",
       "      <td>0.077159</td>\n",
       "    </tr>\n",
       "    <tr>\n",
       "      <th>2</th>\n",
       "      <td>0000a464ad921c3288e73a3a788b5f113cabf84251a74b...</td>\n",
       "      <td>1.000000</td>\n",
       "      <td>5.369820e+05</td>\n",
       "      <td>1</td>\n",
       "      <td>2</td>\n",
       "      <td>0.052296</td>\n",
       "      <td>0.052296</td>\n",
       "      <td>0000a464ad921c3288e73a3a788b5f113cabf84251a74b...</td>\n",
       "      <td>0.007943</td>\n",
       "      <td>0.007943</td>\n",
       "      <td>0.077159</td>\n",
       "      <td>0.077159</td>\n",
       "    </tr>\n",
       "    <tr>\n",
       "      <th>3</th>\n",
       "      <td>0000bc4e8bfc829d327fa69bdc426dd8a789c52550ed87...</td>\n",
       "      <td>1.000000</td>\n",
       "      <td>3.145464e+06</td>\n",
       "      <td>1</td>\n",
       "      <td>10</td>\n",
       "      <td>0.062538</td>\n",
       "      <td>0.062538</td>\n",
       "      <td>0000bc4e8bfc829d327fa69bdc426dd8a789c52550ed87...</td>\n",
       "      <td>0.000283</td>\n",
       "      <td>0.000283</td>\n",
       "      <td>0.000283</td>\n",
       "      <td>0.000283</td>\n",
       "    </tr>\n",
       "  </tbody>\n",
       "</table>\n",
       "</div>"
      ],
      "text/plain": [
       "                                        user_id_hash  is_session  \\\n",
       "0  000059859ec188af6035870faf885c3038cedda05b3a54...    0.833333   \n",
       "1  000081a7d841b0f953bdba6c185fd5cc335fd6015a30c3...    0.750000   \n",
       "2  0000a464ad921c3288e73a3a788b5f113cabf84251a74b...    1.000000   \n",
       "3  0000bc4e8bfc829d327fa69bdc426dd8a789c52550ed87...    1.000000   \n",
       "\n",
       "   previous_sessions_duration  is_user_first_session  session_index  \\\n",
       "0                5.113220e+06                      1             10   \n",
       "1                6.851255e+05                      1              3   \n",
       "2                5.369820e+05                      1              2   \n",
       "3                3.145464e+06                      1             10   \n",
       "\n",
       "   os_name_encoding_7  os_name_encoding_14  \\\n",
       "0            0.062538             0.062538   \n",
       "1            0.062538             0.062538   \n",
       "2            0.052296             0.052296   \n",
       "3            0.062538             0.062538   \n",
       "\n",
       "                                      user_id_hash.1  timezone_encoding_7  \\\n",
       "0  000059859ec188af6035870faf885c3038cedda05b3a54...             0.007943   \n",
       "1  000081a7d841b0f953bdba6c185fd5cc335fd6015a30c3...             0.035739   \n",
       "2  0000a464ad921c3288e73a3a788b5f113cabf84251a74b...             0.007943   \n",
       "3  0000bc4e8bfc829d327fa69bdc426dd8a789c52550ed87...             0.000283   \n",
       "\n",
       "   timezone_encoding_14  country_encoding_7  country_encoding_14  \n",
       "0              0.007943            0.077159             0.077159  \n",
       "1              0.035739            0.077159             0.077159  \n",
       "2              0.007943            0.077159             0.077159  \n",
       "3              0.000283            0.000283             0.000283  "
      ]
     },
     "execution_count": 8,
     "metadata": {},
     "output_type": "execute_result"
    }
   ],
   "source": [
    "df_session_val_features.head(4)"
   ]
  },
  {
   "cell_type": "code",
   "execution_count": 19,
   "metadata": {},
   "outputs": [],
   "source": [
    "# Load the validation target \n",
    "bucket_name = 'msds630projbucket' # Add your bucket name\n",
    "file_name = 'train_val/val_target.csv'\n",
    "s3 = boto3.resource('s3')\n",
    "bucket = s3.Bucket(bucket_name)\n",
    "obj = bucket.Object(key=file_name)  # S3 uses key-value structure wherekey is your file name \n",
    "file_content = obj.get()[\"Body\"].read().decode('utf-8')  # Read the Body which is the contents of the file.\n",
    "import sys\n",
    "if sys.version_info[0] < 3: \n",
    "    from StringIO import StringIO # Python 2.x\n",
    "else:\n",
    "    from io import StringIO # Python 3.x\n",
    "# read data into pandas dataframe\n",
    "df_val_target = pd.read_csv(StringIO(file_content))"
   ]
  },
  {
   "cell_type": "code",
   "execution_count": 21,
   "metadata": {},
   "outputs": [
    {
     "data": {
      "text/html": [
       "<div>\n",
       "<table border=\"1\" class=\"dataframe\">\n",
       "  <thead>\n",
       "    <tr style=\"text-align: right;\">\n",
       "      <th></th>\n",
       "      <th>user_id_hash</th>\n",
       "      <th>user_purchase_binary_7_days</th>\n",
       "      <th>user_purchase_binary_14_days</th>\n",
       "    </tr>\n",
       "  </thead>\n",
       "  <tbody>\n",
       "    <tr>\n",
       "      <th>0</th>\n",
       "      <td>9943447915df3a45fd6720a026af905b6da6b56a37701b...</td>\n",
       "      <td>0</td>\n",
       "      <td>0</td>\n",
       "    </tr>\n",
       "    <tr>\n",
       "      <th>1</th>\n",
       "      <td>207852210fbcc1e958c85f1fa0729b3acf67c1ae26c775...</td>\n",
       "      <td>0</td>\n",
       "      <td>0</td>\n",
       "    </tr>\n",
       "    <tr>\n",
       "      <th>2</th>\n",
       "      <td>deaf54103e439789b069a95c4650dc6cdc24d6c9d700f1...</td>\n",
       "      <td>0</td>\n",
       "      <td>0</td>\n",
       "    </tr>\n",
       "    <tr>\n",
       "      <th>3</th>\n",
       "      <td>8a7a5ba16ee97139d5461f78faed63c596c42f1ab3179a...</td>\n",
       "      <td>0</td>\n",
       "      <td>0</td>\n",
       "    </tr>\n",
       "  </tbody>\n",
       "</table>\n",
       "</div>"
      ],
      "text/plain": [
       "                                        user_id_hash  \\\n",
       "0  9943447915df3a45fd6720a026af905b6da6b56a37701b...   \n",
       "1  207852210fbcc1e958c85f1fa0729b3acf67c1ae26c775...   \n",
       "2  deaf54103e439789b069a95c4650dc6cdc24d6c9d700f1...   \n",
       "3  8a7a5ba16ee97139d5461f78faed63c596c42f1ab3179a...   \n",
       "\n",
       "   user_purchase_binary_7_days  user_purchase_binary_14_days  \n",
       "0                            0                             0  \n",
       "1                            0                             0  \n",
       "2                            0                             0  \n",
       "3                            0                             0  "
      ]
     },
     "execution_count": 21,
     "metadata": {},
     "output_type": "execute_result"
    }
   ],
   "source": [
    "df_val_target.head(4)"
   ]
  },
  {
   "cell_type": "code",
   "execution_count": 95,
   "metadata": {
    "collapsed": true
   },
   "outputs": [],
   "source": [
    "## Load the test features \n",
    "bucket_name = 'msds630projbucket' # Add your bucket name\n",
    "file_name = 'train_val/test_session_features.csv'\n",
    "s3 = boto3.resource('s3')\n",
    "bucket = s3.Bucket(bucket_name)\n",
    "obj = bucket.Object(key=file_name)  # S3 uses key-value structure wherekey is your file name \n",
    "file_content = obj.get()[\"Body\"].read().decode('utf-8')  # Read the Body which is the contents of the file.\n",
    "import sys\n",
    "if sys.version_info[0] < 3: \n",
    "    from StringIO import StringIO # Python 2.x\n",
    "else:\n",
    "    from io import StringIO # Python 3.x\n",
    "# read data into pandas dataframe\n",
    "df_test = pd.read_csv(StringIO(file_content))"
   ]
  },
  {
   "cell_type": "code",
   "execution_count": 13,
   "metadata": {},
   "outputs": [
    {
     "data": {
      "text/html": [
       "<div>\n",
       "<table border=\"1\" class=\"dataframe\">\n",
       "  <thead>\n",
       "    <tr style=\"text-align: right;\">\n",
       "      <th></th>\n",
       "      <th>user_id_hash</th>\n",
       "      <th>is_session</th>\n",
       "      <th>previous_sessions_duration</th>\n",
       "      <th>is_user_first_session</th>\n",
       "      <th>session_index</th>\n",
       "      <th>user_id_hash.1</th>\n",
       "      <th>os_name_encoding_7</th>\n",
       "      <th>os_name_encoding_14</th>\n",
       "      <th>timezone_encoding_7</th>\n",
       "      <th>timezone_encoding_14</th>\n",
       "      <th>country_encoding_7</th>\n",
       "      <th>country_encoding_14</th>\n",
       "    </tr>\n",
       "  </thead>\n",
       "  <tbody>\n",
       "    <tr>\n",
       "      <th>0</th>\n",
       "      <td>00000db35682058bb7916cb90f85709f54c1a0f7a3b6de...</td>\n",
       "      <td>1.000000</td>\n",
       "      <td>7.693981e+06</td>\n",
       "      <td>1</td>\n",
       "      <td>23</td>\n",
       "      <td>00000db35682058bb7916cb90f85709f54c1a0f7a3b6de...</td>\n",
       "      <td>0.043905</td>\n",
       "      <td>0.043905</td>\n",
       "      <td>0.000736</td>\n",
       "      <td>0.000736</td>\n",
       "      <td>0.003497</td>\n",
       "      <td>0.003497</td>\n",
       "    </tr>\n",
       "    <tr>\n",
       "      <th>1</th>\n",
       "      <td>000059859ec188af6035870faf885c3038cedda05b3a54...</td>\n",
       "      <td>0.833333</td>\n",
       "      <td>5.113220e+06</td>\n",
       "      <td>1</td>\n",
       "      <td>10</td>\n",
       "      <td>000059859ec188af6035870faf885c3038cedda05b3a54...</td>\n",
       "      <td>0.054341</td>\n",
       "      <td>0.054341</td>\n",
       "      <td>0.008479</td>\n",
       "      <td>0.008479</td>\n",
       "      <td>0.064337</td>\n",
       "      <td>0.064337</td>\n",
       "    </tr>\n",
       "    <tr>\n",
       "      <th>2</th>\n",
       "      <td>000062e9be78f3da274fec338e78f89d12000e781967f2...</td>\n",
       "      <td>0.931034</td>\n",
       "      <td>1.026536e+07</td>\n",
       "      <td>1</td>\n",
       "      <td>27</td>\n",
       "      <td>000062e9be78f3da274fec338e78f89d12000e781967f2...</td>\n",
       "      <td>0.054341</td>\n",
       "      <td>0.054341</td>\n",
       "      <td>0.008479</td>\n",
       "      <td>0.008479</td>\n",
       "      <td>0.064337</td>\n",
       "      <td>0.064337</td>\n",
       "    </tr>\n",
       "    <tr>\n",
       "      <th>3</th>\n",
       "      <td>00006ad44c0d33a2a526caf75514643639b7b7070dfffd...</td>\n",
       "      <td>0.777778</td>\n",
       "      <td>4.552652e+06</td>\n",
       "      <td>1</td>\n",
       "      <td>7</td>\n",
       "      <td>00006ad44c0d33a2a526caf75514643639b7b7070dfffd...</td>\n",
       "      <td>0.054341</td>\n",
       "      <td>0.054341</td>\n",
       "      <td>0.001011</td>\n",
       "      <td>0.001011</td>\n",
       "      <td>0.001214</td>\n",
       "      <td>0.001214</td>\n",
       "    </tr>\n",
       "    <tr>\n",
       "      <th>4</th>\n",
       "      <td>000081a7d841b0f953bdba6c185fd5cc335fd6015a30c3...</td>\n",
       "      <td>0.600000</td>\n",
       "      <td>8.961534e+05</td>\n",
       "      <td>1</td>\n",
       "      <td>3</td>\n",
       "      <td>000081a7d841b0f953bdba6c185fd5cc335fd6015a30c3...</td>\n",
       "      <td>0.054341</td>\n",
       "      <td>0.054341</td>\n",
       "      <td>0.030678</td>\n",
       "      <td>0.030678</td>\n",
       "      <td>0.064337</td>\n",
       "      <td>0.064337</td>\n",
       "    </tr>\n",
       "  </tbody>\n",
       "</table>\n",
       "</div>"
      ],
      "text/plain": [
       "                                        user_id_hash  is_session  \\\n",
       "0  00000db35682058bb7916cb90f85709f54c1a0f7a3b6de...    1.000000   \n",
       "1  000059859ec188af6035870faf885c3038cedda05b3a54...    0.833333   \n",
       "2  000062e9be78f3da274fec338e78f89d12000e781967f2...    0.931034   \n",
       "3  00006ad44c0d33a2a526caf75514643639b7b7070dfffd...    0.777778   \n",
       "4  000081a7d841b0f953bdba6c185fd5cc335fd6015a30c3...    0.600000   \n",
       "\n",
       "   previous_sessions_duration  is_user_first_session  session_index  \\\n",
       "0                7.693981e+06                      1             23   \n",
       "1                5.113220e+06                      1             10   \n",
       "2                1.026536e+07                      1             27   \n",
       "3                4.552652e+06                      1              7   \n",
       "4                8.961534e+05                      1              3   \n",
       "\n",
       "                                      user_id_hash.1  os_name_encoding_7  \\\n",
       "0  00000db35682058bb7916cb90f85709f54c1a0f7a3b6de...            0.043905   \n",
       "1  000059859ec188af6035870faf885c3038cedda05b3a54...            0.054341   \n",
       "2  000062e9be78f3da274fec338e78f89d12000e781967f2...            0.054341   \n",
       "3  00006ad44c0d33a2a526caf75514643639b7b7070dfffd...            0.054341   \n",
       "4  000081a7d841b0f953bdba6c185fd5cc335fd6015a30c3...            0.054341   \n",
       "\n",
       "   os_name_encoding_14  timezone_encoding_7  timezone_encoding_14  \\\n",
       "0             0.043905             0.000736              0.000736   \n",
       "1             0.054341             0.008479              0.008479   \n",
       "2             0.054341             0.008479              0.008479   \n",
       "3             0.054341             0.001011              0.001011   \n",
       "4             0.054341             0.030678              0.030678   \n",
       "\n",
       "   country_encoding_7  country_encoding_14  \n",
       "0            0.003497             0.003497  \n",
       "1            0.064337             0.064337  \n",
       "2            0.064337             0.064337  \n",
       "3            0.001214             0.001214  \n",
       "4            0.064337             0.064337  "
      ]
     },
     "execution_count": 13,
     "metadata": {},
     "output_type": "execute_result"
    }
   ],
   "source": [
    "df_test.head()"
   ]
  },
  {
   "cell_type": "markdown",
   "metadata": {},
   "source": [
    "# Data Cleaning "
   ]
  },
  {
   "cell_type": "markdown",
   "metadata": {},
   "source": [
    "### Based on the user_id_hash join features and target together "
   ]
  },
  {
   "cell_type": "code",
   "execution_count": 22,
   "metadata": {
    "collapsed": true
   },
   "outputs": [],
   "source": [
    "df_train = pd.merge(df_session_train_features, df_train_target, on='user_id_hash', how='inner')\n",
    "df_val = pd.merge(df_session_val_features, df_val_target, on='user_id_hash', how='inner')"
   ]
  },
  {
   "cell_type": "markdown",
   "metadata": {},
   "source": [
    "### Check Missing values"
   ]
  },
  {
   "cell_type": "code",
   "execution_count": 59,
   "metadata": {},
   "outputs": [
    {
     "name": "stdout",
     "output_type": "stream",
     "text": [
      "(78932, 14)\n"
     ]
    },
    {
     "data": {
      "text/plain": [
       "user_id_hash                     0\n",
       "is_session                       0\n",
       "previous_sessions_duration       0\n",
       "is_user_first_session            0\n",
       "session_index                    0\n",
       "os_name_encoding_7               1\n",
       "os_name_encoding_14              1\n",
       "user_id_hash.1                   0\n",
       "timezone_encoding_7              1\n",
       "timezone_encoding_14             1\n",
       "country_encoding_7              80\n",
       "country_encoding_14             80\n",
       "user_purchase_binary_7_days      0\n",
       "user_purchase_binary_14_days     0\n",
       "dtype: int64"
      ]
     },
     "execution_count": 59,
     "metadata": {},
     "output_type": "execute_result"
    }
   ],
   "source": [
    "## check the miss values in the training set \n",
    "print(df_train.shape)\n",
    "df_train.isnull().sum()"
   ]
  },
  {
   "cell_type": "code",
   "execution_count": 62,
   "metadata": {},
   "outputs": [
    {
     "name": "stdout",
     "output_type": "stream",
     "text": [
      "(65891, 14)\n"
     ]
    },
    {
     "data": {
      "text/plain": [
       "user_id_hash                     0\n",
       "is_session                       0\n",
       "previous_sessions_duration       0\n",
       "is_user_first_session            0\n",
       "session_index                    0\n",
       "os_name_encoding_7               2\n",
       "os_name_encoding_14              2\n",
       "user_id_hash.1                   0\n",
       "timezone_encoding_7              1\n",
       "timezone_encoding_14             1\n",
       "country_encoding_7              65\n",
       "country_encoding_14             65\n",
       "user_purchase_binary_7_days      0\n",
       "user_purchase_binary_14_days     0\n",
       "dtype: int64"
      ]
     },
     "execution_count": 62,
     "metadata": {},
     "output_type": "execute_result"
    }
   ],
   "source": [
    "## check the miss values in the validation set \n",
    "print(df_val.shape)\n",
    "df_val.isnull().sum()"
   ]
  },
  {
   "cell_type": "code",
   "execution_count": 61,
   "metadata": {},
   "outputs": [
    {
     "name": "stdout",
     "output_type": "stream",
     "text": [
      "(621106, 12)\n"
     ]
    },
    {
     "data": {
      "text/plain": [
       "user_id_hash                    0\n",
       "is_session                      0\n",
       "previous_sessions_duration      0\n",
       "is_user_first_session           0\n",
       "session_index                   0\n",
       "user_id_hash.1                  0\n",
       "os_name_encoding_7            157\n",
       "os_name_encoding_14           157\n",
       "timezone_encoding_7           608\n",
       "timezone_encoding_14          608\n",
       "country_encoding_7            760\n",
       "country_encoding_14           760\n",
       "dtype: int64"
      ]
     },
     "execution_count": 61,
     "metadata": {},
     "output_type": "execute_result"
    }
   ],
   "source": [
    "## check the miss values in the test set \n",
    "print(df_test.shape)\n",
    "df_test.isnull().sum()"
   ]
  },
  {
   "cell_type": "markdown",
   "metadata": {},
   "source": [
    "###  Drop the missing values "
   ]
  },
  {
   "cell_type": "markdown",
   "metadata": {},
   "source": [
    "Since the number of missing values is relative small compared with the large data set, we will drop them from the dataset. "
   ]
  },
  {
   "cell_type": "code",
   "execution_count": 111,
   "metadata": {
    "collapsed": true
   },
   "outputs": [],
   "source": [
    "df_train = df_train.dropna()\n",
    "df_val = df_val.dropna()\n",
    "df_test=df_test.dropna()"
   ]
  },
  {
   "cell_type": "code",
   "execution_count": 112,
   "metadata": {},
   "outputs": [
    {
     "data": {
      "text/html": [
       "<div>\n",
       "<table border=\"1\" class=\"dataframe\">\n",
       "  <thead>\n",
       "    <tr style=\"text-align: right;\">\n",
       "      <th></th>\n",
       "      <th>user_id_hash</th>\n",
       "      <th>is_session</th>\n",
       "      <th>previous_sessions_duration</th>\n",
       "      <th>is_user_first_session</th>\n",
       "      <th>session_index</th>\n",
       "      <th>os_name_encoding_7</th>\n",
       "      <th>os_name_encoding_14</th>\n",
       "      <th>user_id_hash.1</th>\n",
       "      <th>timezone_encoding_7</th>\n",
       "      <th>timezone_encoding_14</th>\n",
       "      <th>country_encoding_7</th>\n",
       "      <th>country_encoding_14</th>\n",
       "      <th>user_purchase_binary_7_days</th>\n",
       "      <th>user_purchase_binary_14_days</th>\n",
       "    </tr>\n",
       "  </thead>\n",
       "  <tbody>\n",
       "    <tr>\n",
       "      <th>0</th>\n",
       "      <td>000161848e5ccdcd4d3b0c7be9ec844730c39e6bcbc2a7...</td>\n",
       "      <td>1.000000</td>\n",
       "      <td>0.000000e+00</td>\n",
       "      <td>1</td>\n",
       "      <td>1</td>\n",
       "      <td>0.043905</td>\n",
       "      <td>0.043905</td>\n",
       "      <td>000161848e5ccdcd4d3b0c7be9ec844730c39e6bcbc2a7...</td>\n",
       "      <td>0.017323</td>\n",
       "      <td>0.017323</td>\n",
       "      <td>0.064337</td>\n",
       "      <td>0.064337</td>\n",
       "      <td>0</td>\n",
       "      <td>0</td>\n",
       "    </tr>\n",
       "    <tr>\n",
       "      <th>1</th>\n",
       "      <td>0004254c12f732e958e157c5e507347944e7ae2b0d9abc...</td>\n",
       "      <td>0.980769</td>\n",
       "      <td>1.729380e+07</td>\n",
       "      <td>1</td>\n",
       "      <td>51</td>\n",
       "      <td>0.043905</td>\n",
       "      <td>0.043905</td>\n",
       "      <td>0004254c12f732e958e157c5e507347944e7ae2b0d9abc...</td>\n",
       "      <td>0.017323</td>\n",
       "      <td>0.017323</td>\n",
       "      <td>0.064337</td>\n",
       "      <td>0.064337</td>\n",
       "      <td>0</td>\n",
       "      <td>0</td>\n",
       "    </tr>\n",
       "    <tr>\n",
       "      <th>2</th>\n",
       "      <td>000640d9f785d21ded61bdff159144b25dea23300ae1b8...</td>\n",
       "      <td>0.975207</td>\n",
       "      <td>6.061837e+07</td>\n",
       "      <td>1</td>\n",
       "      <td>119</td>\n",
       "      <td>0.054341</td>\n",
       "      <td>0.054341</td>\n",
       "      <td>000640d9f785d21ded61bdff159144b25dea23300ae1b8...</td>\n",
       "      <td>0.000000</td>\n",
       "      <td>0.000000</td>\n",
       "      <td>0.000000</td>\n",
       "      <td>0.000000</td>\n",
       "      <td>0</td>\n",
       "      <td>0</td>\n",
       "    </tr>\n",
       "    <tr>\n",
       "      <th>3</th>\n",
       "      <td>00071037b12ceee8342c94ff58948fd750e46108c1d784...</td>\n",
       "      <td>1.000000</td>\n",
       "      <td>1.393435e+06</td>\n",
       "      <td>1</td>\n",
       "      <td>6</td>\n",
       "      <td>0.043905</td>\n",
       "      <td>0.043905</td>\n",
       "      <td>00071037b12ceee8342c94ff58948fd750e46108c1d784...</td>\n",
       "      <td>0.008479</td>\n",
       "      <td>0.008479</td>\n",
       "      <td>0.064337</td>\n",
       "      <td>0.064337</td>\n",
       "      <td>0</td>\n",
       "      <td>0</td>\n",
       "    </tr>\n",
       "    <tr>\n",
       "      <th>4</th>\n",
       "      <td>00073f51e4e86c623799a82241256f7c1898c589850d5a...</td>\n",
       "      <td>0.636364</td>\n",
       "      <td>9.964867e+06</td>\n",
       "      <td>1</td>\n",
       "      <td>21</td>\n",
       "      <td>0.054341</td>\n",
       "      <td>0.054341</td>\n",
       "      <td>00073f51e4e86c623799a82241256f7c1898c589850d5a...</td>\n",
       "      <td>0.017323</td>\n",
       "      <td>0.017323</td>\n",
       "      <td>0.064337</td>\n",
       "      <td>0.064337</td>\n",
       "      <td>0</td>\n",
       "      <td>0</td>\n",
       "    </tr>\n",
       "  </tbody>\n",
       "</table>\n",
       "</div>"
      ],
      "text/plain": [
       "                                        user_id_hash  is_session  \\\n",
       "0  000161848e5ccdcd4d3b0c7be9ec844730c39e6bcbc2a7...    1.000000   \n",
       "1  0004254c12f732e958e157c5e507347944e7ae2b0d9abc...    0.980769   \n",
       "2  000640d9f785d21ded61bdff159144b25dea23300ae1b8...    0.975207   \n",
       "3  00071037b12ceee8342c94ff58948fd750e46108c1d784...    1.000000   \n",
       "4  00073f51e4e86c623799a82241256f7c1898c589850d5a...    0.636364   \n",
       "\n",
       "   previous_sessions_duration  is_user_first_session  session_index  \\\n",
       "0                0.000000e+00                      1              1   \n",
       "1                1.729380e+07                      1             51   \n",
       "2                6.061837e+07                      1            119   \n",
       "3                1.393435e+06                      1              6   \n",
       "4                9.964867e+06                      1             21   \n",
       "\n",
       "   os_name_encoding_7  os_name_encoding_14  \\\n",
       "0            0.043905             0.043905   \n",
       "1            0.043905             0.043905   \n",
       "2            0.054341             0.054341   \n",
       "3            0.043905             0.043905   \n",
       "4            0.054341             0.054341   \n",
       "\n",
       "                                      user_id_hash.1  timezone_encoding_7  \\\n",
       "0  000161848e5ccdcd4d3b0c7be9ec844730c39e6bcbc2a7...             0.017323   \n",
       "1  0004254c12f732e958e157c5e507347944e7ae2b0d9abc...             0.017323   \n",
       "2  000640d9f785d21ded61bdff159144b25dea23300ae1b8...             0.000000   \n",
       "3  00071037b12ceee8342c94ff58948fd750e46108c1d784...             0.008479   \n",
       "4  00073f51e4e86c623799a82241256f7c1898c589850d5a...             0.017323   \n",
       "\n",
       "   timezone_encoding_14  country_encoding_7  country_encoding_14  \\\n",
       "0              0.017323            0.064337             0.064337   \n",
       "1              0.017323            0.064337             0.064337   \n",
       "2              0.000000            0.000000             0.000000   \n",
       "3              0.008479            0.064337             0.064337   \n",
       "4              0.017323            0.064337             0.064337   \n",
       "\n",
       "   user_purchase_binary_7_days  user_purchase_binary_14_days  \n",
       "0                            0                             0  \n",
       "1                            0                             0  \n",
       "2                            0                             0  \n",
       "3                            0                             0  \n",
       "4                            0                             0  "
      ]
     },
     "execution_count": 112,
     "metadata": {},
     "output_type": "execute_result"
    }
   ],
   "source": [
    "df_train.head() ## show the top 5 rows of the training set "
   ]
  },
  {
   "cell_type": "markdown",
   "metadata": {},
   "source": [
    "###  Split features and target from the joined table "
   ]
  },
  {
   "cell_type": "code",
   "execution_count": 113,
   "metadata": {},
   "outputs": [],
   "source": [
    "## For the training set \n",
    "df_train_X7 = df_train.drop(['user_id_hash','user_id_hash.1','os_name_encoding_14','timezone_encoding_14','country_encoding_14',\n",
    "                            'user_purchase_binary_14_days','user_purchase_binary_7_days'], axis=1)\n",
    "df_train_Y7 = df_train.user_purchase_binary_7_days\n",
    "df_train_X14 = df_train.drop(['user_id_hash','user_id_hash.1','os_name_encoding_7','timezone_encoding_7','country_encoding_7',\n",
    "                            'user_purchase_binary_14_days','user_purchase_binary_7_days'], axis=1)\n",
    "df_train_Y14 = df_train.user_purchase_binary_14_days"
   ]
  },
  {
   "cell_type": "code",
   "execution_count": 114,
   "metadata": {
    "collapsed": true
   },
   "outputs": [],
   "source": [
    "## For the validation set\n",
    "df_val_X7 = df_val.drop(['user_id_hash','user_id_hash.1','os_name_encoding_14','timezone_encoding_14','country_encoding_14',\n",
    "                            'user_purchase_binary_14_days','user_purchase_binary_7_days'], axis=1)\n",
    "df_val_Y7 = df_val.user_purchase_binary_7_days\n",
    "df_val_X14 = df_val.drop(['user_id_hash','user_id_hash.1','os_name_encoding_7','timezone_encoding_7','country_encoding_7',\n",
    "                            'user_purchase_binary_14_days','user_purchase_binary_7_days'], axis=1)\n",
    "df_val_Y14 = df_val['user_purchase_binary_14_days']"
   ]
  },
  {
   "cell_type": "code",
   "execution_count": 115,
   "metadata": {
    "collapsed": true
   },
   "outputs": [],
   "source": [
    "## For the test set \n",
    "df_test_X7 = df_test.drop(['user_id_hash','user_id_hash.1','os_name_encoding_14','timezone_encoding_14','country_encoding_14'], axis=1)\n",
    "df_test_X14 = df_test.drop(['user_id_hash','user_id_hash.1','os_name_encoding_7','timezone_encoding_7','country_encoding_7'], axis=1)"
   ]
  },
  {
   "cell_type": "markdown",
   "metadata": {},
   "source": [
    "# Modeling "
   ]
  },
  {
   "cell_type": "markdown",
   "metadata": {},
   "source": [
    "## Random Forest Model"
   ]
  },
  {
   "cell_type": "code",
   "execution_count": 52,
   "metadata": {
    "collapsed": true
   },
   "outputs": [],
   "source": [
    "from sklearn.ensemble import RandomForestClassifier\n",
    "from sklearn.grid_search import GridSearchCV"
   ]
  },
  {
   "cell_type": "markdown",
   "metadata": {
    "collapsed": true
   },
   "source": [
    "###  Grid Search For Random Forest "
   ]
  },
  {
   "cell_type": "code",
   "execution_count": 70,
   "metadata": {},
   "outputs": [
    {
     "name": "stdout",
     "output_type": "stream",
     "text": [
      "{'max_depth': 5, 'max_features': 'sqrt', 'max_leaf_nodes': 8}\n"
     ]
    }
   ],
   "source": [
    "## For 7 days prediction\n",
    "rf = RandomForestClassifier(n_estimators=100)\n",
    "param_grid = {\n",
    "    'max_depth': list(range(5, 10)),\n",
    "    'max_leaf_nodes': list(range(8, 12)),\n",
    "    'max_features': ['sqrt', 'auto', 'log2']\n",
    "}\n",
    "\n",
    "rf_cv = GridSearchCV(estimator=rf,\n",
    "                     param_grid=param_grid)\n",
    "rf_cv.fit(df_train_X7, df_train_Y7)\n",
    "print(rf_cv.best_params_)"
   ]
  },
  {
   "cell_type": "code",
   "execution_count": 71,
   "metadata": {},
   "outputs": [
    {
     "name": "stdout",
     "output_type": "stream",
     "text": [
      "{'max_depth': 5, 'max_features': 'sqrt', 'max_leaf_nodes': 8}\n"
     ]
    }
   ],
   "source": [
    "## For 14 days prediction\n",
    "rf = RandomForestClassifier(n_estimators=100)\n",
    "param_grid = {\n",
    "    'max_depth': list(range(5, 10)),\n",
    "    'max_leaf_nodes': list(range(8, 12)),\n",
    "    'max_features': ['sqrt', 'auto', 'log2']\n",
    "}\n",
    "\n",
    "rf_cv = GridSearchCV(estimator=rf,\n",
    "                     param_grid=param_grid)\n",
    "rf_cv.fit(df_train_X14, df_train_Y14)\n",
    "print(rf_cv.best_params_)"
   ]
  },
  {
   "cell_type": "markdown",
   "metadata": {},
   "source": [
    "## Random Forest Model for next 7 days "
   ]
  },
  {
   "cell_type": "code",
   "execution_count": 76,
   "metadata": {},
   "outputs": [
    {
     "name": "stdout",
     "output_type": "stream",
     "text": [
      "             precision    recall  f1-score   support\n",
      "\n",
      "          0       0.93      1.00      0.97     61377\n",
      "          1       0.00      0.00      0.00      4448\n",
      "\n",
      "avg / total       0.87      0.93      0.90     65825\n",
      "\n",
      "0.93242688948\n"
     ]
    }
   ],
   "source": [
    "import warnings\n",
    "warnings.filterwarnings('ignore')\n",
    "from sklearn.metrics import classification_report, confusion_matrix, accuracy_score\n",
    "rf_7 = RandomForestClassifier(n_estimators=100, max_depth =5, max_features = 'sqrt', max_leaf_nodes= 8).fit(df_train_X7, df_train_Y7)\n",
    "y_pred = rf_7.predict(df_val_X7) \n",
    "print(classification_report(df_val_Y7,y_pred))  \n",
    "print(accuracy_score(df_val_Y7,y_pred))"
   ]
  },
  {
   "cell_type": "markdown",
   "metadata": {},
   "source": [
    "### ROC"
   ]
  },
  {
   "cell_type": "code",
   "execution_count": 78,
   "metadata": {},
   "outputs": [
    {
     "data": {
      "image/png": "[encoded data removed]",
      "text/plain": [
       "<matplotlib.figure.Figure at 0x7fecbf6ebdd8>"
      ]
     },
     "metadata": {},
     "output_type": "display_data"
    }
   ],
   "source": [
    "# Plot ROC in one graph\n",
    "y_rf_score = rf_7.predict_proba(df_val_X7)[:, 1]\n",
    "fpr_rf, tpr_rf, _rf = roc_curve(df_val_Y7, y_rf_score)\n",
    "roc_rf_auc = auc(fpr_rf, tpr_rf)\n",
    "\n",
    "plt.figure(figsize=(5, 5))\n",
    "plt.plot(fpr_rf, tpr_rf, label='RF ROC curve (area = %0.2f)' % roc_rf_auc)\n",
    "plt.plot([0, 1], [0, 1], 'k--')\n",
    "plt.xlim([0.0, 1.0])\n",
    "plt.ylim([0.0, 1.005])\n",
    "plt.xlabel('False Positive Rate')\n",
    "plt.ylabel('True Positive Rate')\n",
    "plt.title('Receiver operating characteristic for next 7 days model ')\n",
    "plt.legend(loc=\"lower right\")\n",
    "plt.show()"
   ]
  },
  {
   "cell_type": "markdown",
   "metadata": {},
   "source": [
    "### Feature Importance "
   ]
  },
  {
   "cell_type": "code",
   "execution_count": 89,
   "metadata": {},
   "outputs": [
    {
     "name": "stdout",
     "output_type": "stream",
     "text": [
      "Feature importance of Random Forest Model\n"
     ]
    },
    {
     "data": {
      "image/png": "[encoded data removed]",
      "text/plain": [
       "<matplotlib.figure.Figure at 0x7fecbf276dd8>"
      ]
     },
     "metadata": {},
     "output_type": "display_data"
    }
   ],
   "source": [
    " \n",
    "# Check feature importance and display in bar plot.\n",
    "print('Feature importance of Random Forest Model')\n",
    "plt.style.use('ggplot')\n",
    "fig = plt.figure(figsize=(5, 5))\n",
    "feat_importances = pd.Series(rf_7.feature_importances_, index=df_train_X7.columns)\n",
    "feat_importances.nsmallest(5).plot(kind='barh', alpha=0.7)\n",
    "plt.show()"
   ]
  },
  {
   "cell_type": "markdown",
   "metadata": {},
   "source": [
    "## Random Forest Model for next 14 days"
   ]
  },
  {
   "cell_type": "code",
   "execution_count": 90,
   "metadata": {},
   "outputs": [
    {
     "name": "stdout",
     "output_type": "stream",
     "text": [
      "             precision    recall  f1-score   support\n",
      "\n",
      "          0       0.92      1.00      0.96     60254\n",
      "          1       0.00      0.00      0.00      5571\n",
      "\n",
      "avg / total       0.84      0.92      0.87     65825\n",
      "\n",
      "The accuracy for the model is \n",
      "0.915366502089\n"
     ]
    }
   ],
   "source": [
    "rf_14 = RandomForestClassifier(n_estimators=100,  max_depth =5, max_features = 'sqrt', max_leaf_nodes= 8).fit(df_train_X14, df_train_Y14)\n",
    "y_pred = rf_14.predict(df_val_X14) \n",
    "print(classification_report(df_val_Y14,y_pred))  \n",
    "print(\"The accuracy for the model is \")\n",
    "print(accuracy_score(df_val_Y14,y_pred))"
   ]
  },
  {
   "cell_type": "markdown",
   "metadata": {},
   "source": [
    "### ROC"
   ]
  },
  {
   "cell_type": "code",
   "execution_count": 91,
   "metadata": {},
   "outputs": [
    {
     "data": {
      "image/png": "[encoded data removed]",
      "text/plain": [
       "<matplotlib.figure.Figure at 0x7fecbf1dae10>"
      ]
     },
     "metadata": {},
     "output_type": "display_data"
    }
   ],
   "source": [
    "# Plot ROC in one graph\n",
    "y_rf_score = rf_14.predict_proba(df_val_X14)[:, 1]\n",
    "fpr_rf, tpr_rf, _rf = roc_curve(df_val_Y14, y_rf_score)\n",
    "roc_rf_auc = auc(fpr_rf, tpr_rf)\n",
    "\n",
    "plt.figure(figsize=(5, 5))\n",
    "plt.plot(fpr_rf, tpr_rf, label='RF ROC curve (area = %0.2f)' % roc_rf_auc)\n",
    "plt.plot([0, 1], [0, 1], 'k--')\n",
    "plt.xlim([0.0, 1.0])\n",
    "plt.ylim([0.0, 1.005])\n",
    "plt.xlabel('False Positive Rate')\n",
    "plt.ylabel('True Positive Rate')\n",
    "plt.title('Receiver operating characteristic for next 14 days model ')\n",
    "plt.legend(loc=\"lower right\")\n",
    "plt.show()\n",
    "fig.savefig('roc_rf14_auc.png')"
   ]
  },
  {
   "cell_type": "markdown",
   "metadata": {},
   "source": [
    "###  Feature Importance "
   ]
  },
  {
   "cell_type": "code",
   "execution_count": 92,
   "metadata": {},
   "outputs": [
    {
     "name": "stdout",
     "output_type": "stream",
     "text": [
      "Feature importance of Random Forest Model\n"
     ]
    },
    {
     "data": {
      "image/png": "[encoded data removed]",
      "text/plain": [
       "<matplotlib.figure.Figure at 0x7fecbf3aee48>"
      ]
     },
     "metadata": {},
     "output_type": "display_data"
    }
   ],
   "source": [
    "\n",
    "# Check feature importance and display in bar plot.\n",
    "print('Feature importance of Random Forest Model')\n",
    "plt.style.use('ggplot')\n",
    "fig = plt.figure(figsize=(5, 5))\n",
    "feat_importances = pd.Series(rf_14.feature_importances_, index=df_train_X14.columns)\n",
    "feat_importances.nsmallest(5).plot(kind='barh', alpha=0.7)\n",
    "plt.show()"
   ]
  },
  {
   "cell_type": "markdown",
   "metadata": {},
   "source": [
    "## Prediction for the test dataset "
   ]
  },
  {
   "cell_type": "markdown",
   "metadata": {},
   "source": [
    "Combine training and validation data together to predict the test dataset"
   ]
  },
  {
   "cell_type": "code",
   "execution_count": 108,
   "metadata": {
    "collapsed": true
   },
   "outputs": [],
   "source": [
    "frames = [df_train_X7,df_val_X7]\n",
    "train_X7 = pd.concat(frames)\n",
    "frames = [df_train_X14,df_val_X14]\n",
    "train_X14 = pd.concat(frames)\n",
    "frames = [df_train_Y7,df_val_Y7]\n",
    "train_Y7 = pd.concat(frames)\n",
    "frames = [df_train_Y14,df_val_Y14]\n",
    "train_Y14 = pd.concat(frames)"
   ]
  },
  {
   "cell_type": "markdown",
   "metadata": {},
   "source": [
    "Fit Random forest model based on the whole dataset "
   ]
  },
  {
   "cell_type": "code",
   "execution_count": 116,
   "metadata": {},
   "outputs": [],
   "source": [
    "rf_7_test = RandomForestClassifier(n_estimators=100,  max_depth =5, max_features = 'sqrt', max_leaf_nodes= 8).fit(train_X7, train_Y7)\n",
    "rf_7_prob = rf_7_test.predict_proba(df_test_X7) \n",
    "rf_14_test = RandomForestClassifier(n_estimators=100,  max_depth =5, max_features = 'sqrt', max_leaf_nodes= 8).fit(train_X14, train_Y14)\n",
    "rf_14_prob = rf_14_test.predict_proba(df_test_X14) "
   ]
  },
  {
   "cell_type": "code",
   "execution_count": 133,
   "metadata": {
    "collapsed": true
   },
   "outputs": [],
   "source": [
    "df = pd.DataFrame({'user_id_hash': df_test.user_id_hash,\n",
    "                   'user_purchase_binary_7_days': list(rf_7_prob[:, 1]),\n",
    "                   'user_purchase_binary_14_days': list(rf_14_prob[:,1])})"
   ]
  },
  {
   "cell_type": "code",
   "execution_count": 134,
   "metadata": {},
   "outputs": [
    {
     "data": {
      "text/html": [
       "<div>\n",
       "<table border=\"1\" class=\"dataframe\">\n",
       "  <thead>\n",
       "    <tr style=\"text-align: right;\">\n",
       "      <th></th>\n",
       "      <th>user_id_hash</th>\n",
       "      <th>user_purchase_binary_14_days</th>\n",
       "      <th>user_purchase_binary_7_days</th>\n",
       "    </tr>\n",
       "  </thead>\n",
       "  <tbody>\n",
       "    <tr>\n",
       "      <th>0</th>\n",
       "      <td>00000db35682058bb7916cb90f85709f54c1a0f7a3b6de...</td>\n",
       "      <td>0.128928</td>\n",
       "      <td>0.099815</td>\n",
       "    </tr>\n",
       "    <tr>\n",
       "      <th>1</th>\n",
       "      <td>000059859ec188af6035870faf885c3038cedda05b3a54...</td>\n",
       "      <td>0.100481</td>\n",
       "      <td>0.086370</td>\n",
       "    </tr>\n",
       "    <tr>\n",
       "      <th>2</th>\n",
       "      <td>000062e9be78f3da274fec338e78f89d12000e781967f2...</td>\n",
       "      <td>0.158572</td>\n",
       "      <td>0.128011</td>\n",
       "    </tr>\n",
       "    <tr>\n",
       "      <th>3</th>\n",
       "      <td>00006ad44c0d33a2a526caf75514643639b7b7070dfffd...</td>\n",
       "      <td>0.038806</td>\n",
       "      <td>0.034922</td>\n",
       "    </tr>\n",
       "    <tr>\n",
       "      <th>4</th>\n",
       "      <td>000081a7d841b0f953bdba6c185fd5cc335fd6015a30c3...</td>\n",
       "      <td>0.047371</td>\n",
       "      <td>0.033722</td>\n",
       "    </tr>\n",
       "  </tbody>\n",
       "</table>\n",
       "</div>"
      ],
      "text/plain": [
       "                                        user_id_hash  \\\n",
       "0  00000db35682058bb7916cb90f85709f54c1a0f7a3b6de...   \n",
       "1  000059859ec188af6035870faf885c3038cedda05b3a54...   \n",
       "2  000062e9be78f3da274fec338e78f89d12000e781967f2...   \n",
       "3  00006ad44c0d33a2a526caf75514643639b7b7070dfffd...   \n",
       "4  000081a7d841b0f953bdba6c185fd5cc335fd6015a30c3...   \n",
       "\n",
       "   user_purchase_binary_14_days  user_purchase_binary_7_days  \n",
       "0                      0.128928                     0.099815  \n",
       "1                      0.100481                     0.086370  \n",
       "2                      0.158572                     0.128011  \n",
       "3                      0.038806                     0.034922  \n",
       "4                      0.047371                     0.033722  "
      ]
     },
     "execution_count": 134,
     "metadata": {},
     "output_type": "execute_result"
    }
   ],
   "source": [
    "df.head()"
   ]
  },
  {
   "cell_type": "code",
   "execution_count": 135,
   "metadata": {
    "collapsed": true
   },
   "outputs": [],
   "source": [
    "df.to_csv('prediction.csv', encoding='utf-8', index=False)"
   ]
  },
  {
   "cell_type": "markdown",
   "metadata": {
    "collapsed": true
   },
   "source": [
    "# Prediction Submission File"
   ]
  },
  {
   "cell_type": "code",
   "execution_count": null,
   "metadata": {},
   "outputs": [],
   "source": [
    "df1 =  pd.read_csv('prediction.csv') ## Load our prediction file \n",
    "df2 =  pd.read_csv('sample_submission_2.csv') ## Load the sample prediction file "
   ]
  },
  {
   "cell_type": "code",
   "execution_count": null,
   "metadata": {},
   "outputs": [],
   "source": [
    "user = list(df2.user_id_hash.values) # Extract user id from the sample prediction file \n",
    "miss_users = list(set(user)- set(df.user_id_hash.values)) # Find the missing values in user id in our prediction file\n"
   ]
  },
  {
   "cell_type": "code",
   "execution_count": null,
   "metadata": {},
   "outputs": [],
   "source": [
    "df = df1.loc[df1['user_id_hash'].isin(user)] ## Extract the prediction file with user id in user\n",
    "df_miss =df2.loc[df2['user_id_hash'].isin(miss_users)] ## replace the missing values with the values in sample submissions\n"
   ]
  },
  {
   "cell_type": "code",
   "execution_count": null,
   "metadata": {},
   "outputs": [],
   "source": [
    "prediction_submission = pd.concat([df,df_miss],sort =False) # concanate two dataframe together \n",
    "prediction_submission  = prediction_submission .to_csv('prediction.csv', index=False) # save to csv"
   ]
  }
 ],
 "metadata": {
  "anaconda-cloud": {},
  "kernelspec": {
   "display_name": "Python 3",
   "language": "python",
   "name": "python3"
  },
  "language_info": {
   "codemirror_mode": {
    "name": "ipython",
    "version": 3
   },
   "file_extension": ".py",
   "mimetype": "text/x-python",
   "name": "python",
   "nbconvert_exporter": "python",
   "pygments_lexer": "ipython3",
   "version": "3.6.7"
  }
 },
 "nbformat": 4,
 "nbformat_minor": 1
}
