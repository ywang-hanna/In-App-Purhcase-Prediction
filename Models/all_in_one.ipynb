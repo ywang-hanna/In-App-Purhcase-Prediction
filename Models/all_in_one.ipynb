{
 "cells": [
  {
   "cell_type": "code",
   "execution_count": 1,
   "metadata": {
    "ExecuteTime": {
     "end_time": "2019-02-27T22:40:59.295396Z",
     "start_time": "2019-02-27T22:40:57.793002Z"
    }
   },
   "outputs": [],
   "source": [
    "import pandas as pd\n",
    "import numpy as np\n",
    "import pickle\n",
    "from pandas import Timestamp\n",
    "from collections import Counter\n",
    "from sklearn.utils import shuffle\n",
    "\n",
    "from sklearn.metrics import roc_curve, auc\n",
    "import sys\n",
    "import matplotlib.pyplot as plt\n",
    "import warnings\n",
    "from sklearn.metrics import accuracy_score\n",
    "from sklearn.metrics import classification_report\n",
    "from sklearn.metrics import roc_curve, auc\n",
    "from sklearn.metrics import confusion_matrix\n",
    "from sklearn.metrics import classification_report\n",
    "from pylab import rcParams\n",
    "from sklearn import metrics\n",
    "from sklearn.ensemble import RandomForestClassifier"
   ]
  },
  {
   "cell_type": "code",
   "execution_count": null,
   "metadata": {},
   "outputs": [],
   "source": []
  },
  {
   "cell_type": "code",
   "execution_count": null,
   "metadata": {},
   "outputs": [],
   "source": []
  },
  {
   "cell_type": "markdown",
   "metadata": {},
   "source": [
    "## Load data and clean"
   ]
  },
  {
   "cell_type": "code",
   "execution_count": 2,
   "metadata": {
    "ExecuteTime": {
     "end_time": "2019-02-27T22:43:06.059507Z",
     "start_time": "2019-02-27T22:41:01.877296Z"
    }
   },
   "outputs": [],
   "source": [
    "sessions = pickle.load(open('../Data/sessions.pkl', 'rb'))\n",
    "events = pd.read_csv('../Data/events.csv')"
   ]
  },
  {
   "cell_type": "code",
   "execution_count": 3,
   "metadata": {
    "ExecuteTime": {
     "end_time": "2019-02-27T22:43:06.258701Z",
     "start_time": "2019-02-27T22:43:06.070380Z"
    }
   },
   "outputs": [
    {
     "data": {
      "text/html": [
       "<div>\n",
       "<style scoped>\n",
       "    .dataframe tbody tr th:only-of-type {\n",
       "        vertical-align: middle;\n",
       "    }\n",
       "\n",
       "    .dataframe tbody tr th {\n",
       "        vertical-align: top;\n",
       "    }\n",
       "\n",
       "    .dataframe thead th {\n",
       "        text-align: right;\n",
       "    }\n",
       "</style>\n",
       "<table border=\"1\" class=\"dataframe\">\n",
       "  <thead>\n",
       "    <tr style=\"text-align: right;\">\n",
       "      <th></th>\n",
       "      <th>session_id</th>\n",
       "      <th>start_timestamp</th>\n",
       "      <th>timezone</th>\n",
       "      <th>timezone_offset</th>\n",
       "      <th>previous_sessions_duration</th>\n",
       "      <th>user_created_timestamp</th>\n",
       "      <th>is_user_first_session</th>\n",
       "      <th>is_session</th>\n",
       "      <th>country</th>\n",
       "      <th>region</th>\n",
       "      <th>city</th>\n",
       "      <th>latitude</th>\n",
       "      <th>longitude</th>\n",
       "      <th>locale</th>\n",
       "      <th>os_name</th>\n",
       "      <th>session_index</th>\n",
       "      <th>device_id</th>\n",
       "      <th>user_id_hash</th>\n",
       "    </tr>\n",
       "  </thead>\n",
       "  <tbody>\n",
       "    <tr>\n",
       "      <th>0</th>\n",
       "      <td>5558845121177764917</td>\n",
       "      <td>1542215364580</td>\n",
       "      <td>Asia/Manila</td>\n",
       "      <td>28800000</td>\n",
       "      <td>25837591</td>\n",
       "      <td>1538874289458</td>\n",
       "      <td>False</td>\n",
       "      <td>True</td>\n",
       "      <td>PH</td>\n",
       "      <td>00</td>\n",
       "      <td>makati</td>\n",
       "      <td>14.554729</td>\n",
       "      <td>121.024445</td>\n",
       "      <td>en_GB</td>\n",
       "      <td>Android OS</td>\n",
       "      <td>30</td>\n",
       "      <td>546a3d98-d540-4e72-ad82-9ebd64e0839b</td>\n",
       "      <td>9943447915df3a45fd6720a026af905b6da6b56a37701b...</td>\n",
       "    </tr>\n",
       "    <tr>\n",
       "      <th>1</th>\n",
       "      <td>2201961907282901522</td>\n",
       "      <td>1543712977293</td>\n",
       "      <td>Asia/Manila</td>\n",
       "      <td>28800000</td>\n",
       "      <td>35050130</td>\n",
       "      <td>1538874289458</td>\n",
       "      <td>False</td>\n",
       "      <td>True</td>\n",
       "      <td>PH</td>\n",
       "      <td>00</td>\n",
       "      <td>quezon city</td>\n",
       "      <td>14.676041</td>\n",
       "      <td>121.043701</td>\n",
       "      <td>en_GB</td>\n",
       "      <td>Android OS</td>\n",
       "      <td>47</td>\n",
       "      <td>546a3d98-d540-4e72-ad82-9ebd64e0839b</td>\n",
       "      <td>9943447915df3a45fd6720a026af905b6da6b56a37701b...</td>\n",
       "    </tr>\n",
       "    <tr>\n",
       "      <th>2</th>\n",
       "      <td>18781111175537580</td>\n",
       "      <td>1539215568666</td>\n",
       "      <td>Asia/Manila</td>\n",
       "      <td>28800000</td>\n",
       "      <td>11343848</td>\n",
       "      <td>1538874289458</td>\n",
       "      <td>False</td>\n",
       "      <td>True</td>\n",
       "      <td>PH</td>\n",
       "      <td>00</td>\n",
       "      <td>makati</td>\n",
       "      <td>14.554729</td>\n",
       "      <td>121.024445</td>\n",
       "      <td>en_GB</td>\n",
       "      <td>Android OS</td>\n",
       "      <td>10</td>\n",
       "      <td>546a3d98-d540-4e72-ad82-9ebd64e0839b</td>\n",
       "      <td>9943447915df3a45fd6720a026af905b6da6b56a37701b...</td>\n",
       "    </tr>\n",
       "    <tr>\n",
       "      <th>3</th>\n",
       "      <td>1477540082628742048</td>\n",
       "      <td>1540120743010</td>\n",
       "      <td>Asia/Manila</td>\n",
       "      <td>28800000</td>\n",
       "      <td>13499724</td>\n",
       "      <td>1538874289458</td>\n",
       "      <td>False</td>\n",
       "      <td>True</td>\n",
       "      <td>PH</td>\n",
       "      <td>11</td>\n",
       "      <td>davao city</td>\n",
       "      <td>7.190708</td>\n",
       "      <td>125.455338</td>\n",
       "      <td>en_GB</td>\n",
       "      <td>Android OS</td>\n",
       "      <td>13</td>\n",
       "      <td>546a3d98-d540-4e72-ad82-9ebd64e0839b</td>\n",
       "      <td>9943447915df3a45fd6720a026af905b6da6b56a37701b...</td>\n",
       "    </tr>\n",
       "    <tr>\n",
       "      <th>4</th>\n",
       "      <td>8184875317380844086</td>\n",
       "      <td>1542671625528</td>\n",
       "      <td>Asia/Manila</td>\n",
       "      <td>28800000</td>\n",
       "      <td>32788010</td>\n",
       "      <td>1538874289458</td>\n",
       "      <td>False</td>\n",
       "      <td>True</td>\n",
       "      <td>PH</td>\n",
       "      <td>00</td>\n",
       "      <td>makati</td>\n",
       "      <td>14.554729</td>\n",
       "      <td>121.024445</td>\n",
       "      <td>en_GB</td>\n",
       "      <td>Android OS</td>\n",
       "      <td>41</td>\n",
       "      <td>546a3d98-d540-4e72-ad82-9ebd64e0839b</td>\n",
       "      <td>9943447915df3a45fd6720a026af905b6da6b56a37701b...</td>\n",
       "    </tr>\n",
       "  </tbody>\n",
       "</table>\n",
       "</div>"
      ],
      "text/plain": [
       "            session_id  start_timestamp     timezone  timezone_offset  \\\n",
       "0  5558845121177764917    1542215364580  Asia/Manila         28800000   \n",
       "1  2201961907282901522    1543712977293  Asia/Manila         28800000   \n",
       "2    18781111175537580    1539215568666  Asia/Manila         28800000   \n",
       "3  1477540082628742048    1540120743010  Asia/Manila         28800000   \n",
       "4  8184875317380844086    1542671625528  Asia/Manila         28800000   \n",
       "\n",
       "   previous_sessions_duration  user_created_timestamp  is_user_first_session  \\\n",
       "0                    25837591           1538874289458                  False   \n",
       "1                    35050130           1538874289458                  False   \n",
       "2                    11343848           1538874289458                  False   \n",
       "3                    13499724           1538874289458                  False   \n",
       "4                    32788010           1538874289458                  False   \n",
       "\n",
       "   is_session country region         city   latitude   longitude locale  \\\n",
       "0        True      PH     00       makati  14.554729  121.024445  en_GB   \n",
       "1        True      PH     00  quezon city  14.676041  121.043701  en_GB   \n",
       "2        True      PH     00       makati  14.554729  121.024445  en_GB   \n",
       "3        True      PH     11   davao city   7.190708  125.455338  en_GB   \n",
       "4        True      PH     00       makati  14.554729  121.024445  en_GB   \n",
       "\n",
       "      os_name  session_index                             device_id  \\\n",
       "0  Android OS             30  546a3d98-d540-4e72-ad82-9ebd64e0839b   \n",
       "1  Android OS             47  546a3d98-d540-4e72-ad82-9ebd64e0839b   \n",
       "2  Android OS             10  546a3d98-d540-4e72-ad82-9ebd64e0839b   \n",
       "3  Android OS             13  546a3d98-d540-4e72-ad82-9ebd64e0839b   \n",
       "4  Android OS             41  546a3d98-d540-4e72-ad82-9ebd64e0839b   \n",
       "\n",
       "                                        user_id_hash  \n",
       "0  9943447915df3a45fd6720a026af905b6da6b56a37701b...  \n",
       "1  9943447915df3a45fd6720a026af905b6da6b56a37701b...  \n",
       "2  9943447915df3a45fd6720a026af905b6da6b56a37701b...  \n",
       "3  9943447915df3a45fd6720a026af905b6da6b56a37701b...  \n",
       "4  9943447915df3a45fd6720a026af905b6da6b56a37701b...  "
      ]
     },
     "execution_count": 3,
     "metadata": {},
     "output_type": "execute_result"
    }
   ],
   "source": [
    "sessions.head()"
   ]
  },
  {
   "cell_type": "code",
   "execution_count": 4,
   "metadata": {
    "ExecuteTime": {
     "end_time": "2019-02-27T22:43:06.271597Z",
     "start_time": "2019-02-27T22:43:06.260482Z"
    }
   },
   "outputs": [
    {
     "data": {
      "text/html": [
       "<div>\n",
       "<style scoped>\n",
       "    .dataframe tbody tr th:only-of-type {\n",
       "        vertical-align: middle;\n",
       "    }\n",
       "\n",
       "    .dataframe tbody tr th {\n",
       "        vertical-align: top;\n",
       "    }\n",
       "\n",
       "    .dataframe thead th {\n",
       "        text-align: right;\n",
       "    }\n",
       "</style>\n",
       "<table border=\"1\" class=\"dataframe\">\n",
       "  <thead>\n",
       "    <tr style=\"text-align: right;\">\n",
       "      <th></th>\n",
       "      <th>app_id</th>\n",
       "      <th>session_id</th>\n",
       "      <th>event</th>\n",
       "      <th>event_timestamp</th>\n",
       "      <th>event_value</th>\n",
       "      <th>user_id_hash</th>\n",
       "    </tr>\n",
       "  </thead>\n",
       "  <tbody>\n",
       "    <tr>\n",
       "      <th>0</th>\n",
       "      <td>4724682771660800</td>\n",
       "      <td>5558845121177764917</td>\n",
       "      <td>45</td>\n",
       "      <td>1542215397132</td>\n",
       "      <td>0.0</td>\n",
       "      <td>9943447915df3a45fd6720a026af905b6da6b56a37701b...</td>\n",
       "    </tr>\n",
       "    <tr>\n",
       "      <th>1</th>\n",
       "      <td>4724682771660800</td>\n",
       "      <td>5558845121177764917</td>\n",
       "      <td>45</td>\n",
       "      <td>1542215484895</td>\n",
       "      <td>0.0</td>\n",
       "      <td>9943447915df3a45fd6720a026af905b6da6b56a37701b...</td>\n",
       "    </tr>\n",
       "    <tr>\n",
       "      <th>2</th>\n",
       "      <td>4724682771660800</td>\n",
       "      <td>7689508378645584666</td>\n",
       "      <td>.m5100869650219008</td>\n",
       "      <td>1541124410372</td>\n",
       "      <td>0.0</td>\n",
       "      <td>9943447915df3a45fd6720a026af905b6da6b56a37701b...</td>\n",
       "    </tr>\n",
       "    <tr>\n",
       "      <th>3</th>\n",
       "      <td>4724682771660800</td>\n",
       "      <td>2201961907282901522</td>\n",
       "      <td>4</td>\n",
       "      <td>1543713091129</td>\n",
       "      <td>0.0</td>\n",
       "      <td>9943447915df3a45fd6720a026af905b6da6b56a37701b...</td>\n",
       "    </tr>\n",
       "    <tr>\n",
       "      <th>4</th>\n",
       "      <td>4724682771660800</td>\n",
       "      <td>2201961907282901522</td>\n",
       "      <td>6</td>\n",
       "      <td>1543713093116</td>\n",
       "      <td>0.0</td>\n",
       "      <td>9943447915df3a45fd6720a026af905b6da6b56a37701b...</td>\n",
       "    </tr>\n",
       "  </tbody>\n",
       "</table>\n",
       "</div>"
      ],
      "text/plain": [
       "             app_id           session_id               event  event_timestamp  \\\n",
       "0  4724682771660800  5558845121177764917                  45    1542215397132   \n",
       "1  4724682771660800  5558845121177764917                  45    1542215484895   \n",
       "2  4724682771660800  7689508378645584666  .m5100869650219008    1541124410372   \n",
       "3  4724682771660800  2201961907282901522                   4    1543713091129   \n",
       "4  4724682771660800  2201961907282901522                   6    1543713093116   \n",
       "\n",
       "   event_value                                       user_id_hash  \n",
       "0          0.0  9943447915df3a45fd6720a026af905b6da6b56a37701b...  \n",
       "1          0.0  9943447915df3a45fd6720a026af905b6da6b56a37701b...  \n",
       "2          0.0  9943447915df3a45fd6720a026af905b6da6b56a37701b...  \n",
       "3          0.0  9943447915df3a45fd6720a026af905b6da6b56a37701b...  \n",
       "4          0.0  9943447915df3a45fd6720a026af905b6da6b56a37701b...  "
      ]
     },
     "execution_count": 4,
     "metadata": {},
     "output_type": "execute_result"
    }
   ],
   "source": [
    "events.head()"
   ]
  },
  {
   "cell_type": "code",
   "execution_count": 5,
   "metadata": {
    "ExecuteTime": {
     "end_time": "2019-02-27T22:43:11.505057Z",
     "start_time": "2019-02-27T22:43:06.273987Z"
    }
   },
   "outputs": [],
   "source": [
    "sessions = sessions.drop(['timezone_offset', 'timezone', 'is_user_first_session', 'city', 'region',\n",
    "                        'latitude', 'longitude', 'locale', 'device_id'], axis=1).dropna()\n",
    "sessions = sessions[sessions['is_session']==True].drop('is_session', axis=1)\n",
    "sessions['start_timestamp'] = pd.to_datetime(sessions['start_timestamp'], unit='ms')\n",
    "sessions['user_created_timestamp'] = pd.to_datetime(sessions['user_created_timestamp'], unit='ms')\n",
    "sessions = sessions.sort_values(by='start_timestamp')\n",
    "sessions = sessions.reset_index(drop=True)"
   ]
  },
  {
   "cell_type": "code",
   "execution_count": 6,
   "metadata": {
    "ExecuteTime": {
     "end_time": "2019-02-27T22:44:30.047941Z",
     "start_time": "2019-02-27T22:43:11.507055Z"
    }
   },
   "outputs": [],
   "source": [
    "events = events.drop('app_id', axis=1)\n",
    "events = events[events['event'].map(lambda x: x[0]!='.')]\n",
    "events['event_timestamp'] = pd.to_datetime(events['event_timestamp'],unit='ms')\n",
    "events = events.sort_values(by='event_timestamp')\n",
    "events = events.reset_index(drop=True)"
   ]
  },
  {
   "cell_type": "code",
   "execution_count": 7,
   "metadata": {
    "ExecuteTime": {
     "end_time": "2019-02-27T22:44:30.085836Z",
     "start_time": "2019-02-27T22:44:30.060161Z"
    }
   },
   "outputs": [
    {
     "data": {
      "text/html": [
       "<div>\n",
       "<style scoped>\n",
       "    .dataframe tbody tr th:only-of-type {\n",
       "        vertical-align: middle;\n",
       "    }\n",
       "\n",
       "    .dataframe tbody tr th {\n",
       "        vertical-align: top;\n",
       "    }\n",
       "\n",
       "    .dataframe thead th {\n",
       "        text-align: right;\n",
       "    }\n",
       "</style>\n",
       "<table border=\"1\" class=\"dataframe\">\n",
       "  <thead>\n",
       "    <tr style=\"text-align: right;\">\n",
       "      <th></th>\n",
       "      <th>session_id</th>\n",
       "      <th>start_timestamp</th>\n",
       "      <th>previous_sessions_duration</th>\n",
       "      <th>user_created_timestamp</th>\n",
       "      <th>country</th>\n",
       "      <th>os_name</th>\n",
       "      <th>session_index</th>\n",
       "      <th>user_id_hash</th>\n",
       "    </tr>\n",
       "  </thead>\n",
       "  <tbody>\n",
       "    <tr>\n",
       "      <th>0</th>\n",
       "      <td>4339488202460077611</td>\n",
       "      <td>2018-10-01 07:00:04.526</td>\n",
       "      <td>0</td>\n",
       "      <td>2018-10-01 07:00:04.526</td>\n",
       "      <td>AU</td>\n",
       "      <td>iPhone OS</td>\n",
       "      <td>1</td>\n",
       "      <td>c9bad12f865142f1b3938c9ab8a3003a7882136a2b4a12...</td>\n",
       "    </tr>\n",
       "    <tr>\n",
       "      <th>1</th>\n",
       "      <td>7012480646309837595</td>\n",
       "      <td>2018-10-01 07:00:08.476</td>\n",
       "      <td>0</td>\n",
       "      <td>2018-10-01 07:00:08.476</td>\n",
       "      <td>NZ</td>\n",
       "      <td>iOS</td>\n",
       "      <td>1</td>\n",
       "      <td>285863e47df26bf47664c93d45c35ee3b9cfc8e253da23...</td>\n",
       "    </tr>\n",
       "    <tr>\n",
       "      <th>2</th>\n",
       "      <td>2920311224184894615</td>\n",
       "      <td>2018-10-01 07:01:02.101</td>\n",
       "      <td>1000637</td>\n",
       "      <td>2018-10-01 06:44:08.468</td>\n",
       "      <td>IN</td>\n",
       "      <td>Android OS</td>\n",
       "      <td>2</td>\n",
       "      <td>475f8f20576637055c5331513dda4db1d889f5e951c8e5...</td>\n",
       "    </tr>\n",
       "    <tr>\n",
       "      <th>3</th>\n",
       "      <td>8483277250870486701</td>\n",
       "      <td>2018-10-01 07:01:30.694</td>\n",
       "      <td>0</td>\n",
       "      <td>2018-10-01 07:01:30.694</td>\n",
       "      <td>US</td>\n",
       "      <td>Android OS</td>\n",
       "      <td>1</td>\n",
       "      <td>4bc7b52d56b24d258ba1746994492f354fd4b17fcaae81...</td>\n",
       "    </tr>\n",
       "    <tr>\n",
       "      <th>4</th>\n",
       "      <td>8114762104527844914</td>\n",
       "      <td>2018-10-01 07:01:57.770</td>\n",
       "      <td>2415582</td>\n",
       "      <td>2018-10-01 06:18:23.919</td>\n",
       "      <td>US</td>\n",
       "      <td>Android OS</td>\n",
       "      <td>2</td>\n",
       "      <td>82349b0d1a80b42e59519068ded46178778084b9602b9c...</td>\n",
       "    </tr>\n",
       "  </tbody>\n",
       "</table>\n",
       "</div>"
      ],
      "text/plain": [
       "            session_id         start_timestamp  previous_sessions_duration  \\\n",
       "0  4339488202460077611 2018-10-01 07:00:04.526                           0   \n",
       "1  7012480646309837595 2018-10-01 07:00:08.476                           0   \n",
       "2  2920311224184894615 2018-10-01 07:01:02.101                     1000637   \n",
       "3  8483277250870486701 2018-10-01 07:01:30.694                           0   \n",
       "4  8114762104527844914 2018-10-01 07:01:57.770                     2415582   \n",
       "\n",
       "   user_created_timestamp country     os_name  session_index  \\\n",
       "0 2018-10-01 07:00:04.526      AU   iPhone OS              1   \n",
       "1 2018-10-01 07:00:08.476      NZ         iOS              1   \n",
       "2 2018-10-01 06:44:08.468      IN  Android OS              2   \n",
       "3 2018-10-01 07:01:30.694      US  Android OS              1   \n",
       "4 2018-10-01 06:18:23.919      US  Android OS              2   \n",
       "\n",
       "                                        user_id_hash  \n",
       "0  c9bad12f865142f1b3938c9ab8a3003a7882136a2b4a12...  \n",
       "1  285863e47df26bf47664c93d45c35ee3b9cfc8e253da23...  \n",
       "2  475f8f20576637055c5331513dda4db1d889f5e951c8e5...  \n",
       "3  4bc7b52d56b24d258ba1746994492f354fd4b17fcaae81...  \n",
       "4  82349b0d1a80b42e59519068ded46178778084b9602b9c...  "
      ]
     },
     "execution_count": 7,
     "metadata": {},
     "output_type": "execute_result"
    }
   ],
   "source": [
    "sessions.head()"
   ]
  },
  {
   "cell_type": "code",
   "execution_count": 8,
   "metadata": {
    "ExecuteTime": {
     "end_time": "2019-02-27T22:44:30.098596Z",
     "start_time": "2019-02-27T22:44:30.087675Z"
    }
   },
   "outputs": [
    {
     "data": {
      "text/html": [
       "<div>\n",
       "<style scoped>\n",
       "    .dataframe tbody tr th:only-of-type {\n",
       "        vertical-align: middle;\n",
       "    }\n",
       "\n",
       "    .dataframe tbody tr th {\n",
       "        vertical-align: top;\n",
       "    }\n",
       "\n",
       "    .dataframe thead th {\n",
       "        text-align: right;\n",
       "    }\n",
       "</style>\n",
       "<table border=\"1\" class=\"dataframe\">\n",
       "  <thead>\n",
       "    <tr style=\"text-align: right;\">\n",
       "      <th></th>\n",
       "      <th>session_id</th>\n",
       "      <th>event</th>\n",
       "      <th>event_timestamp</th>\n",
       "      <th>event_value</th>\n",
       "      <th>user_id_hash</th>\n",
       "    </tr>\n",
       "  </thead>\n",
       "  <tbody>\n",
       "    <tr>\n",
       "      <th>0</th>\n",
       "      <td>7012480646309837595</td>\n",
       "      <td>44</td>\n",
       "      <td>2018-10-01 07:00:40.514</td>\n",
       "      <td>0.0</td>\n",
       "      <td>285863e47df26bf47664c93d45c35ee3b9cfc8e253da23...</td>\n",
       "    </tr>\n",
       "    <tr>\n",
       "      <th>1</th>\n",
       "      <td>7012480646309837595</td>\n",
       "      <td>5</td>\n",
       "      <td>2018-10-01 07:00:42.744</td>\n",
       "      <td>0.0</td>\n",
       "      <td>285863e47df26bf47664c93d45c35ee3b9cfc8e253da23...</td>\n",
       "    </tr>\n",
       "    <tr>\n",
       "      <th>2</th>\n",
       "      <td>7012480646309837595</td>\n",
       "      <td>45</td>\n",
       "      <td>2018-10-01 07:01:06.395</td>\n",
       "      <td>0.0</td>\n",
       "      <td>285863e47df26bf47664c93d45c35ee3b9cfc8e253da23...</td>\n",
       "    </tr>\n",
       "    <tr>\n",
       "      <th>3</th>\n",
       "      <td>7012480646309837595</td>\n",
       "      <td>14</td>\n",
       "      <td>2018-10-01 07:01:44.065</td>\n",
       "      <td>0.0</td>\n",
       "      <td>285863e47df26bf47664c93d45c35ee3b9cfc8e253da23...</td>\n",
       "    </tr>\n",
       "    <tr>\n",
       "      <th>4</th>\n",
       "      <td>4339488202460077611</td>\n",
       "      <td>44</td>\n",
       "      <td>2018-10-01 07:01:54.780</td>\n",
       "      <td>0.0</td>\n",
       "      <td>c9bad12f865142f1b3938c9ab8a3003a7882136a2b4a12...</td>\n",
       "    </tr>\n",
       "  </tbody>\n",
       "</table>\n",
       "</div>"
      ],
      "text/plain": [
       "            session_id event         event_timestamp  event_value  \\\n",
       "0  7012480646309837595    44 2018-10-01 07:00:40.514          0.0   \n",
       "1  7012480646309837595     5 2018-10-01 07:00:42.744          0.0   \n",
       "2  7012480646309837595    45 2018-10-01 07:01:06.395          0.0   \n",
       "3  7012480646309837595    14 2018-10-01 07:01:44.065          0.0   \n",
       "4  4339488202460077611    44 2018-10-01 07:01:54.780          0.0   \n",
       "\n",
       "                                        user_id_hash  \n",
       "0  285863e47df26bf47664c93d45c35ee3b9cfc8e253da23...  \n",
       "1  285863e47df26bf47664c93d45c35ee3b9cfc8e253da23...  \n",
       "2  285863e47df26bf47664c93d45c35ee3b9cfc8e253da23...  \n",
       "3  285863e47df26bf47664c93d45c35ee3b9cfc8e253da23...  \n",
       "4  c9bad12f865142f1b3938c9ab8a3003a7882136a2b4a12...  "
      ]
     },
     "execution_count": 8,
     "metadata": {},
     "output_type": "execute_result"
    }
   ],
   "source": [
    "events.head()"
   ]
  },
  {
   "cell_type": "code",
   "execution_count": 9,
   "metadata": {
    "ExecuteTime": {
     "end_time": "2019-02-27T22:44:30.104875Z",
     "start_time": "2019-02-27T22:44:30.100545Z"
    }
   },
   "outputs": [
    {
     "name": "stdout",
     "output_type": "stream",
     "text": [
      "5157590 109627861\n"
     ]
    }
   ],
   "source": [
    "print(len(sessions), len(events))"
   ]
  },
  {
   "cell_type": "code",
   "execution_count": null,
   "metadata": {},
   "outputs": [],
   "source": []
  },
  {
   "cell_type": "code",
   "execution_count": null,
   "metadata": {},
   "outputs": [],
   "source": []
  },
  {
   "cell_type": "markdown",
   "metadata": {},
   "source": [
    "## Get data & label"
   ]
  },
  {
   "cell_type": "code",
   "execution_count": 10,
   "metadata": {
    "ExecuteTime": {
     "end_time": "2019-02-27T22:45:17.410034Z",
     "start_time": "2019-02-27T22:45:09.882273Z"
    }
   },
   "outputs": [],
   "source": [
    "events_data = events[events['event_timestamp']<=(events.event_timestamp[events.shape[0]-1] - pd.Timedelta(days=14))]\n",
    "events_label = events[events['event_timestamp']>(events.event_timestamp[events.shape[0]-1] - pd.Timedelta(days=14))]"
   ]
  },
  {
   "cell_type": "code",
   "execution_count": 11,
   "metadata": {
    "ExecuteTime": {
     "end_time": "2019-02-27T22:45:27.703444Z",
     "start_time": "2019-02-27T22:45:26.308842Z"
    }
   },
   "outputs": [],
   "source": [
    "sessions_data = sessions[sessions['start_timestamp']<=(sessions.start_timestamp.iloc[-1]-pd.Timedelta(days=14))]"
   ]
  },
  {
   "cell_type": "code",
   "execution_count": 12,
   "metadata": {
    "ExecuteTime": {
     "end_time": "2019-02-27T22:45:58.364315Z",
     "start_time": "2019-02-27T22:45:36.110671Z"
    }
   },
   "outputs": [],
   "source": [
    "events_7_days = events_label[events_label['event_timestamp']\n",
    "                             <=(events.event_timestamp[events.shape[0]-1] - pd.Timedelta(days=7))].\\\n",
    "                groupby('user_id_hash')['event'].apply(lambda x: list(x)).reset_index()\n",
    "events_14_days = events_label.groupby('user_id_hash')['event'].apply(lambda x: list(x)).reset_index()\n",
    "events_7_days['user_purchase_binary_7_days'] = [int('8' in e) for e in events_7_days.event]\n",
    "events_14_days['user_purchase_binary_14_days'] = [int('8' in e) for e in events_14_days.event]\n",
    "training_label = events_14_days.merge(events_7_days, how='left', on='user_id_hash').fillna(0)\n",
    "training_label = training_label.drop(['event_x', 'event_y'], axis=1)"
   ]
  },
  {
   "cell_type": "code",
   "execution_count": 13,
   "metadata": {
    "ExecuteTime": {
     "end_time": "2019-02-27T22:45:58.377130Z",
     "start_time": "2019-02-27T22:45:58.367056Z"
    }
   },
   "outputs": [
    {
     "data": {
      "text/html": [
       "<div>\n",
       "<style scoped>\n",
       "    .dataframe tbody tr th:only-of-type {\n",
       "        vertical-align: middle;\n",
       "    }\n",
       "\n",
       "    .dataframe tbody tr th {\n",
       "        vertical-align: top;\n",
       "    }\n",
       "\n",
       "    .dataframe thead th {\n",
       "        text-align: right;\n",
       "    }\n",
       "</style>\n",
       "<table border=\"1\" class=\"dataframe\">\n",
       "  <thead>\n",
       "    <tr style=\"text-align: right;\">\n",
       "      <th></th>\n",
       "      <th>user_id_hash</th>\n",
       "      <th>user_purchase_binary_14_days</th>\n",
       "      <th>user_purchase_binary_7_days</th>\n",
       "    </tr>\n",
       "  </thead>\n",
       "  <tbody>\n",
       "    <tr>\n",
       "      <th>0</th>\n",
       "      <td>00000db35682058bb7916cb90f85709f54c1a0f7a3b6de...</td>\n",
       "      <td>0</td>\n",
       "      <td>0.0</td>\n",
       "    </tr>\n",
       "    <tr>\n",
       "      <th>1</th>\n",
       "      <td>000081a7d841b0f953bdba6c185fd5cc335fd6015a30c3...</td>\n",
       "      <td>0</td>\n",
       "      <td>0.0</td>\n",
       "    </tr>\n",
       "    <tr>\n",
       "      <th>2</th>\n",
       "      <td>0000a464ad921c3288e73a3a788b5f113cabf84251a74b...</td>\n",
       "      <td>0</td>\n",
       "      <td>0.0</td>\n",
       "    </tr>\n",
       "    <tr>\n",
       "      <th>3</th>\n",
       "      <td>0000bc4e8bfc829d327fa69bdc426dd8a789c52550ed87...</td>\n",
       "      <td>0</td>\n",
       "      <td>0.0</td>\n",
       "    </tr>\n",
       "    <tr>\n",
       "      <th>4</th>\n",
       "      <td>00020102f66f89759868c843ae9fe634870f132f9e3d79...</td>\n",
       "      <td>0</td>\n",
       "      <td>0.0</td>\n",
       "    </tr>\n",
       "  </tbody>\n",
       "</table>\n",
       "</div>"
      ],
      "text/plain": [
       "                                        user_id_hash  \\\n",
       "0  00000db35682058bb7916cb90f85709f54c1a0f7a3b6de...   \n",
       "1  000081a7d841b0f953bdba6c185fd5cc335fd6015a30c3...   \n",
       "2  0000a464ad921c3288e73a3a788b5f113cabf84251a74b...   \n",
       "3  0000bc4e8bfc829d327fa69bdc426dd8a789c52550ed87...   \n",
       "4  00020102f66f89759868c843ae9fe634870f132f9e3d79...   \n",
       "\n",
       "   user_purchase_binary_14_days  user_purchase_binary_7_days  \n",
       "0                             0                          0.0  \n",
       "1                             0                          0.0  \n",
       "2                             0                          0.0  \n",
       "3                             0                          0.0  \n",
       "4                             0                          0.0  "
      ]
     },
     "execution_count": 13,
     "metadata": {},
     "output_type": "execute_result"
    }
   ],
   "source": [
    "training_label.head()"
   ]
  },
  {
   "cell_type": "code",
   "execution_count": 14,
   "metadata": {
    "ExecuteTime": {
     "end_time": "2019-02-27T22:45:58.383434Z",
     "start_time": "2019-02-27T22:45:58.378621Z"
    }
   },
   "outputs": [
    {
     "data": {
      "text/plain": [
       "84467"
      ]
     },
     "execution_count": 14,
     "metadata": {},
     "output_type": "execute_result"
    }
   ],
   "source": [
    "len(training_label)"
   ]
  },
  {
   "cell_type": "code",
   "execution_count": 15,
   "metadata": {
    "ExecuteTime": {
     "end_time": "2019-02-27T22:45:58.393618Z",
     "start_time": "2019-02-27T22:45:58.386779Z"
    }
   },
   "outputs": [],
   "source": [
    "def get_training_data(df_data, df_label):\n",
    "    return df_data[df_data['user_id_hash'].isin(df_label.user_id_hash)]"
   ]
  },
  {
   "cell_type": "code",
   "execution_count": 16,
   "metadata": {
    "ExecuteTime": {
     "end_time": "2019-02-27T22:46:21.980234Z",
     "start_time": "2019-02-27T22:45:58.396023Z"
    }
   },
   "outputs": [],
   "source": [
    "events_data = get_training_data(events_data, training_label)\n",
    "sessions_data = get_training_data(sessions_data, training_label)"
   ]
  },
  {
   "cell_type": "code",
   "execution_count": 17,
   "metadata": {
    "ExecuteTime": {
     "end_time": "2019-02-27T22:46:22.006703Z",
     "start_time": "2019-02-27T22:46:21.991905Z"
    }
   },
   "outputs": [
    {
     "name": "stdout",
     "output_type": "stream",
     "text": [
      "40543360 1883684\n"
     ]
    }
   ],
   "source": [
    "print(len(events_data), len(sessions_data))"
   ]
  },
  {
   "cell_type": "code",
   "execution_count": 18,
   "metadata": {
    "ExecuteTime": {
     "end_time": "2019-02-27T22:46:24.344283Z",
     "start_time": "2019-02-27T22:46:22.008245Z"
    }
   },
   "outputs": [],
   "source": [
    "events_data = events_data.reset_index(drop=True)\n",
    "sessions_data = sessions_data.reset_index(drop=True)"
   ]
  },
  {
   "cell_type": "code",
   "execution_count": null,
   "metadata": {},
   "outputs": [],
   "source": []
  },
  {
   "cell_type": "code",
   "execution_count": null,
   "metadata": {},
   "outputs": [],
   "source": []
  },
  {
   "cell_type": "markdown",
   "metadata": {},
   "source": [
    "## Feature Engineering"
   ]
  },
  {
   "cell_type": "code",
   "execution_count": 53,
   "metadata": {
    "ExecuteTime": {
     "end_time": "2019-02-27T23:15:59.450557Z",
     "start_time": "2019-02-27T23:15:59.443036Z"
    }
   },
   "outputs": [],
   "source": [
    "def avg_diff(ls, seven_endtime, fourteen_endtime, last=0, last2=0):\n",
    "    '''calculate average intervals'''\n",
    "    if last:\n",
    "        ls2 = [e for e in ls if e > seven_endtime]\n",
    "        if len(ls2) == 0: return 168  # no event last week\n",
    "        if len(ls2) == 1: return 84  # only one event last week\n",
    "        return avg_diff(ls2, seven_endtime, fourteen_endtime)\n",
    "    if last2:\n",
    "        ls2 = [e for e in ls if e > fourteen_endtime]\n",
    "        if len(ls2) == 0: return 336  # no event last two weeks\n",
    "        if len(ls2) == 1: return 168  # only one event last two weeks\n",
    "        return avg_diff(ls2, seven_endtime, fourteen_endtime)\n",
    "    if last==0 and last2==0:\n",
    "        if len(ls) == 1: return 720\n",
    "        if len(ls) == 0: return 1440\n",
    "        return sum([(ls[i+1] - ls[i]).total_seconds()/3600 for i in range(len(ls)-1)])/(len(ls)-1)   "
   ]
  },
  {
   "cell_type": "code",
   "execution_count": 54,
   "metadata": {
    "ExecuteTime": {
     "end_time": "2019-02-27T23:16:02.255137Z",
     "start_time": "2019-02-27T23:16:02.251544Z"
    }
   },
   "outputs": [],
   "source": [
    "def standardize(ls):\n",
    "    mean = ls.mean()\n",
    "    std = ls.std()\n",
    "    ls = (ls - mean)/std\n",
    "    return ls"
   ]
  },
  {
   "cell_type": "markdown",
   "metadata": {},
   "source": [
    "### feature from events"
   ]
  },
  {
   "cell_type": "code",
   "execution_count": 55,
   "metadata": {
    "ExecuteTime": {
     "end_time": "2019-02-27T23:16:03.780976Z",
     "start_time": "2019-02-27T23:16:03.740924Z"
    }
   },
   "outputs": [],
   "source": [
    "def compute_event_features(events):\n",
    "    '''compute featuers from events'''\n",
    "    \n",
    "    \n",
    "    user_id_hash = events.groupby('session_id')[\"user_id_hash\"].first().reset_index(name=\"user_id_hash\")\n",
    "    # number of events in each session\n",
    "    num_events = events.groupby('session_id')[\"event\"].count().reset_index(name=\"event_count\")\n",
    "    # duration = last event - first event\n",
    "    first_event = events.groupby('session_id')['event_timestamp'].first().reset_index(name=\"first_event\")\n",
    "    last_event = events.groupby('session_id')['event_timestamp'].last().reset_index(name=\"last_event\")\n",
    "    duration = first_event.join(last_event.set_index('session_id'), on='session_id')\n",
    "    duration['duration'] = duration['last_event'] - duration['first_event']\n",
    "    duration['duration'] = [e.total_seconds()/3600 for e in duration.duration]  # in hours\n",
    "    \n",
    "    \n",
    "    event_endtime = events.event_timestamp.iloc[-1]\n",
    "    seven_endtime = pd.to_datetime(event_endtime) - pd.Timedelta(days=7)\n",
    "    fourteen_endtime = pd.to_datetime(event_endtime) - pd.Timedelta(days=14)\n",
    "    per_session = user_id_hash.merge(num_events,on='session_id').merge(duration,on='session_id')\n",
    "\n",
    "    # time spent on the app in hours\n",
    "    total_time = per_session.groupby('user_id_hash')['duration'].sum().reset_index(name='total_time')\n",
    "    total_time_last_week = per_session[per_session['first_event']>seven_endtime].\\\n",
    "                            groupby('user_id_hash')['duration'].sum().reset_index(name='total_time_last_week')\n",
    "    total_time_last_two_week = per_session[per_session['first_event']>fourteen_endtime].\\\n",
    "                            groupby('user_id_hash')['duration'].sum().reset_index(name='total_time_last_two_week')\n",
    "\n",
    "    # avg session duration\n",
    "    avg_session_duration = per_session.groupby('user_id_hash')['duration'].mean().reset_index(name='avg_session_duration')\n",
    "    avg_session_duration_last_week = per_session[per_session['first_event']>seven_endtime].\\\n",
    "                                        groupby('user_id_hash')['duration'].mean().\\\n",
    "                                        reset_index(name='avg_session_duration_last_week')\n",
    "    avg_session_duration_last_two_week = per_session[per_session['first_event']>fourteen_endtime].\\\n",
    "                                        groupby('user_id_hash')['duration'].mean().\\\n",
    "                                        reset_index(name='avg_session_duration_last_two_week')\n",
    "\n",
    "    # avg count of events in each session\n",
    "    avg_event_count = per_session.groupby('user_id_hash')['event_count'].mean().reset_index(name='avg_event_count')\n",
    "\n",
    "    # sum of purchase\n",
    "    sum_purchase_value = events[events['event']=='8'].groupby('user_id_hash')['event_value'].\\\n",
    "                            sum().reset_index(name='sum_purchase_value')\n",
    "    sum_purchase_value_last_week = events[(events['event']=='8') & (events['event_timestamp']>seven_endtime)].\\\n",
    "                            groupby('user_id_hash')['event_value'].\\\n",
    "                            sum().reset_index(name='sum_purchase_value_last_week')\n",
    "    sum_purchase_value_last_two_week = events[(events['event']=='8') & (events['event_timestamp']>fourteen_endtime)].\\\n",
    "                            groupby('user_id_hash')['event_value'].\\\n",
    "                            sum().reset_index(name='sum_purchase_value_last_two_week')\n",
    "\n",
    "    # number of purchase\n",
    "    purchase_count = events[events['event']=='8'].groupby('user_id_hash')['event_value'].\\\n",
    "                            count().reset_index(name='purchase_count')\n",
    "    purchase_count_last_week = events[(events['event']=='8') & (events['event_timestamp']>seven_endtime)].\\\n",
    "                            groupby('user_id_hash')['event_value'].\\\n",
    "                            count().reset_index(name='purchase_count_last_week')\n",
    "    purchase_count_last_two_week = events[(events['event']=='8') & (events['event_timestamp']>fourteen_endtime)].\\\n",
    "                            groupby('user_id_hash')['event_value'].\\\n",
    "                            count().reset_index(name='purchase_count_last_two_week')\n",
    "    \n",
    "    \n",
    "    event_features = total_time.merge(total_time_last_week, how='left', on='user_id_hash').\\\n",
    "                    merge(total_time_last_two_week, how='left', on='user_id_hash').\\\n",
    "                    merge(avg_session_duration, on='user_id_hash').\\\n",
    "                    merge(avg_session_duration_last_week, how='left', on='user_id_hash').\\\n",
    "                    merge(avg_session_duration_last_two_week, how='left', on='user_id_hash').\\\n",
    "                    merge(avg_event_count, on='user_id_hash').\\\n",
    "                    merge(sum_purchase_value, how='left', on='user_id_hash').\\\n",
    "                    merge(sum_purchase_value_last_week, how='left', on='user_id_hash').\\\n",
    "                    merge(sum_purchase_value_last_two_week, how='left', on='user_id_hash').\\\n",
    "                    merge(purchase_count, how='left', on='user_id_hash').\\\n",
    "                    merge(purchase_count_last_week, how='left', on='user_id_hash').\\\n",
    "                    merge(purchase_count_last_two_week, how='left', on='user_id_hash').fillna(0)\n",
    "    \n",
    "    \n",
    "    # avg interval between purchases in hours\n",
    "    purchase_events = events[events['event']=='8'][['event_timestamp', 'user_id_hash']].groupby('user_id_hash').\\\n",
    "                        agg({'event_timestamp': lambda x: list(x)})\n",
    "    \n",
    "    \n",
    "    purchase_events['purchase_interval'] = purchase_events.event_timestamp.\\\n",
    "                                            apply(lambda x: avg_diff(x, seven_endtime, fourteen_endtime))\n",
    "    purchase_events['purchase_interval_last_week'] = purchase_events.event_timestamp.\\\n",
    "                                                    apply(lambda x: avg_diff(x, seven_endtime, fourteen_endtime, 1, 0))\n",
    "    purchase_events['purchase_interval_last_two_week'] = purchase_events.event_timestamp.\\\n",
    "                                                        apply(lambda x: avg_diff(x, seven_endtime, fourteen_endtime, 0, 1))\n",
    "    purchase_events = purchase_events.drop('event_timestamp', axis=1)\n",
    "    event_features = event_features.merge(purchase_events, how='left', on='user_id_hash')\n",
    "    event_features['purchase_interval'] = event_features['purchase_interval'].fillna(1440)\n",
    "    event_features['purchase_interval_last_week'] = event_features['purchase_interval_last_week'].fillna(168)\n",
    "    event_features['purchase_interval_last_two_week'] = event_features['purchase_interval_last_two_week'].fillna(336)\n",
    "    \n",
    "    \n",
    "    return event_features"
   ]
  },
  {
   "cell_type": "code",
   "execution_count": null,
   "metadata": {},
   "outputs": [],
   "source": []
  },
  {
   "cell_type": "code",
   "execution_count": null,
   "metadata": {},
   "outputs": [],
   "source": []
  },
  {
   "cell_type": "markdown",
   "metadata": {},
   "source": [
    "### features from sessions"
   ]
  },
  {
   "cell_type": "code",
   "execution_count": 59,
   "metadata": {
    "ExecuteTime": {
     "end_time": "2019-02-27T23:16:53.207309Z",
     "start_time": "2019-02-27T23:16:53.044718Z"
    }
   },
   "outputs": [],
   "source": [
    "def compute_session_features(sessions):\n",
    "    '''compute features from sessions'''\n",
    "    \n",
    "    \n",
    "    session_endtime = sessions.start_timestamp.iloc[-1]\n",
    "    seven_endtime = pd.to_datetime(session_endtime) - pd.Timedelta(days=7)\n",
    "    fourteen_endtime = pd.to_datetime(session_endtime) - pd.Timedelta(days=14)\n",
    "    \n",
    "    \n",
    "    session_timestamp = sessions.groupby('user_id_hash').agg({'start_timestamp': lambda x: list(x)})\n",
    "    user_sessions = sessions.groupby('user_id_hash').agg({'session_id': 'count',\n",
    "                                                          'previous_sessions_duration': 'mean',\n",
    "                                                          'user_created_timestamp': lambda x: x.iloc[0],\n",
    "                                                          'country': lambda x: x.iloc[0],\n",
    "                                                          'os_name': lambda x: x.iloc[0]}).\\\n",
    "                                                     merge(session_timestamp, on='user_id_hash')\n",
    "    user_sessions = user_sessions.rename(columns={'session_id':'session_count', \n",
    "                                                  'previous_sessions_duration':'avg_session_duration'})\n",
    "    user_sessions['avg_session_duration'] = [e/3600000 for e in user_sessions.avg_session_duration]\n",
    "    \n",
    "    \n",
    "    user_sessions['elapse_since_last_session'] = [(session_endtime-e[-1]).total_seconds()/3600 for e in user_sessions.start_timestamp]\n",
    "    user_sessions['since_register'] = [(session_endtime-e).total_seconds()/3600 for e in user_sessions.user_created_timestamp]\n",
    "    \n",
    "    \n",
    "    user_sessions['avg_session_interval'] = user_sessions.start_timestamp.\\\n",
    "                                        apply(lambda x: avg_diff(x, seven_endtime, fourteen_endtime))\n",
    "    user_sessions['avg_session_interval_last_week'] = user_sessions.start_timestamp.\\\n",
    "                                                    apply(lambda x: avg_diff(x, seven_endtime, fourteen_endtime, 1, 0))\n",
    "    user_sessions['avg_session_interval_last_two_week'] = user_sessions.start_timestamp.\\\n",
    "                                                        apply(lambda x: avg_diff(x, seven_endtime, fourteen_endtime, 0, 1))\n",
    "    user_sessions = user_sessions.drop(['user_created_timestamp', 'start_timestamp'], axis=1).reset_index()\n",
    "    \n",
    "    \n",
    "    return user_sessions"
   ]
  },
  {
   "cell_type": "code",
   "execution_count": null,
   "metadata": {},
   "outputs": [],
   "source": []
  },
  {
   "cell_type": "code",
   "execution_count": null,
   "metadata": {},
   "outputs": [],
   "source": []
  },
  {
   "cell_type": "markdown",
   "metadata": {},
   "source": [
    "### features from attributes"
   ]
  },
  {
   "cell_type": "code",
   "execution_count": 19,
   "metadata": {
    "ExecuteTime": {
     "end_time": "2019-02-27T22:53:03.493293Z",
     "start_time": "2019-02-27T22:51:42.735713Z"
    }
   },
   "outputs": [],
   "source": [
    "attr = pd.read_csv('../Data/attr1.csv')"
   ]
  },
  {
   "cell_type": "code",
   "execution_count": 20,
   "metadata": {
    "ExecuteTime": {
     "end_time": "2019-02-27T22:53:42.876597Z",
     "start_time": "2019-02-27T22:53:12.768017Z"
    }
   },
   "outputs": [],
   "source": [
    "attr = attr.groupby(['user_id_hash', 'attribute'])['attribute_value'].mean().reset_index()"
   ]
  },
  {
   "cell_type": "code",
   "execution_count": 25,
   "metadata": {
    "ExecuteTime": {
     "end_time": "2019-02-27T23:00:47.437661Z",
     "start_time": "2019-02-27T23:00:47.377096Z"
    }
   },
   "outputs": [],
   "source": [
    "attr = attr[attr['attribute'].isin([1,13,14,15,16])]\n",
    "attr = attr.reset_index(drop=True)"
   ]
  },
  {
   "cell_type": "code",
   "execution_count": 26,
   "metadata": {
    "ExecuteTime": {
     "end_time": "2019-02-27T23:00:49.870701Z",
     "start_time": "2019-02-27T23:00:49.861953Z"
    }
   },
   "outputs": [
    {
     "data": {
      "text/html": [
       "<div>\n",
       "<style scoped>\n",
       "    .dataframe tbody tr th:only-of-type {\n",
       "        vertical-align: middle;\n",
       "    }\n",
       "\n",
       "    .dataframe tbody tr th {\n",
       "        vertical-align: top;\n",
       "    }\n",
       "\n",
       "    .dataframe thead th {\n",
       "        text-align: right;\n",
       "    }\n",
       "</style>\n",
       "<table border=\"1\" class=\"dataframe\">\n",
       "  <thead>\n",
       "    <tr style=\"text-align: right;\">\n",
       "      <th></th>\n",
       "      <th>user_id_hash</th>\n",
       "      <th>attribute</th>\n",
       "      <th>attribute_value</th>\n",
       "    </tr>\n",
       "  </thead>\n",
       "  <tbody>\n",
       "    <tr>\n",
       "      <th>0</th>\n",
       "      <td>00000db35682058bb7916cb90f85709f54c1a0f7a3b6de...</td>\n",
       "      <td>1</td>\n",
       "      <td>28.858974</td>\n",
       "    </tr>\n",
       "    <tr>\n",
       "      <th>1</th>\n",
       "      <td>00000db35682058bb7916cb90f85709f54c1a0f7a3b6de...</td>\n",
       "      <td>13</td>\n",
       "      <td>46.566795</td>\n",
       "    </tr>\n",
       "    <tr>\n",
       "      <th>2</th>\n",
       "      <td>00000db35682058bb7916cb90f85709f54c1a0f7a3b6de...</td>\n",
       "      <td>14</td>\n",
       "      <td>46.294615</td>\n",
       "    </tr>\n",
       "    <tr>\n",
       "      <th>3</th>\n",
       "      <td>00000db35682058bb7916cb90f85709f54c1a0f7a3b6de...</td>\n",
       "      <td>15</td>\n",
       "      <td>15.179487</td>\n",
       "    </tr>\n",
       "    <tr>\n",
       "      <th>4</th>\n",
       "      <td>00000db35682058bb7916cb90f85709f54c1a0f7a3b6de...</td>\n",
       "      <td>16</td>\n",
       "      <td>39.705128</td>\n",
       "    </tr>\n",
       "  </tbody>\n",
       "</table>\n",
       "</div>"
      ],
      "text/plain": [
       "                                        user_id_hash  attribute  \\\n",
       "0  00000db35682058bb7916cb90f85709f54c1a0f7a3b6de...          1   \n",
       "1  00000db35682058bb7916cb90f85709f54c1a0f7a3b6de...         13   \n",
       "2  00000db35682058bb7916cb90f85709f54c1a0f7a3b6de...         14   \n",
       "3  00000db35682058bb7916cb90f85709f54c1a0f7a3b6de...         15   \n",
       "4  00000db35682058bb7916cb90f85709f54c1a0f7a3b6de...         16   \n",
       "\n",
       "   attribute_value  \n",
       "0        28.858974  \n",
       "1        46.566795  \n",
       "2        46.294615  \n",
       "3        15.179487  \n",
       "4        39.705128  "
      ]
     },
     "execution_count": 26,
     "metadata": {},
     "output_type": "execute_result"
    }
   ],
   "source": [
    "attr.head()"
   ]
  },
  {
   "cell_type": "code",
   "execution_count": 46,
   "metadata": {
    "ExecuteTime": {
     "end_time": "2019-02-27T23:09:27.525909Z",
     "start_time": "2019-02-27T23:09:25.209657Z"
    }
   },
   "outputs": [],
   "source": [
    "key_attr = attr.pivot(index='user_id_hash', columns='attribute', values='attribute_value').reset_index()"
   ]
  },
  {
   "cell_type": "code",
   "execution_count": 50,
   "metadata": {
    "ExecuteTime": {
     "end_time": "2019-02-27T23:10:11.377180Z",
     "start_time": "2019-02-27T23:10:11.215278Z"
    }
   },
   "outputs": [],
   "source": [
    "key_attr = key_attr.dropna()"
   ]
  },
  {
   "cell_type": "code",
   "execution_count": 51,
   "metadata": {
    "ExecuteTime": {
     "end_time": "2019-02-27T23:10:17.394230Z",
     "start_time": "2019-02-27T23:10:17.383156Z"
    }
   },
   "outputs": [
    {
     "data": {
      "text/html": [
       "<div>\n",
       "<style scoped>\n",
       "    .dataframe tbody tr th:only-of-type {\n",
       "        vertical-align: middle;\n",
       "    }\n",
       "\n",
       "    .dataframe tbody tr th {\n",
       "        vertical-align: top;\n",
       "    }\n",
       "\n",
       "    .dataframe thead th {\n",
       "        text-align: right;\n",
       "    }\n",
       "</style>\n",
       "<table border=\"1\" class=\"dataframe\">\n",
       "  <thead>\n",
       "    <tr style=\"text-align: right;\">\n",
       "      <th>attribute</th>\n",
       "      <th>user_id_hash</th>\n",
       "      <th>1</th>\n",
       "      <th>13</th>\n",
       "      <th>14</th>\n",
       "      <th>15</th>\n",
       "      <th>16</th>\n",
       "    </tr>\n",
       "  </thead>\n",
       "  <tbody>\n",
       "    <tr>\n",
       "      <th>0</th>\n",
       "      <td>00000db35682058bb7916cb90f85709f54c1a0f7a3b6de...</td>\n",
       "      <td>28.858974</td>\n",
       "      <td>46.566795</td>\n",
       "      <td>46.294615</td>\n",
       "      <td>15.179487</td>\n",
       "      <td>39.705128</td>\n",
       "    </tr>\n",
       "    <tr>\n",
       "      <th>1</th>\n",
       "      <td>000059859ec188af6035870faf885c3038cedda05b3a54...</td>\n",
       "      <td>0.000000</td>\n",
       "      <td>1.186667</td>\n",
       "      <td>1.158333</td>\n",
       "      <td>0.833333</td>\n",
       "      <td>2.833333</td>\n",
       "    </tr>\n",
       "    <tr>\n",
       "      <th>2</th>\n",
       "      <td>000062e9be78f3da274fec338e78f89d12000e781967f2...</td>\n",
       "      <td>0.000000</td>\n",
       "      <td>0.091724</td>\n",
       "      <td>0.000000</td>\n",
       "      <td>0.000000</td>\n",
       "      <td>3.310345</td>\n",
       "    </tr>\n",
       "    <tr>\n",
       "      <th>3</th>\n",
       "      <td>00006ad44c0d33a2a526caf75514643639b7b7070dfffd...</td>\n",
       "      <td>0.000000</td>\n",
       "      <td>0.053333</td>\n",
       "      <td>0.000000</td>\n",
       "      <td>0.000000</td>\n",
       "      <td>3.000000</td>\n",
       "    </tr>\n",
       "    <tr>\n",
       "      <th>4</th>\n",
       "      <td>000081a7d841b0f953bdba6c185fd5cc335fd6015a30c3...</td>\n",
       "      <td>0.000000</td>\n",
       "      <td>0.000000</td>\n",
       "      <td>0.000000</td>\n",
       "      <td>0.000000</td>\n",
       "      <td>1.200000</td>\n",
       "    </tr>\n",
       "  </tbody>\n",
       "</table>\n",
       "</div>"
      ],
      "text/plain": [
       "attribute                                       user_id_hash          1  \\\n",
       "0          00000db35682058bb7916cb90f85709f54c1a0f7a3b6de...  28.858974   \n",
       "1          000059859ec188af6035870faf885c3038cedda05b3a54...   0.000000   \n",
       "2          000062e9be78f3da274fec338e78f89d12000e781967f2...   0.000000   \n",
       "3          00006ad44c0d33a2a526caf75514643639b7b7070dfffd...   0.000000   \n",
       "4          000081a7d841b0f953bdba6c185fd5cc335fd6015a30c3...   0.000000   \n",
       "\n",
       "attribute         13         14         15         16  \n",
       "0          46.566795  46.294615  15.179487  39.705128  \n",
       "1           1.186667   1.158333   0.833333   2.833333  \n",
       "2           0.091724   0.000000   0.000000   3.310345  \n",
       "3           0.053333   0.000000   0.000000   3.000000  \n",
       "4           0.000000   0.000000   0.000000   1.200000  "
      ]
     },
     "execution_count": 51,
     "metadata": {},
     "output_type": "execute_result"
    }
   ],
   "source": [
    "key_attr.head()"
   ]
  },
  {
   "cell_type": "code",
   "execution_count": 52,
   "metadata": {
    "ExecuteTime": {
     "end_time": "2019-02-27T23:10:23.692713Z",
     "start_time": "2019-02-27T23:10:23.688536Z"
    }
   },
   "outputs": [
    {
     "data": {
      "text/plain": [
       "621460"
      ]
     },
     "execution_count": 52,
     "metadata": {},
     "output_type": "execute_result"
    }
   ],
   "source": [
    "len(key_attr)"
   ]
  },
  {
   "cell_type": "code",
   "execution_count": null,
   "metadata": {},
   "outputs": [],
   "source": []
  },
  {
   "cell_type": "code",
   "execution_count": null,
   "metadata": {},
   "outputs": [],
   "source": []
  },
  {
   "cell_type": "markdown",
   "metadata": {},
   "source": [
    "### compute features"
   ]
  },
  {
   "cell_type": "code",
   "execution_count": 86,
   "metadata": {
    "ExecuteTime": {
     "end_time": "2019-02-27T23:35:26.769503Z",
     "start_time": "2019-02-27T23:35:26.763492Z"
    }
   },
   "outputs": [],
   "source": [
    "def compute_features(event_data, session_data, attribute_data):\n",
    "    '''\n",
    "    combine features from sessions and events\n",
    "    '''\n",
    "    \n",
    "    # event_X\n",
    "    event_X = compute_event_features(event_data)\n",
    "    for c in list(event_X.columns)[1:]:\n",
    "        event_X[c] = standardize(event_X[c])\n",
    "    \n",
    "    # session_X\n",
    "    session_X = compute_session_features(session_data)\n",
    "    for c in ['session_count', 'avg_session_duration','elapse_since_last_session',\n",
    "              'since_register', 'avg_session_interval', 'avg_session_interval_last_week', \n",
    "              'avg_session_interval_last_two_week']:\n",
    "        session_X[c] = standardize(session_X[c])\n",
    "    session_X = session_X.drop(['country', 'os_name'], axis=1)\n",
    "    \n",
    "    # attribute X\n",
    "    for c in [1,13,14,15,16]:\n",
    "        attribute_data[c] = standardize(attribute_data[c])\n",
    "\n",
    "    # combine to X\n",
    "    X = event_X.merge(session_X, how='inner', on='user_id_hash').\\\n",
    "                merge(attribute_data, how='inner', on='user_id_hash').reset_index(drop=True)\n",
    "    \n",
    "    \n",
    "    return X"
   ]
  },
  {
   "cell_type": "code",
   "execution_count": null,
   "metadata": {},
   "outputs": [],
   "source": []
  },
  {
   "cell_type": "code",
   "execution_count": null,
   "metadata": {},
   "outputs": [],
   "source": []
  },
  {
   "cell_type": "markdown",
   "metadata": {},
   "source": [
    "## Model (using all training data, without validation)"
   ]
  },
  {
   "cell_type": "markdown",
   "metadata": {},
   "source": [
    "### fit"
   ]
  },
  {
   "cell_type": "code",
   "execution_count": 87,
   "metadata": {
    "ExecuteTime": {
     "end_time": "2019-02-27T23:37:10.696382Z",
     "start_time": "2019-02-27T23:35:28.463975Z"
    }
   },
   "outputs": [
    {
     "data": {
      "text/plain": [
       "81975"
      ]
     },
     "execution_count": 87,
     "metadata": {},
     "output_type": "execute_result"
    }
   ],
   "source": [
    "X_train = compute_features(events_data, sessions_data, key_attr)\n",
    "y_train = training_label[training_label['user_id_hash'].isin(X_train.user_id_hash)]\n",
    "len(X_train)"
   ]
  },
  {
   "cell_type": "code",
   "execution_count": 88,
   "metadata": {
    "ExecuteTime": {
     "end_time": "2019-02-27T23:37:10.726656Z",
     "start_time": "2019-02-27T23:37:10.699163Z"
    }
   },
   "outputs": [
    {
     "data": {
      "text/html": [
       "<div>\n",
       "<style scoped>\n",
       "    .dataframe tbody tr th:only-of-type {\n",
       "        vertical-align: middle;\n",
       "    }\n",
       "\n",
       "    .dataframe tbody tr th {\n",
       "        vertical-align: top;\n",
       "    }\n",
       "\n",
       "    .dataframe thead th {\n",
       "        text-align: right;\n",
       "    }\n",
       "</style>\n",
       "<table border=\"1\" class=\"dataframe\">\n",
       "  <thead>\n",
       "    <tr style=\"text-align: right;\">\n",
       "      <th></th>\n",
       "      <th>user_id_hash</th>\n",
       "      <th>total_time</th>\n",
       "      <th>total_time_last_week</th>\n",
       "      <th>total_time_last_two_week</th>\n",
       "      <th>avg_session_duration_x</th>\n",
       "      <th>avg_session_duration_last_week</th>\n",
       "      <th>avg_session_duration_last_two_week</th>\n",
       "      <th>avg_event_count</th>\n",
       "      <th>sum_purchase_value</th>\n",
       "      <th>sum_purchase_value_last_week</th>\n",
       "      <th>...</th>\n",
       "      <th>elapse_since_last_session</th>\n",
       "      <th>since_register</th>\n",
       "      <th>avg_session_interval</th>\n",
       "      <th>avg_session_interval_last_week</th>\n",
       "      <th>avg_session_interval_last_two_week</th>\n",
       "      <th>1</th>\n",
       "      <th>13</th>\n",
       "      <th>14</th>\n",
       "      <th>15</th>\n",
       "      <th>16</th>\n",
       "    </tr>\n",
       "  </thead>\n",
       "  <tbody>\n",
       "    <tr>\n",
       "      <th>0</th>\n",
       "      <td>00000db35682058bb7916cb90f85709f54c1a0f7a3b6de...</td>\n",
       "      <td>-0.064975</td>\n",
       "      <td>-0.487780</td>\n",
       "      <td>-0.507523</td>\n",
       "      <td>0.387572</td>\n",
       "      <td>-0.787901</td>\n",
       "      <td>-0.968237</td>\n",
       "      <td>0.536789</td>\n",
       "      <td>0.873375</td>\n",
       "      <td>-0.15175</td>\n",
       "      <td>...</td>\n",
       "      <td>0.509830</td>\n",
       "      <td>0.086550</td>\n",
       "      <td>-0.545608</td>\n",
       "      <td>1.320016</td>\n",
       "      <td>0.469171</td>\n",
       "      <td>1.268025</td>\n",
       "      <td>1.791349</td>\n",
       "      <td>1.789185</td>\n",
       "      <td>1.850585</td>\n",
       "      <td>1.929027</td>\n",
       "    </tr>\n",
       "    <tr>\n",
       "      <th>1</th>\n",
       "      <td>000081a7d841b0f953bdba6c185fd5cc335fd6015a30c3...</td>\n",
       "      <td>-0.460337</td>\n",
       "      <td>-0.487780</td>\n",
       "      <td>-0.438960</td>\n",
       "      <td>-0.524666</td>\n",
       "      <td>-0.787901</td>\n",
       "      <td>-0.209732</td>\n",
       "      <td>-0.411339</td>\n",
       "      <td>-0.187943</td>\n",
       "      <td>-0.15175</td>\n",
       "      <td>...</td>\n",
       "      <td>-0.071801</td>\n",
       "      <td>-0.658438</td>\n",
       "      <td>-0.527189</td>\n",
       "      <td>1.320016</td>\n",
       "      <td>-0.763330</td>\n",
       "      <td>-0.077623</td>\n",
       "      <td>-0.071639</td>\n",
       "      <td>-0.069871</td>\n",
       "      <td>-0.068499</td>\n",
       "      <td>-0.092519</td>\n",
       "    </tr>\n",
       "    <tr>\n",
       "      <th>2</th>\n",
       "      <td>0000a464ad921c3288e73a3a788b5f113cabf84251a74b...</td>\n",
       "      <td>-0.471931</td>\n",
       "      <td>-0.487780</td>\n",
       "      <td>-0.466701</td>\n",
       "      <td>-0.856020</td>\n",
       "      <td>-0.787901</td>\n",
       "      <td>-0.516627</td>\n",
       "      <td>-0.772341</td>\n",
       "      <td>-0.187943</td>\n",
       "      <td>-0.15175</td>\n",
       "      <td>...</td>\n",
       "      <td>0.006890</td>\n",
       "      <td>-0.622982</td>\n",
       "      <td>-0.504534</td>\n",
       "      <td>1.320016</td>\n",
       "      <td>-0.714503</td>\n",
       "      <td>-0.077623</td>\n",
       "      <td>-0.071639</td>\n",
       "      <td>-0.069871</td>\n",
       "      <td>-0.068499</td>\n",
       "      <td>-0.103019</td>\n",
       "    </tr>\n",
       "    <tr>\n",
       "      <th>3</th>\n",
       "      <td>0000bc4e8bfc829d327fa69bdc426dd8a789c52550ed87...</td>\n",
       "      <td>-0.399670</td>\n",
       "      <td>-0.122508</td>\n",
       "      <td>-0.293803</td>\n",
       "      <td>-0.705422</td>\n",
       "      <td>-0.208055</td>\n",
       "      <td>-0.377146</td>\n",
       "      <td>-0.612667</td>\n",
       "      <td>-0.187943</td>\n",
       "      <td>-0.15175</td>\n",
       "      <td>...</td>\n",
       "      <td>-0.465679</td>\n",
       "      <td>-0.864523</td>\n",
       "      <td>-0.552720</td>\n",
       "      <td>-1.033930</td>\n",
       "      <td>-0.818356</td>\n",
       "      <td>-0.077623</td>\n",
       "      <td>-0.071639</td>\n",
       "      <td>-0.069871</td>\n",
       "      <td>-0.068499</td>\n",
       "      <td>-0.050519</td>\n",
       "    </tr>\n",
       "    <tr>\n",
       "      <th>4</th>\n",
       "      <td>00020102f66f89759868c843ae9fe634870f132f9e3d79...</td>\n",
       "      <td>-0.483258</td>\n",
       "      <td>-0.464333</td>\n",
       "      <td>-0.493804</td>\n",
       "      <td>-1.015887</td>\n",
       "      <td>-0.490132</td>\n",
       "      <td>-0.664693</td>\n",
       "      <td>-0.689033</td>\n",
       "      <td>-0.187943</td>\n",
       "      <td>-0.15175</td>\n",
       "      <td>...</td>\n",
       "      <td>-0.682762</td>\n",
       "      <td>-1.131905</td>\n",
       "      <td>2.082501</td>\n",
       "      <td>0.098092</td>\n",
       "      <td>0.469171</td>\n",
       "      <td>-0.077623</td>\n",
       "      <td>-0.071639</td>\n",
       "      <td>-0.069871</td>\n",
       "      <td>-0.068499</td>\n",
       "      <td>-0.155520</td>\n",
       "    </tr>\n",
       "  </tbody>\n",
       "</table>\n",
       "<p>5 rows × 29 columns</p>\n",
       "</div>"
      ],
      "text/plain": [
       "                                        user_id_hash  total_time  \\\n",
       "0  00000db35682058bb7916cb90f85709f54c1a0f7a3b6de...   -0.064975   \n",
       "1  000081a7d841b0f953bdba6c185fd5cc335fd6015a30c3...   -0.460337   \n",
       "2  0000a464ad921c3288e73a3a788b5f113cabf84251a74b...   -0.471931   \n",
       "3  0000bc4e8bfc829d327fa69bdc426dd8a789c52550ed87...   -0.399670   \n",
       "4  00020102f66f89759868c843ae9fe634870f132f9e3d79...   -0.483258   \n",
       "\n",
       "   total_time_last_week  total_time_last_two_week  avg_session_duration_x  \\\n",
       "0             -0.487780                 -0.507523                0.387572   \n",
       "1             -0.487780                 -0.438960               -0.524666   \n",
       "2             -0.487780                 -0.466701               -0.856020   \n",
       "3             -0.122508                 -0.293803               -0.705422   \n",
       "4             -0.464333                 -0.493804               -1.015887   \n",
       "\n",
       "   avg_session_duration_last_week  avg_session_duration_last_two_week  \\\n",
       "0                       -0.787901                           -0.968237   \n",
       "1                       -0.787901                           -0.209732   \n",
       "2                       -0.787901                           -0.516627   \n",
       "3                       -0.208055                           -0.377146   \n",
       "4                       -0.490132                           -0.664693   \n",
       "\n",
       "   avg_event_count  sum_purchase_value  sum_purchase_value_last_week  ...  \\\n",
       "0         0.536789            0.873375                      -0.15175  ...   \n",
       "1        -0.411339           -0.187943                      -0.15175  ...   \n",
       "2        -0.772341           -0.187943                      -0.15175  ...   \n",
       "3        -0.612667           -0.187943                      -0.15175  ...   \n",
       "4        -0.689033           -0.187943                      -0.15175  ...   \n",
       "\n",
       "   elapse_since_last_session  since_register  avg_session_interval  \\\n",
       "0                   0.509830        0.086550             -0.545608   \n",
       "1                  -0.071801       -0.658438             -0.527189   \n",
       "2                   0.006890       -0.622982             -0.504534   \n",
       "3                  -0.465679       -0.864523             -0.552720   \n",
       "4                  -0.682762       -1.131905              2.082501   \n",
       "\n",
       "   avg_session_interval_last_week  avg_session_interval_last_two_week  \\\n",
       "0                        1.320016                            0.469171   \n",
       "1                        1.320016                           -0.763330   \n",
       "2                        1.320016                           -0.714503   \n",
       "3                       -1.033930                           -0.818356   \n",
       "4                        0.098092                            0.469171   \n",
       "\n",
       "          1        13        14        15        16  \n",
       "0  1.268025  1.791349  1.789185  1.850585  1.929027  \n",
       "1 -0.077623 -0.071639 -0.069871 -0.068499 -0.092519  \n",
       "2 -0.077623 -0.071639 -0.069871 -0.068499 -0.103019  \n",
       "3 -0.077623 -0.071639 -0.069871 -0.068499 -0.050519  \n",
       "4 -0.077623 -0.071639 -0.069871 -0.068499 -0.155520  \n",
       "\n",
       "[5 rows x 29 columns]"
      ]
     },
     "execution_count": 88,
     "metadata": {},
     "output_type": "execute_result"
    }
   ],
   "source": [
    "X_train.head()"
   ]
  },
  {
   "cell_type": "code",
   "execution_count": 89,
   "metadata": {
    "ExecuteTime": {
     "end_time": "2019-02-27T23:37:19.672317Z",
     "start_time": "2019-02-27T23:37:10.730133Z"
    }
   },
   "outputs": [],
   "source": [
    "rf_7 = RandomForestClassifier(n_estimators=100, max_depth =5, max_features = 'sqrt', max_leaf_nodes= 8).\\\n",
    "                    fit(X_train.iloc[:,1:], y_train['user_purchase_binary_7_days'])\n",
    "rf_14 = RandomForestClassifier(n_estimators=100, max_depth =5, max_features = 'sqrt', max_leaf_nodes= 8).\\\n",
    "                    fit(X_train.iloc[:,1:], y_train['user_purchase_binary_14_days'])"
   ]
  },
  {
   "cell_type": "markdown",
   "metadata": {},
   "source": [
    "### predict"
   ]
  },
  {
   "cell_type": "code",
   "execution_count": 90,
   "metadata": {
    "ExecuteTime": {
     "end_time": "2019-02-27T23:37:20.091943Z",
     "start_time": "2019-02-27T23:37:19.676120Z"
    }
   },
   "outputs": [],
   "source": [
    "submission = pd.read_csv('../Data/sample_submission_2.csv')"
   ]
  },
  {
   "cell_type": "code",
   "execution_count": 91,
   "metadata": {
    "ExecuteTime": {
     "end_time": "2019-02-27T23:38:03.058442Z",
     "start_time": "2019-02-27T23:37:20.093896Z"
    }
   },
   "outputs": [],
   "source": [
    "events_pred = get_training_data(events, submission)\n",
    "sessions_pred = get_training_data(sessions, submission)"
   ]
  },
  {
   "cell_type": "code",
   "execution_count": 92,
   "metadata": {
    "ExecuteTime": {
     "end_time": "2019-02-27T23:41:34.181280Z",
     "start_time": "2019-02-27T23:38:03.064876Z"
    }
   },
   "outputs": [],
   "source": [
    "X_pred = compute_features(events_pred, sessions_pred, key_attr)"
   ]
  },
  {
   "cell_type": "code",
   "execution_count": 93,
   "metadata": {
    "ExecuteTime": {
     "end_time": "2019-02-27T23:41:34.212024Z",
     "start_time": "2019-02-27T23:41:34.184418Z"
    }
   },
   "outputs": [
    {
     "data": {
      "text/html": [
       "<div>\n",
       "<style scoped>\n",
       "    .dataframe tbody tr th:only-of-type {\n",
       "        vertical-align: middle;\n",
       "    }\n",
       "\n",
       "    .dataframe tbody tr th {\n",
       "        vertical-align: top;\n",
       "    }\n",
       "\n",
       "    .dataframe thead th {\n",
       "        text-align: right;\n",
       "    }\n",
       "</style>\n",
       "<table border=\"1\" class=\"dataframe\">\n",
       "  <thead>\n",
       "    <tr style=\"text-align: right;\">\n",
       "      <th></th>\n",
       "      <th>user_id_hash</th>\n",
       "      <th>total_time</th>\n",
       "      <th>total_time_last_week</th>\n",
       "      <th>total_time_last_two_week</th>\n",
       "      <th>avg_session_duration_x</th>\n",
       "      <th>avg_session_duration_last_week</th>\n",
       "      <th>avg_session_duration_last_two_week</th>\n",
       "      <th>avg_event_count</th>\n",
       "      <th>sum_purchase_value</th>\n",
       "      <th>sum_purchase_value_last_week</th>\n",
       "      <th>...</th>\n",
       "      <th>elapse_since_last_session</th>\n",
       "      <th>since_register</th>\n",
       "      <th>avg_session_interval</th>\n",
       "      <th>avg_session_interval_last_week</th>\n",
       "      <th>avg_session_interval_last_two_week</th>\n",
       "      <th>1</th>\n",
       "      <th>13</th>\n",
       "      <th>14</th>\n",
       "      <th>15</th>\n",
       "      <th>16</th>\n",
       "    </tr>\n",
       "  </thead>\n",
       "  <tbody>\n",
       "    <tr>\n",
       "      <th>0</th>\n",
       "      <td>00000db35682058bb7916cb90f85709f54c1a0f7a3b6de...</td>\n",
       "      <td>0.441477</td>\n",
       "      <td>0.219348</td>\n",
       "      <td>0.030461</td>\n",
       "      <td>0.924145</td>\n",
       "      <td>4.518048</td>\n",
       "      <td>3.654081</td>\n",
       "      <td>1.283193</td>\n",
       "      <td>1.552283</td>\n",
       "      <td>-0.053125</td>\n",
       "      <td>...</td>\n",
       "      <td>-1.892289</td>\n",
       "      <td>-0.564582</td>\n",
       "      <td>-0.898281</td>\n",
       "      <td>-2.329323</td>\n",
       "      <td>-1.692414</td>\n",
       "      <td>1.268025</td>\n",
       "      <td>1.791349</td>\n",
       "      <td>1.789185</td>\n",
       "      <td>1.850585</td>\n",
       "      <td>1.929027</td>\n",
       "    </tr>\n",
       "    <tr>\n",
       "      <th>1</th>\n",
       "      <td>000059859ec188af6035870faf885c3038cedda05b3a54...</td>\n",
       "      <td>-0.053697</td>\n",
       "      <td>-0.122268</td>\n",
       "      <td>-0.143104</td>\n",
       "      <td>-0.073329</td>\n",
       "      <td>-0.187696</td>\n",
       "      <td>-0.234003</td>\n",
       "      <td>0.452875</td>\n",
       "      <td>-0.019483</td>\n",
       "      <td>-0.053125</td>\n",
       "      <td>...</td>\n",
       "      <td>-0.927795</td>\n",
       "      <td>-1.297924</td>\n",
       "      <td>-0.989092</td>\n",
       "      <td>0.256153</td>\n",
       "      <td>0.330548</td>\n",
       "      <td>-0.077623</td>\n",
       "      <td>-0.024164</td>\n",
       "      <td>-0.023356</td>\n",
       "      <td>0.036856</td>\n",
       "      <td>-0.006768</td>\n",
       "    </tr>\n",
       "    <tr>\n",
       "      <th>2</th>\n",
       "      <td>000081a7d841b0f953bdba6c185fd5cc335fd6015a30c3...</td>\n",
       "      <td>-0.256374</td>\n",
       "      <td>-0.122268</td>\n",
       "      <td>-0.143104</td>\n",
       "      <td>-0.333810</td>\n",
       "      <td>-0.187696</td>\n",
       "      <td>-0.234003</td>\n",
       "      <td>-0.344722</td>\n",
       "      <td>-0.120609</td>\n",
       "      <td>-0.053125</td>\n",
       "      <td>...</td>\n",
       "      <td>-0.892998</td>\n",
       "      <td>-1.301366</td>\n",
       "      <td>-0.965275</td>\n",
       "      <td>0.256153</td>\n",
       "      <td>0.330548</td>\n",
       "      <td>-0.077623</td>\n",
       "      <td>-0.071639</td>\n",
       "      <td>-0.069871</td>\n",
       "      <td>-0.068499</td>\n",
       "      <td>-0.092519</td>\n",
       "    </tr>\n",
       "    <tr>\n",
       "      <th>3</th>\n",
       "      <td>0000bc4e8bfc829d327fa69bdc426dd8a789c52550ed87...</td>\n",
       "      <td>-0.156948</td>\n",
       "      <td>-0.122268</td>\n",
       "      <td>-0.143104</td>\n",
       "      <td>-0.311196</td>\n",
       "      <td>-0.187696</td>\n",
       "      <td>-0.234003</td>\n",
       "      <td>-0.297002</td>\n",
       "      <td>-0.120609</td>\n",
       "      <td>-0.053125</td>\n",
       "      <td>...</td>\n",
       "      <td>-1.120403</td>\n",
       "      <td>-1.505182</td>\n",
       "      <td>-0.985324</td>\n",
       "      <td>0.256153</td>\n",
       "      <td>0.330548</td>\n",
       "      <td>-0.077623</td>\n",
       "      <td>-0.071639</td>\n",
       "      <td>-0.069871</td>\n",
       "      <td>-0.068499</td>\n",
       "      <td>-0.050519</td>\n",
       "    </tr>\n",
       "    <tr>\n",
       "      <th>4</th>\n",
       "      <td>0000c5de50d243cc39f6ac4268d7511705585ca3f2a20f...</td>\n",
       "      <td>-0.240051</td>\n",
       "      <td>-0.122268</td>\n",
       "      <td>-0.143104</td>\n",
       "      <td>-0.132510</td>\n",
       "      <td>-0.187696</td>\n",
       "      <td>-0.234003</td>\n",
       "      <td>0.146107</td>\n",
       "      <td>-0.120609</td>\n",
       "      <td>-0.053125</td>\n",
       "      <td>...</td>\n",
       "      <td>-0.025502</td>\n",
       "      <td>0.114124</td>\n",
       "      <td>-0.715384</td>\n",
       "      <td>0.256153</td>\n",
       "      <td>0.330548</td>\n",
       "      <td>-0.077623</td>\n",
       "      <td>-0.071639</td>\n",
       "      <td>-0.069871</td>\n",
       "      <td>-0.068499</td>\n",
       "      <td>-0.068019</td>\n",
       "    </tr>\n",
       "  </tbody>\n",
       "</table>\n",
       "<p>5 rows × 29 columns</p>\n",
       "</div>"
      ],
      "text/plain": [
       "                                        user_id_hash  total_time  \\\n",
       "0  00000db35682058bb7916cb90f85709f54c1a0f7a3b6de...    0.441477   \n",
       "1  000059859ec188af6035870faf885c3038cedda05b3a54...   -0.053697   \n",
       "2  000081a7d841b0f953bdba6c185fd5cc335fd6015a30c3...   -0.256374   \n",
       "3  0000bc4e8bfc829d327fa69bdc426dd8a789c52550ed87...   -0.156948   \n",
       "4  0000c5de50d243cc39f6ac4268d7511705585ca3f2a20f...   -0.240051   \n",
       "\n",
       "   total_time_last_week  total_time_last_two_week  avg_session_duration_x  \\\n",
       "0              0.219348                  0.030461                0.924145   \n",
       "1             -0.122268                 -0.143104               -0.073329   \n",
       "2             -0.122268                 -0.143104               -0.333810   \n",
       "3             -0.122268                 -0.143104               -0.311196   \n",
       "4             -0.122268                 -0.143104               -0.132510   \n",
       "\n",
       "   avg_session_duration_last_week  avg_session_duration_last_two_week  \\\n",
       "0                        4.518048                            3.654081   \n",
       "1                       -0.187696                           -0.234003   \n",
       "2                       -0.187696                           -0.234003   \n",
       "3                       -0.187696                           -0.234003   \n",
       "4                       -0.187696                           -0.234003   \n",
       "\n",
       "   avg_event_count  sum_purchase_value  sum_purchase_value_last_week  ...  \\\n",
       "0         1.283193            1.552283                     -0.053125  ...   \n",
       "1         0.452875           -0.019483                     -0.053125  ...   \n",
       "2        -0.344722           -0.120609                     -0.053125  ...   \n",
       "3        -0.297002           -0.120609                     -0.053125  ...   \n",
       "4         0.146107           -0.120609                     -0.053125  ...   \n",
       "\n",
       "   elapse_since_last_session  since_register  avg_session_interval  \\\n",
       "0                  -1.892289       -0.564582             -0.898281   \n",
       "1                  -0.927795       -1.297924             -0.989092   \n",
       "2                  -0.892998       -1.301366             -0.965275   \n",
       "3                  -1.120403       -1.505182             -0.985324   \n",
       "4                  -0.025502        0.114124             -0.715384   \n",
       "\n",
       "   avg_session_interval_last_week  avg_session_interval_last_two_week  \\\n",
       "0                       -2.329323                           -1.692414   \n",
       "1                        0.256153                            0.330548   \n",
       "2                        0.256153                            0.330548   \n",
       "3                        0.256153                            0.330548   \n",
       "4                        0.256153                            0.330548   \n",
       "\n",
       "          1        13        14        15        16  \n",
       "0  1.268025  1.791349  1.789185  1.850585  1.929027  \n",
       "1 -0.077623 -0.024164 -0.023356  0.036856 -0.006768  \n",
       "2 -0.077623 -0.071639 -0.069871 -0.068499 -0.092519  \n",
       "3 -0.077623 -0.071639 -0.069871 -0.068499 -0.050519  \n",
       "4 -0.077623 -0.071639 -0.069871 -0.068499 -0.068019  \n",
       "\n",
       "[5 rows x 29 columns]"
      ]
     },
     "execution_count": 93,
     "metadata": {},
     "output_type": "execute_result"
    }
   ],
   "source": [
    "X_pred.head()"
   ]
  },
  {
   "cell_type": "code",
   "execution_count": 94,
   "metadata": {
    "ExecuteTime": {
     "end_time": "2019-02-27T23:41:57.837233Z",
     "start_time": "2019-02-27T23:41:56.015858Z"
    }
   },
   "outputs": [],
   "source": [
    "X_pred['pred_7'] = rf_7.predict_proba(X_pred.iloc[:,1:])[:,1]\n",
    "X_pred['pred_14'] = rf_14.predict_proba(X_pred.iloc[:,1:-1])[:,1]"
   ]
  },
  {
   "cell_type": "code",
   "execution_count": 95,
   "metadata": {
    "ExecuteTime": {
     "end_time": "2019-02-27T23:41:59.628462Z",
     "start_time": "2019-02-27T23:41:59.504824Z"
    }
   },
   "outputs": [],
   "source": [
    "pred_7 = X_pred[['user_id_hash','pred_7']]\n",
    "pred_14 = X_pred[['user_id_hash','pred_14']]"
   ]
  },
  {
   "cell_type": "code",
   "execution_count": 96,
   "metadata": {
    "ExecuteTime": {
     "end_time": "2019-02-27T23:42:02.266516Z",
     "start_time": "2019-02-27T23:42:01.578292Z"
    }
   },
   "outputs": [],
   "source": [
    "submit = submission.copy()\n",
    "submit = submit.merge(pred_7, how='left', on='user_id_hash').merge(pred_14, how='left', on='user_id_hash').fillna(0)"
   ]
  },
  {
   "cell_type": "code",
   "execution_count": 97,
   "metadata": {
    "ExecuteTime": {
     "end_time": "2019-02-27T23:42:03.839883Z",
     "start_time": "2019-02-27T23:42:03.826197Z"
    }
   },
   "outputs": [],
   "source": [
    "submit = submit.drop(['user_purchase_binary_7_days', 'user_purchase_binary_14_days'],axis=1)"
   ]
  },
  {
   "cell_type": "code",
   "execution_count": 98,
   "metadata": {
    "ExecuteTime": {
     "end_time": "2019-02-27T23:42:04.642464Z",
     "start_time": "2019-02-27T23:42:04.622899Z"
    }
   },
   "outputs": [],
   "source": [
    "submit = submit.rename(columns={'pred_7':'user_purchase_binary_7_days', 'pred_14':'user_purchase_binary_14_days'})"
   ]
  },
  {
   "cell_type": "code",
   "execution_count": 99,
   "metadata": {
    "ExecuteTime": {
     "end_time": "2019-02-27T23:42:05.287278Z",
     "start_time": "2019-02-27T23:42:05.278407Z"
    }
   },
   "outputs": [
    {
     "data": {
      "text/html": [
       "<div>\n",
       "<style scoped>\n",
       "    .dataframe tbody tr th:only-of-type {\n",
       "        vertical-align: middle;\n",
       "    }\n",
       "\n",
       "    .dataframe tbody tr th {\n",
       "        vertical-align: top;\n",
       "    }\n",
       "\n",
       "    .dataframe thead th {\n",
       "        text-align: right;\n",
       "    }\n",
       "</style>\n",
       "<table border=\"1\" class=\"dataframe\">\n",
       "  <thead>\n",
       "    <tr style=\"text-align: right;\">\n",
       "      <th></th>\n",
       "      <th>user_id_hash</th>\n",
       "      <th>user_purchase_binary_7_days</th>\n",
       "      <th>user_purchase_binary_14_days</th>\n",
       "    </tr>\n",
       "  </thead>\n",
       "  <tbody>\n",
       "    <tr>\n",
       "      <th>0</th>\n",
       "      <td>e469dfaed039ead9110165d9bc457acb11609ca34057dc...</td>\n",
       "      <td>0.012672</td>\n",
       "      <td>0.051126</td>\n",
       "    </tr>\n",
       "    <tr>\n",
       "      <th>1</th>\n",
       "      <td>afcc639a324b6c598ef83d360450afa011cb2dd1358bf9...</td>\n",
       "      <td>0.329149</td>\n",
       "      <td>0.385981</td>\n",
       "    </tr>\n",
       "    <tr>\n",
       "      <th>2</th>\n",
       "      <td>fd5a7cf211d08e3e00f7be6a9df6e6ea3d2e5c22a5d9c3...</td>\n",
       "      <td>0.012672</td>\n",
       "      <td>0.051126</td>\n",
       "    </tr>\n",
       "    <tr>\n",
       "      <th>3</th>\n",
       "      <td>00bfff98b9d0329f014c2eeac7ce47cd18b2bc6e10d608...</td>\n",
       "      <td>0.012672</td>\n",
       "      <td>0.051126</td>\n",
       "    </tr>\n",
       "    <tr>\n",
       "      <th>4</th>\n",
       "      <td>0d298f3638c43e915c119d4935e1ce8d168f81b5e3e8c1...</td>\n",
       "      <td>0.012672</td>\n",
       "      <td>0.051126</td>\n",
       "    </tr>\n",
       "  </tbody>\n",
       "</table>\n",
       "</div>"
      ],
      "text/plain": [
       "                                        user_id_hash  \\\n",
       "0  e469dfaed039ead9110165d9bc457acb11609ca34057dc...   \n",
       "1  afcc639a324b6c598ef83d360450afa011cb2dd1358bf9...   \n",
       "2  fd5a7cf211d08e3e00f7be6a9df6e6ea3d2e5c22a5d9c3...   \n",
       "3  00bfff98b9d0329f014c2eeac7ce47cd18b2bc6e10d608...   \n",
       "4  0d298f3638c43e915c119d4935e1ce8d168f81b5e3e8c1...   \n",
       "\n",
       "   user_purchase_binary_7_days  user_purchase_binary_14_days  \n",
       "0                     0.012672                      0.051126  \n",
       "1                     0.329149                      0.385981  \n",
       "2                     0.012672                      0.051126  \n",
       "3                     0.012672                      0.051126  \n",
       "4                     0.012672                      0.051126  "
      ]
     },
     "execution_count": 99,
     "metadata": {},
     "output_type": "execute_result"
    }
   ],
   "source": [
    "submit.head()"
   ]
  },
  {
   "cell_type": "code",
   "execution_count": 101,
   "metadata": {
    "ExecuteTime": {
     "end_time": "2019-02-27T23:42:38.114751Z",
     "start_time": "2019-02-27T23:42:36.627753Z"
    }
   },
   "outputs": [],
   "source": [
    "submit.to_csv('submit/add_attr.csv', index=False)"
   ]
  },
  {
   "cell_type": "code",
   "execution_count": 102,
   "metadata": {
    "ExecuteTime": {
     "end_time": "2019-02-27T23:42:38.761111Z",
     "start_time": "2019-02-27T23:42:38.758252Z"
    }
   },
   "outputs": [
    {
     "data": {
      "text/plain": [
       "312568"
      ]
     },
     "execution_count": 102,
     "metadata": {},
     "output_type": "execute_result"
    }
   ],
   "source": [
    "len(submit)"
   ]
  },
  {
   "cell_type": "code",
   "execution_count": null,
   "metadata": {},
   "outputs": [],
   "source": []
  },
  {
   "cell_type": "code",
   "execution_count": null,
   "metadata": {},
   "outputs": [],
   "source": []
  }
 ],
 "metadata": {
  "anaconda-cloud": {},
  "kernelspec": {
   "display_name": "Python 3",
   "language": "python",
   "name": "python3"
  },
  "language_info": {
   "codemirror_mode": {
    "name": "ipython",
    "version": 3
   },
   "file_extension": ".py",
   "mimetype": "text/x-python",
   "name": "python",
   "nbconvert_exporter": "python",
   "pygments_lexer": "ipython3",
   "version": "3.6.7"
  }
 },
 "nbformat": 4,
 "nbformat_minor": 1
}
