{
 "cells": [
  {
   "cell_type": "markdown",
   "metadata": {},
   "source": [
    "# Environment Setup"
   ]
  },
  {
   "cell_type": "markdown",
   "metadata": {},
   "source": [
    "## Launch EC2"
   ]
  },
  {
   "cell_type": "markdown",
   "metadata": {},
   "source": [
    "- Launch your EC2. "
   ]
  },
  {
   "cell_type": "markdown",
   "metadata": {},
   "source": [
    "Make sure you change the storage size to have enough to save the files"
   ]
  },
  {
   "cell_type": "markdown",
   "metadata": {},
   "source": [
    "![alt text](images/storage.png)"
   ]
  },
  {
   "cell_type": "markdown",
   "metadata": {},
   "source": [
    "## IAM Role"
   ]
  },
  {
   "cell_type": "markdown",
   "metadata": {},
   "source": [
    "You need to setup an IAM role so your EC2 can talk to S3.  "
   ]
  },
  {
   "cell_type": "markdown",
   "metadata": {},
   "source": [
    "To create the role, go to IAM"
   ]
  },
  {
   "cell_type": "markdown",
   "metadata": {
    "ExecuteTime": {
     "end_time": "2019-02-16T01:03:40.587411Z",
     "start_time": "2019-02-16T01:03:40.465832Z"
    }
   },
   "source": [
    "![alt text](images/IAM.png)"
   ]
  },
  {
   "cell_type": "markdown",
   "metadata": {},
   "source": [
    "Choose \"Roles\" and then \"Create Role\""
   ]
  },
  {
   "cell_type": "markdown",
   "metadata": {},
   "source": [
    "![alt text](images/create_role.png)"
   ]
  },
  {
   "cell_type": "markdown",
   "metadata": {},
   "source": [
    "Choose EC2 as your trusted entity"
   ]
  },
  {
   "cell_type": "markdown",
   "metadata": {
    "ExecuteTime": {
     "end_time": "2019-02-16T01:16:45.006743Z",
     "start_time": "2019-02-16T01:16:44.882439Z"
    }
   },
   "source": [
    "![alt text](images/trusted_entity.png)"
   ]
  },
  {
   "cell_type": "markdown",
   "metadata": {},
   "source": [
    "Then add s3 full access"
   ]
  },
  {
   "cell_type": "markdown",
   "metadata": {
    "ExecuteTime": {
     "end_time": "2019-02-16T01:16:55.111029Z",
     "start_time": "2019-02-16T01:16:54.991806Z"
    }
   },
   "source": [
    "![alt text](images/s3_full_access.png)"
   ]
  },
  {
   "cell_type": "markdown",
   "metadata": {},
   "source": [
    "You only need to create this role once.  When it is created, attach it to your EC2 instance"
   ]
  },
  {
   "cell_type": "markdown",
   "metadata": {
    "ExecuteTime": {
     "end_time": "2019-02-16T01:07:07.879920Z",
     "start_time": "2019-02-16T01:07:07.872154Z"
    }
   },
   "source": [
    "![alt text](images/attach_iam_role.png)"
   ]
  },
  {
   "cell_type": "markdown",
   "metadata": {},
   "source": [
    "# Configure EC2 Environment"
   ]
  },
  {
   "cell_type": "markdown",
   "metadata": {},
   "source": [
    "First, log into your EC2"
   ]
  },
  {
   "cell_type": "markdown",
   "metadata": {},
   "source": [
    "Then, go to github and copy the setup script file text (https://github.com/USF-ML2/final-project-group16/blob/master/Environment/setup.sh)"
   ]
  },
  {
   "cell_type": "markdown",
   "metadata": {},
   "source": [
    "Paste that into a document on your ec2, and name the document 'setup.sh'.  You can use your favorite method for this: vim, nano, etc..."
   ]
  },
  {
   "cell_type": "markdown",
   "metadata": {},
   "source": [
    "# Run setup script"
   ]
  },
  {
   "cell_type": "markdown",
   "metadata": {},
   "source": [
    "On your EC2, in the folder that contains \"setup.sh\", run the following command:\n",
    "\n",
    "```bash setup.sh```"
   ]
  },
  {
   "cell_type": "markdown",
   "metadata": {},
   "source": [
    "This will do the following:\n",
    "    - Download and install anaconda\n",
    "    - Clone the GitHub repo\n",
    "        *You need to type in your user/password for this!!*"
   ]
  },
  {
   "cell_type": "markdown",
   "metadata": {
    "ExecuteTime": {
     "end_time": "2019-02-16T01:17:20.541545Z",
     "start_time": "2019-02-16T01:17:20.414607Z"
    }
   },
   "source": [
    "![alt text](images/github_creds.png)"
   ]
  },
  {
   "cell_type": "markdown",
   "metadata": {},
   "source": [
    "    - Create the \"msds630\" environment\n",
    "        *This will have sklearn, jupyter, numpy, pandas, etc....*\n",
    "        *Remember to source activate msds630 when using*\n",
    "    - Download all files from S3\n",
    "        * If you want to download certain files, edit your setup.sh to only download the files you want*"
   ]
  },
  {
   "cell_type": "markdown",
   "metadata": {},
   "source": [
    "# What now?"
   ]
  },
  {
   "cell_type": "markdown",
   "metadata": {},
   "source": [
    "You have an environment with your data and code! "
   ]
  },
  {
   "cell_type": "markdown",
   "metadata": {},
   "source": [
    "To get jupyter working:\n",
    "    - Don't forget \n",
    "```source activate msds630```\n",
    "    - Run \"jupyter notebook --no-browser --port=8888\" from an EC2 terminal\n",
    "    -Run the following from your local terminal (with your PEM file and ec2 public DNS added):\n",
    "```ssh -i ~/.ssh/bpchivers_oregon.pem -L 8000:localhost:8888 ec2-user@ec2-34-221-15-99.us-west-2.compute.amazonaws.com```"
   ]
  }
 ],
 "metadata": {
  "kernelspec": {
   "display_name": "Python 3",
   "language": "python",
   "name": "python3"
  },
  "language_info": {
   "codemirror_mode": {
    "name": "ipython",
    "version": 3
   },
   "file_extension": ".py",
   "mimetype": "text/x-python",
   "name": "python",
   "nbconvert_exporter": "python",
   "pygments_lexer": "ipython3",
   "version": "3.7.2"
  }
 },
 "nbformat": 4,
 "nbformat_minor": 2
}
