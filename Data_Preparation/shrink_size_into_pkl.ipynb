{
 "cells": [
  {
   "cell_type": "code",
   "execution_count": 1,
   "metadata": {
    "ExecuteTime": {
     "end_time": "2019-02-21T04:53:53.684822Z",
     "start_time": "2019-02-21T04:53:53.114398Z"
    }
   },
   "outputs": [],
   "source": [
    "import numpy as np\n",
    "import pandas as pd\n",
    "import pickle"
   ]
  },
  {
   "cell_type": "markdown",
   "metadata": {},
   "source": [
    "## sessions"
   ]
  },
  {
   "cell_type": "code",
   "execution_count": 2,
   "metadata": {
    "ExecuteTime": {
     "end_time": "2019-02-21T04:54:16.009670Z",
     "start_time": "2019-02-21T04:53:54.219422Z"
    }
   },
   "outputs": [],
   "source": [
    "sessions = pd.read_csv('../Data/sessions.csv')"
   ]
  },
  {
   "cell_type": "code",
   "execution_count": 3,
   "metadata": {
    "ExecuteTime": {
     "end_time": "2019-02-21T04:54:16.042595Z",
     "start_time": "2019-02-21T04:54:16.011609Z"
    }
   },
   "outputs": [
    {
     "data": {
      "text/html": [
       "<div>\n",
       "<style scoped>\n",
       "    .dataframe tbody tr th:only-of-type {\n",
       "        vertical-align: middle;\n",
       "    }\n",
       "\n",
       "    .dataframe tbody tr th {\n",
       "        vertical-align: top;\n",
       "    }\n",
       "\n",
       "    .dataframe thead th {\n",
       "        text-align: right;\n",
       "    }\n",
       "</style>\n",
       "<table border=\"1\" class=\"dataframe\">\n",
       "  <thead>\n",
       "    <tr style=\"text-align: right;\">\n",
       "      <th></th>\n",
       "      <th>app_id</th>\n",
       "      <th>session_id</th>\n",
       "      <th>start_timestamp</th>\n",
       "      <th>timezone</th>\n",
       "      <th>timezone_offset</th>\n",
       "      <th>previous_sessions_duration</th>\n",
       "      <th>user_created_timestamp</th>\n",
       "      <th>is_user_first_session</th>\n",
       "      <th>is_session</th>\n",
       "      <th>is_developer</th>\n",
       "      <th>...</th>\n",
       "      <th>country</th>\n",
       "      <th>region</th>\n",
       "      <th>city</th>\n",
       "      <th>latitude</th>\n",
       "      <th>longitude</th>\n",
       "      <th>locale</th>\n",
       "      <th>os_name</th>\n",
       "      <th>session_index</th>\n",
       "      <th>device_id</th>\n",
       "      <th>user_id_hash</th>\n",
       "    </tr>\n",
       "  </thead>\n",
       "  <tbody>\n",
       "    <tr>\n",
       "      <th>0</th>\n",
       "      <td>4724682771660800</td>\n",
       "      <td>5558845121177764917</td>\n",
       "      <td>1542215364580</td>\n",
       "      <td>Asia/Manila</td>\n",
       "      <td>28800000.0</td>\n",
       "      <td>25837591</td>\n",
       "      <td>1538874289458</td>\n",
       "      <td>False</td>\n",
       "      <td>True</td>\n",
       "      <td>False</td>\n",
       "      <td>...</td>\n",
       "      <td>PH</td>\n",
       "      <td>00</td>\n",
       "      <td>makati</td>\n",
       "      <td>14.554729</td>\n",
       "      <td>121.024445</td>\n",
       "      <td>en_GB</td>\n",
       "      <td>Android OS</td>\n",
       "      <td>30</td>\n",
       "      <td>546a3d98-d540-4e72-ad82-9ebd64e0839b</td>\n",
       "      <td>9943447915df3a45fd6720a026af905b6da6b56a37701b...</td>\n",
       "    </tr>\n",
       "    <tr>\n",
       "      <th>1</th>\n",
       "      <td>4724682771660800</td>\n",
       "      <td>2201961907282901522</td>\n",
       "      <td>1543712977293</td>\n",
       "      <td>Asia/Manila</td>\n",
       "      <td>28800000.0</td>\n",
       "      <td>35050130</td>\n",
       "      <td>1538874289458</td>\n",
       "      <td>False</td>\n",
       "      <td>True</td>\n",
       "      <td>False</td>\n",
       "      <td>...</td>\n",
       "      <td>PH</td>\n",
       "      <td>00</td>\n",
       "      <td>quezon city</td>\n",
       "      <td>14.676041</td>\n",
       "      <td>121.043701</td>\n",
       "      <td>en_GB</td>\n",
       "      <td>Android OS</td>\n",
       "      <td>47</td>\n",
       "      <td>546a3d98-d540-4e72-ad82-9ebd64e0839b</td>\n",
       "      <td>9943447915df3a45fd6720a026af905b6da6b56a37701b...</td>\n",
       "    </tr>\n",
       "    <tr>\n",
       "      <th>2</th>\n",
       "      <td>4724682771660800</td>\n",
       "      <td>18781111175537580</td>\n",
       "      <td>1539215568666</td>\n",
       "      <td>Asia/Manila</td>\n",
       "      <td>28800000.0</td>\n",
       "      <td>11343848</td>\n",
       "      <td>1538874289458</td>\n",
       "      <td>False</td>\n",
       "      <td>True</td>\n",
       "      <td>False</td>\n",
       "      <td>...</td>\n",
       "      <td>PH</td>\n",
       "      <td>00</td>\n",
       "      <td>makati</td>\n",
       "      <td>14.554729</td>\n",
       "      <td>121.024445</td>\n",
       "      <td>en_GB</td>\n",
       "      <td>Android OS</td>\n",
       "      <td>10</td>\n",
       "      <td>546a3d98-d540-4e72-ad82-9ebd64e0839b</td>\n",
       "      <td>9943447915df3a45fd6720a026af905b6da6b56a37701b...</td>\n",
       "    </tr>\n",
       "    <tr>\n",
       "      <th>3</th>\n",
       "      <td>4724682771660800</td>\n",
       "      <td>1477540082628742048</td>\n",
       "      <td>1540120743010</td>\n",
       "      <td>Asia/Manila</td>\n",
       "      <td>28800000.0</td>\n",
       "      <td>13499724</td>\n",
       "      <td>1538874289458</td>\n",
       "      <td>False</td>\n",
       "      <td>True</td>\n",
       "      <td>False</td>\n",
       "      <td>...</td>\n",
       "      <td>PH</td>\n",
       "      <td>11</td>\n",
       "      <td>davao city</td>\n",
       "      <td>7.190708</td>\n",
       "      <td>125.455338</td>\n",
       "      <td>en_GB</td>\n",
       "      <td>Android OS</td>\n",
       "      <td>13</td>\n",
       "      <td>546a3d98-d540-4e72-ad82-9ebd64e0839b</td>\n",
       "      <td>9943447915df3a45fd6720a026af905b6da6b56a37701b...</td>\n",
       "    </tr>\n",
       "    <tr>\n",
       "      <th>4</th>\n",
       "      <td>4724682771660800</td>\n",
       "      <td>8184875317380844086</td>\n",
       "      <td>1542671625528</td>\n",
       "      <td>Asia/Manila</td>\n",
       "      <td>28800000.0</td>\n",
       "      <td>32788010</td>\n",
       "      <td>1538874289458</td>\n",
       "      <td>False</td>\n",
       "      <td>True</td>\n",
       "      <td>False</td>\n",
       "      <td>...</td>\n",
       "      <td>PH</td>\n",
       "      <td>00</td>\n",
       "      <td>makati</td>\n",
       "      <td>14.554729</td>\n",
       "      <td>121.024445</td>\n",
       "      <td>en_GB</td>\n",
       "      <td>Android OS</td>\n",
       "      <td>41</td>\n",
       "      <td>546a3d98-d540-4e72-ad82-9ebd64e0839b</td>\n",
       "      <td>9943447915df3a45fd6720a026af905b6da6b56a37701b...</td>\n",
       "    </tr>\n",
       "  </tbody>\n",
       "</table>\n",
       "<p>5 rows × 22 columns</p>\n",
       "</div>"
      ],
      "text/plain": [
       "             app_id           session_id  start_timestamp     timezone  \\\n",
       "0  4724682771660800  5558845121177764917    1542215364580  Asia/Manila   \n",
       "1  4724682771660800  2201961907282901522    1543712977293  Asia/Manila   \n",
       "2  4724682771660800    18781111175537580    1539215568666  Asia/Manila   \n",
       "3  4724682771660800  1477540082628742048    1540120743010  Asia/Manila   \n",
       "4  4724682771660800  8184875317380844086    1542671625528  Asia/Manila   \n",
       "\n",
       "   timezone_offset  previous_sessions_duration  user_created_timestamp  \\\n",
       "0       28800000.0                    25837591           1538874289458   \n",
       "1       28800000.0                    35050130           1538874289458   \n",
       "2       28800000.0                    11343848           1538874289458   \n",
       "3       28800000.0                    13499724           1538874289458   \n",
       "4       28800000.0                    32788010           1538874289458   \n",
       "\n",
       "   is_user_first_session  is_session  is_developer  ...  country  region  \\\n",
       "0                  False        True         False  ...       PH      00   \n",
       "1                  False        True         False  ...       PH      00   \n",
       "2                  False        True         False  ...       PH      00   \n",
       "3                  False        True         False  ...       PH      11   \n",
       "4                  False        True         False  ...       PH      00   \n",
       "\n",
       "          city   latitude   longitude  locale     os_name session_index  \\\n",
       "0       makati  14.554729  121.024445   en_GB  Android OS            30   \n",
       "1  quezon city  14.676041  121.043701   en_GB  Android OS            47   \n",
       "2       makati  14.554729  121.024445   en_GB  Android OS            10   \n",
       "3   davao city   7.190708  125.455338   en_GB  Android OS            13   \n",
       "4       makati  14.554729  121.024445   en_GB  Android OS            41   \n",
       "\n",
       "                              device_id  \\\n",
       "0  546a3d98-d540-4e72-ad82-9ebd64e0839b   \n",
       "1  546a3d98-d540-4e72-ad82-9ebd64e0839b   \n",
       "2  546a3d98-d540-4e72-ad82-9ebd64e0839b   \n",
       "3  546a3d98-d540-4e72-ad82-9ebd64e0839b   \n",
       "4  546a3d98-d540-4e72-ad82-9ebd64e0839b   \n",
       "\n",
       "                                        user_id_hash  \n",
       "0  9943447915df3a45fd6720a026af905b6da6b56a37701b...  \n",
       "1  9943447915df3a45fd6720a026af905b6da6b56a37701b...  \n",
       "2  9943447915df3a45fd6720a026af905b6da6b56a37701b...  \n",
       "3  9943447915df3a45fd6720a026af905b6da6b56a37701b...  \n",
       "4  9943447915df3a45fd6720a026af905b6da6b56a37701b...  \n",
       "\n",
       "[5 rows x 22 columns]"
      ]
     },
     "execution_count": 3,
     "metadata": {},
     "output_type": "execute_result"
    }
   ],
   "source": [
    "sessions.head()"
   ]
  },
  {
   "cell_type": "code",
   "execution_count": 4,
   "metadata": {
    "ExecuteTime": {
     "end_time": "2019-02-21T04:54:37.857395Z",
     "start_time": "2019-02-21T04:54:16.044025Z"
    }
   },
   "outputs": [
    {
     "name": "stdout",
     "output_type": "stream",
     "text": [
      "<class 'pandas.core.frame.DataFrame'>\n",
      "RangeIndex: 6239836 entries, 0 to 6239835\n",
      "Data columns (total 22 columns):\n",
      "app_id                        int64\n",
      "session_id                    int64\n",
      "start_timestamp               int64\n",
      "timezone                      object\n",
      "timezone_offset               float64\n",
      "previous_sessions_duration    int64\n",
      "user_created_timestamp        int64\n",
      "is_user_first_session         bool\n",
      "is_session                    bool\n",
      "is_developer                  bool\n",
      "is_wau                        bool\n",
      "is_mau                        bool\n",
      "country                       object\n",
      "region                        object\n",
      "city                          object\n",
      "latitude                      float64\n",
      "longitude                     float64\n",
      "locale                        object\n",
      "os_name                       object\n",
      "session_index                 int64\n",
      "device_id                     object\n",
      "user_id_hash                  object\n",
      "dtypes: bool(5), float64(3), int64(6), object(8)\n",
      "memory usage: 3.9 GB\n"
     ]
    }
   ],
   "source": [
    "sessions.info(memory_usage='deep')"
   ]
  },
  {
   "cell_type": "code",
   "execution_count": null,
   "metadata": {},
   "outputs": [],
   "source": [
    "# load sessions.csv\n",
    "sessions = pd.read_csv('../Data/sessions.csv')\n",
    "\n",
    "# drop some rows and dolumns\n",
    "sessions = sessions.dropna()\n",
    "sessions = sessions[sessions['is_developer']==False]\n",
    "sessions = sessions.drop(['app_id', 'is_developer', 'is_wau', 'is_mau'], axis=1)\n",
    "sessions = sessions.reset_index(drop=True)\n",
    "\n",
    "# change type\n",
    "sessions['start_timestamp'] = sessions['start_timestamp'].astype(np.uint64)\n",
    "sessions['timezone'] = sessions['timezone'].astype('category')\n",
    "sessions['timezone_offset'] = sessions['timezone_offset'].astype(np.uint32)\n",
    "sessions['previous_sessions_duration'] = sessions['previous_sessions_duration'].astype(np.uint32)\n",
    "sessions['user_created_timestamp'] = sessions['user_created_timestamp'].astype(np.uint64)\n",
    "sessions['is_user_first_session'] = sessions['is_user_first_session'].astype('bool')\n",
    "sessions['is_session'] = sessions['is_session'].astype('bool')\n",
    "sessions['country'] = sessions['country'].astype('category')\n",
    "sessions['region'] = sessions['region'].astype('category')\n",
    "sessions['city'] = sessions['city'].astype('category')\n",
    "sessions['latitude'] = sessions['latitude'].astype(np.float32)\n",
    "sessions['longitude'] = sessions['longitude'].astype(np.float32)\n",
    "sessions['locale'] = sessions['locale'].astype('category')\n",
    "sessions['os_name'] = sessions['os_name'].astype('category')\n",
    "sessions['session_index'] = sessions['session_index'].astype(np.uint16)\n",
    "\n",
    "# save into pickle\n",
    "pickle.dump(sessions, open(\"../Data/sessions.pkl\", \"wb\"))"
   ]
  },
  {
   "cell_type": "code",
   "execution_count": 5,
   "metadata": {
    "ExecuteTime": {
     "end_time": "2019-02-21T04:54:41.797404Z",
     "start_time": "2019-02-21T04:54:37.859443Z"
    }
   },
   "outputs": [],
   "source": [
    "sessions = sessions.dropna()"
   ]
  },
  {
   "cell_type": "code",
   "execution_count": 6,
   "metadata": {
    "ExecuteTime": {
     "end_time": "2019-02-21T04:54:42.526692Z",
     "start_time": "2019-02-21T04:54:41.799970Z"
    }
   },
   "outputs": [],
   "source": [
    "sessions = sessions[sessions['is_developer']==False]"
   ]
  },
  {
   "cell_type": "code",
   "execution_count": 7,
   "metadata": {
    "ExecuteTime": {
     "end_time": "2019-02-21T04:54:43.119325Z",
     "start_time": "2019-02-21T04:54:42.528743Z"
    }
   },
   "outputs": [],
   "source": [
    "sessions = sessions.drop(['app_id', 'is_developer', 'is_wau', 'is_mau'], axis=1)"
   ]
  },
  {
   "cell_type": "code",
   "execution_count": 8,
   "metadata": {
    "ExecuteTime": {
     "end_time": "2019-02-21T04:54:43.730543Z",
     "start_time": "2019-02-21T04:54:43.121130Z"
    }
   },
   "outputs": [],
   "source": [
    "sessions = sessions.reset_index(drop=True)"
   ]
  },
  {
   "cell_type": "code",
   "execution_count": 9,
   "metadata": {
    "ExecuteTime": {
     "end_time": "2019-02-21T04:54:43.735340Z",
     "start_time": "2019-02-21T04:54:43.732078Z"
    }
   },
   "outputs": [
    {
     "data": {
      "text/plain": [
       "6199336"
      ]
     },
     "execution_count": 9,
     "metadata": {},
     "output_type": "execute_result"
    }
   ],
   "source": [
    "len(sessions)"
   ]
  },
  {
   "cell_type": "code",
   "execution_count": 10,
   "metadata": {
    "ExecuteTime": {
     "end_time": "2019-02-21T04:54:43.757103Z",
     "start_time": "2019-02-21T04:54:43.737324Z"
    }
   },
   "outputs": [
    {
     "data": {
      "text/html": [
       "<div>\n",
       "<style scoped>\n",
       "    .dataframe tbody tr th:only-of-type {\n",
       "        vertical-align: middle;\n",
       "    }\n",
       "\n",
       "    .dataframe tbody tr th {\n",
       "        vertical-align: top;\n",
       "    }\n",
       "\n",
       "    .dataframe thead th {\n",
       "        text-align: right;\n",
       "    }\n",
       "</style>\n",
       "<table border=\"1\" class=\"dataframe\">\n",
       "  <thead>\n",
       "    <tr style=\"text-align: right;\">\n",
       "      <th></th>\n",
       "      <th>session_id</th>\n",
       "      <th>start_timestamp</th>\n",
       "      <th>timezone</th>\n",
       "      <th>timezone_offset</th>\n",
       "      <th>previous_sessions_duration</th>\n",
       "      <th>user_created_timestamp</th>\n",
       "      <th>is_user_first_session</th>\n",
       "      <th>is_session</th>\n",
       "      <th>country</th>\n",
       "      <th>region</th>\n",
       "      <th>city</th>\n",
       "      <th>latitude</th>\n",
       "      <th>longitude</th>\n",
       "      <th>locale</th>\n",
       "      <th>os_name</th>\n",
       "      <th>session_index</th>\n",
       "      <th>device_id</th>\n",
       "      <th>user_id_hash</th>\n",
       "    </tr>\n",
       "  </thead>\n",
       "  <tbody>\n",
       "    <tr>\n",
       "      <th>0</th>\n",
       "      <td>5558845121177764917</td>\n",
       "      <td>1542215364580</td>\n",
       "      <td>Asia/Manila</td>\n",
       "      <td>28800000.0</td>\n",
       "      <td>25837591</td>\n",
       "      <td>1538874289458</td>\n",
       "      <td>False</td>\n",
       "      <td>True</td>\n",
       "      <td>PH</td>\n",
       "      <td>00</td>\n",
       "      <td>makati</td>\n",
       "      <td>14.554729</td>\n",
       "      <td>121.024445</td>\n",
       "      <td>en_GB</td>\n",
       "      <td>Android OS</td>\n",
       "      <td>30</td>\n",
       "      <td>546a3d98-d540-4e72-ad82-9ebd64e0839b</td>\n",
       "      <td>9943447915df3a45fd6720a026af905b6da6b56a37701b...</td>\n",
       "    </tr>\n",
       "    <tr>\n",
       "      <th>1</th>\n",
       "      <td>2201961907282901522</td>\n",
       "      <td>1543712977293</td>\n",
       "      <td>Asia/Manila</td>\n",
       "      <td>28800000.0</td>\n",
       "      <td>35050130</td>\n",
       "      <td>1538874289458</td>\n",
       "      <td>False</td>\n",
       "      <td>True</td>\n",
       "      <td>PH</td>\n",
       "      <td>00</td>\n",
       "      <td>quezon city</td>\n",
       "      <td>14.676041</td>\n",
       "      <td>121.043701</td>\n",
       "      <td>en_GB</td>\n",
       "      <td>Android OS</td>\n",
       "      <td>47</td>\n",
       "      <td>546a3d98-d540-4e72-ad82-9ebd64e0839b</td>\n",
       "      <td>9943447915df3a45fd6720a026af905b6da6b56a37701b...</td>\n",
       "    </tr>\n",
       "    <tr>\n",
       "      <th>2</th>\n",
       "      <td>18781111175537580</td>\n",
       "      <td>1539215568666</td>\n",
       "      <td>Asia/Manila</td>\n",
       "      <td>28800000.0</td>\n",
       "      <td>11343848</td>\n",
       "      <td>1538874289458</td>\n",
       "      <td>False</td>\n",
       "      <td>True</td>\n",
       "      <td>PH</td>\n",
       "      <td>00</td>\n",
       "      <td>makati</td>\n",
       "      <td>14.554729</td>\n",
       "      <td>121.024445</td>\n",
       "      <td>en_GB</td>\n",
       "      <td>Android OS</td>\n",
       "      <td>10</td>\n",
       "      <td>546a3d98-d540-4e72-ad82-9ebd64e0839b</td>\n",
       "      <td>9943447915df3a45fd6720a026af905b6da6b56a37701b...</td>\n",
       "    </tr>\n",
       "    <tr>\n",
       "      <th>3</th>\n",
       "      <td>1477540082628742048</td>\n",
       "      <td>1540120743010</td>\n",
       "      <td>Asia/Manila</td>\n",
       "      <td>28800000.0</td>\n",
       "      <td>13499724</td>\n",
       "      <td>1538874289458</td>\n",
       "      <td>False</td>\n",
       "      <td>True</td>\n",
       "      <td>PH</td>\n",
       "      <td>11</td>\n",
       "      <td>davao city</td>\n",
       "      <td>7.190708</td>\n",
       "      <td>125.455338</td>\n",
       "      <td>en_GB</td>\n",
       "      <td>Android OS</td>\n",
       "      <td>13</td>\n",
       "      <td>546a3d98-d540-4e72-ad82-9ebd64e0839b</td>\n",
       "      <td>9943447915df3a45fd6720a026af905b6da6b56a37701b...</td>\n",
       "    </tr>\n",
       "    <tr>\n",
       "      <th>4</th>\n",
       "      <td>8184875317380844086</td>\n",
       "      <td>1542671625528</td>\n",
       "      <td>Asia/Manila</td>\n",
       "      <td>28800000.0</td>\n",
       "      <td>32788010</td>\n",
       "      <td>1538874289458</td>\n",
       "      <td>False</td>\n",
       "      <td>True</td>\n",
       "      <td>PH</td>\n",
       "      <td>00</td>\n",
       "      <td>makati</td>\n",
       "      <td>14.554729</td>\n",
       "      <td>121.024445</td>\n",
       "      <td>en_GB</td>\n",
       "      <td>Android OS</td>\n",
       "      <td>41</td>\n",
       "      <td>546a3d98-d540-4e72-ad82-9ebd64e0839b</td>\n",
       "      <td>9943447915df3a45fd6720a026af905b6da6b56a37701b...</td>\n",
       "    </tr>\n",
       "  </tbody>\n",
       "</table>\n",
       "</div>"
      ],
      "text/plain": [
       "            session_id  start_timestamp     timezone  timezone_offset  \\\n",
       "0  5558845121177764917    1542215364580  Asia/Manila       28800000.0   \n",
       "1  2201961907282901522    1543712977293  Asia/Manila       28800000.0   \n",
       "2    18781111175537580    1539215568666  Asia/Manila       28800000.0   \n",
       "3  1477540082628742048    1540120743010  Asia/Manila       28800000.0   \n",
       "4  8184875317380844086    1542671625528  Asia/Manila       28800000.0   \n",
       "\n",
       "   previous_sessions_duration  user_created_timestamp  is_user_first_session  \\\n",
       "0                    25837591           1538874289458                  False   \n",
       "1                    35050130           1538874289458                  False   \n",
       "2                    11343848           1538874289458                  False   \n",
       "3                    13499724           1538874289458                  False   \n",
       "4                    32788010           1538874289458                  False   \n",
       "\n",
       "   is_session country region         city   latitude   longitude locale  \\\n",
       "0        True      PH     00       makati  14.554729  121.024445  en_GB   \n",
       "1        True      PH     00  quezon city  14.676041  121.043701  en_GB   \n",
       "2        True      PH     00       makati  14.554729  121.024445  en_GB   \n",
       "3        True      PH     11   davao city   7.190708  125.455338  en_GB   \n",
       "4        True      PH     00       makati  14.554729  121.024445  en_GB   \n",
       "\n",
       "      os_name  session_index                             device_id  \\\n",
       "0  Android OS             30  546a3d98-d540-4e72-ad82-9ebd64e0839b   \n",
       "1  Android OS             47  546a3d98-d540-4e72-ad82-9ebd64e0839b   \n",
       "2  Android OS             10  546a3d98-d540-4e72-ad82-9ebd64e0839b   \n",
       "3  Android OS             13  546a3d98-d540-4e72-ad82-9ebd64e0839b   \n",
       "4  Android OS             41  546a3d98-d540-4e72-ad82-9ebd64e0839b   \n",
       "\n",
       "                                        user_id_hash  \n",
       "0  9943447915df3a45fd6720a026af905b6da6b56a37701b...  \n",
       "1  9943447915df3a45fd6720a026af905b6da6b56a37701b...  \n",
       "2  9943447915df3a45fd6720a026af905b6da6b56a37701b...  \n",
       "3  9943447915df3a45fd6720a026af905b6da6b56a37701b...  \n",
       "4  9943447915df3a45fd6720a026af905b6da6b56a37701b...  "
      ]
     },
     "execution_count": 10,
     "metadata": {},
     "output_type": "execute_result"
    }
   ],
   "source": [
    "sessions.head()"
   ]
  },
  {
   "cell_type": "code",
   "execution_count": 11,
   "metadata": {
    "ExecuteTime": {
     "end_time": "2019-02-21T04:54:46.779639Z",
     "start_time": "2019-02-21T04:54:43.758947Z"
    }
   },
   "outputs": [],
   "source": [
    "# sessions['session_id'] = sessions['session_id'].astype('category')\n",
    "sessions['start_timestamp'] = sessions['start_timestamp'].astype(np.uint64)\n",
    "sessions['timezone'] = sessions['timezone'].astype('category')\n",
    "sessions['timezone_offset'] = sessions['timezone_offset'].astype(np.uint32)\n",
    "sessions['previous_sessions_duration'] = sessions['previous_sessions_duration'].astype(np.uint32)\n",
    "sessions['user_created_timestamp'] = sessions['user_created_timestamp'].astype(np.uint64)\n",
    "sessions['is_user_first_session'] = sessions['is_user_first_session'].astype('bool')\n",
    "sessions['is_session'] = sessions['is_session'].astype('bool')\n",
    "sessions['country'] = sessions['country'].astype('category')\n",
    "sessions['region'] = sessions['region'].astype('category')\n",
    "sessions['city'] = sessions['city'].astype('category')\n",
    "sessions['latitude'] = sessions['latitude'].astype(np.float32)\n",
    "sessions['longitude'] = sessions['longitude'].astype(np.float32)\n",
    "sessions['locale'] = sessions['locale'].astype('category')\n",
    "sessions['os_name'] = sessions['os_name'].astype('category')\n",
    "sessions['session_index'] = sessions['session_index'].astype(np.uint16)\n",
    "# sessions['device_id'] = sessions['device_id'].astype('category')\n",
    "# sessions['user_id_hash'] = sessions['user_id_hash'].astype('category')"
   ]
  },
  {
   "cell_type": "code",
   "execution_count": 12,
   "metadata": {
    "ExecuteTime": {
     "end_time": "2019-02-21T04:54:46.801669Z",
     "start_time": "2019-02-21T04:54:46.781517Z"
    }
   },
   "outputs": [
    {
     "data": {
      "text/html": [
       "<div>\n",
       "<style scoped>\n",
       "    .dataframe tbody tr th:only-of-type {\n",
       "        vertical-align: middle;\n",
       "    }\n",
       "\n",
       "    .dataframe tbody tr th {\n",
       "        vertical-align: top;\n",
       "    }\n",
       "\n",
       "    .dataframe thead th {\n",
       "        text-align: right;\n",
       "    }\n",
       "</style>\n",
       "<table border=\"1\" class=\"dataframe\">\n",
       "  <thead>\n",
       "    <tr style=\"text-align: right;\">\n",
       "      <th></th>\n",
       "      <th>session_id</th>\n",
       "      <th>start_timestamp</th>\n",
       "      <th>timezone</th>\n",
       "      <th>timezone_offset</th>\n",
       "      <th>previous_sessions_duration</th>\n",
       "      <th>user_created_timestamp</th>\n",
       "      <th>is_user_first_session</th>\n",
       "      <th>is_session</th>\n",
       "      <th>country</th>\n",
       "      <th>region</th>\n",
       "      <th>city</th>\n",
       "      <th>latitude</th>\n",
       "      <th>longitude</th>\n",
       "      <th>locale</th>\n",
       "      <th>os_name</th>\n",
       "      <th>session_index</th>\n",
       "      <th>device_id</th>\n",
       "      <th>user_id_hash</th>\n",
       "    </tr>\n",
       "  </thead>\n",
       "  <tbody>\n",
       "    <tr>\n",
       "      <th>0</th>\n",
       "      <td>5558845121177764917</td>\n",
       "      <td>1542215364580</td>\n",
       "      <td>Asia/Manila</td>\n",
       "      <td>28800000</td>\n",
       "      <td>25837591</td>\n",
       "      <td>1538874289458</td>\n",
       "      <td>False</td>\n",
       "      <td>True</td>\n",
       "      <td>PH</td>\n",
       "      <td>00</td>\n",
       "      <td>makati</td>\n",
       "      <td>14.554729</td>\n",
       "      <td>121.024445</td>\n",
       "      <td>en_GB</td>\n",
       "      <td>Android OS</td>\n",
       "      <td>30</td>\n",
       "      <td>546a3d98-d540-4e72-ad82-9ebd64e0839b</td>\n",
       "      <td>9943447915df3a45fd6720a026af905b6da6b56a37701b...</td>\n",
       "    </tr>\n",
       "    <tr>\n",
       "      <th>1</th>\n",
       "      <td>2201961907282901522</td>\n",
       "      <td>1543712977293</td>\n",
       "      <td>Asia/Manila</td>\n",
       "      <td>28800000</td>\n",
       "      <td>35050130</td>\n",
       "      <td>1538874289458</td>\n",
       "      <td>False</td>\n",
       "      <td>True</td>\n",
       "      <td>PH</td>\n",
       "      <td>00</td>\n",
       "      <td>quezon city</td>\n",
       "      <td>14.676041</td>\n",
       "      <td>121.043701</td>\n",
       "      <td>en_GB</td>\n",
       "      <td>Android OS</td>\n",
       "      <td>47</td>\n",
       "      <td>546a3d98-d540-4e72-ad82-9ebd64e0839b</td>\n",
       "      <td>9943447915df3a45fd6720a026af905b6da6b56a37701b...</td>\n",
       "    </tr>\n",
       "    <tr>\n",
       "      <th>2</th>\n",
       "      <td>18781111175537580</td>\n",
       "      <td>1539215568666</td>\n",
       "      <td>Asia/Manila</td>\n",
       "      <td>28800000</td>\n",
       "      <td>11343848</td>\n",
       "      <td>1538874289458</td>\n",
       "      <td>False</td>\n",
       "      <td>True</td>\n",
       "      <td>PH</td>\n",
       "      <td>00</td>\n",
       "      <td>makati</td>\n",
       "      <td>14.554729</td>\n",
       "      <td>121.024445</td>\n",
       "      <td>en_GB</td>\n",
       "      <td>Android OS</td>\n",
       "      <td>10</td>\n",
       "      <td>546a3d98-d540-4e72-ad82-9ebd64e0839b</td>\n",
       "      <td>9943447915df3a45fd6720a026af905b6da6b56a37701b...</td>\n",
       "    </tr>\n",
       "    <tr>\n",
       "      <th>3</th>\n",
       "      <td>1477540082628742048</td>\n",
       "      <td>1540120743010</td>\n",
       "      <td>Asia/Manila</td>\n",
       "      <td>28800000</td>\n",
       "      <td>13499724</td>\n",
       "      <td>1538874289458</td>\n",
       "      <td>False</td>\n",
       "      <td>True</td>\n",
       "      <td>PH</td>\n",
       "      <td>11</td>\n",
       "      <td>davao city</td>\n",
       "      <td>7.190708</td>\n",
       "      <td>125.455338</td>\n",
       "      <td>en_GB</td>\n",
       "      <td>Android OS</td>\n",
       "      <td>13</td>\n",
       "      <td>546a3d98-d540-4e72-ad82-9ebd64e0839b</td>\n",
       "      <td>9943447915df3a45fd6720a026af905b6da6b56a37701b...</td>\n",
       "    </tr>\n",
       "    <tr>\n",
       "      <th>4</th>\n",
       "      <td>8184875317380844086</td>\n",
       "      <td>1542671625528</td>\n",
       "      <td>Asia/Manila</td>\n",
       "      <td>28800000</td>\n",
       "      <td>32788010</td>\n",
       "      <td>1538874289458</td>\n",
       "      <td>False</td>\n",
       "      <td>True</td>\n",
       "      <td>PH</td>\n",
       "      <td>00</td>\n",
       "      <td>makati</td>\n",
       "      <td>14.554729</td>\n",
       "      <td>121.024445</td>\n",
       "      <td>en_GB</td>\n",
       "      <td>Android OS</td>\n",
       "      <td>41</td>\n",
       "      <td>546a3d98-d540-4e72-ad82-9ebd64e0839b</td>\n",
       "      <td>9943447915df3a45fd6720a026af905b6da6b56a37701b...</td>\n",
       "    </tr>\n",
       "  </tbody>\n",
       "</table>\n",
       "</div>"
      ],
      "text/plain": [
       "            session_id  start_timestamp     timezone  timezone_offset  \\\n",
       "0  5558845121177764917    1542215364580  Asia/Manila         28800000   \n",
       "1  2201961907282901522    1543712977293  Asia/Manila         28800000   \n",
       "2    18781111175537580    1539215568666  Asia/Manila         28800000   \n",
       "3  1477540082628742048    1540120743010  Asia/Manila         28800000   \n",
       "4  8184875317380844086    1542671625528  Asia/Manila         28800000   \n",
       "\n",
       "   previous_sessions_duration  user_created_timestamp  is_user_first_session  \\\n",
       "0                    25837591           1538874289458                  False   \n",
       "1                    35050130           1538874289458                  False   \n",
       "2                    11343848           1538874289458                  False   \n",
       "3                    13499724           1538874289458                  False   \n",
       "4                    32788010           1538874289458                  False   \n",
       "\n",
       "   is_session country region         city   latitude   longitude locale  \\\n",
       "0        True      PH     00       makati  14.554729  121.024445  en_GB   \n",
       "1        True      PH     00  quezon city  14.676041  121.043701  en_GB   \n",
       "2        True      PH     00       makati  14.554729  121.024445  en_GB   \n",
       "3        True      PH     11   davao city   7.190708  125.455338  en_GB   \n",
       "4        True      PH     00       makati  14.554729  121.024445  en_GB   \n",
       "\n",
       "      os_name  session_index                             device_id  \\\n",
       "0  Android OS             30  546a3d98-d540-4e72-ad82-9ebd64e0839b   \n",
       "1  Android OS             47  546a3d98-d540-4e72-ad82-9ebd64e0839b   \n",
       "2  Android OS             10  546a3d98-d540-4e72-ad82-9ebd64e0839b   \n",
       "3  Android OS             13  546a3d98-d540-4e72-ad82-9ebd64e0839b   \n",
       "4  Android OS             41  546a3d98-d540-4e72-ad82-9ebd64e0839b   \n",
       "\n",
       "                                        user_id_hash  \n",
       "0  9943447915df3a45fd6720a026af905b6da6b56a37701b...  \n",
       "1  9943447915df3a45fd6720a026af905b6da6b56a37701b...  \n",
       "2  9943447915df3a45fd6720a026af905b6da6b56a37701b...  \n",
       "3  9943447915df3a45fd6720a026af905b6da6b56a37701b...  \n",
       "4  9943447915df3a45fd6720a026af905b6da6b56a37701b...  "
      ]
     },
     "execution_count": 12,
     "metadata": {},
     "output_type": "execute_result"
    }
   ],
   "source": [
    "sessions.head()"
   ]
  },
  {
   "cell_type": "code",
   "execution_count": 13,
   "metadata": {
    "ExecuteTime": {
     "end_time": "2019-02-21T04:54:52.420038Z",
     "start_time": "2019-02-21T04:54:46.803409Z"
    }
   },
   "outputs": [
    {
     "name": "stdout",
     "output_type": "stream",
     "text": [
      "<class 'pandas.core.frame.DataFrame'>\n",
      "RangeIndex: 6199336 entries, 0 to 6199335\n",
      "Data columns (total 18 columns):\n",
      "session_id                    int64\n",
      "start_timestamp               uint64\n",
      "timezone                      category\n",
      "timezone_offset               uint32\n",
      "previous_sessions_duration    uint32\n",
      "user_created_timestamp        uint64\n",
      "is_user_first_session         bool\n",
      "is_session                    bool\n",
      "country                       category\n",
      "region                        category\n",
      "city                          category\n",
      "latitude                      float32\n",
      "longitude                     float32\n",
      "locale                        category\n",
      "os_name                       category\n",
      "session_index                 uint16\n",
      "device_id                     object\n",
      "user_id_hash                  object\n",
      "dtypes: bool(2), category(6), float32(2), int64(1), object(2), uint16(1), uint32(2), uint64(2)\n",
      "memory usage: 1.6 GB\n"
     ]
    }
   ],
   "source": [
    "sessions.info(memory_usage='deep')"
   ]
  },
  {
   "cell_type": "code",
   "execution_count": 14,
   "metadata": {
    "ExecuteTime": {
     "end_time": "2019-02-21T04:54:53.876505Z",
     "start_time": "2019-02-21T04:54:52.421465Z"
    }
   },
   "outputs": [],
   "source": [
    "pickle.dump(sessions, open(\"../Data/sessions.pkl\", \"wb\"))"
   ]
  },
  {
   "cell_type": "code",
   "execution_count": 15,
   "metadata": {
    "ExecuteTime": {
     "end_time": "2019-02-21T04:54:54.697027Z",
     "start_time": "2019-02-21T04:54:53.877878Z"
    }
   },
   "outputs": [],
   "source": [
    "s = pickle.load(open('../Data/sessions.pkl', 'rb'))"
   ]
  },
  {
   "cell_type": "code",
   "execution_count": 16,
   "metadata": {
    "ExecuteTime": {
     "end_time": "2019-02-21T04:54:54.720379Z",
     "start_time": "2019-02-21T04:54:54.698661Z"
    }
   },
   "outputs": [
    {
     "data": {
      "text/html": [
       "<div>\n",
       "<style scoped>\n",
       "    .dataframe tbody tr th:only-of-type {\n",
       "        vertical-align: middle;\n",
       "    }\n",
       "\n",
       "    .dataframe tbody tr th {\n",
       "        vertical-align: top;\n",
       "    }\n",
       "\n",
       "    .dataframe thead th {\n",
       "        text-align: right;\n",
       "    }\n",
       "</style>\n",
       "<table border=\"1\" class=\"dataframe\">\n",
       "  <thead>\n",
       "    <tr style=\"text-align: right;\">\n",
       "      <th></th>\n",
       "      <th>session_id</th>\n",
       "      <th>start_timestamp</th>\n",
       "      <th>timezone</th>\n",
       "      <th>timezone_offset</th>\n",
       "      <th>previous_sessions_duration</th>\n",
       "      <th>user_created_timestamp</th>\n",
       "      <th>is_user_first_session</th>\n",
       "      <th>is_session</th>\n",
       "      <th>country</th>\n",
       "      <th>region</th>\n",
       "      <th>city</th>\n",
       "      <th>latitude</th>\n",
       "      <th>longitude</th>\n",
       "      <th>locale</th>\n",
       "      <th>os_name</th>\n",
       "      <th>session_index</th>\n",
       "      <th>device_id</th>\n",
       "      <th>user_id_hash</th>\n",
       "    </tr>\n",
       "  </thead>\n",
       "  <tbody>\n",
       "    <tr>\n",
       "      <th>0</th>\n",
       "      <td>5558845121177764917</td>\n",
       "      <td>1542215364580</td>\n",
       "      <td>Asia/Manila</td>\n",
       "      <td>28800000</td>\n",
       "      <td>25837591</td>\n",
       "      <td>1538874289458</td>\n",
       "      <td>False</td>\n",
       "      <td>True</td>\n",
       "      <td>PH</td>\n",
       "      <td>00</td>\n",
       "      <td>makati</td>\n",
       "      <td>14.554729</td>\n",
       "      <td>121.024445</td>\n",
       "      <td>en_GB</td>\n",
       "      <td>Android OS</td>\n",
       "      <td>30</td>\n",
       "      <td>546a3d98-d540-4e72-ad82-9ebd64e0839b</td>\n",
       "      <td>9943447915df3a45fd6720a026af905b6da6b56a37701b...</td>\n",
       "    </tr>\n",
       "    <tr>\n",
       "      <th>1</th>\n",
       "      <td>2201961907282901522</td>\n",
       "      <td>1543712977293</td>\n",
       "      <td>Asia/Manila</td>\n",
       "      <td>28800000</td>\n",
       "      <td>35050130</td>\n",
       "      <td>1538874289458</td>\n",
       "      <td>False</td>\n",
       "      <td>True</td>\n",
       "      <td>PH</td>\n",
       "      <td>00</td>\n",
       "      <td>quezon city</td>\n",
       "      <td>14.676041</td>\n",
       "      <td>121.043701</td>\n",
       "      <td>en_GB</td>\n",
       "      <td>Android OS</td>\n",
       "      <td>47</td>\n",
       "      <td>546a3d98-d540-4e72-ad82-9ebd64e0839b</td>\n",
       "      <td>9943447915df3a45fd6720a026af905b6da6b56a37701b...</td>\n",
       "    </tr>\n",
       "    <tr>\n",
       "      <th>2</th>\n",
       "      <td>18781111175537580</td>\n",
       "      <td>1539215568666</td>\n",
       "      <td>Asia/Manila</td>\n",
       "      <td>28800000</td>\n",
       "      <td>11343848</td>\n",
       "      <td>1538874289458</td>\n",
       "      <td>False</td>\n",
       "      <td>True</td>\n",
       "      <td>PH</td>\n",
       "      <td>00</td>\n",
       "      <td>makati</td>\n",
       "      <td>14.554729</td>\n",
       "      <td>121.024445</td>\n",
       "      <td>en_GB</td>\n",
       "      <td>Android OS</td>\n",
       "      <td>10</td>\n",
       "      <td>546a3d98-d540-4e72-ad82-9ebd64e0839b</td>\n",
       "      <td>9943447915df3a45fd6720a026af905b6da6b56a37701b...</td>\n",
       "    </tr>\n",
       "    <tr>\n",
       "      <th>3</th>\n",
       "      <td>1477540082628742048</td>\n",
       "      <td>1540120743010</td>\n",
       "      <td>Asia/Manila</td>\n",
       "      <td>28800000</td>\n",
       "      <td>13499724</td>\n",
       "      <td>1538874289458</td>\n",
       "      <td>False</td>\n",
       "      <td>True</td>\n",
       "      <td>PH</td>\n",
       "      <td>11</td>\n",
       "      <td>davao city</td>\n",
       "      <td>7.190708</td>\n",
       "      <td>125.455338</td>\n",
       "      <td>en_GB</td>\n",
       "      <td>Android OS</td>\n",
       "      <td>13</td>\n",
       "      <td>546a3d98-d540-4e72-ad82-9ebd64e0839b</td>\n",
       "      <td>9943447915df3a45fd6720a026af905b6da6b56a37701b...</td>\n",
       "    </tr>\n",
       "    <tr>\n",
       "      <th>4</th>\n",
       "      <td>8184875317380844086</td>\n",
       "      <td>1542671625528</td>\n",
       "      <td>Asia/Manila</td>\n",
       "      <td>28800000</td>\n",
       "      <td>32788010</td>\n",
       "      <td>1538874289458</td>\n",
       "      <td>False</td>\n",
       "      <td>True</td>\n",
       "      <td>PH</td>\n",
       "      <td>00</td>\n",
       "      <td>makati</td>\n",
       "      <td>14.554729</td>\n",
       "      <td>121.024445</td>\n",
       "      <td>en_GB</td>\n",
       "      <td>Android OS</td>\n",
       "      <td>41</td>\n",
       "      <td>546a3d98-d540-4e72-ad82-9ebd64e0839b</td>\n",
       "      <td>9943447915df3a45fd6720a026af905b6da6b56a37701b...</td>\n",
       "    </tr>\n",
       "  </tbody>\n",
       "</table>\n",
       "</div>"
      ],
      "text/plain": [
       "            session_id  start_timestamp     timezone  timezone_offset  \\\n",
       "0  5558845121177764917    1542215364580  Asia/Manila         28800000   \n",
       "1  2201961907282901522    1543712977293  Asia/Manila         28800000   \n",
       "2    18781111175537580    1539215568666  Asia/Manila         28800000   \n",
       "3  1477540082628742048    1540120743010  Asia/Manila         28800000   \n",
       "4  8184875317380844086    1542671625528  Asia/Manila         28800000   \n",
       "\n",
       "   previous_sessions_duration  user_created_timestamp  is_user_first_session  \\\n",
       "0                    25837591           1538874289458                  False   \n",
       "1                    35050130           1538874289458                  False   \n",
       "2                    11343848           1538874289458                  False   \n",
       "3                    13499724           1538874289458                  False   \n",
       "4                    32788010           1538874289458                  False   \n",
       "\n",
       "   is_session country region         city   latitude   longitude locale  \\\n",
       "0        True      PH     00       makati  14.554729  121.024445  en_GB   \n",
       "1        True      PH     00  quezon city  14.676041  121.043701  en_GB   \n",
       "2        True      PH     00       makati  14.554729  121.024445  en_GB   \n",
       "3        True      PH     11   davao city   7.190708  125.455338  en_GB   \n",
       "4        True      PH     00       makati  14.554729  121.024445  en_GB   \n",
       "\n",
       "      os_name  session_index                             device_id  \\\n",
       "0  Android OS             30  546a3d98-d540-4e72-ad82-9ebd64e0839b   \n",
       "1  Android OS             47  546a3d98-d540-4e72-ad82-9ebd64e0839b   \n",
       "2  Android OS             10  546a3d98-d540-4e72-ad82-9ebd64e0839b   \n",
       "3  Android OS             13  546a3d98-d540-4e72-ad82-9ebd64e0839b   \n",
       "4  Android OS             41  546a3d98-d540-4e72-ad82-9ebd64e0839b   \n",
       "\n",
       "                                        user_id_hash  \n",
       "0  9943447915df3a45fd6720a026af905b6da6b56a37701b...  \n",
       "1  9943447915df3a45fd6720a026af905b6da6b56a37701b...  \n",
       "2  9943447915df3a45fd6720a026af905b6da6b56a37701b...  \n",
       "3  9943447915df3a45fd6720a026af905b6da6b56a37701b...  \n",
       "4  9943447915df3a45fd6720a026af905b6da6b56a37701b...  "
      ]
     },
     "execution_count": 16,
     "metadata": {},
     "output_type": "execute_result"
    }
   ],
   "source": [
    "s.head()"
   ]
  },
  {
   "cell_type": "code",
   "execution_count": 17,
   "metadata": {
    "ExecuteTime": {
     "end_time": "2019-02-21T04:55:00.231148Z",
     "start_time": "2019-02-21T04:54:54.721942Z"
    }
   },
   "outputs": [
    {
     "name": "stdout",
     "output_type": "stream",
     "text": [
      "<class 'pandas.core.frame.DataFrame'>\n",
      "RangeIndex: 6199336 entries, 0 to 6199335\n",
      "Data columns (total 18 columns):\n",
      "session_id                    int64\n",
      "start_timestamp               uint64\n",
      "timezone                      category\n",
      "timezone_offset               uint32\n",
      "previous_sessions_duration    uint32\n",
      "user_created_timestamp        uint64\n",
      "is_user_first_session         bool\n",
      "is_session                    bool\n",
      "country                       category\n",
      "region                        category\n",
      "city                          category\n",
      "latitude                      float32\n",
      "longitude                     float32\n",
      "locale                        category\n",
      "os_name                       category\n",
      "session_index                 uint16\n",
      "device_id                     object\n",
      "user_id_hash                  object\n",
      "dtypes: bool(2), category(6), float32(2), int64(1), object(2), uint16(1), uint32(2), uint64(2)\n",
      "memory usage: 1.6 GB\n"
     ]
    }
   ],
   "source": [
    "s.info(memory_usage='deep')"
   ]
  },
  {
   "cell_type": "code",
   "execution_count": null,
   "metadata": {},
   "outputs": [],
   "source": []
  },
  {
   "cell_type": "markdown",
   "metadata": {},
   "source": [
    "## events"
   ]
  },
  {
   "cell_type": "code",
   "execution_count": 18,
   "metadata": {
    "ExecuteTime": {
     "end_time": "2019-02-21T04:56:58.192504Z",
     "start_time": "2019-02-21T04:55:00.232700Z"
    }
   },
   "outputs": [],
   "source": [
    "events = pd.read_csv('../Data/events.csv')"
   ]
  },
  {
   "cell_type": "code",
   "execution_count": 19,
   "metadata": {
    "ExecuteTime": {
     "end_time": "2019-02-21T04:56:58.307026Z",
     "start_time": "2019-02-21T04:56:58.263265Z"
    }
   },
   "outputs": [
    {
     "data": {
      "text/html": [
       "<div>\n",
       "<style scoped>\n",
       "    .dataframe tbody tr th:only-of-type {\n",
       "        vertical-align: middle;\n",
       "    }\n",
       "\n",
       "    .dataframe tbody tr th {\n",
       "        vertical-align: top;\n",
       "    }\n",
       "\n",
       "    .dataframe thead th {\n",
       "        text-align: right;\n",
       "    }\n",
       "</style>\n",
       "<table border=\"1\" class=\"dataframe\">\n",
       "  <thead>\n",
       "    <tr style=\"text-align: right;\">\n",
       "      <th></th>\n",
       "      <th>app_id</th>\n",
       "      <th>session_id</th>\n",
       "      <th>event</th>\n",
       "      <th>event_timestamp</th>\n",
       "      <th>event_value</th>\n",
       "      <th>user_id_hash</th>\n",
       "    </tr>\n",
       "  </thead>\n",
       "  <tbody>\n",
       "    <tr>\n",
       "      <th>0</th>\n",
       "      <td>4724682771660800</td>\n",
       "      <td>5558845121177764917</td>\n",
       "      <td>45</td>\n",
       "      <td>1542215397132</td>\n",
       "      <td>0.0</td>\n",
       "      <td>9943447915df3a45fd6720a026af905b6da6b56a37701b...</td>\n",
       "    </tr>\n",
       "    <tr>\n",
       "      <th>1</th>\n",
       "      <td>4724682771660800</td>\n",
       "      <td>5558845121177764917</td>\n",
       "      <td>45</td>\n",
       "      <td>1542215484895</td>\n",
       "      <td>0.0</td>\n",
       "      <td>9943447915df3a45fd6720a026af905b6da6b56a37701b...</td>\n",
       "    </tr>\n",
       "    <tr>\n",
       "      <th>2</th>\n",
       "      <td>4724682771660800</td>\n",
       "      <td>7689508378645584666</td>\n",
       "      <td>.m5100869650219008</td>\n",
       "      <td>1541124410372</td>\n",
       "      <td>0.0</td>\n",
       "      <td>9943447915df3a45fd6720a026af905b6da6b56a37701b...</td>\n",
       "    </tr>\n",
       "    <tr>\n",
       "      <th>3</th>\n",
       "      <td>4724682771660800</td>\n",
       "      <td>2201961907282901522</td>\n",
       "      <td>4</td>\n",
       "      <td>1543713091129</td>\n",
       "      <td>0.0</td>\n",
       "      <td>9943447915df3a45fd6720a026af905b6da6b56a37701b...</td>\n",
       "    </tr>\n",
       "    <tr>\n",
       "      <th>4</th>\n",
       "      <td>4724682771660800</td>\n",
       "      <td>2201961907282901522</td>\n",
       "      <td>6</td>\n",
       "      <td>1543713093116</td>\n",
       "      <td>0.0</td>\n",
       "      <td>9943447915df3a45fd6720a026af905b6da6b56a37701b...</td>\n",
       "    </tr>\n",
       "  </tbody>\n",
       "</table>\n",
       "</div>"
      ],
      "text/plain": [
       "             app_id           session_id               event  event_timestamp  \\\n",
       "0  4724682771660800  5558845121177764917                  45    1542215397132   \n",
       "1  4724682771660800  5558845121177764917                  45    1542215484895   \n",
       "2  4724682771660800  7689508378645584666  .m5100869650219008    1541124410372   \n",
       "3  4724682771660800  2201961907282901522                   4    1543713091129   \n",
       "4  4724682771660800  2201961907282901522                   6    1543713093116   \n",
       "\n",
       "   event_value                                       user_id_hash  \n",
       "0          0.0  9943447915df3a45fd6720a026af905b6da6b56a37701b...  \n",
       "1          0.0  9943447915df3a45fd6720a026af905b6da6b56a37701b...  \n",
       "2          0.0  9943447915df3a45fd6720a026af905b6da6b56a37701b...  \n",
       "3          0.0  9943447915df3a45fd6720a026af905b6da6b56a37701b...  \n",
       "4          0.0  9943447915df3a45fd6720a026af905b6da6b56a37701b...  "
      ]
     },
     "execution_count": 19,
     "metadata": {},
     "output_type": "execute_result"
    }
   ],
   "source": [
    "events.head()"
   ]
  },
  {
   "cell_type": "code",
   "execution_count": 20,
   "metadata": {
    "ExecuteTime": {
     "end_time": "2019-02-21T04:58:37.111279Z",
     "start_time": "2019-02-21T04:56:58.308923Z"
    }
   },
   "outputs": [
    {
     "name": "stdout",
     "output_type": "stream",
     "text": [
      "<class 'pandas.core.frame.DataFrame'>\n",
      "RangeIndex: 111946597 entries, 0 to 111946596\n",
      "Data columns (total 6 columns):\n",
      "app_id             int64\n",
      "session_id         int64\n",
      "event              object\n",
      "event_timestamp    int64\n",
      "event_value        float64\n",
      "user_id_hash       object\n",
      "dtypes: float64(1), int64(3), object(2)\n",
      "memory usage: 22.3 GB\n"
     ]
    }
   ],
   "source": [
    "events.info(memory_usage='deep')"
   ]
  },
  {
   "cell_type": "code",
   "execution_count": 21,
   "metadata": {
    "ExecuteTime": {
     "end_time": "2019-02-21T04:58:42.222340Z",
     "start_time": "2019-02-21T04:58:37.113854Z"
    }
   },
   "outputs": [],
   "source": [
    "events = events.drop('app_id', axis=1)"
   ]
  },
  {
   "cell_type": "code",
   "execution_count": 26,
   "metadata": {
    "ExecuteTime": {
     "end_time": "2019-02-21T05:04:30.382365Z",
     "start_time": "2019-02-21T05:04:29.825189Z"
    }
   },
   "outputs": [],
   "source": [
    "# events['session_id'] = events['session_id'].astype(np.uint32)\n",
    "# events['event'] = events['event'].astype('category')\n",
    "# events['event_timestamp'] = events['event_timestamp'].astype(np.uint64)\n",
    "# events['event_value'] = events['event_value'].astype(np.float16)\n",
    "# # events['user_id_hash'] = events['user_id_hash'].astype('category')"
   ]
  },
  {
   "cell_type": "code",
   "execution_count": 23,
   "metadata": {
    "ExecuteTime": {
     "end_time": "2019-02-21T04:59:16.332951Z",
     "start_time": "2019-02-21T04:58:50.712880Z"
    }
   },
   "outputs": [],
   "source": [
    "events = events.dropna()\n",
    "events = events.reset_index(drop=True)"
   ]
  },
  {
   "cell_type": "code",
   "execution_count": 27,
   "metadata": {
    "ExecuteTime": {
     "end_time": "2019-02-21T05:05:25.627498Z",
     "start_time": "2019-02-21T05:04:37.053201Z"
    }
   },
   "outputs": [
    {
     "name": "stdout",
     "output_type": "stream",
     "text": [
      "<class 'pandas.core.frame.DataFrame'>\n",
      "RangeIndex: 111946534 entries, 0 to 111946533\n",
      "Data columns (total 5 columns):\n",
      "session_id         uint32\n",
      "event              category\n",
      "event_timestamp    uint64\n",
      "event_value        float16\n",
      "user_id_hash       object\n",
      "dtypes: category(1), float16(1), object(1), uint32(1), uint64(1)\n",
      "memory usage: 14.2 GB\n"
     ]
    }
   ],
   "source": [
    "events.info(memory_usage='deep')"
   ]
  },
  {
   "cell_type": "code",
   "execution_count": 25,
   "metadata": {
    "ExecuteTime": {
     "end_time": "2019-02-21T05:00:06.744519Z",
     "start_time": "2019-02-21T05:00:06.724999Z"
    }
   },
   "outputs": [
    {
     "data": {
      "text/html": [
       "<div>\n",
       "<style scoped>\n",
       "    .dataframe tbody tr th:only-of-type {\n",
       "        vertical-align: middle;\n",
       "    }\n",
       "\n",
       "    .dataframe tbody tr th {\n",
       "        vertical-align: top;\n",
       "    }\n",
       "\n",
       "    .dataframe thead th {\n",
       "        text-align: right;\n",
       "    }\n",
       "</style>\n",
       "<table border=\"1\" class=\"dataframe\">\n",
       "  <thead>\n",
       "    <tr style=\"text-align: right;\">\n",
       "      <th></th>\n",
       "      <th>session_id</th>\n",
       "      <th>event</th>\n",
       "      <th>event_timestamp</th>\n",
       "      <th>event_value</th>\n",
       "      <th>user_id_hash</th>\n",
       "    </tr>\n",
       "  </thead>\n",
       "  <tbody>\n",
       "    <tr>\n",
       "      <th>0</th>\n",
       "      <td>5558845121177764917</td>\n",
       "      <td>45</td>\n",
       "      <td>1542215397132</td>\n",
       "      <td>0.0</td>\n",
       "      <td>9943447915df3a45fd6720a026af905b6da6b56a37701b...</td>\n",
       "    </tr>\n",
       "    <tr>\n",
       "      <th>1</th>\n",
       "      <td>5558845121177764917</td>\n",
       "      <td>45</td>\n",
       "      <td>1542215484895</td>\n",
       "      <td>0.0</td>\n",
       "      <td>9943447915df3a45fd6720a026af905b6da6b56a37701b...</td>\n",
       "    </tr>\n",
       "    <tr>\n",
       "      <th>2</th>\n",
       "      <td>7689508378645584666</td>\n",
       "      <td>.m5100869650219008</td>\n",
       "      <td>1541124410372</td>\n",
       "      <td>0.0</td>\n",
       "      <td>9943447915df3a45fd6720a026af905b6da6b56a37701b...</td>\n",
       "    </tr>\n",
       "    <tr>\n",
       "      <th>3</th>\n",
       "      <td>2201961907282901522</td>\n",
       "      <td>4</td>\n",
       "      <td>1543713091129</td>\n",
       "      <td>0.0</td>\n",
       "      <td>9943447915df3a45fd6720a026af905b6da6b56a37701b...</td>\n",
       "    </tr>\n",
       "    <tr>\n",
       "      <th>4</th>\n",
       "      <td>2201961907282901522</td>\n",
       "      <td>6</td>\n",
       "      <td>1543713093116</td>\n",
       "      <td>0.0</td>\n",
       "      <td>9943447915df3a45fd6720a026af905b6da6b56a37701b...</td>\n",
       "    </tr>\n",
       "  </tbody>\n",
       "</table>\n",
       "</div>"
      ],
      "text/plain": [
       "            session_id               event  event_timestamp  event_value  \\\n",
       "0  5558845121177764917                  45    1542215397132          0.0   \n",
       "1  5558845121177764917                  45    1542215484895          0.0   \n",
       "2  7689508378645584666  .m5100869650219008    1541124410372          0.0   \n",
       "3  2201961907282901522                   4    1543713091129          0.0   \n",
       "4  2201961907282901522                   6    1543713093116          0.0   \n",
       "\n",
       "                                        user_id_hash  \n",
       "0  9943447915df3a45fd6720a026af905b6da6b56a37701b...  \n",
       "1  9943447915df3a45fd6720a026af905b6da6b56a37701b...  \n",
       "2  9943447915df3a45fd6720a026af905b6da6b56a37701b...  \n",
       "3  9943447915df3a45fd6720a026af905b6da6b56a37701b...  \n",
       "4  9943447915df3a45fd6720a026af905b6da6b56a37701b...  "
      ]
     },
     "execution_count": 25,
     "metadata": {},
     "output_type": "execute_result"
    }
   ],
   "source": [
    "events.head()"
   ]
  },
  {
   "cell_type": "code",
   "execution_count": 136,
   "metadata": {
    "ExecuteTime": {
     "end_time": "2019-02-19T18:10:34.553622Z",
     "start_time": "2019-02-19T18:10:34.548246Z"
    }
   },
   "outputs": [
    {
     "data": {
      "text/plain": [
       "55973267.0"
      ]
     },
     "execution_count": 136,
     "metadata": {},
     "output_type": "execute_result"
    }
   ],
   "source": [
    "len(events)/2"
   ]
  },
  {
   "cell_type": "code",
   "execution_count": 146,
   "metadata": {
    "ExecuteTime": {
     "end_time": "2019-02-19T18:18:12.507060Z",
     "start_time": "2019-02-19T18:18:12.504076Z"
    }
   },
   "outputs": [],
   "source": [
    "event1 = events.iloc[:55973267]"
   ]
  },
  {
   "cell_type": "code",
   "execution_count": 147,
   "metadata": {
    "ExecuteTime": {
     "end_time": "2019-02-19T18:18:13.182092Z",
     "start_time": "2019-02-19T18:18:13.178697Z"
    }
   },
   "outputs": [],
   "source": [
    "event2 = events.iloc[55973267:]"
   ]
  },
  {
   "cell_type": "code",
   "execution_count": 148,
   "metadata": {
    "ExecuteTime": {
     "end_time": "2019-02-19T18:18:21.700504Z",
     "start_time": "2019-02-19T18:18:16.233409Z"
    }
   },
   "outputs": [],
   "source": [
    "# pickle can't handle size over 2G, so dump into 2 files\n",
    "event1.to_pickle('../Data/event1.pkl')\n",
    "event2.to_pickle('../Data/event2.pkl')"
   ]
  },
  {
   "cell_type": "code",
   "execution_count": 149,
   "metadata": {
    "ExecuteTime": {
     "end_time": "2019-02-19T18:18:26.291767Z",
     "start_time": "2019-02-19T18:18:23.021017Z"
    }
   },
   "outputs": [],
   "source": [
    "# this is how we read events\n",
    "e1 = pickle.load(open('../Data/event1.pkl', 'rb'))\n",
    "e2 = pickle.load(open('../Data/event2.pkl', 'rb'))\n",
    "ev = pd.concat([e1, e2])"
   ]
  },
  {
   "cell_type": "code",
   "execution_count": 151,
   "metadata": {
    "ExecuteTime": {
     "end_time": "2019-02-19T18:18:43.510047Z",
     "start_time": "2019-02-19T18:18:43.496687Z"
    }
   },
   "outputs": [
    {
     "data": {
      "text/html": [
       "<div>\n",
       "<style scoped>\n",
       "    .dataframe tbody tr th:only-of-type {\n",
       "        vertical-align: middle;\n",
       "    }\n",
       "\n",
       "    .dataframe tbody tr th {\n",
       "        vertical-align: top;\n",
       "    }\n",
       "\n",
       "    .dataframe thead th {\n",
       "        text-align: right;\n",
       "    }\n",
       "</style>\n",
       "<table border=\"1\" class=\"dataframe\">\n",
       "  <thead>\n",
       "    <tr style=\"text-align: right;\">\n",
       "      <th></th>\n",
       "      <th>session_id</th>\n",
       "      <th>event</th>\n",
       "      <th>event_timestamp</th>\n",
       "      <th>event_value</th>\n",
       "      <th>user_id_hash</th>\n",
       "    </tr>\n",
       "  </thead>\n",
       "  <tbody>\n",
       "    <tr>\n",
       "      <th>0</th>\n",
       "      <td>5558845121177764917</td>\n",
       "      <td>45</td>\n",
       "      <td>1542215397132</td>\n",
       "      <td>0.0</td>\n",
       "      <td>9943447915df3a45fd6720a026af905b6da6b56a37701b...</td>\n",
       "    </tr>\n",
       "    <tr>\n",
       "      <th>1</th>\n",
       "      <td>5558845121177764917</td>\n",
       "      <td>45</td>\n",
       "      <td>1542215484895</td>\n",
       "      <td>0.0</td>\n",
       "      <td>9943447915df3a45fd6720a026af905b6da6b56a37701b...</td>\n",
       "    </tr>\n",
       "    <tr>\n",
       "      <th>2</th>\n",
       "      <td>7689508378645584666</td>\n",
       "      <td>.m5100869650219008</td>\n",
       "      <td>1541124410372</td>\n",
       "      <td>0.0</td>\n",
       "      <td>9943447915df3a45fd6720a026af905b6da6b56a37701b...</td>\n",
       "    </tr>\n",
       "    <tr>\n",
       "      <th>3</th>\n",
       "      <td>2201961907282901522</td>\n",
       "      <td>4</td>\n",
       "      <td>1543713091129</td>\n",
       "      <td>0.0</td>\n",
       "      <td>9943447915df3a45fd6720a026af905b6da6b56a37701b...</td>\n",
       "    </tr>\n",
       "    <tr>\n",
       "      <th>4</th>\n",
       "      <td>2201961907282901522</td>\n",
       "      <td>6</td>\n",
       "      <td>1543713093116</td>\n",
       "      <td>0.0</td>\n",
       "      <td>9943447915df3a45fd6720a026af905b6da6b56a37701b...</td>\n",
       "    </tr>\n",
       "  </tbody>\n",
       "</table>\n",
       "</div>"
      ],
      "text/plain": [
       "            session_id               event  event_timestamp  event_value  \\\n",
       "0  5558845121177764917                  45    1542215397132          0.0   \n",
       "1  5558845121177764917                  45    1542215484895          0.0   \n",
       "2  7689508378645584666  .m5100869650219008    1541124410372          0.0   \n",
       "3  2201961907282901522                   4    1543713091129          0.0   \n",
       "4  2201961907282901522                   6    1543713093116          0.0   \n",
       "\n",
       "                                        user_id_hash  \n",
       "0  9943447915df3a45fd6720a026af905b6da6b56a37701b...  \n",
       "1  9943447915df3a45fd6720a026af905b6da6b56a37701b...  \n",
       "2  9943447915df3a45fd6720a026af905b6da6b56a37701b...  \n",
       "3  9943447915df3a45fd6720a026af905b6da6b56a37701b...  \n",
       "4  9943447915df3a45fd6720a026af905b6da6b56a37701b...  "
      ]
     },
     "execution_count": 151,
     "metadata": {},
     "output_type": "execute_result"
    }
   ],
   "source": [
    "ev.head()"
   ]
  },
  {
   "cell_type": "code",
   "execution_count": 152,
   "metadata": {
    "ExecuteTime": {
     "end_time": "2019-02-19T18:18:56.698429Z",
     "start_time": "2019-02-19T18:18:56.399827Z"
    }
   },
   "outputs": [
    {
     "name": "stdout",
     "output_type": "stream",
     "text": [
      "<class 'pandas.core.frame.DataFrame'>\n",
      "RangeIndex: 111946534 entries, 0 to 111946533\n",
      "Data columns (total 5 columns):\n",
      "session_id         category\n",
      "event              category\n",
      "event_timestamp    uint64\n",
      "event_value        float16\n",
      "user_id_hash       category\n",
      "dtypes: category(3), float16(1), uint64(1)\n",
      "memory usage: 2.3 GB\n"
     ]
    }
   ],
   "source": [
    "ev.info(memory_usage='deep')"
   ]
  },
  {
   "cell_type": "code",
   "execution_count": null,
   "metadata": {},
   "outputs": [],
   "source": []
  }
 ],
 "metadata": {
  "kernelspec": {
   "display_name": "Python 3",
   "language": "python",
   "name": "python3"
  },
  "language_info": {
   "codemirror_mode": {
    "name": "ipython",
    "version": 3
   },
   "file_extension": ".py",
   "mimetype": "text/x-python",
   "name": "python",
   "nbconvert_exporter": "python",
   "pygments_lexer": "ipython3",
   "version": "3.6.7"
  }
 },
 "nbformat": 4,
 "nbformat_minor": 2
}
