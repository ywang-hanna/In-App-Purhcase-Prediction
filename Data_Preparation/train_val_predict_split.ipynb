{
 "cells": [
  {
   "cell_type": "code",
   "execution_count": 73,
   "metadata": {
    "ExecuteTime": {
     "end_time": "2019-02-27T06:01:43.368785Z",
     "start_time": "2019-02-27T06:01:43.362110Z"
    }
   },
   "outputs": [],
   "source": [
    "import pandas as pd\n",
    "import numpy as np\n",
    "import pickle\n",
    "from pandas import Timestamp\n",
    "from collections import Counter\n",
    "\n",
    "from sklearn.metrics import roc_curve, auc\n",
    "import sys\n",
    "import matplotlib.pyplot as plt\n",
    "import warnings\n",
    "from sklearn.metrics import accuracy_score\n",
    "from sklearn.metrics import classification_report\n",
    "from sklearn.metrics import roc_curve, auc\n",
    "from sklearn.metrics import confusion_matrix\n",
    "from sklearn.metrics import classification_report\n",
    "from pylab import rcParams\n",
    "from sklearn import metrics\n",
    "from sklearn.ensemble import RandomForestClassifier\n",
    "from sklearn.model_selection import GridSearchCV\n",
    "\n",
    "warnings.filterwarnings('ignore')"
   ]
  },
  {
   "cell_type": "code",
   "execution_count": null,
   "metadata": {},
   "outputs": [],
   "source": []
  },
  {
   "cell_type": "code",
   "execution_count": null,
   "metadata": {},
   "outputs": [],
   "source": []
  },
  {
   "cell_type": "markdown",
   "metadata": {},
   "source": [
    "## Load data and clean"
   ]
  },
  {
   "cell_type": "code",
   "execution_count": 2,
   "metadata": {
    "ExecuteTime": {
     "end_time": "2019-02-27T04:49:17.371618Z",
     "start_time": "2019-02-27T04:47:11.712145Z"
    }
   },
   "outputs": [],
   "source": [
    "sessions = pickle.load(open('../Data/sessions.pkl', 'rb'))\n",
    "events = pd.read_csv('../Data/events.csv')"
   ]
  },
  {
   "cell_type": "code",
   "execution_count": 3,
   "metadata": {
    "ExecuteTime": {
     "end_time": "2019-02-27T04:49:17.427645Z",
     "start_time": "2019-02-27T04:49:17.379309Z"
    }
   },
   "outputs": [
    {
     "data": {
      "text/html": [
       "<div>\n",
       "<style scoped>\n",
       "    .dataframe tbody tr th:only-of-type {\n",
       "        vertical-align: middle;\n",
       "    }\n",
       "\n",
       "    .dataframe tbody tr th {\n",
       "        vertical-align: top;\n",
       "    }\n",
       "\n",
       "    .dataframe thead th {\n",
       "        text-align: right;\n",
       "    }\n",
       "</style>\n",
       "<table border=\"1\" class=\"dataframe\">\n",
       "  <thead>\n",
       "    <tr style=\"text-align: right;\">\n",
       "      <th></th>\n",
       "      <th>session_id</th>\n",
       "      <th>start_timestamp</th>\n",
       "      <th>timezone</th>\n",
       "      <th>timezone_offset</th>\n",
       "      <th>previous_sessions_duration</th>\n",
       "      <th>user_created_timestamp</th>\n",
       "      <th>is_user_first_session</th>\n",
       "      <th>is_session</th>\n",
       "      <th>country</th>\n",
       "      <th>region</th>\n",
       "      <th>city</th>\n",
       "      <th>latitude</th>\n",
       "      <th>longitude</th>\n",
       "      <th>locale</th>\n",
       "      <th>os_name</th>\n",
       "      <th>session_index</th>\n",
       "      <th>device_id</th>\n",
       "      <th>user_id_hash</th>\n",
       "    </tr>\n",
       "  </thead>\n",
       "  <tbody>\n",
       "    <tr>\n",
       "      <th>0</th>\n",
       "      <td>5558845121177764917</td>\n",
       "      <td>1542215364580</td>\n",
       "      <td>Asia/Manila</td>\n",
       "      <td>28800000</td>\n",
       "      <td>25837591</td>\n",
       "      <td>1538874289458</td>\n",
       "      <td>False</td>\n",
       "      <td>True</td>\n",
       "      <td>PH</td>\n",
       "      <td>00</td>\n",
       "      <td>makati</td>\n",
       "      <td>14.554729</td>\n",
       "      <td>121.024445</td>\n",
       "      <td>en_GB</td>\n",
       "      <td>Android OS</td>\n",
       "      <td>30</td>\n",
       "      <td>546a3d98-d540-4e72-ad82-9ebd64e0839b</td>\n",
       "      <td>9943447915df3a45fd6720a026af905b6da6b56a37701b...</td>\n",
       "    </tr>\n",
       "    <tr>\n",
       "      <th>1</th>\n",
       "      <td>2201961907282901522</td>\n",
       "      <td>1543712977293</td>\n",
       "      <td>Asia/Manila</td>\n",
       "      <td>28800000</td>\n",
       "      <td>35050130</td>\n",
       "      <td>1538874289458</td>\n",
       "      <td>False</td>\n",
       "      <td>True</td>\n",
       "      <td>PH</td>\n",
       "      <td>00</td>\n",
       "      <td>quezon city</td>\n",
       "      <td>14.676041</td>\n",
       "      <td>121.043701</td>\n",
       "      <td>en_GB</td>\n",
       "      <td>Android OS</td>\n",
       "      <td>47</td>\n",
       "      <td>546a3d98-d540-4e72-ad82-9ebd64e0839b</td>\n",
       "      <td>9943447915df3a45fd6720a026af905b6da6b56a37701b...</td>\n",
       "    </tr>\n",
       "    <tr>\n",
       "      <th>2</th>\n",
       "      <td>18781111175537580</td>\n",
       "      <td>1539215568666</td>\n",
       "      <td>Asia/Manila</td>\n",
       "      <td>28800000</td>\n",
       "      <td>11343848</td>\n",
       "      <td>1538874289458</td>\n",
       "      <td>False</td>\n",
       "      <td>True</td>\n",
       "      <td>PH</td>\n",
       "      <td>00</td>\n",
       "      <td>makati</td>\n",
       "      <td>14.554729</td>\n",
       "      <td>121.024445</td>\n",
       "      <td>en_GB</td>\n",
       "      <td>Android OS</td>\n",
       "      <td>10</td>\n",
       "      <td>546a3d98-d540-4e72-ad82-9ebd64e0839b</td>\n",
       "      <td>9943447915df3a45fd6720a026af905b6da6b56a37701b...</td>\n",
       "    </tr>\n",
       "    <tr>\n",
       "      <th>3</th>\n",
       "      <td>1477540082628742048</td>\n",
       "      <td>1540120743010</td>\n",
       "      <td>Asia/Manila</td>\n",
       "      <td>28800000</td>\n",
       "      <td>13499724</td>\n",
       "      <td>1538874289458</td>\n",
       "      <td>False</td>\n",
       "      <td>True</td>\n",
       "      <td>PH</td>\n",
       "      <td>11</td>\n",
       "      <td>davao city</td>\n",
       "      <td>7.190708</td>\n",
       "      <td>125.455338</td>\n",
       "      <td>en_GB</td>\n",
       "      <td>Android OS</td>\n",
       "      <td>13</td>\n",
       "      <td>546a3d98-d540-4e72-ad82-9ebd64e0839b</td>\n",
       "      <td>9943447915df3a45fd6720a026af905b6da6b56a37701b...</td>\n",
       "    </tr>\n",
       "    <tr>\n",
       "      <th>4</th>\n",
       "      <td>8184875317380844086</td>\n",
       "      <td>1542671625528</td>\n",
       "      <td>Asia/Manila</td>\n",
       "      <td>28800000</td>\n",
       "      <td>32788010</td>\n",
       "      <td>1538874289458</td>\n",
       "      <td>False</td>\n",
       "      <td>True</td>\n",
       "      <td>PH</td>\n",
       "      <td>00</td>\n",
       "      <td>makati</td>\n",
       "      <td>14.554729</td>\n",
       "      <td>121.024445</td>\n",
       "      <td>en_GB</td>\n",
       "      <td>Android OS</td>\n",
       "      <td>41</td>\n",
       "      <td>546a3d98-d540-4e72-ad82-9ebd64e0839b</td>\n",
       "      <td>9943447915df3a45fd6720a026af905b6da6b56a37701b...</td>\n",
       "    </tr>\n",
       "  </tbody>\n",
       "</table>\n",
       "</div>"
      ],
      "text/plain": [
       "            session_id  start_timestamp     timezone  timezone_offset  \\\n",
       "0  5558845121177764917    1542215364580  Asia/Manila         28800000   \n",
       "1  2201961907282901522    1543712977293  Asia/Manila         28800000   \n",
       "2    18781111175537580    1539215568666  Asia/Manila         28800000   \n",
       "3  1477540082628742048    1540120743010  Asia/Manila         28800000   \n",
       "4  8184875317380844086    1542671625528  Asia/Manila         28800000   \n",
       "\n",
       "   previous_sessions_duration  user_created_timestamp  is_user_first_session  \\\n",
       "0                    25837591           1538874289458                  False   \n",
       "1                    35050130           1538874289458                  False   \n",
       "2                    11343848           1538874289458                  False   \n",
       "3                    13499724           1538874289458                  False   \n",
       "4                    32788010           1538874289458                  False   \n",
       "\n",
       "   is_session country region         city   latitude   longitude locale  \\\n",
       "0        True      PH     00       makati  14.554729  121.024445  en_GB   \n",
       "1        True      PH     00  quezon city  14.676041  121.043701  en_GB   \n",
       "2        True      PH     00       makati  14.554729  121.024445  en_GB   \n",
       "3        True      PH     11   davao city   7.190708  125.455338  en_GB   \n",
       "4        True      PH     00       makati  14.554729  121.024445  en_GB   \n",
       "\n",
       "      os_name  session_index                             device_id  \\\n",
       "0  Android OS             30  546a3d98-d540-4e72-ad82-9ebd64e0839b   \n",
       "1  Android OS             47  546a3d98-d540-4e72-ad82-9ebd64e0839b   \n",
       "2  Android OS             10  546a3d98-d540-4e72-ad82-9ebd64e0839b   \n",
       "3  Android OS             13  546a3d98-d540-4e72-ad82-9ebd64e0839b   \n",
       "4  Android OS             41  546a3d98-d540-4e72-ad82-9ebd64e0839b   \n",
       "\n",
       "                                        user_id_hash  \n",
       "0  9943447915df3a45fd6720a026af905b6da6b56a37701b...  \n",
       "1  9943447915df3a45fd6720a026af905b6da6b56a37701b...  \n",
       "2  9943447915df3a45fd6720a026af905b6da6b56a37701b...  \n",
       "3  9943447915df3a45fd6720a026af905b6da6b56a37701b...  \n",
       "4  9943447915df3a45fd6720a026af905b6da6b56a37701b...  "
      ]
     },
     "execution_count": 3,
     "metadata": {},
     "output_type": "execute_result"
    }
   ],
   "source": [
    "sessions.head()"
   ]
  },
  {
   "cell_type": "code",
   "execution_count": 4,
   "metadata": {
    "ExecuteTime": {
     "end_time": "2019-02-27T04:49:17.992197Z",
     "start_time": "2019-02-27T04:49:17.428989Z"
    }
   },
   "outputs": [
    {
     "data": {
      "text/plain": [
       "Counter({True: 5157590, False: 1041746})"
      ]
     },
     "execution_count": 4,
     "metadata": {},
     "output_type": "execute_result"
    }
   ],
   "source": [
    "Counter(sessions.is_session)"
   ]
  },
  {
   "cell_type": "code",
   "execution_count": 5,
   "metadata": {
    "ExecuteTime": {
     "end_time": "2019-02-27T04:49:18.005718Z",
     "start_time": "2019-02-27T04:49:17.994874Z"
    }
   },
   "outputs": [
    {
     "data": {
      "text/html": [
       "<div>\n",
       "<style scoped>\n",
       "    .dataframe tbody tr th:only-of-type {\n",
       "        vertical-align: middle;\n",
       "    }\n",
       "\n",
       "    .dataframe tbody tr th {\n",
       "        vertical-align: top;\n",
       "    }\n",
       "\n",
       "    .dataframe thead th {\n",
       "        text-align: right;\n",
       "    }\n",
       "</style>\n",
       "<table border=\"1\" class=\"dataframe\">\n",
       "  <thead>\n",
       "    <tr style=\"text-align: right;\">\n",
       "      <th></th>\n",
       "      <th>app_id</th>\n",
       "      <th>session_id</th>\n",
       "      <th>event</th>\n",
       "      <th>event_timestamp</th>\n",
       "      <th>event_value</th>\n",
       "      <th>user_id_hash</th>\n",
       "    </tr>\n",
       "  </thead>\n",
       "  <tbody>\n",
       "    <tr>\n",
       "      <th>0</th>\n",
       "      <td>4724682771660800</td>\n",
       "      <td>5558845121177764917</td>\n",
       "      <td>45</td>\n",
       "      <td>1542215397132</td>\n",
       "      <td>0.0</td>\n",
       "      <td>9943447915df3a45fd6720a026af905b6da6b56a37701b...</td>\n",
       "    </tr>\n",
       "    <tr>\n",
       "      <th>1</th>\n",
       "      <td>4724682771660800</td>\n",
       "      <td>5558845121177764917</td>\n",
       "      <td>45</td>\n",
       "      <td>1542215484895</td>\n",
       "      <td>0.0</td>\n",
       "      <td>9943447915df3a45fd6720a026af905b6da6b56a37701b...</td>\n",
       "    </tr>\n",
       "    <tr>\n",
       "      <th>2</th>\n",
       "      <td>4724682771660800</td>\n",
       "      <td>7689508378645584666</td>\n",
       "      <td>.m5100869650219008</td>\n",
       "      <td>1541124410372</td>\n",
       "      <td>0.0</td>\n",
       "      <td>9943447915df3a45fd6720a026af905b6da6b56a37701b...</td>\n",
       "    </tr>\n",
       "    <tr>\n",
       "      <th>3</th>\n",
       "      <td>4724682771660800</td>\n",
       "      <td>2201961907282901522</td>\n",
       "      <td>4</td>\n",
       "      <td>1543713091129</td>\n",
       "      <td>0.0</td>\n",
       "      <td>9943447915df3a45fd6720a026af905b6da6b56a37701b...</td>\n",
       "    </tr>\n",
       "    <tr>\n",
       "      <th>4</th>\n",
       "      <td>4724682771660800</td>\n",
       "      <td>2201961907282901522</td>\n",
       "      <td>6</td>\n",
       "      <td>1543713093116</td>\n",
       "      <td>0.0</td>\n",
       "      <td>9943447915df3a45fd6720a026af905b6da6b56a37701b...</td>\n",
       "    </tr>\n",
       "  </tbody>\n",
       "</table>\n",
       "</div>"
      ],
      "text/plain": [
       "             app_id           session_id               event  event_timestamp  \\\n",
       "0  4724682771660800  5558845121177764917                  45    1542215397132   \n",
       "1  4724682771660800  5558845121177764917                  45    1542215484895   \n",
       "2  4724682771660800  7689508378645584666  .m5100869650219008    1541124410372   \n",
       "3  4724682771660800  2201961907282901522                   4    1543713091129   \n",
       "4  4724682771660800  2201961907282901522                   6    1543713093116   \n",
       "\n",
       "   event_value                                       user_id_hash  \n",
       "0          0.0  9943447915df3a45fd6720a026af905b6da6b56a37701b...  \n",
       "1          0.0  9943447915df3a45fd6720a026af905b6da6b56a37701b...  \n",
       "2          0.0  9943447915df3a45fd6720a026af905b6da6b56a37701b...  \n",
       "3          0.0  9943447915df3a45fd6720a026af905b6da6b56a37701b...  \n",
       "4          0.0  9943447915df3a45fd6720a026af905b6da6b56a37701b...  "
      ]
     },
     "execution_count": 5,
     "metadata": {},
     "output_type": "execute_result"
    }
   ],
   "source": [
    "events.head()"
   ]
  },
  {
   "cell_type": "code",
   "execution_count": 6,
   "metadata": {
    "ExecuteTime": {
     "end_time": "2019-02-27T04:49:23.495006Z",
     "start_time": "2019-02-27T04:49:18.007511Z"
    }
   },
   "outputs": [],
   "source": [
    "sessions = sessions.drop(['timezone_offset', 'timezone', 'is_user_first_session', 'city', 'region',\n",
    "                        'latitude', 'longitude', 'locale', 'device_id'], axis=1).dropna()\n",
    "sessions = sessions[sessions['is_session']==True].drop('is_session', axis=1)\n",
    "sessions['start_timestamp'] = pd.to_datetime(sessions['start_timestamp'], unit='ms')\n",
    "sessions['user_created_timestamp'] = pd.to_datetime(sessions['user_created_timestamp'], unit='ms')\n",
    "sessions = sessions.sort_values(by='start_timestamp')\n",
    "sessions = sessions.reset_index(drop=True)"
   ]
  },
  {
   "cell_type": "code",
   "execution_count": 7,
   "metadata": {
    "ExecuteTime": {
     "end_time": "2019-02-27T04:50:43.131699Z",
     "start_time": "2019-02-27T04:49:23.497022Z"
    }
   },
   "outputs": [],
   "source": [
    "events = events.drop('app_id', axis=1)\n",
    "events = events[events['event'].map(lambda x: x[0]!='.')]\n",
    "events['event_timestamp'] = pd.to_datetime(events['event_timestamp'],unit='ms')\n",
    "events = events.sort_values(by='event_timestamp')\n",
    "events = events.reset_index(drop=True)"
   ]
  },
  {
   "cell_type": "code",
   "execution_count": 8,
   "metadata": {
    "ExecuteTime": {
     "end_time": "2019-02-27T04:50:43.165843Z",
     "start_time": "2019-02-27T04:50:43.136940Z"
    }
   },
   "outputs": [
    {
     "data": {
      "text/html": [
       "<div>\n",
       "<style scoped>\n",
       "    .dataframe tbody tr th:only-of-type {\n",
       "        vertical-align: middle;\n",
       "    }\n",
       "\n",
       "    .dataframe tbody tr th {\n",
       "        vertical-align: top;\n",
       "    }\n",
       "\n",
       "    .dataframe thead th {\n",
       "        text-align: right;\n",
       "    }\n",
       "</style>\n",
       "<table border=\"1\" class=\"dataframe\">\n",
       "  <thead>\n",
       "    <tr style=\"text-align: right;\">\n",
       "      <th></th>\n",
       "      <th>session_id</th>\n",
       "      <th>start_timestamp</th>\n",
       "      <th>previous_sessions_duration</th>\n",
       "      <th>user_created_timestamp</th>\n",
       "      <th>country</th>\n",
       "      <th>os_name</th>\n",
       "      <th>session_index</th>\n",
       "      <th>user_id_hash</th>\n",
       "    </tr>\n",
       "  </thead>\n",
       "  <tbody>\n",
       "    <tr>\n",
       "      <th>0</th>\n",
       "      <td>4339488202460077611</td>\n",
       "      <td>2018-10-01 07:00:04.526</td>\n",
       "      <td>0</td>\n",
       "      <td>2018-10-01 07:00:04.526</td>\n",
       "      <td>AU</td>\n",
       "      <td>iPhone OS</td>\n",
       "      <td>1</td>\n",
       "      <td>c9bad12f865142f1b3938c9ab8a3003a7882136a2b4a12...</td>\n",
       "    </tr>\n",
       "    <tr>\n",
       "      <th>1</th>\n",
       "      <td>7012480646309837595</td>\n",
       "      <td>2018-10-01 07:00:08.476</td>\n",
       "      <td>0</td>\n",
       "      <td>2018-10-01 07:00:08.476</td>\n",
       "      <td>NZ</td>\n",
       "      <td>iOS</td>\n",
       "      <td>1</td>\n",
       "      <td>285863e47df26bf47664c93d45c35ee3b9cfc8e253da23...</td>\n",
       "    </tr>\n",
       "    <tr>\n",
       "      <th>2</th>\n",
       "      <td>2920311224184894615</td>\n",
       "      <td>2018-10-01 07:01:02.101</td>\n",
       "      <td>1000637</td>\n",
       "      <td>2018-10-01 06:44:08.468</td>\n",
       "      <td>IN</td>\n",
       "      <td>Android OS</td>\n",
       "      <td>2</td>\n",
       "      <td>475f8f20576637055c5331513dda4db1d889f5e951c8e5...</td>\n",
       "    </tr>\n",
       "    <tr>\n",
       "      <th>3</th>\n",
       "      <td>8483277250870486701</td>\n",
       "      <td>2018-10-01 07:01:30.694</td>\n",
       "      <td>0</td>\n",
       "      <td>2018-10-01 07:01:30.694</td>\n",
       "      <td>US</td>\n",
       "      <td>Android OS</td>\n",
       "      <td>1</td>\n",
       "      <td>4bc7b52d56b24d258ba1746994492f354fd4b17fcaae81...</td>\n",
       "    </tr>\n",
       "    <tr>\n",
       "      <th>4</th>\n",
       "      <td>8114762104527844914</td>\n",
       "      <td>2018-10-01 07:01:57.770</td>\n",
       "      <td>2415582</td>\n",
       "      <td>2018-10-01 06:18:23.919</td>\n",
       "      <td>US</td>\n",
       "      <td>Android OS</td>\n",
       "      <td>2</td>\n",
       "      <td>82349b0d1a80b42e59519068ded46178778084b9602b9c...</td>\n",
       "    </tr>\n",
       "  </tbody>\n",
       "</table>\n",
       "</div>"
      ],
      "text/plain": [
       "            session_id         start_timestamp  previous_sessions_duration  \\\n",
       "0  4339488202460077611 2018-10-01 07:00:04.526                           0   \n",
       "1  7012480646309837595 2018-10-01 07:00:08.476                           0   \n",
       "2  2920311224184894615 2018-10-01 07:01:02.101                     1000637   \n",
       "3  8483277250870486701 2018-10-01 07:01:30.694                           0   \n",
       "4  8114762104527844914 2018-10-01 07:01:57.770                     2415582   \n",
       "\n",
       "   user_created_timestamp country     os_name  session_index  \\\n",
       "0 2018-10-01 07:00:04.526      AU   iPhone OS              1   \n",
       "1 2018-10-01 07:00:08.476      NZ         iOS              1   \n",
       "2 2018-10-01 06:44:08.468      IN  Android OS              2   \n",
       "3 2018-10-01 07:01:30.694      US  Android OS              1   \n",
       "4 2018-10-01 06:18:23.919      US  Android OS              2   \n",
       "\n",
       "                                        user_id_hash  \n",
       "0  c9bad12f865142f1b3938c9ab8a3003a7882136a2b4a12...  \n",
       "1  285863e47df26bf47664c93d45c35ee3b9cfc8e253da23...  \n",
       "2  475f8f20576637055c5331513dda4db1d889f5e951c8e5...  \n",
       "3  4bc7b52d56b24d258ba1746994492f354fd4b17fcaae81...  \n",
       "4  82349b0d1a80b42e59519068ded46178778084b9602b9c...  "
      ]
     },
     "execution_count": 8,
     "metadata": {},
     "output_type": "execute_result"
    }
   ],
   "source": [
    "sessions.head()"
   ]
  },
  {
   "cell_type": "code",
   "execution_count": 9,
   "metadata": {
    "ExecuteTime": {
     "end_time": "2019-02-27T04:50:43.177865Z",
     "start_time": "2019-02-27T04:50:43.167373Z"
    }
   },
   "outputs": [
    {
     "data": {
      "text/html": [
       "<div>\n",
       "<style scoped>\n",
       "    .dataframe tbody tr th:only-of-type {\n",
       "        vertical-align: middle;\n",
       "    }\n",
       "\n",
       "    .dataframe tbody tr th {\n",
       "        vertical-align: top;\n",
       "    }\n",
       "\n",
       "    .dataframe thead th {\n",
       "        text-align: right;\n",
       "    }\n",
       "</style>\n",
       "<table border=\"1\" class=\"dataframe\">\n",
       "  <thead>\n",
       "    <tr style=\"text-align: right;\">\n",
       "      <th></th>\n",
       "      <th>session_id</th>\n",
       "      <th>event</th>\n",
       "      <th>event_timestamp</th>\n",
       "      <th>event_value</th>\n",
       "      <th>user_id_hash</th>\n",
       "    </tr>\n",
       "  </thead>\n",
       "  <tbody>\n",
       "    <tr>\n",
       "      <th>0</th>\n",
       "      <td>7012480646309837595</td>\n",
       "      <td>44</td>\n",
       "      <td>2018-10-01 07:00:40.514</td>\n",
       "      <td>0.0</td>\n",
       "      <td>285863e47df26bf47664c93d45c35ee3b9cfc8e253da23...</td>\n",
       "    </tr>\n",
       "    <tr>\n",
       "      <th>1</th>\n",
       "      <td>7012480646309837595</td>\n",
       "      <td>5</td>\n",
       "      <td>2018-10-01 07:00:42.744</td>\n",
       "      <td>0.0</td>\n",
       "      <td>285863e47df26bf47664c93d45c35ee3b9cfc8e253da23...</td>\n",
       "    </tr>\n",
       "    <tr>\n",
       "      <th>2</th>\n",
       "      <td>7012480646309837595</td>\n",
       "      <td>45</td>\n",
       "      <td>2018-10-01 07:01:06.395</td>\n",
       "      <td>0.0</td>\n",
       "      <td>285863e47df26bf47664c93d45c35ee3b9cfc8e253da23...</td>\n",
       "    </tr>\n",
       "    <tr>\n",
       "      <th>3</th>\n",
       "      <td>7012480646309837595</td>\n",
       "      <td>14</td>\n",
       "      <td>2018-10-01 07:01:44.065</td>\n",
       "      <td>0.0</td>\n",
       "      <td>285863e47df26bf47664c93d45c35ee3b9cfc8e253da23...</td>\n",
       "    </tr>\n",
       "    <tr>\n",
       "      <th>4</th>\n",
       "      <td>4339488202460077611</td>\n",
       "      <td>44</td>\n",
       "      <td>2018-10-01 07:01:54.780</td>\n",
       "      <td>0.0</td>\n",
       "      <td>c9bad12f865142f1b3938c9ab8a3003a7882136a2b4a12...</td>\n",
       "    </tr>\n",
       "  </tbody>\n",
       "</table>\n",
       "</div>"
      ],
      "text/plain": [
       "            session_id event         event_timestamp  event_value  \\\n",
       "0  7012480646309837595    44 2018-10-01 07:00:40.514          0.0   \n",
       "1  7012480646309837595     5 2018-10-01 07:00:42.744          0.0   \n",
       "2  7012480646309837595    45 2018-10-01 07:01:06.395          0.0   \n",
       "3  7012480646309837595    14 2018-10-01 07:01:44.065          0.0   \n",
       "4  4339488202460077611    44 2018-10-01 07:01:54.780          0.0   \n",
       "\n",
       "                                        user_id_hash  \n",
       "0  285863e47df26bf47664c93d45c35ee3b9cfc8e253da23...  \n",
       "1  285863e47df26bf47664c93d45c35ee3b9cfc8e253da23...  \n",
       "2  285863e47df26bf47664c93d45c35ee3b9cfc8e253da23...  \n",
       "3  285863e47df26bf47664c93d45c35ee3b9cfc8e253da23...  \n",
       "4  c9bad12f865142f1b3938c9ab8a3003a7882136a2b4a12...  "
      ]
     },
     "execution_count": 9,
     "metadata": {},
     "output_type": "execute_result"
    }
   ],
   "source": [
    "events.head()"
   ]
  },
  {
   "cell_type": "code",
   "execution_count": 10,
   "metadata": {
    "ExecuteTime": {
     "end_time": "2019-02-27T04:50:43.183419Z",
     "start_time": "2019-02-27T04:50:43.180025Z"
    }
   },
   "outputs": [
    {
     "name": "stdout",
     "output_type": "stream",
     "text": [
      "5157590 109627861\n"
     ]
    }
   ],
   "source": [
    "print(len(sessions), len(events))"
   ]
  },
  {
   "cell_type": "code",
   "execution_count": null,
   "metadata": {},
   "outputs": [],
   "source": []
  },
  {
   "cell_type": "code",
   "execution_count": null,
   "metadata": {},
   "outputs": [],
   "source": []
  },
  {
   "cell_type": "markdown",
   "metadata": {},
   "source": [
    "## Get train/val data & label, test data"
   ]
  },
  {
   "cell_type": "code",
   "execution_count": 14,
   "metadata": {
    "ExecuteTime": {
     "end_time": "2019-02-27T05:04:02.442157Z",
     "start_time": "2019-02-27T05:03:40.290787Z"
    }
   },
   "outputs": [],
   "source": [
    "# events_train\n",
    "events_train_data = events[events['event_timestamp'] <= (events.event_timestamp[0] + pd.Timedelta(days=42))]\n",
    "events_train_label = events[np.logical_and(events['event_timestamp'] > (events.event_timestamp[0] + pd.Timedelta(days=42)),\n",
    "                            events['event_timestamp'] <= (events.event_timestamp[0] + pd.Timedelta(days=56)))]\n",
    "\n",
    "# events_val\n",
    "events_val_data = events[np.logical_and(events['event_timestamp'] <= (events.event_timestamp.iloc[-1] - pd.Timedelta(days=14)),\n",
    "                        events['event_timestamp'] > (events.event_timestamp.iloc[-1] - pd.Timedelta(days=56)))]\n",
    "events_val_label = events[events['event_timestamp'] > (events.event_timestamp.iloc[-1] - pd.Timedelta(days=14))]\n",
    "\n",
    "# events_predict\n",
    "events_predict_data = events[events['event_timestamp'] > (events.event_timestamp.iloc[-1] - pd.Timedelta(days=42))]"
   ]
  },
  {
   "cell_type": "code",
   "execution_count": 26,
   "metadata": {
    "ExecuteTime": {
     "end_time": "2019-02-27T05:11:32.159737Z",
     "start_time": "2019-02-27T05:11:29.882699Z"
    }
   },
   "outputs": [],
   "source": [
    "# sessions_train\n",
    "sessions_train_data = sessions[sessions['start_timestamp'] <= (sessions.start_timestamp[0] + pd.Timedelta(days=42))]\n",
    "\n",
    "# sessions_val\n",
    "sessions_val_data = sessions[np.logical_and(sessions['start_timestamp'] <= (sessions.start_timestamp.iloc[-1] - pd.Timedelta(days=14)),\n",
    "                        sessions['start_timestamp'] > (sessions.start_timestamp.iloc[-1] - pd.Timedelta(days=56)))]\n",
    "\n",
    "# sessions_predict\n",
    "sessions_predict_data = sessions[sessions['start_timestamp'] > (sessions.start_timestamp.iloc[-1] - pd.Timedelta(days=42))]"
   ]
  },
  {
   "cell_type": "markdown",
   "metadata": {},
   "source": [
    "### train and val labels"
   ]
  },
  {
   "cell_type": "code",
   "execution_count": 39,
   "metadata": {
    "ExecuteTime": {
     "end_time": "2019-02-27T05:24:56.428822Z",
     "start_time": "2019-02-27T05:24:04.495715Z"
    }
   },
   "outputs": [],
   "source": [
    "# train label (0, 1)\n",
    "events_train_7_days = events_train_label[events_train_label['event_timestamp']\n",
    "                                         <= (events_train_label.event_timestamp.iloc[-1] - pd.Timedelta(days=7))].\\\n",
    "                        groupby('user_id_hash')['event'].apply(lambda x: list(x)).reset_index()\n",
    "events_train_14_days = events_train_label.groupby('user_id_hash')['event'].apply(lambda x: list(x)).reset_index()\n",
    "events_train_7_days['user_purchase_binary_7_days'] = [int('8' in e) for e in events_train_7_days.event]\n",
    "events_train_14_days['user_purchase_binary_14_days'] = [int('8' in e) for e in events_train_14_days.event]\n",
    "train_label = events_train_14_days.merge(events_train_7_days, how='left', on='user_id_hash').fillna(0)\n",
    "train_label = train_label.drop(['event_x', 'event_y'], axis=1)"
   ]
  },
  {
   "cell_type": "code",
   "execution_count": 40,
   "metadata": {
    "ExecuteTime": {
     "end_time": "2019-02-27T05:24:56.442000Z",
     "start_time": "2019-02-27T05:24:56.431615Z"
    }
   },
   "outputs": [
    {
     "data": {
      "text/html": [
       "<div>\n",
       "<style scoped>\n",
       "    .dataframe tbody tr th:only-of-type {\n",
       "        vertical-align: middle;\n",
       "    }\n",
       "\n",
       "    .dataframe tbody tr th {\n",
       "        vertical-align: top;\n",
       "    }\n",
       "\n",
       "    .dataframe thead th {\n",
       "        text-align: right;\n",
       "    }\n",
       "</style>\n",
       "<table border=\"1\" class=\"dataframe\">\n",
       "  <thead>\n",
       "    <tr style=\"text-align: right;\">\n",
       "      <th></th>\n",
       "      <th>user_id_hash</th>\n",
       "      <th>user_purchase_binary_14_days</th>\n",
       "      <th>user_purchase_binary_7_days</th>\n",
       "    </tr>\n",
       "  </thead>\n",
       "  <tbody>\n",
       "    <tr>\n",
       "      <th>0</th>\n",
       "      <td>00000db35682058bb7916cb90f85709f54c1a0f7a3b6de...</td>\n",
       "      <td>1</td>\n",
       "      <td>1.0</td>\n",
       "    </tr>\n",
       "    <tr>\n",
       "      <th>1</th>\n",
       "      <td>000059859ec188af6035870faf885c3038cedda05b3a54...</td>\n",
       "      <td>1</td>\n",
       "      <td>0.0</td>\n",
       "    </tr>\n",
       "    <tr>\n",
       "      <th>2</th>\n",
       "      <td>000081a7d841b0f953bdba6c185fd5cc335fd6015a30c3...</td>\n",
       "      <td>0</td>\n",
       "      <td>0.0</td>\n",
       "    </tr>\n",
       "    <tr>\n",
       "      <th>3</th>\n",
       "      <td>0000a464ad921c3288e73a3a788b5f113cabf84251a74b...</td>\n",
       "      <td>0</td>\n",
       "      <td>0.0</td>\n",
       "    </tr>\n",
       "    <tr>\n",
       "      <th>4</th>\n",
       "      <td>0000e2a3c14887640e2ccf2902b23e6b627856fab9efd6...</td>\n",
       "      <td>0</td>\n",
       "      <td>0.0</td>\n",
       "    </tr>\n",
       "  </tbody>\n",
       "</table>\n",
       "</div>"
      ],
      "text/plain": [
       "                                        user_id_hash  \\\n",
       "0  00000db35682058bb7916cb90f85709f54c1a0f7a3b6de...   \n",
       "1  000059859ec188af6035870faf885c3038cedda05b3a54...   \n",
       "2  000081a7d841b0f953bdba6c185fd5cc335fd6015a30c3...   \n",
       "3  0000a464ad921c3288e73a3a788b5f113cabf84251a74b...   \n",
       "4  0000e2a3c14887640e2ccf2902b23e6b627856fab9efd6...   \n",
       "\n",
       "   user_purchase_binary_14_days  user_purchase_binary_7_days  \n",
       "0                             1                          1.0  \n",
       "1                             1                          0.0  \n",
       "2                             0                          0.0  \n",
       "3                             0                          0.0  \n",
       "4                             0                          0.0  "
      ]
     },
     "execution_count": 40,
     "metadata": {},
     "output_type": "execute_result"
    }
   ],
   "source": [
    "train_label.head()"
   ]
  },
  {
   "cell_type": "code",
   "execution_count": 42,
   "metadata": {
    "ExecuteTime": {
     "end_time": "2019-02-27T05:25:00.880107Z",
     "start_time": "2019-02-27T05:25:00.876218Z"
    }
   },
   "outputs": [
    {
     "data": {
      "text/plain": [
       "214460"
      ]
     },
     "execution_count": 42,
     "metadata": {},
     "output_type": "execute_result"
    }
   ],
   "source": [
    "len(train_label)"
   ]
  },
  {
   "cell_type": "code",
   "execution_count": 43,
   "metadata": {
    "ExecuteTime": {
     "end_time": "2019-02-27T05:26:36.445690Z",
     "start_time": "2019-02-27T05:26:12.977840Z"
    }
   },
   "outputs": [],
   "source": [
    "# val label (0, 1)\n",
    "events_val_7_days = events_val_label[events_val_label['event_timestamp']\n",
    "                                         <= (events_val_label.event_timestamp.iloc[-1] - pd.Timedelta(days=7))].\\\n",
    "                        groupby('user_id_hash')['event'].apply(lambda x: list(x)).reset_index()\n",
    "events_val_14_days = events_val_label.groupby('user_id_hash')['event'].apply(lambda x: list(x)).reset_index()\n",
    "events_val_7_days['user_purchase_binary_7_days'] = [int('8' in e) for e in events_val_7_days.event]\n",
    "events_val_14_days['user_purchase_binary_14_days'] = [int('8' in e) for e in events_val_14_days.event]\n",
    "val_label = events_val_14_days.merge(events_val_7_days, how='left', on='user_id_hash').fillna(0)\n",
    "val_label = val_label.drop(['event_x', 'event_y'], axis=1)"
   ]
  },
  {
   "cell_type": "code",
   "execution_count": 44,
   "metadata": {
    "ExecuteTime": {
     "end_time": "2019-02-27T05:26:36.458948Z",
     "start_time": "2019-02-27T05:26:36.448204Z"
    }
   },
   "outputs": [
    {
     "data": {
      "text/html": [
       "<div>\n",
       "<style scoped>\n",
       "    .dataframe tbody tr th:only-of-type {\n",
       "        vertical-align: middle;\n",
       "    }\n",
       "\n",
       "    .dataframe tbody tr th {\n",
       "        vertical-align: top;\n",
       "    }\n",
       "\n",
       "    .dataframe thead th {\n",
       "        text-align: right;\n",
       "    }\n",
       "</style>\n",
       "<table border=\"1\" class=\"dataframe\">\n",
       "  <thead>\n",
       "    <tr style=\"text-align: right;\">\n",
       "      <th></th>\n",
       "      <th>user_id_hash</th>\n",
       "      <th>user_purchase_binary_14_days</th>\n",
       "      <th>user_purchase_binary_7_days</th>\n",
       "    </tr>\n",
       "  </thead>\n",
       "  <tbody>\n",
       "    <tr>\n",
       "      <th>0</th>\n",
       "      <td>00000db35682058bb7916cb90f85709f54c1a0f7a3b6de...</td>\n",
       "      <td>0</td>\n",
       "      <td>0.0</td>\n",
       "    </tr>\n",
       "    <tr>\n",
       "      <th>1</th>\n",
       "      <td>000081a7d841b0f953bdba6c185fd5cc335fd6015a30c3...</td>\n",
       "      <td>0</td>\n",
       "      <td>0.0</td>\n",
       "    </tr>\n",
       "    <tr>\n",
       "      <th>2</th>\n",
       "      <td>0000a464ad921c3288e73a3a788b5f113cabf84251a74b...</td>\n",
       "      <td>0</td>\n",
       "      <td>0.0</td>\n",
       "    </tr>\n",
       "    <tr>\n",
       "      <th>3</th>\n",
       "      <td>0000bc4e8bfc829d327fa69bdc426dd8a789c52550ed87...</td>\n",
       "      <td>0</td>\n",
       "      <td>0.0</td>\n",
       "    </tr>\n",
       "    <tr>\n",
       "      <th>4</th>\n",
       "      <td>00020102f66f89759868c843ae9fe634870f132f9e3d79...</td>\n",
       "      <td>0</td>\n",
       "      <td>0.0</td>\n",
       "    </tr>\n",
       "  </tbody>\n",
       "</table>\n",
       "</div>"
      ],
      "text/plain": [
       "                                        user_id_hash  \\\n",
       "0  00000db35682058bb7916cb90f85709f54c1a0f7a3b6de...   \n",
       "1  000081a7d841b0f953bdba6c185fd5cc335fd6015a30c3...   \n",
       "2  0000a464ad921c3288e73a3a788b5f113cabf84251a74b...   \n",
       "3  0000bc4e8bfc829d327fa69bdc426dd8a789c52550ed87...   \n",
       "4  00020102f66f89759868c843ae9fe634870f132f9e3d79...   \n",
       "\n",
       "   user_purchase_binary_14_days  user_purchase_binary_7_days  \n",
       "0                             0                          0.0  \n",
       "1                             0                          0.0  \n",
       "2                             0                          0.0  \n",
       "3                             0                          0.0  \n",
       "4                             0                          0.0  "
      ]
     },
     "execution_count": 44,
     "metadata": {},
     "output_type": "execute_result"
    }
   ],
   "source": [
    "val_label.head()"
   ]
  },
  {
   "cell_type": "code",
   "execution_count": 45,
   "metadata": {
    "ExecuteTime": {
     "end_time": "2019-02-27T05:26:36.464437Z",
     "start_time": "2019-02-27T05:26:36.460714Z"
    }
   },
   "outputs": [
    {
     "data": {
      "text/plain": [
       "84467"
      ]
     },
     "execution_count": 45,
     "metadata": {},
     "output_type": "execute_result"
    }
   ],
   "source": [
    "len(val_label)"
   ]
  },
  {
   "cell_type": "markdown",
   "metadata": {},
   "source": [
    "### train and val data"
   ]
  },
  {
   "cell_type": "code",
   "execution_count": 46,
   "metadata": {
    "ExecuteTime": {
     "end_time": "2019-02-27T05:29:42.885243Z",
     "start_time": "2019-02-27T05:29:42.881634Z"
    }
   },
   "outputs": [],
   "source": [
    "def get_data(df_data, df_label):\n",
    "    return df_data[df_data['user_id_hash'].isin(df_label.user_id_hash)]"
   ]
  },
  {
   "cell_type": "code",
   "execution_count": 47,
   "metadata": {
    "ExecuteTime": {
     "end_time": "2019-02-27T05:30:18.169777Z",
     "start_time": "2019-02-27T05:29:43.775198Z"
    }
   },
   "outputs": [],
   "source": [
    "event_train_data = get_data(events_train_data, train_label)\n",
    "session_train_data = get_data(sessions_train_data, train_label)\n",
    "\n",
    "event_val_data = get_data(events_val_data, val_label)\n",
    "session_val_data = get_data(sessions_val_data, val_label)"
   ]
  },
  {
   "cell_type": "code",
   "execution_count": 48,
   "metadata": {
    "ExecuteTime": {
     "end_time": "2019-02-27T05:30:19.922173Z",
     "start_time": "2019-02-27T05:30:19.906576Z"
    }
   },
   "outputs": [
    {
     "name": "stdout",
     "output_type": "stream",
     "text": [
      "29584175 1355719 36160675 1691534\n"
     ]
    }
   ],
   "source": [
    "print(len(event_train_data), len(session_train_data), len(event_val_data), len(session_val_data))"
   ]
  },
  {
   "cell_type": "code",
   "execution_count": 49,
   "metadata": {
    "ExecuteTime": {
     "end_time": "2019-02-27T05:31:10.037384Z",
     "start_time": "2019-02-27T05:31:03.885826Z"
    }
   },
   "outputs": [],
   "source": [
    "event_train_data = event_train_data.reset_index(drop=True)\n",
    "session_train_data = session_train_data.reset_index(drop=True)\n",
    "\n",
    "event_val_data = event_val_data.reset_index(drop=True)\n",
    "session_val_data = session_val_data.reset_index(drop=True)"
   ]
  },
  {
   "cell_type": "code",
   "execution_count": null,
   "metadata": {},
   "outputs": [],
   "source": [
    "# attributes\n",
    "attr1 = pd.read_csv('../Data/attr1.csv')\n",
    "attr_train_data = get_data(attr1, train_label)\n",
    "attr_val_data = get_data(attr1, val_label)"
   ]
  },
  {
   "cell_type": "markdown",
   "metadata": {},
   "source": [
    "### predict data"
   ]
  },
  {
   "cell_type": "code",
   "execution_count": 52,
   "metadata": {
    "ExecuteTime": {
     "end_time": "2019-02-27T05:35:20.415731Z",
     "start_time": "2019-02-27T05:35:08.984367Z"
    }
   },
   "outputs": [],
   "source": [
    "submission = pd.read_csv('../Data/sample_submission_2.csv')\n",
    "submission = submission.drop(['user_purchase_binary_7_days', 'user_purchase_binary_14_days'], axis=1)\n",
    "\n",
    "event_predict_data = get_data(events_predict_data, submission)\n",
    "session_predict_data = get_data(sessions_predict_data, submission)\n",
    "\n",
    "attr_predict_data = get_data(attr1, submission)"
   ]
  },
  {
   "cell_type": "markdown",
   "metadata": {},
   "source": [
    "### in case of no validation"
   ]
  },
  {
   "cell_type": "code",
   "execution_count": 131,
   "metadata": {
    "ExecuteTime": {
     "end_time": "2019-02-27T07:36:52.277611Z",
     "start_time": "2019-02-27T07:36:39.595987Z"
    }
   },
   "outputs": [],
   "source": [
    "events_data = events[events['event_timestamp']<=(events.event_timestamp.iloc[-1] - pd.Timedelta(days=14))]\n",
    "events_label = events[events['event_timestamp']>(events.event_timestamp.iloc[-1] - pd.Timedelta(days=14))]\n",
    "sessions_data = sessions[sessions['start_timestamp']<=(sessions.start_timestamp.iloc[-1]-pd.Timedelta(days=14))]"
   ]
  },
  {
   "cell_type": "code",
   "execution_count": 132,
   "metadata": {
    "ExecuteTime": {
     "end_time": "2019-02-27T07:37:18.878225Z",
     "start_time": "2019-02-27T07:36:52.280671Z"
    }
   },
   "outputs": [],
   "source": [
    "events_7_days = events_label[events_label['event_timestamp']\n",
    "                             <=(events.event_timestamp[events.shape[0]-1] - pd.Timedelta(days=7))].\\\n",
    "                groupby('user_id_hash')['event'].apply(lambda x: list(x)).reset_index()\n",
    "events_14_days = events_label.groupby('user_id_hash')['event'].apply(lambda x: list(x)).reset_index()\n",
    "events_7_days['user_purchase_binary_7_days'] = [int('8' in e) for e in events_7_days.event]\n",
    "events_14_days['user_purchase_binary_14_days'] = [int('8' in e) for e in events_14_days.event]\n",
    "training_label = events_14_days.merge(events_7_days, how='left', on='user_id_hash').fillna(0)\n",
    "training_label = training_label.drop(['event_x', 'event_y'], axis=1)"
   ]
  },
  {
   "cell_type": "code",
   "execution_count": 133,
   "metadata": {
    "ExecuteTime": {
     "end_time": "2019-02-27T07:37:53.152999Z",
     "start_time": "2019-02-27T07:37:18.880239Z"
    }
   },
   "outputs": [],
   "source": [
    "event_data = get_data(events_data, training_label)\n",
    "session_data = get_data(sessions_data, training_label)\n",
    "event_data = event_data.reset_index(drop=True)\n",
    "session_data = session_data.reset_index(drop=True)"
   ]
  },
  {
   "cell_type": "code",
   "execution_count": null,
   "metadata": {},
   "outputs": [],
   "source": [
    "event = get_data(events, submission)\n",
    "session = get_data(sessions, submission)"
   ]
  },
  {
   "cell_type": "code",
   "execution_count": null,
   "metadata": {},
   "outputs": [],
   "source": []
  },
  {
   "cell_type": "code",
   "execution_count": null,
   "metadata": {},
   "outputs": [],
   "source": []
  },
  {
   "cell_type": "markdown",
   "metadata": {},
   "source": [
    "## Feature Engineering"
   ]
  },
  {
   "cell_type": "code",
   "execution_count": 56,
   "metadata": {
    "ExecuteTime": {
     "end_time": "2019-02-27T05:41:55.964871Z",
     "start_time": "2019-02-27T05:41:55.958726Z"
    }
   },
   "outputs": [],
   "source": [
    "def avg_diff(ls, seven_endtime, last=0):\n",
    "    '''calculate average intervals'''\n",
    "    if last:\n",
    "        ls2 = [e for e in ls if e > seven_endtime]\n",
    "        if len(ls2) == 0: return 168  # no event last week\n",
    "        if len(ls2) == 1: return 84  # only one event last week\n",
    "        return avg_diff(ls2, seven_endtime)\n",
    "    else:\n",
    "        if len(ls) == 1: return 504\n",
    "        if len(ls) == 0: return 1008\n",
    "        return sum([(ls[i+1] - ls[i]).total_seconds()/3600 for i in range(len(ls)-1)])/(len(ls)-1)   "
   ]
  },
  {
   "cell_type": "code",
   "execution_count": 57,
   "metadata": {
    "ExecuteTime": {
     "end_time": "2019-02-27T05:41:58.135821Z",
     "start_time": "2019-02-27T05:41:58.131719Z"
    }
   },
   "outputs": [],
   "source": [
    "def standardize(ls):\n",
    "    mean = ls.mean()\n",
    "    std = ls.std()\n",
    "    ls = (ls - mean)/std\n",
    "    return ls"
   ]
  },
  {
   "cell_type": "markdown",
   "metadata": {},
   "source": [
    "### feature from events"
   ]
  },
  {
   "cell_type": "code",
   "execution_count": 58,
   "metadata": {
    "ExecuteTime": {
     "end_time": "2019-02-27T05:46:47.127521Z",
     "start_time": "2019-02-27T05:46:47.093792Z"
    }
   },
   "outputs": [],
   "source": [
    "def compute_event_features(events):\n",
    "    '''compute featuers from events'''\n",
    "    \n",
    "    \n",
    "    user_id_hash = events.groupby('session_id')[\"user_id_hash\"].first().reset_index(name=\"user_id_hash\")\n",
    "    # number of events in each session\n",
    "    num_events = events.groupby('session_id')[\"event\"].count().reset_index(name=\"event_count\")\n",
    "    # duration = last event - first event\n",
    "    first_event = events.groupby('session_id')['event_timestamp'].first().reset_index(name=\"first_event\")\n",
    "    last_event = events.groupby('session_id')['event_timestamp'].last().reset_index(name=\"last_event\")\n",
    "    duration = first_event.join(last_event.set_index('session_id'), on='session_id')\n",
    "    duration['duration'] = duration['last_event'] - duration['first_event']\n",
    "    duration['duration'] = [e.total_seconds()/3600 for e in duration.duration]  # in hours\n",
    "    \n",
    "    \n",
    "    event_endtime = events.event_timestamp.iloc[-1]\n",
    "    seven_endtime = pd.to_datetime(event_endtime) - pd.Timedelta(days=7)\n",
    "    per_session = user_id_hash.merge(num_events,on='session_id').merge(duration,on='session_id')\n",
    "\n",
    "    # time spent on the app in hours\n",
    "    total_time = per_session.groupby('user_id_hash')['duration'].sum().reset_index(name='total_time')\n",
    "    total_time_last_week = per_session[per_session['first_event']>seven_endtime].\\\n",
    "                            groupby('user_id_hash')['duration'].sum().reset_index(name='total_time_last_week')\n",
    "\n",
    "    # avg session duration\n",
    "    avg_session_duration = per_session.groupby('user_id_hash')['duration'].mean().reset_index(name='avg_session_duration')\n",
    "    avg_session_duration_last_week = per_session[per_session['first_event']>seven_endtime].\\\n",
    "                                        groupby('user_id_hash')['duration'].mean().\\\n",
    "                                        reset_index(name='avg_session_duration_last_week')\n",
    "\n",
    "    # avg count of events in each session\n",
    "    avg_event_count = per_session.groupby('user_id_hash')['event_count'].mean().reset_index(name='avg_event_count')\n",
    "\n",
    "    # sum of purchase\n",
    "    sum_purchase_value = events[events['event']=='8'].groupby('user_id_hash')['event_value'].\\\n",
    "                            sum().reset_index(name='sum_purchase_value')\n",
    "    sum_purchase_value_last_week = events[(events['event']=='8') & (events['event_timestamp']>seven_endtime)].\\\n",
    "                            groupby('user_id_hash')['event_value'].\\\n",
    "                            sum().reset_index(name='sum_purchase_value_last_week')\n",
    "\n",
    "    # number of purchase\n",
    "    purchase_count = events[events['event']=='8'].groupby('user_id_hash')['event_value'].\\\n",
    "                            count().reset_index(name='purchase_count')\n",
    "    purchase_count_last_week = events[(events['event']=='8') & (events['event_timestamp']>seven_endtime)].\\\n",
    "                            groupby('user_id_hash')['event_value'].\\\n",
    "                            count().reset_index(name='purchase_count_last_week')\n",
    "    \n",
    "    \n",
    "    event_features = total_time.merge(total_time_last_week, how='left', on='user_id_hash').\\\n",
    "                    merge(avg_session_duration, on='user_id_hash').\\\n",
    "                    merge(avg_session_duration_last_week, how='left', on='user_id_hash').\\\n",
    "                    merge(avg_event_count, on='user_id_hash').\\\n",
    "                    merge(sum_purchase_value, how='left', on='user_id_hash').\\\n",
    "                    merge(sum_purchase_value_last_week, how='left', on='user_id_hash').\\\n",
    "                    merge(purchase_count, how='left', on='user_id_hash').\\\n",
    "                    merge(purchase_count_last_week, how='left', on='user_id_hash').fillna(0)\n",
    "    \n",
    "    \n",
    "    # avg interval between purchases in hours\n",
    "    purchase_events = events[events['event']=='8'][['event_timestamp', 'user_id_hash']].groupby('user_id_hash').\\\n",
    "                        agg({'event_timestamp': lambda x: list(x)})\n",
    "    \n",
    "    \n",
    "    purchase_events['purchase_interval'] = purchase_events.event_timestamp.\\\n",
    "                                            apply(lambda x: avg_diff(x, seven_endtime))\n",
    "    purchase_events['purchase_interval_last_week'] = purchase_events.event_timestamp.\\\n",
    "                                                    apply(lambda x: avg_diff(x, seven_endtime, 1))\n",
    "    purchase_events = purchase_events.drop('event_timestamp', axis=1)\n",
    "    event_features = event_features.merge(purchase_events, how='left', on='user_id_hash')\n",
    "    event_features['purchase_interval'] = event_features['purchase_interval'].fillna(1008)\n",
    "    event_features['purchase_interval_last_week'] = event_features['purchase_interval_last_week'].fillna(168)\n",
    "    \n",
    "    \n",
    "    return event_features"
   ]
  },
  {
   "cell_type": "markdown",
   "metadata": {},
   "source": [
    "### features from sessions"
   ]
  },
  {
   "cell_type": "code",
   "execution_count": 63,
   "metadata": {
    "ExecuteTime": {
     "end_time": "2019-02-27T05:49:55.202561Z",
     "start_time": "2019-02-27T05:49:55.188807Z"
    }
   },
   "outputs": [],
   "source": [
    "def compute_session_features(sessions):\n",
    "    '''compute features from sessions'''\n",
    "    \n",
    "    \n",
    "    session_endtime = sessions.start_timestamp.iloc[-1]\n",
    "    seven_endtime = pd.to_datetime(session_endtime) - pd.Timedelta(days=7)\n",
    "    \n",
    "    \n",
    "    session_timestamp = sessions.groupby('user_id_hash').agg({'start_timestamp': lambda x: list(x)})\n",
    "    user_sessions = sessions.groupby('user_id_hash').agg({'session_id': 'count',\n",
    "                                                          'previous_sessions_duration': 'mean',\n",
    "                                                          'user_created_timestamp': lambda x: x.iloc[0],\n",
    "                                                          'country': lambda x: x.iloc[0],\n",
    "                                                          'os_name': lambda x: x.iloc[0]}).\\\n",
    "                                                     merge(session_timestamp, on='user_id_hash')\n",
    "    user_sessions = user_sessions.rename(columns={'session_id':'session_count', \n",
    "                                                  'previous_sessions_duration':'avg_session_duration'})\n",
    "    user_sessions['avg_session_duration'] = [e/3600000 for e in user_sessions.avg_session_duration]\n",
    "    \n",
    "    \n",
    "    user_sessions['elapse_since_last_session'] = [(session_endtime-e[-1]).total_seconds()/3600 for e in user_sessions.start_timestamp]\n",
    "    user_sessions['since_register'] = [(session_endtime-e).total_seconds()/3600 for e in user_sessions.user_created_timestamp]\n",
    "    \n",
    "    \n",
    "    user_sessions['avg_session_interval'] = user_sessions.start_timestamp.\\\n",
    "                                        apply(lambda x: avg_diff(x, seven_endtime))\n",
    "    user_sessions['avg_session_interval_last_week'] = user_sessions.start_timestamp.\\\n",
    "                                                    apply(lambda x: avg_diff(x, seven_endtime, 1))\n",
    "    user_sessions = user_sessions.drop(['user_created_timestamp', 'start_timestamp'], axis=1).reset_index()\n",
    "    \n",
    "    \n",
    "    return user_sessions"
   ]
  },
  {
   "cell_type": "markdown",
   "metadata": {},
   "source": [
    "### features from attributes"
   ]
  },
  {
   "cell_type": "code",
   "execution_count": null,
   "metadata": {},
   "outputs": [],
   "source": []
  },
  {
   "cell_type": "code",
   "execution_count": null,
   "metadata": {},
   "outputs": [],
   "source": []
  },
  {
   "cell_type": "code",
   "execution_count": null,
   "metadata": {},
   "outputs": [],
   "source": []
  },
  {
   "cell_type": "code",
   "execution_count": null,
   "metadata": {},
   "outputs": [],
   "source": []
  },
  {
   "cell_type": "code",
   "execution_count": null,
   "metadata": {},
   "outputs": [],
   "source": []
  },
  {
   "cell_type": "code",
   "execution_count": null,
   "metadata": {},
   "outputs": [],
   "source": []
  },
  {
   "cell_type": "code",
   "execution_count": null,
   "metadata": {},
   "outputs": [],
   "source": []
  },
  {
   "cell_type": "code",
   "execution_count": null,
   "metadata": {},
   "outputs": [],
   "source": []
  },
  {
   "cell_type": "code",
   "execution_count": null,
   "metadata": {},
   "outputs": [],
   "source": []
  },
  {
   "cell_type": "code",
   "execution_count": null,
   "metadata": {},
   "outputs": [],
   "source": []
  },
  {
   "cell_type": "code",
   "execution_count": null,
   "metadata": {},
   "outputs": [],
   "source": []
  },
  {
   "cell_type": "code",
   "execution_count": null,
   "metadata": {},
   "outputs": [],
   "source": []
  },
  {
   "cell_type": "code",
   "execution_count": null,
   "metadata": {},
   "outputs": [],
   "source": []
  },
  {
   "cell_type": "code",
   "execution_count": null,
   "metadata": {},
   "outputs": [],
   "source": []
  },
  {
   "cell_type": "code",
   "execution_count": null,
   "metadata": {},
   "outputs": [],
   "source": []
  },
  {
   "cell_type": "code",
   "execution_count": null,
   "metadata": {},
   "outputs": [],
   "source": []
  },
  {
   "cell_type": "code",
   "execution_count": null,
   "metadata": {},
   "outputs": [],
   "source": []
  },
  {
   "cell_type": "code",
   "execution_count": null,
   "metadata": {},
   "outputs": [],
   "source": []
  },
  {
   "cell_type": "code",
   "execution_count": null,
   "metadata": {},
   "outputs": [],
   "source": []
  },
  {
   "cell_type": "markdown",
   "metadata": {},
   "source": [
    "### combine features"
   ]
  },
  {
   "cell_type": "code",
   "execution_count": 70,
   "metadata": {
    "ExecuteTime": {
     "end_time": "2019-02-27T05:56:10.473875Z",
     "start_time": "2019-02-27T05:56:10.467072Z"
    }
   },
   "outputs": [],
   "source": [
    "def compute_features(event_data, session_data):\n",
    "    '''\n",
    "    combine features from sessions and events\n",
    "    '''\n",
    "    \n",
    "    # event_X\n",
    "    event_X = compute_event_features(event_data)\n",
    "    for c in list(event_X.columns)[1:]:\n",
    "        event_X[c] = standardize(event_X[c])\n",
    "    \n",
    "    # session_X\n",
    "    session_X = compute_session_features(session_data)\n",
    "    for c in ['session_count', 'avg_session_duration','elapse_since_last_session', 'since_register',\n",
    "           'avg_session_interval', 'avg_session_interval_last_week']:\n",
    "        session_X[c] = standardize(session_X[c])\n",
    "    session_X = session_X.drop(['country', 'os_name'], axis=1)\n",
    "    \n",
    "    # combine to X\n",
    "    X = event_X.merge(session_X, how='inner', on='user_id_hash').reset_index(drop=True)\n",
    "    \n",
    "    \n",
    "    return X"
   ]
  },
  {
   "cell_type": "code",
   "execution_count": null,
   "metadata": {},
   "outputs": [],
   "source": []
  },
  {
   "cell_type": "code",
   "execution_count": null,
   "metadata": {},
   "outputs": [],
   "source": []
  },
  {
   "cell_type": "markdown",
   "metadata": {},
   "source": [
    "## Model"
   ]
  },
  {
   "cell_type": "markdown",
   "metadata": {},
   "source": [
    "### X_train, y_train, X_val, y_val, X_predict"
   ]
  },
  {
   "cell_type": "code",
   "execution_count": 71,
   "metadata": {
    "ExecuteTime": {
     "end_time": "2019-02-27T05:58:39.552039Z",
     "start_time": "2019-02-27T05:57:17.644151Z"
    }
   },
   "outputs": [
    {
     "data": {
      "text/plain": [
       "78177"
      ]
     },
     "execution_count": 71,
     "metadata": {},
     "output_type": "execute_result"
    }
   ],
   "source": [
    "# train\n",
    "\n",
    "X_train = compute_features(event_train_data, session_train_data)\n",
    "y_train = train_label[train_label['user_id_hash'].isin(X_train.user_id_hash)]\n",
    "len(X_train)"
   ]
  },
  {
   "cell_type": "code",
   "execution_count": 76,
   "metadata": {
    "ExecuteTime": {
     "end_time": "2019-02-27T06:08:03.066808Z",
     "start_time": "2019-02-27T06:08:03.063563Z"
    }
   },
   "outputs": [
    {
     "data": {
      "text/plain": [
       "79492"
      ]
     },
     "execution_count": 76,
     "metadata": {},
     "output_type": "execute_result"
    }
   ],
   "source": [
    "# val\n",
    "\n",
    "X_val = compute_features(event_val_data, session_val_data)\n",
    "y_val = val_label[val_label['user_id_hash'].isin(X_val.user_id_hash)]\n",
    "len(X_val)"
   ]
  },
  {
   "cell_type": "code",
   "execution_count": 77,
   "metadata": {
    "ExecuteTime": {
     "end_time": "2019-02-27T06:08:08.138545Z",
     "start_time": "2019-02-27T06:08:08.133958Z"
    }
   },
   "outputs": [
    {
     "data": {
      "text/plain": [
       "163737"
      ]
     },
     "execution_count": 77,
     "metadata": {},
     "output_type": "execute_result"
    }
   ],
   "source": [
    "# test\n",
    "\n",
    "X_predict = compute_features(event_predict_data, session_predict_data)\n",
    "len(X_predict)"
   ]
  },
  {
   "cell_type": "markdown",
   "metadata": {},
   "source": [
    "### Random Forest"
   ]
  },
  {
   "cell_type": "code",
   "execution_count": 84,
   "metadata": {
    "ExecuteTime": {
     "end_time": "2019-02-27T07:18:59.977509Z",
     "start_time": "2019-02-27T06:27:24.308662Z"
    }
   },
   "outputs": [
    {
     "ename": "KeyboardInterrupt",
     "evalue": "",
     "output_type": "error",
     "traceback": [
      "\u001b[0;31m---------------------------------------------------------------------------\u001b[0m",
      "\u001b[0;31mKeyboardInterrupt\u001b[0m                         Traceback (most recent call last)",
      "\u001b[0;32m<ipython-input-84-b5c56fd59f7e>\u001b[0m in \u001b[0;36m<module>\u001b[0;34m\u001b[0m\n\u001b[1;32m     10\u001b[0m \u001b[0;34m\u001b[0m\u001b[0m\n\u001b[1;32m     11\u001b[0m \u001b[0mrf_gs\u001b[0m \u001b[0;34m=\u001b[0m \u001b[0mGridSearchCV\u001b[0m\u001b[0;34m(\u001b[0m\u001b[0mestimator\u001b[0m\u001b[0;34m=\u001b[0m\u001b[0mrf\u001b[0m\u001b[0;34m,\u001b[0m \u001b[0mparam_grid\u001b[0m\u001b[0;34m=\u001b[0m\u001b[0mparam_grid\u001b[0m\u001b[0;34m)\u001b[0m\u001b[0;34m\u001b[0m\u001b[0;34m\u001b[0m\u001b[0m\n\u001b[0;32m---> 12\u001b[0;31m \u001b[0mrf_gs\u001b[0m\u001b[0;34m.\u001b[0m\u001b[0mfit\u001b[0m\u001b[0;34m(\u001b[0m\u001b[0mX_train\u001b[0m\u001b[0;34m.\u001b[0m\u001b[0miloc\u001b[0m\u001b[0;34m[\u001b[0m\u001b[0;34m:\u001b[0m\u001b[0;34m,\u001b[0m\u001b[0;36m1\u001b[0m\u001b[0;34m:\u001b[0m\u001b[0;34m]\u001b[0m\u001b[0;34m,\u001b[0m \u001b[0my_train\u001b[0m\u001b[0;34m[\u001b[0m\u001b[0;34m'user_purchase_binary_7_days'\u001b[0m\u001b[0;34m]\u001b[0m\u001b[0;34m)\u001b[0m\u001b[0;34m\u001b[0m\u001b[0;34m\u001b[0m\u001b[0m\n\u001b[0m\u001b[1;32m     13\u001b[0m \u001b[0;34m\u001b[0m\u001b[0m\n\u001b[1;32m     14\u001b[0m \u001b[0mrf_7\u001b[0m \u001b[0;34m=\u001b[0m \u001b[0mrf_gs\u001b[0m\u001b[0;34m.\u001b[0m\u001b[0mbest_estimator_\u001b[0m\u001b[0;34m\u001b[0m\u001b[0;34m\u001b[0m\u001b[0m\n",
      "\u001b[0;32m/anaconda3/envs/ml/lib/python3.6/site-packages/sklearn/model_selection/_search.py\u001b[0m in \u001b[0;36mfit\u001b[0;34m(self, X, y, groups, **fit_params)\u001b[0m\n\u001b[1;32m    720\u001b[0m                 \u001b[0;32mreturn\u001b[0m \u001b[0mresults_container\u001b[0m\u001b[0;34m[\u001b[0m\u001b[0;36m0\u001b[0m\u001b[0;34m]\u001b[0m\u001b[0;34m\u001b[0m\u001b[0;34m\u001b[0m\u001b[0m\n\u001b[1;32m    721\u001b[0m \u001b[0;34m\u001b[0m\u001b[0m\n\u001b[0;32m--> 722\u001b[0;31m             \u001b[0mself\u001b[0m\u001b[0;34m.\u001b[0m\u001b[0m_run_search\u001b[0m\u001b[0;34m(\u001b[0m\u001b[0mevaluate_candidates\u001b[0m\u001b[0;34m)\u001b[0m\u001b[0;34m\u001b[0m\u001b[0;34m\u001b[0m\u001b[0m\n\u001b[0m\u001b[1;32m    723\u001b[0m \u001b[0;34m\u001b[0m\u001b[0m\n\u001b[1;32m    724\u001b[0m         \u001b[0mresults\u001b[0m \u001b[0;34m=\u001b[0m \u001b[0mresults_container\u001b[0m\u001b[0;34m[\u001b[0m\u001b[0;36m0\u001b[0m\u001b[0;34m]\u001b[0m\u001b[0;34m\u001b[0m\u001b[0;34m\u001b[0m\u001b[0m\n",
      "\u001b[0;32m/anaconda3/envs/ml/lib/python3.6/site-packages/sklearn/model_selection/_search.py\u001b[0m in \u001b[0;36m_run_search\u001b[0;34m(self, evaluate_candidates)\u001b[0m\n\u001b[1;32m   1189\u001b[0m     \u001b[0;32mdef\u001b[0m \u001b[0m_run_search\u001b[0m\u001b[0;34m(\u001b[0m\u001b[0mself\u001b[0m\u001b[0;34m,\u001b[0m \u001b[0mevaluate_candidates\u001b[0m\u001b[0;34m)\u001b[0m\u001b[0;34m:\u001b[0m\u001b[0;34m\u001b[0m\u001b[0;34m\u001b[0m\u001b[0m\n\u001b[1;32m   1190\u001b[0m         \u001b[0;34m\"\"\"Search all candidates in param_grid\"\"\"\u001b[0m\u001b[0;34m\u001b[0m\u001b[0;34m\u001b[0m\u001b[0m\n\u001b[0;32m-> 1191\u001b[0;31m         \u001b[0mevaluate_candidates\u001b[0m\u001b[0;34m(\u001b[0m\u001b[0mParameterGrid\u001b[0m\u001b[0;34m(\u001b[0m\u001b[0mself\u001b[0m\u001b[0;34m.\u001b[0m\u001b[0mparam_grid\u001b[0m\u001b[0;34m)\u001b[0m\u001b[0;34m)\u001b[0m\u001b[0;34m\u001b[0m\u001b[0;34m\u001b[0m\u001b[0m\n\u001b[0m\u001b[1;32m   1192\u001b[0m \u001b[0;34m\u001b[0m\u001b[0m\n\u001b[1;32m   1193\u001b[0m \u001b[0;34m\u001b[0m\u001b[0m\n",
      "\u001b[0;32m/anaconda3/envs/ml/lib/python3.6/site-packages/sklearn/model_selection/_search.py\u001b[0m in \u001b[0;36mevaluate_candidates\u001b[0;34m(candidate_params)\u001b[0m\n\u001b[1;32m    709\u001b[0m                                \u001b[0;32mfor\u001b[0m \u001b[0mparameters\u001b[0m\u001b[0;34m,\u001b[0m \u001b[0;34m(\u001b[0m\u001b[0mtrain\u001b[0m\u001b[0;34m,\u001b[0m \u001b[0mtest\u001b[0m\u001b[0;34m)\u001b[0m\u001b[0;34m\u001b[0m\u001b[0;34m\u001b[0m\u001b[0m\n\u001b[1;32m    710\u001b[0m                                in product(candidate_params,\n\u001b[0;32m--> 711\u001b[0;31m                                           cv.split(X, y, groups)))\n\u001b[0m\u001b[1;32m    712\u001b[0m \u001b[0;34m\u001b[0m\u001b[0m\n\u001b[1;32m    713\u001b[0m                 \u001b[0mall_candidate_params\u001b[0m\u001b[0;34m.\u001b[0m\u001b[0mextend\u001b[0m\u001b[0;34m(\u001b[0m\u001b[0mcandidate_params\u001b[0m\u001b[0;34m)\u001b[0m\u001b[0;34m\u001b[0m\u001b[0;34m\u001b[0m\u001b[0m\n",
      "\u001b[0;32m/anaconda3/envs/ml/lib/python3.6/site-packages/sklearn/externals/joblib/parallel.py\u001b[0m in \u001b[0;36m__call__\u001b[0;34m(self, iterable)\u001b[0m\n\u001b[1;32m    984\u001b[0m                 \u001b[0mself\u001b[0m\u001b[0;34m.\u001b[0m\u001b[0m_iterating\u001b[0m \u001b[0;34m=\u001b[0m \u001b[0mself\u001b[0m\u001b[0;34m.\u001b[0m\u001b[0m_original_iterator\u001b[0m \u001b[0;32mis\u001b[0m \u001b[0;32mnot\u001b[0m \u001b[0;32mNone\u001b[0m\u001b[0;34m\u001b[0m\u001b[0;34m\u001b[0m\u001b[0m\n\u001b[1;32m    985\u001b[0m \u001b[0;34m\u001b[0m\u001b[0m\n\u001b[0;32m--> 986\u001b[0;31m             \u001b[0;32mwhile\u001b[0m \u001b[0mself\u001b[0m\u001b[0;34m.\u001b[0m\u001b[0mdispatch_one_batch\u001b[0m\u001b[0;34m(\u001b[0m\u001b[0miterator\u001b[0m\u001b[0;34m)\u001b[0m\u001b[0;34m:\u001b[0m\u001b[0;34m\u001b[0m\u001b[0;34m\u001b[0m\u001b[0m\n\u001b[0m\u001b[1;32m    987\u001b[0m                 \u001b[0;32mpass\u001b[0m\u001b[0;34m\u001b[0m\u001b[0;34m\u001b[0m\u001b[0m\n\u001b[1;32m    988\u001b[0m \u001b[0;34m\u001b[0m\u001b[0m\n",
      "\u001b[0;32m/anaconda3/envs/ml/lib/python3.6/site-packages/sklearn/externals/joblib/parallel.py\u001b[0m in \u001b[0;36mdispatch_one_batch\u001b[0;34m(self, iterator)\u001b[0m\n\u001b[1;32m    823\u001b[0m                 \u001b[0;32mreturn\u001b[0m \u001b[0;32mFalse\u001b[0m\u001b[0;34m\u001b[0m\u001b[0;34m\u001b[0m\u001b[0m\n\u001b[1;32m    824\u001b[0m             \u001b[0;32melse\u001b[0m\u001b[0;34m:\u001b[0m\u001b[0;34m\u001b[0m\u001b[0;34m\u001b[0m\u001b[0m\n\u001b[0;32m--> 825\u001b[0;31m                 \u001b[0mself\u001b[0m\u001b[0;34m.\u001b[0m\u001b[0m_dispatch\u001b[0m\u001b[0;34m(\u001b[0m\u001b[0mtasks\u001b[0m\u001b[0;34m)\u001b[0m\u001b[0;34m\u001b[0m\u001b[0;34m\u001b[0m\u001b[0m\n\u001b[0m\u001b[1;32m    826\u001b[0m                 \u001b[0;32mreturn\u001b[0m \u001b[0;32mTrue\u001b[0m\u001b[0;34m\u001b[0m\u001b[0;34m\u001b[0m\u001b[0m\n\u001b[1;32m    827\u001b[0m \u001b[0;34m\u001b[0m\u001b[0m\n",
      "\u001b[0;32m/anaconda3/envs/ml/lib/python3.6/site-packages/sklearn/externals/joblib/parallel.py\u001b[0m in \u001b[0;36m_dispatch\u001b[0;34m(self, batch)\u001b[0m\n\u001b[1;32m    780\u001b[0m         \u001b[0;32mwith\u001b[0m \u001b[0mself\u001b[0m\u001b[0;34m.\u001b[0m\u001b[0m_lock\u001b[0m\u001b[0;34m:\u001b[0m\u001b[0;34m\u001b[0m\u001b[0;34m\u001b[0m\u001b[0m\n\u001b[1;32m    781\u001b[0m             \u001b[0mjob_idx\u001b[0m \u001b[0;34m=\u001b[0m \u001b[0mlen\u001b[0m\u001b[0;34m(\u001b[0m\u001b[0mself\u001b[0m\u001b[0;34m.\u001b[0m\u001b[0m_jobs\u001b[0m\u001b[0;34m)\u001b[0m\u001b[0;34m\u001b[0m\u001b[0;34m\u001b[0m\u001b[0m\n\u001b[0;32m--> 782\u001b[0;31m             \u001b[0mjob\u001b[0m \u001b[0;34m=\u001b[0m \u001b[0mself\u001b[0m\u001b[0;34m.\u001b[0m\u001b[0m_backend\u001b[0m\u001b[0;34m.\u001b[0m\u001b[0mapply_async\u001b[0m\u001b[0;34m(\u001b[0m\u001b[0mbatch\u001b[0m\u001b[0;34m,\u001b[0m \u001b[0mcallback\u001b[0m\u001b[0;34m=\u001b[0m\u001b[0mcb\u001b[0m\u001b[0;34m)\u001b[0m\u001b[0;34m\u001b[0m\u001b[0;34m\u001b[0m\u001b[0m\n\u001b[0m\u001b[1;32m    783\u001b[0m             \u001b[0;31m# A job can complete so quickly than its callback is\u001b[0m\u001b[0;34m\u001b[0m\u001b[0;34m\u001b[0m\u001b[0;34m\u001b[0m\u001b[0m\n\u001b[1;32m    784\u001b[0m             \u001b[0;31m# called before we get here, causing self._jobs to\u001b[0m\u001b[0;34m\u001b[0m\u001b[0;34m\u001b[0m\u001b[0;34m\u001b[0m\u001b[0m\n",
      "\u001b[0;32m/anaconda3/envs/ml/lib/python3.6/site-packages/sklearn/externals/joblib/_parallel_backends.py\u001b[0m in \u001b[0;36mapply_async\u001b[0;34m(self, func, callback)\u001b[0m\n\u001b[1;32m    180\u001b[0m     \u001b[0;32mdef\u001b[0m \u001b[0mapply_async\u001b[0m\u001b[0;34m(\u001b[0m\u001b[0mself\u001b[0m\u001b[0;34m,\u001b[0m \u001b[0mfunc\u001b[0m\u001b[0;34m,\u001b[0m \u001b[0mcallback\u001b[0m\u001b[0;34m=\u001b[0m\u001b[0;32mNone\u001b[0m\u001b[0;34m)\u001b[0m\u001b[0;34m:\u001b[0m\u001b[0;34m\u001b[0m\u001b[0;34m\u001b[0m\u001b[0m\n\u001b[1;32m    181\u001b[0m         \u001b[0;34m\"\"\"Schedule a func to be run\"\"\"\u001b[0m\u001b[0;34m\u001b[0m\u001b[0;34m\u001b[0m\u001b[0m\n\u001b[0;32m--> 182\u001b[0;31m         \u001b[0mresult\u001b[0m \u001b[0;34m=\u001b[0m \u001b[0mImmediateResult\u001b[0m\u001b[0;34m(\u001b[0m\u001b[0mfunc\u001b[0m\u001b[0;34m)\u001b[0m\u001b[0;34m\u001b[0m\u001b[0;34m\u001b[0m\u001b[0m\n\u001b[0m\u001b[1;32m    183\u001b[0m         \u001b[0;32mif\u001b[0m \u001b[0mcallback\u001b[0m\u001b[0;34m:\u001b[0m\u001b[0;34m\u001b[0m\u001b[0;34m\u001b[0m\u001b[0m\n\u001b[1;32m    184\u001b[0m             \u001b[0mcallback\u001b[0m\u001b[0;34m(\u001b[0m\u001b[0mresult\u001b[0m\u001b[0;34m)\u001b[0m\u001b[0;34m\u001b[0m\u001b[0;34m\u001b[0m\u001b[0m\n",
      "\u001b[0;32m/anaconda3/envs/ml/lib/python3.6/site-packages/sklearn/externals/joblib/_parallel_backends.py\u001b[0m in \u001b[0;36m__init__\u001b[0;34m(self, batch)\u001b[0m\n\u001b[1;32m    543\u001b[0m         \u001b[0;31m# Don't delay the application, to avoid keeping the input\u001b[0m\u001b[0;34m\u001b[0m\u001b[0;34m\u001b[0m\u001b[0;34m\u001b[0m\u001b[0m\n\u001b[1;32m    544\u001b[0m         \u001b[0;31m# arguments in memory\u001b[0m\u001b[0;34m\u001b[0m\u001b[0;34m\u001b[0m\u001b[0;34m\u001b[0m\u001b[0m\n\u001b[0;32m--> 545\u001b[0;31m         \u001b[0mself\u001b[0m\u001b[0;34m.\u001b[0m\u001b[0mresults\u001b[0m \u001b[0;34m=\u001b[0m \u001b[0mbatch\u001b[0m\u001b[0;34m(\u001b[0m\u001b[0;34m)\u001b[0m\u001b[0;34m\u001b[0m\u001b[0;34m\u001b[0m\u001b[0m\n\u001b[0m\u001b[1;32m    546\u001b[0m \u001b[0;34m\u001b[0m\u001b[0m\n\u001b[1;32m    547\u001b[0m     \u001b[0;32mdef\u001b[0m \u001b[0mget\u001b[0m\u001b[0;34m(\u001b[0m\u001b[0mself\u001b[0m\u001b[0;34m)\u001b[0m\u001b[0;34m:\u001b[0m\u001b[0;34m\u001b[0m\u001b[0;34m\u001b[0m\u001b[0m\n",
      "\u001b[0;32m/anaconda3/envs/ml/lib/python3.6/site-packages/sklearn/externals/joblib/parallel.py\u001b[0m in \u001b[0;36m__call__\u001b[0;34m(self)\u001b[0m\n\u001b[1;32m    259\u001b[0m         \u001b[0;32mwith\u001b[0m \u001b[0mparallel_backend\u001b[0m\u001b[0;34m(\u001b[0m\u001b[0mself\u001b[0m\u001b[0;34m.\u001b[0m\u001b[0m_backend\u001b[0m\u001b[0;34m)\u001b[0m\u001b[0;34m:\u001b[0m\u001b[0;34m\u001b[0m\u001b[0;34m\u001b[0m\u001b[0m\n\u001b[1;32m    260\u001b[0m             return [func(*args, **kwargs)\n\u001b[0;32m--> 261\u001b[0;31m                     for func, args, kwargs in self.items]\n\u001b[0m\u001b[1;32m    262\u001b[0m \u001b[0;34m\u001b[0m\u001b[0m\n\u001b[1;32m    263\u001b[0m     \u001b[0;32mdef\u001b[0m \u001b[0m__len__\u001b[0m\u001b[0;34m(\u001b[0m\u001b[0mself\u001b[0m\u001b[0;34m)\u001b[0m\u001b[0;34m:\u001b[0m\u001b[0;34m\u001b[0m\u001b[0;34m\u001b[0m\u001b[0m\n",
      "\u001b[0;32m/anaconda3/envs/ml/lib/python3.6/site-packages/sklearn/externals/joblib/parallel.py\u001b[0m in \u001b[0;36m<listcomp>\u001b[0;34m(.0)\u001b[0m\n\u001b[1;32m    259\u001b[0m         \u001b[0;32mwith\u001b[0m \u001b[0mparallel_backend\u001b[0m\u001b[0;34m(\u001b[0m\u001b[0mself\u001b[0m\u001b[0;34m.\u001b[0m\u001b[0m_backend\u001b[0m\u001b[0;34m)\u001b[0m\u001b[0;34m:\u001b[0m\u001b[0;34m\u001b[0m\u001b[0;34m\u001b[0m\u001b[0m\n\u001b[1;32m    260\u001b[0m             return [func(*args, **kwargs)\n\u001b[0;32m--> 261\u001b[0;31m                     for func, args, kwargs in self.items]\n\u001b[0m\u001b[1;32m    262\u001b[0m \u001b[0;34m\u001b[0m\u001b[0m\n\u001b[1;32m    263\u001b[0m     \u001b[0;32mdef\u001b[0m \u001b[0m__len__\u001b[0m\u001b[0;34m(\u001b[0m\u001b[0mself\u001b[0m\u001b[0;34m)\u001b[0m\u001b[0;34m:\u001b[0m\u001b[0;34m\u001b[0m\u001b[0;34m\u001b[0m\u001b[0m\n",
      "\u001b[0;32m/anaconda3/envs/ml/lib/python3.6/site-packages/sklearn/model_selection/_validation.py\u001b[0m in \u001b[0;36m_fit_and_score\u001b[0;34m(estimator, X, y, scorer, train, test, verbose, parameters, fit_params, return_train_score, return_parameters, return_n_test_samples, return_times, return_estimator, error_score)\u001b[0m\n\u001b[1;32m    570\u001b[0m         \u001b[0;32mif\u001b[0m \u001b[0mreturn_train_score\u001b[0m\u001b[0;34m:\u001b[0m\u001b[0;34m\u001b[0m\u001b[0;34m\u001b[0m\u001b[0m\n\u001b[1;32m    571\u001b[0m             train_scores = _score(estimator, X_train, y_train, scorer,\n\u001b[0;32m--> 572\u001b[0;31m                                   is_multimetric)\n\u001b[0m\u001b[1;32m    573\u001b[0m \u001b[0;34m\u001b[0m\u001b[0m\n\u001b[1;32m    574\u001b[0m     \u001b[0;32mif\u001b[0m \u001b[0mverbose\u001b[0m \u001b[0;34m>\u001b[0m \u001b[0;36m2\u001b[0m\u001b[0;34m:\u001b[0m\u001b[0;34m\u001b[0m\u001b[0;34m\u001b[0m\u001b[0m\n",
      "\u001b[0;32m/anaconda3/envs/ml/lib/python3.6/site-packages/sklearn/model_selection/_validation.py\u001b[0m in \u001b[0;36m_score\u001b[0;34m(estimator, X_test, y_test, scorer, is_multimetric)\u001b[0m\n\u001b[1;32m    603\u001b[0m     \"\"\"\n\u001b[1;32m    604\u001b[0m     \u001b[0;32mif\u001b[0m \u001b[0mis_multimetric\u001b[0m\u001b[0;34m:\u001b[0m\u001b[0;34m\u001b[0m\u001b[0;34m\u001b[0m\u001b[0m\n\u001b[0;32m--> 605\u001b[0;31m         \u001b[0;32mreturn\u001b[0m \u001b[0m_multimetric_score\u001b[0m\u001b[0;34m(\u001b[0m\u001b[0mestimator\u001b[0m\u001b[0;34m,\u001b[0m \u001b[0mX_test\u001b[0m\u001b[0;34m,\u001b[0m \u001b[0my_test\u001b[0m\u001b[0;34m,\u001b[0m \u001b[0mscorer\u001b[0m\u001b[0;34m)\u001b[0m\u001b[0;34m\u001b[0m\u001b[0;34m\u001b[0m\u001b[0m\n\u001b[0m\u001b[1;32m    606\u001b[0m     \u001b[0;32melse\u001b[0m\u001b[0;34m:\u001b[0m\u001b[0;34m\u001b[0m\u001b[0;34m\u001b[0m\u001b[0m\n\u001b[1;32m    607\u001b[0m         \u001b[0;32mif\u001b[0m \u001b[0my_test\u001b[0m \u001b[0;32mis\u001b[0m \u001b[0;32mNone\u001b[0m\u001b[0;34m:\u001b[0m\u001b[0;34m\u001b[0m\u001b[0;34m\u001b[0m\u001b[0m\n",
      "\u001b[0;32m/anaconda3/envs/ml/lib/python3.6/site-packages/sklearn/model_selection/_validation.py\u001b[0m in \u001b[0;36m_multimetric_score\u001b[0;34m(estimator, X_test, y_test, scorers)\u001b[0m\n\u001b[1;32m    633\u001b[0m             \u001b[0mscore\u001b[0m \u001b[0;34m=\u001b[0m \u001b[0mscorer\u001b[0m\u001b[0;34m(\u001b[0m\u001b[0mestimator\u001b[0m\u001b[0;34m,\u001b[0m \u001b[0mX_test\u001b[0m\u001b[0;34m)\u001b[0m\u001b[0;34m\u001b[0m\u001b[0;34m\u001b[0m\u001b[0m\n\u001b[1;32m    634\u001b[0m         \u001b[0;32melse\u001b[0m\u001b[0;34m:\u001b[0m\u001b[0;34m\u001b[0m\u001b[0;34m\u001b[0m\u001b[0m\n\u001b[0;32m--> 635\u001b[0;31m             \u001b[0mscore\u001b[0m \u001b[0;34m=\u001b[0m \u001b[0mscorer\u001b[0m\u001b[0;34m(\u001b[0m\u001b[0mestimator\u001b[0m\u001b[0;34m,\u001b[0m \u001b[0mX_test\u001b[0m\u001b[0;34m,\u001b[0m \u001b[0my_test\u001b[0m\u001b[0;34m)\u001b[0m\u001b[0;34m\u001b[0m\u001b[0;34m\u001b[0m\u001b[0m\n\u001b[0m\u001b[1;32m    636\u001b[0m \u001b[0;34m\u001b[0m\u001b[0m\n\u001b[1;32m    637\u001b[0m         \u001b[0;32mif\u001b[0m \u001b[0mhasattr\u001b[0m\u001b[0;34m(\u001b[0m\u001b[0mscore\u001b[0m\u001b[0;34m,\u001b[0m \u001b[0;34m'item'\u001b[0m\u001b[0;34m)\u001b[0m\u001b[0;34m:\u001b[0m\u001b[0;34m\u001b[0m\u001b[0;34m\u001b[0m\u001b[0m\n",
      "\u001b[0;32m/anaconda3/envs/ml/lib/python3.6/site-packages/sklearn/metrics/scorer.py\u001b[0m in \u001b[0;36m_passthrough_scorer\u001b[0;34m(estimator, *args, **kwargs)\u001b[0m\n\u001b[1;32m    226\u001b[0m \u001b[0;32mdef\u001b[0m \u001b[0m_passthrough_scorer\u001b[0m\u001b[0;34m(\u001b[0m\u001b[0mestimator\u001b[0m\u001b[0;34m,\u001b[0m \u001b[0;34m*\u001b[0m\u001b[0margs\u001b[0m\u001b[0;34m,\u001b[0m \u001b[0;34m**\u001b[0m\u001b[0mkwargs\u001b[0m\u001b[0;34m)\u001b[0m\u001b[0;34m:\u001b[0m\u001b[0;34m\u001b[0m\u001b[0;34m\u001b[0m\u001b[0m\n\u001b[1;32m    227\u001b[0m     \u001b[0;34m\"\"\"Function that wraps estimator.score\"\"\"\u001b[0m\u001b[0;34m\u001b[0m\u001b[0;34m\u001b[0m\u001b[0m\n\u001b[0;32m--> 228\u001b[0;31m     \u001b[0;32mreturn\u001b[0m \u001b[0mestimator\u001b[0m\u001b[0;34m.\u001b[0m\u001b[0mscore\u001b[0m\u001b[0;34m(\u001b[0m\u001b[0;34m*\u001b[0m\u001b[0margs\u001b[0m\u001b[0;34m,\u001b[0m \u001b[0;34m**\u001b[0m\u001b[0mkwargs\u001b[0m\u001b[0;34m)\u001b[0m\u001b[0;34m\u001b[0m\u001b[0;34m\u001b[0m\u001b[0m\n\u001b[0m\u001b[1;32m    229\u001b[0m \u001b[0;34m\u001b[0m\u001b[0m\n\u001b[1;32m    230\u001b[0m \u001b[0;34m\u001b[0m\u001b[0m\n",
      "\u001b[0;32m/anaconda3/envs/ml/lib/python3.6/site-packages/sklearn/base.py\u001b[0m in \u001b[0;36mscore\u001b[0;34m(self, X, y, sample_weight)\u001b[0m\n\u001b[1;32m    286\u001b[0m         \"\"\"\n\u001b[1;32m    287\u001b[0m         \u001b[0;32mfrom\u001b[0m \u001b[0;34m.\u001b[0m\u001b[0mmetrics\u001b[0m \u001b[0;32mimport\u001b[0m \u001b[0maccuracy_score\u001b[0m\u001b[0;34m\u001b[0m\u001b[0;34m\u001b[0m\u001b[0m\n\u001b[0;32m--> 288\u001b[0;31m         \u001b[0;32mreturn\u001b[0m \u001b[0maccuracy_score\u001b[0m\u001b[0;34m(\u001b[0m\u001b[0my\u001b[0m\u001b[0;34m,\u001b[0m \u001b[0mself\u001b[0m\u001b[0;34m.\u001b[0m\u001b[0mpredict\u001b[0m\u001b[0;34m(\u001b[0m\u001b[0mX\u001b[0m\u001b[0;34m)\u001b[0m\u001b[0;34m,\u001b[0m \u001b[0msample_weight\u001b[0m\u001b[0;34m=\u001b[0m\u001b[0msample_weight\u001b[0m\u001b[0;34m)\u001b[0m\u001b[0;34m\u001b[0m\u001b[0;34m\u001b[0m\u001b[0m\n\u001b[0m\u001b[1;32m    289\u001b[0m \u001b[0;34m\u001b[0m\u001b[0m\n\u001b[1;32m    290\u001b[0m \u001b[0;34m\u001b[0m\u001b[0m\n",
      "\u001b[0;32m/anaconda3/envs/ml/lib/python3.6/site-packages/sklearn/ensemble/forest.py\u001b[0m in \u001b[0;36mpredict\u001b[0;34m(self, X)\u001b[0m\n\u001b[1;32m    543\u001b[0m             \u001b[0mThe\u001b[0m \u001b[0mpredicted\u001b[0m \u001b[0mclasses\u001b[0m\u001b[0;34m.\u001b[0m\u001b[0;34m\u001b[0m\u001b[0;34m\u001b[0m\u001b[0m\n\u001b[1;32m    544\u001b[0m         \"\"\"\n\u001b[0;32m--> 545\u001b[0;31m         \u001b[0mproba\u001b[0m \u001b[0;34m=\u001b[0m \u001b[0mself\u001b[0m\u001b[0;34m.\u001b[0m\u001b[0mpredict_proba\u001b[0m\u001b[0;34m(\u001b[0m\u001b[0mX\u001b[0m\u001b[0;34m)\u001b[0m\u001b[0;34m\u001b[0m\u001b[0;34m\u001b[0m\u001b[0m\n\u001b[0m\u001b[1;32m    546\u001b[0m \u001b[0;34m\u001b[0m\u001b[0m\n\u001b[1;32m    547\u001b[0m         \u001b[0;32mif\u001b[0m \u001b[0mself\u001b[0m\u001b[0;34m.\u001b[0m\u001b[0mn_outputs_\u001b[0m \u001b[0;34m==\u001b[0m \u001b[0;36m1\u001b[0m\u001b[0;34m:\u001b[0m\u001b[0;34m\u001b[0m\u001b[0;34m\u001b[0m\u001b[0m\n",
      "\u001b[0;32m/anaconda3/envs/ml/lib/python3.6/site-packages/sklearn/ensemble/forest.py\u001b[0m in \u001b[0;36mpredict_proba\u001b[0;34m(self, X)\u001b[0m\n\u001b[1;32m    595\u001b[0m             delayed(_accumulate_prediction)(e.predict_proba, X, all_proba,\n\u001b[1;32m    596\u001b[0m                                             lock)\n\u001b[0;32m--> 597\u001b[0;31m             for e in self.estimators_)\n\u001b[0m\u001b[1;32m    598\u001b[0m \u001b[0;34m\u001b[0m\u001b[0m\n\u001b[1;32m    599\u001b[0m         \u001b[0;32mfor\u001b[0m \u001b[0mproba\u001b[0m \u001b[0;32min\u001b[0m \u001b[0mall_proba\u001b[0m\u001b[0;34m:\u001b[0m\u001b[0;34m\u001b[0m\u001b[0;34m\u001b[0m\u001b[0m\n",
      "\u001b[0;32m/anaconda3/envs/ml/lib/python3.6/site-packages/sklearn/externals/joblib/parallel.py\u001b[0m in \u001b[0;36m__call__\u001b[0;34m(self, iterable)\u001b[0m\n\u001b[1;32m    984\u001b[0m                 \u001b[0mself\u001b[0m\u001b[0;34m.\u001b[0m\u001b[0m_iterating\u001b[0m \u001b[0;34m=\u001b[0m \u001b[0mself\u001b[0m\u001b[0;34m.\u001b[0m\u001b[0m_original_iterator\u001b[0m \u001b[0;32mis\u001b[0m \u001b[0;32mnot\u001b[0m \u001b[0;32mNone\u001b[0m\u001b[0;34m\u001b[0m\u001b[0;34m\u001b[0m\u001b[0m\n\u001b[1;32m    985\u001b[0m \u001b[0;34m\u001b[0m\u001b[0m\n\u001b[0;32m--> 986\u001b[0;31m             \u001b[0;32mwhile\u001b[0m \u001b[0mself\u001b[0m\u001b[0;34m.\u001b[0m\u001b[0mdispatch_one_batch\u001b[0m\u001b[0;34m(\u001b[0m\u001b[0miterator\u001b[0m\u001b[0;34m)\u001b[0m\u001b[0;34m:\u001b[0m\u001b[0;34m\u001b[0m\u001b[0;34m\u001b[0m\u001b[0m\n\u001b[0m\u001b[1;32m    987\u001b[0m                 \u001b[0;32mpass\u001b[0m\u001b[0;34m\u001b[0m\u001b[0;34m\u001b[0m\u001b[0m\n\u001b[1;32m    988\u001b[0m \u001b[0;34m\u001b[0m\u001b[0m\n",
      "\u001b[0;32m/anaconda3/envs/ml/lib/python3.6/site-packages/sklearn/externals/joblib/parallel.py\u001b[0m in \u001b[0;36mdispatch_one_batch\u001b[0;34m(self, iterator)\u001b[0m\n\u001b[1;32m    823\u001b[0m                 \u001b[0;32mreturn\u001b[0m \u001b[0;32mFalse\u001b[0m\u001b[0;34m\u001b[0m\u001b[0;34m\u001b[0m\u001b[0m\n\u001b[1;32m    824\u001b[0m             \u001b[0;32melse\u001b[0m\u001b[0;34m:\u001b[0m\u001b[0;34m\u001b[0m\u001b[0;34m\u001b[0m\u001b[0m\n\u001b[0;32m--> 825\u001b[0;31m                 \u001b[0mself\u001b[0m\u001b[0;34m.\u001b[0m\u001b[0m_dispatch\u001b[0m\u001b[0;34m(\u001b[0m\u001b[0mtasks\u001b[0m\u001b[0;34m)\u001b[0m\u001b[0;34m\u001b[0m\u001b[0;34m\u001b[0m\u001b[0m\n\u001b[0m\u001b[1;32m    826\u001b[0m                 \u001b[0;32mreturn\u001b[0m \u001b[0;32mTrue\u001b[0m\u001b[0;34m\u001b[0m\u001b[0;34m\u001b[0m\u001b[0m\n\u001b[1;32m    827\u001b[0m \u001b[0;34m\u001b[0m\u001b[0m\n",
      "\u001b[0;32m/anaconda3/envs/ml/lib/python3.6/site-packages/sklearn/externals/joblib/parallel.py\u001b[0m in \u001b[0;36m_dispatch\u001b[0;34m(self, batch)\u001b[0m\n\u001b[1;32m    780\u001b[0m         \u001b[0;32mwith\u001b[0m \u001b[0mself\u001b[0m\u001b[0;34m.\u001b[0m\u001b[0m_lock\u001b[0m\u001b[0;34m:\u001b[0m\u001b[0;34m\u001b[0m\u001b[0;34m\u001b[0m\u001b[0m\n\u001b[1;32m    781\u001b[0m             \u001b[0mjob_idx\u001b[0m \u001b[0;34m=\u001b[0m \u001b[0mlen\u001b[0m\u001b[0;34m(\u001b[0m\u001b[0mself\u001b[0m\u001b[0;34m.\u001b[0m\u001b[0m_jobs\u001b[0m\u001b[0;34m)\u001b[0m\u001b[0;34m\u001b[0m\u001b[0;34m\u001b[0m\u001b[0m\n\u001b[0;32m--> 782\u001b[0;31m             \u001b[0mjob\u001b[0m \u001b[0;34m=\u001b[0m \u001b[0mself\u001b[0m\u001b[0;34m.\u001b[0m\u001b[0m_backend\u001b[0m\u001b[0;34m.\u001b[0m\u001b[0mapply_async\u001b[0m\u001b[0;34m(\u001b[0m\u001b[0mbatch\u001b[0m\u001b[0;34m,\u001b[0m \u001b[0mcallback\u001b[0m\u001b[0;34m=\u001b[0m\u001b[0mcb\u001b[0m\u001b[0;34m)\u001b[0m\u001b[0;34m\u001b[0m\u001b[0;34m\u001b[0m\u001b[0m\n\u001b[0m\u001b[1;32m    783\u001b[0m             \u001b[0;31m# A job can complete so quickly than its callback is\u001b[0m\u001b[0;34m\u001b[0m\u001b[0;34m\u001b[0m\u001b[0;34m\u001b[0m\u001b[0m\n\u001b[1;32m    784\u001b[0m             \u001b[0;31m# called before we get here, causing self._jobs to\u001b[0m\u001b[0;34m\u001b[0m\u001b[0;34m\u001b[0m\u001b[0;34m\u001b[0m\u001b[0m\n",
      "\u001b[0;32m/anaconda3/envs/ml/lib/python3.6/site-packages/sklearn/externals/joblib/_parallel_backends.py\u001b[0m in \u001b[0;36mapply_async\u001b[0;34m(self, func, callback)\u001b[0m\n\u001b[1;32m    180\u001b[0m     \u001b[0;32mdef\u001b[0m \u001b[0mapply_async\u001b[0m\u001b[0;34m(\u001b[0m\u001b[0mself\u001b[0m\u001b[0;34m,\u001b[0m \u001b[0mfunc\u001b[0m\u001b[0;34m,\u001b[0m \u001b[0mcallback\u001b[0m\u001b[0;34m=\u001b[0m\u001b[0;32mNone\u001b[0m\u001b[0;34m)\u001b[0m\u001b[0;34m:\u001b[0m\u001b[0;34m\u001b[0m\u001b[0;34m\u001b[0m\u001b[0m\n\u001b[1;32m    181\u001b[0m         \u001b[0;34m\"\"\"Schedule a func to be run\"\"\"\u001b[0m\u001b[0;34m\u001b[0m\u001b[0;34m\u001b[0m\u001b[0m\n\u001b[0;32m--> 182\u001b[0;31m         \u001b[0mresult\u001b[0m \u001b[0;34m=\u001b[0m \u001b[0mImmediateResult\u001b[0m\u001b[0;34m(\u001b[0m\u001b[0mfunc\u001b[0m\u001b[0;34m)\u001b[0m\u001b[0;34m\u001b[0m\u001b[0;34m\u001b[0m\u001b[0m\n\u001b[0m\u001b[1;32m    183\u001b[0m         \u001b[0;32mif\u001b[0m \u001b[0mcallback\u001b[0m\u001b[0;34m:\u001b[0m\u001b[0;34m\u001b[0m\u001b[0;34m\u001b[0m\u001b[0m\n\u001b[1;32m    184\u001b[0m             \u001b[0mcallback\u001b[0m\u001b[0;34m(\u001b[0m\u001b[0mresult\u001b[0m\u001b[0;34m)\u001b[0m\u001b[0;34m\u001b[0m\u001b[0;34m\u001b[0m\u001b[0m\n",
      "\u001b[0;32m/anaconda3/envs/ml/lib/python3.6/site-packages/sklearn/externals/joblib/_parallel_backends.py\u001b[0m in \u001b[0;36m__init__\u001b[0;34m(self, batch)\u001b[0m\n\u001b[1;32m    543\u001b[0m         \u001b[0;31m# Don't delay the application, to avoid keeping the input\u001b[0m\u001b[0;34m\u001b[0m\u001b[0;34m\u001b[0m\u001b[0;34m\u001b[0m\u001b[0m\n\u001b[1;32m    544\u001b[0m         \u001b[0;31m# arguments in memory\u001b[0m\u001b[0;34m\u001b[0m\u001b[0;34m\u001b[0m\u001b[0;34m\u001b[0m\u001b[0m\n\u001b[0;32m--> 545\u001b[0;31m         \u001b[0mself\u001b[0m\u001b[0;34m.\u001b[0m\u001b[0mresults\u001b[0m \u001b[0;34m=\u001b[0m \u001b[0mbatch\u001b[0m\u001b[0;34m(\u001b[0m\u001b[0;34m)\u001b[0m\u001b[0;34m\u001b[0m\u001b[0;34m\u001b[0m\u001b[0m\n\u001b[0m\u001b[1;32m    546\u001b[0m \u001b[0;34m\u001b[0m\u001b[0m\n\u001b[1;32m    547\u001b[0m     \u001b[0;32mdef\u001b[0m \u001b[0mget\u001b[0m\u001b[0;34m(\u001b[0m\u001b[0mself\u001b[0m\u001b[0;34m)\u001b[0m\u001b[0;34m:\u001b[0m\u001b[0;34m\u001b[0m\u001b[0;34m\u001b[0m\u001b[0m\n",
      "\u001b[0;32m/anaconda3/envs/ml/lib/python3.6/site-packages/sklearn/externals/joblib/parallel.py\u001b[0m in \u001b[0;36m__call__\u001b[0;34m(self)\u001b[0m\n\u001b[1;32m    259\u001b[0m         \u001b[0;32mwith\u001b[0m \u001b[0mparallel_backend\u001b[0m\u001b[0;34m(\u001b[0m\u001b[0mself\u001b[0m\u001b[0;34m.\u001b[0m\u001b[0m_backend\u001b[0m\u001b[0;34m)\u001b[0m\u001b[0;34m:\u001b[0m\u001b[0;34m\u001b[0m\u001b[0;34m\u001b[0m\u001b[0m\n\u001b[1;32m    260\u001b[0m             return [func(*args, **kwargs)\n\u001b[0;32m--> 261\u001b[0;31m                     for func, args, kwargs in self.items]\n\u001b[0m\u001b[1;32m    262\u001b[0m \u001b[0;34m\u001b[0m\u001b[0m\n\u001b[1;32m    263\u001b[0m     \u001b[0;32mdef\u001b[0m \u001b[0m__len__\u001b[0m\u001b[0;34m(\u001b[0m\u001b[0mself\u001b[0m\u001b[0;34m)\u001b[0m\u001b[0;34m:\u001b[0m\u001b[0;34m\u001b[0m\u001b[0;34m\u001b[0m\u001b[0m\n",
      "\u001b[0;32m/anaconda3/envs/ml/lib/python3.6/site-packages/sklearn/externals/joblib/parallel.py\u001b[0m in \u001b[0;36m<listcomp>\u001b[0;34m(.0)\u001b[0m\n\u001b[1;32m    259\u001b[0m         \u001b[0;32mwith\u001b[0m \u001b[0mparallel_backend\u001b[0m\u001b[0;34m(\u001b[0m\u001b[0mself\u001b[0m\u001b[0;34m.\u001b[0m\u001b[0m_backend\u001b[0m\u001b[0;34m)\u001b[0m\u001b[0;34m:\u001b[0m\u001b[0;34m\u001b[0m\u001b[0;34m\u001b[0m\u001b[0m\n\u001b[1;32m    260\u001b[0m             return [func(*args, **kwargs)\n\u001b[0;32m--> 261\u001b[0;31m                     for func, args, kwargs in self.items]\n\u001b[0m\u001b[1;32m    262\u001b[0m \u001b[0;34m\u001b[0m\u001b[0m\n\u001b[1;32m    263\u001b[0m     \u001b[0;32mdef\u001b[0m \u001b[0m__len__\u001b[0m\u001b[0;34m(\u001b[0m\u001b[0mself\u001b[0m\u001b[0;34m)\u001b[0m\u001b[0;34m:\u001b[0m\u001b[0;34m\u001b[0m\u001b[0;34m\u001b[0m\u001b[0m\n",
      "\u001b[0;32m/anaconda3/envs/ml/lib/python3.6/site-packages/sklearn/ensemble/forest.py\u001b[0m in \u001b[0;36m_accumulate_prediction\u001b[0;34m(predict, X, out, lock)\u001b[0m\n\u001b[1;32m    389\u001b[0m     \u001b[0mcomplains\u001b[0m \u001b[0mthat\u001b[0m \u001b[0mit\u001b[0m \u001b[0mcannot\u001b[0m \u001b[0mpickle\u001b[0m \u001b[0mit\u001b[0m \u001b[0mwhen\u001b[0m \u001b[0mplaced\u001b[0m \u001b[0mthere\u001b[0m\u001b[0;34m.\u001b[0m\u001b[0;34m\u001b[0m\u001b[0;34m\u001b[0m\u001b[0m\n\u001b[1;32m    390\u001b[0m     \"\"\"\n\u001b[0;32m--> 391\u001b[0;31m     \u001b[0mprediction\u001b[0m \u001b[0;34m=\u001b[0m \u001b[0mpredict\u001b[0m\u001b[0;34m(\u001b[0m\u001b[0mX\u001b[0m\u001b[0;34m,\u001b[0m \u001b[0mcheck_input\u001b[0m\u001b[0;34m=\u001b[0m\u001b[0;32mFalse\u001b[0m\u001b[0;34m)\u001b[0m\u001b[0;34m\u001b[0m\u001b[0;34m\u001b[0m\u001b[0m\n\u001b[0m\u001b[1;32m    392\u001b[0m     \u001b[0;32mwith\u001b[0m \u001b[0mlock\u001b[0m\u001b[0;34m:\u001b[0m\u001b[0;34m\u001b[0m\u001b[0;34m\u001b[0m\u001b[0m\n\u001b[1;32m    393\u001b[0m         \u001b[0;32mif\u001b[0m \u001b[0mlen\u001b[0m\u001b[0;34m(\u001b[0m\u001b[0mout\u001b[0m\u001b[0;34m)\u001b[0m \u001b[0;34m==\u001b[0m \u001b[0;36m1\u001b[0m\u001b[0;34m:\u001b[0m\u001b[0;34m\u001b[0m\u001b[0;34m\u001b[0m\u001b[0m\n",
      "\u001b[0;32m/anaconda3/envs/ml/lib/python3.6/site-packages/sklearn/tree/tree.py\u001b[0m in \u001b[0;36mpredict_proba\u001b[0;34m(self, X, check_input)\u001b[0m\n\u001b[1;32m    829\u001b[0m         \u001b[0mcheck_is_fitted\u001b[0m\u001b[0;34m(\u001b[0m\u001b[0mself\u001b[0m\u001b[0;34m,\u001b[0m \u001b[0;34m'tree_'\u001b[0m\u001b[0;34m)\u001b[0m\u001b[0;34m\u001b[0m\u001b[0;34m\u001b[0m\u001b[0m\n\u001b[1;32m    830\u001b[0m         \u001b[0mX\u001b[0m \u001b[0;34m=\u001b[0m \u001b[0mself\u001b[0m\u001b[0;34m.\u001b[0m\u001b[0m_validate_X_predict\u001b[0m\u001b[0;34m(\u001b[0m\u001b[0mX\u001b[0m\u001b[0;34m,\u001b[0m \u001b[0mcheck_input\u001b[0m\u001b[0;34m)\u001b[0m\u001b[0;34m\u001b[0m\u001b[0;34m\u001b[0m\u001b[0m\n\u001b[0;32m--> 831\u001b[0;31m         \u001b[0mproba\u001b[0m \u001b[0;34m=\u001b[0m \u001b[0mself\u001b[0m\u001b[0;34m.\u001b[0m\u001b[0mtree_\u001b[0m\u001b[0;34m.\u001b[0m\u001b[0mpredict\u001b[0m\u001b[0;34m(\u001b[0m\u001b[0mX\u001b[0m\u001b[0;34m)\u001b[0m\u001b[0;34m\u001b[0m\u001b[0;34m\u001b[0m\u001b[0m\n\u001b[0m\u001b[1;32m    832\u001b[0m \u001b[0;34m\u001b[0m\u001b[0m\n\u001b[1;32m    833\u001b[0m         \u001b[0;32mif\u001b[0m \u001b[0mself\u001b[0m\u001b[0;34m.\u001b[0m\u001b[0mn_outputs_\u001b[0m \u001b[0;34m==\u001b[0m \u001b[0;36m1\u001b[0m\u001b[0;34m:\u001b[0m\u001b[0;34m\u001b[0m\u001b[0;34m\u001b[0m\u001b[0m\n",
      "\u001b[0;31mKeyboardInterrupt\u001b[0m: "
     ]
    }
   ],
   "source": [
    "############################## 7 days ##############################\n",
    "\n",
    "rf = RandomForestClassifier()\n",
    "\n",
    "param_grid = {\n",
    "    'n_estimators': [50, 100, 150],\n",
    "    'max_depth': list(range(5, 10)),\n",
    "    'max_leaf_nodes': list(range(8, 12)),\n",
    "    'min_samples_split': [2,4,8],\n",
    "    'max_features': ['sqrt', 'auto', 'log2']\n",
    "}\n",
    "\n",
    "rf_gs = GridSearchCV(estimator=rf, param_grid=param_grid)\n",
    "rf_gs.fit(X_train.iloc[:,1:], y_train['user_purchase_binary_7_days'])\n",
    "\n",
    "rf_7 = rf_gs.best_estimator_\n",
    "rf_7.fit(X_train.iloc[:,1:], y_train['user_purchase_binary_7_days'])"
   ]
  },
  {
   "cell_type": "code",
   "execution_count": null,
   "metadata": {},
   "outputs": [],
   "source": []
  },
  {
   "cell_type": "code",
   "execution_count": null,
   "metadata": {},
   "outputs": [],
   "source": []
  },
  {
   "cell_type": "code",
   "execution_count": null,
   "metadata": {},
   "outputs": [],
   "source": [
    "print(rf_7)"
   ]
  },
  {
   "cell_type": "code",
   "execution_count": null,
   "metadata": {},
   "outputs": [],
   "source": [
    "pred_7 = rf_7.predict_proba(X_val.iloc[:,1:])[:,1]"
   ]
  },
  {
   "cell_type": "code",
   "execution_count": 88,
   "metadata": {
    "ExecuteTime": {
     "end_time": "2019-02-27T07:20:26.129837Z",
     "start_time": "2019-02-27T07:20:26.107602Z"
    }
   },
   "outputs": [
    {
     "name": "stdout",
     "output_type": "stream",
     "text": [
      "0.8914014067480704\n"
     ]
    }
   ],
   "source": [
    "# roc-auc for 7 days\n",
    "\n",
    "fpr, tpr, thresholds = metrics.roc_curve(y_val['user_purchase_binary_7_days'], pred_7, pos_label=1)\n",
    "roc_lg_auc = metrics.auc(fpr, tpr)\n",
    "print(roc_lg_auc)"
   ]
  },
  {
   "cell_type": "code",
   "execution_count": 89,
   "metadata": {
    "ExecuteTime": {
     "end_time": "2019-02-27T07:20:27.701923Z",
     "start_time": "2019-02-27T07:20:27.510908Z"
    }
   },
   "outputs": [
    {
     "data": {
      "image/png": "[encoded data removed]",
      "text/plain": [
       "<Figure size 360x360 with 1 Axes>"
      ]
     },
     "metadata": {
      "needs_background": "light"
     },
     "output_type": "display_data"
    }
   ],
   "source": [
    "plt.figure(figsize=(5, 5))\n",
    "plt.plot(fpr, tpr, label='LG ROC curve for 7 days(area = %0.2f)' % roc_lg_auc)\n",
    "plt.plot([0, 1], [0, 1], 'k--')\n",
    "plt.xlim([0.0, 1.0])\n",
    "plt.ylim([0.0, 1.005])\n",
    "plt.xlabel('False Positive Rate')\n",
    "plt.ylabel('True Positive Rate')\n",
    "plt.title('Receiver operating characteristic for next 7 days model ')\n",
    "plt.legend(loc=\"lower right\")\n",
    "plt.show()"
   ]
  },
  {
   "cell_type": "code",
   "execution_count": null,
   "metadata": {},
   "outputs": [],
   "source": [
    "############################## 14 days ##############################\n",
    "\n",
    "rf = RandomForestClassifier()\n",
    "\n",
    "param_grid = {\n",
    "    'n_estimators': [50, 100, 150],\n",
    "    'max_depth': list(range(5, 10)),\n",
    "    'max_leaf_nodes': list(range(8, 12)),\n",
    "    'min_samples_split': [2,4,8],\n",
    "    'max_features': ['sqrt', 'auto', 'log2']\n",
    "}\n",
    "\n",
    "rf_gs = GridSearchCV(estimator=rf, param_grid=param_grid)\n",
    "rf_gs.fit(X_train.iloc[:,1:], y_train['user_purchase_binary_14_days'])\n",
    "\n",
    "rf_14 = rf_gs.best_estimator_\n",
    "rf_14.fit(X_train.iloc[:,1:], y_train['user_purchase_binary_14_days'])"
   ]
  },
  {
   "cell_type": "code",
   "execution_count": null,
   "metadata": {},
   "outputs": [],
   "source": [
    "print(rf_14)"
   ]
  },
  {
   "cell_type": "code",
   "execution_count": null,
   "metadata": {},
   "outputs": [],
   "source": [
    "pred_14 = rf_14.predict_proba(X_val.iloc[:,1:])[:,1]"
   ]
  },
  {
   "cell_type": "code",
   "execution_count": 91,
   "metadata": {
    "ExecuteTime": {
     "end_time": "2019-02-27T07:21:29.903640Z",
     "start_time": "2019-02-27T07:21:29.886372Z"
    }
   },
   "outputs": [
    {
     "name": "stdout",
     "output_type": "stream",
     "text": [
      "0.8793977937544752\n"
     ]
    }
   ],
   "source": [
    "# roc-auc for 14 days\n",
    "\n",
    "fpr, tpr, thresholds = metrics.roc_curve(y_val['user_purchase_binary_14_days'], pred_14, pos_label=1)\n",
    "roc_lg_auc = metrics.auc(fpr, tpr)\n",
    "print(roc_lg_auc)"
   ]
  },
  {
   "cell_type": "code",
   "execution_count": 92,
   "metadata": {
    "ExecuteTime": {
     "end_time": "2019-02-27T07:21:30.719516Z",
     "start_time": "2019-02-27T07:21:30.554147Z"
    }
   },
   "outputs": [
    {
     "data": {
      "image/png": "[encoded data removed]",
      "text/plain": [
       "<Figure size 360x360 with 1 Axes>"
      ]
     },
     "metadata": {
      "needs_background": "light"
     },
     "output_type": "display_data"
    }
   ],
   "source": [
    "plt.figure(figsize=(5, 5))\n",
    "plt.plot(fpr, tpr, label='LG ROC curve for 14 days(area = %0.2f)' % roc_lg_auc)\n",
    "plt.plot([0, 1], [0, 1], 'k--')\n",
    "plt.xlim([0.0, 1.0])\n",
    "plt.ylim([0.0, 1.005])\n",
    "plt.xlabel('False Positive Rate')\n",
    "plt.ylabel('True Positive Rate')\n",
    "plt.title('Receiver operating characteristic for next 14 days model ')\n",
    "plt.legend(loc=\"lower right\")\n",
    "plt.show()"
   ]
  },
  {
   "cell_type": "code",
   "execution_count": null,
   "metadata": {},
   "outputs": [],
   "source": []
  },
  {
   "cell_type": "code",
   "execution_count": null,
   "metadata": {},
   "outputs": [],
   "source": []
  },
  {
   "cell_type": "code",
   "execution_count": null,
   "metadata": {},
   "outputs": [],
   "source": []
  },
  {
   "cell_type": "code",
   "execution_count": 168,
   "metadata": {
    "ExecuteTime": {
     "end_time": "2019-02-27T07:57:10.606882Z",
     "start_time": "2019-02-27T07:57:10.604158Z"
    }
   },
   "outputs": [],
   "source": [
    "rf = RandomForestClassifier(n_estimators=100, max_depth =5, max_features = 'log2', max_leaf_nodes= 11)"
   ]
  },
  {
   "cell_type": "code",
   "execution_count": 169,
   "metadata": {
    "ExecuteTime": {
     "end_time": "2019-02-27T07:57:22.539789Z",
     "start_time": "2019-02-27T07:57:17.701492Z"
    }
   },
   "outputs": [],
   "source": [
    "rf_7 = rf.fit(X_train.iloc[:,1:], y_train['user_purchase_binary_7_days'])\n",
    "pred_7 = rf.predict_proba(X_val.iloc[:,1:])[:,1]"
   ]
  },
  {
   "cell_type": "code",
   "execution_count": 117,
   "metadata": {
    "ExecuteTime": {
     "end_time": "2019-02-27T07:25:16.487689Z",
     "start_time": "2019-02-27T07:25:11.841191Z"
    }
   },
   "outputs": [],
   "source": [
    "rf_14 = rf.fit(X_train.iloc[:,1:], y_train['user_purchase_binary_14_days'])\n",
    "pred_14 = rf.predict_proba(X_val.iloc[:,1:])[:,1]"
   ]
  },
  {
   "cell_type": "code",
   "execution_count": 110,
   "metadata": {
    "ExecuteTime": {
     "end_time": "2019-02-27T07:24:18.354620Z",
     "start_time": "2019-02-27T07:24:18.338931Z"
    }
   },
   "outputs": [
    {
     "name": "stdout",
     "output_type": "stream",
     "text": [
      "0.8920287185122828\n"
     ]
    }
   ],
   "source": [
    "# roc-auc for 7 days\n",
    "\n",
    "fpr, tpr, thresholds = metrics.roc_curve(y_val['user_purchase_binary_7_days'], pred_7, pos_label=1)\n",
    "roc_lg_auc = metrics.auc(fpr, tpr)\n",
    "print(roc_lg_auc)"
   ]
  },
  {
   "cell_type": "code",
   "execution_count": 111,
   "metadata": {
    "ExecuteTime": {
     "end_time": "2019-02-27T07:24:18.518060Z",
     "start_time": "2019-02-27T07:24:18.356552Z"
    }
   },
   "outputs": [
    {
     "data": {
      "image/png": "[encoded data removed]",
      "text/plain": [
       "<Figure size 360x360 with 1 Axes>"
      ]
     },
     "metadata": {
      "needs_background": "light"
     },
     "output_type": "display_data"
    }
   ],
   "source": [
    "plt.figure(figsize=(5, 5))\n",
    "plt.plot(fpr, tpr, label='LG ROC curve for 7 days(area = %0.2f)' % roc_lg_auc)\n",
    "plt.plot([0, 1], [0, 1], 'k--')\n",
    "plt.xlim([0.0, 1.0])\n",
    "plt.ylim([0.0, 1.005])\n",
    "plt.xlabel('False Positive Rate')\n",
    "plt.ylabel('True Positive Rate')\n",
    "plt.title('Receiver operating characteristic for next 7 days model ')\n",
    "plt.legend(loc=\"lower right\")\n",
    "plt.show()"
   ]
  },
  {
   "cell_type": "code",
   "execution_count": 112,
   "metadata": {
    "ExecuteTime": {
     "end_time": "2019-02-27T07:24:18.535925Z",
     "start_time": "2019-02-27T07:24:18.519900Z"
    }
   },
   "outputs": [
    {
     "name": "stdout",
     "output_type": "stream",
     "text": [
      "0.8801984411404309\n"
     ]
    }
   ],
   "source": [
    "# roc-auc for 14 days\n",
    "\n",
    "fpr, tpr, thresholds = metrics.roc_curve(y_val['user_purchase_binary_14_days'], pred_14, pos_label=1)\n",
    "roc_lg_auc = metrics.auc(fpr, tpr)\n",
    "print(roc_lg_auc)"
   ]
  },
  {
   "cell_type": "code",
   "execution_count": 113,
   "metadata": {
    "ExecuteTime": {
     "end_time": "2019-02-27T07:24:18.692411Z",
     "start_time": "2019-02-27T07:24:18.537450Z"
    }
   },
   "outputs": [
    {
     "data": {
      "image/png": "[encoded data removed]",
      "text/plain": [
       "<Figure size 360x360 with 1 Axes>"
      ]
     },
     "metadata": {
      "needs_background": "light"
     },
     "output_type": "display_data"
    }
   ],
   "source": [
    "plt.figure(figsize=(5, 5))\n",
    "plt.plot(fpr, tpr, label='LG ROC curve for 14 days(area = %0.2f)' % roc_lg_auc)\n",
    "plt.plot([0, 1], [0, 1], 'k--')\n",
    "plt.xlim([0.0, 1.0])\n",
    "plt.ylim([0.0, 1.005])\n",
    "plt.xlabel('False Positive Rate')\n",
    "plt.ylabel('True Positive Rate')\n",
    "plt.title('Receiver operating characteristic for next 14 days model ')\n",
    "plt.legend(loc=\"lower right\")\n",
    "plt.show()"
   ]
  },
  {
   "cell_type": "code",
   "execution_count": 118,
   "metadata": {
    "ExecuteTime": {
     "end_time": "2019-02-27T07:28:29.610897Z",
     "start_time": "2019-02-27T07:28:28.595534Z"
    }
   },
   "outputs": [],
   "source": [
    "X_predict['pred_7'] = rf_7.predict_proba(X_predict.iloc[:,1:])[:,1]\n",
    "X_predict['pred_14'] = rf_14.predict_proba(X_predict.iloc[:,1:-1])[:,1]"
   ]
  },
  {
   "cell_type": "code",
   "execution_count": 119,
   "metadata": {
    "ExecuteTime": {
     "end_time": "2019-02-27T07:28:30.520169Z",
     "start_time": "2019-02-27T07:28:30.458753Z"
    }
   },
   "outputs": [],
   "source": [
    "pred_7 = X_predict[['user_id_hash','pred_7']]\n",
    "pred_14 = X_predict[['user_id_hash','pred_14']]"
   ]
  },
  {
   "cell_type": "code",
   "execution_count": 120,
   "metadata": {
    "ExecuteTime": {
     "end_time": "2019-02-27T07:28:31.518915Z",
     "start_time": "2019-02-27T07:28:31.424687Z"
    }
   },
   "outputs": [],
   "source": [
    "submit = submission.copy()"
   ]
  },
  {
   "cell_type": "code",
   "execution_count": 121,
   "metadata": {
    "ExecuteTime": {
     "end_time": "2019-02-27T07:28:33.200394Z",
     "start_time": "2019-02-27T07:28:32.693529Z"
    }
   },
   "outputs": [],
   "source": [
    "submit = submit.merge(pred_7, how='left', on='user_id_hash').merge(pred_14, how='left', on='user_id_hash').fillna(0)"
   ]
  },
  {
   "cell_type": "code",
   "execution_count": 122,
   "metadata": {
    "ExecuteTime": {
     "end_time": "2019-02-27T07:28:38.938669Z",
     "start_time": "2019-02-27T07:28:38.918302Z"
    }
   },
   "outputs": [],
   "source": [
    "# submit = submit.drop(['user_purchase_binary_7_days', 'user_purchase_binary_14_days'],axis=1)\n",
    "submit = submit.rename(columns={'pred_7':'user_purchase_binary_7_days', 'pred_14':'user_purchase_binary_14_days'})"
   ]
  },
  {
   "cell_type": "code",
   "execution_count": 123,
   "metadata": {
    "ExecuteTime": {
     "end_time": "2019-02-27T07:28:39.634433Z",
     "start_time": "2019-02-27T07:28:39.625597Z"
    }
   },
   "outputs": [
    {
     "data": {
      "text/html": [
       "<div>\n",
       "<style scoped>\n",
       "    .dataframe tbody tr th:only-of-type {\n",
       "        vertical-align: middle;\n",
       "    }\n",
       "\n",
       "    .dataframe tbody tr th {\n",
       "        vertical-align: top;\n",
       "    }\n",
       "\n",
       "    .dataframe thead th {\n",
       "        text-align: right;\n",
       "    }\n",
       "</style>\n",
       "<table border=\"1\" class=\"dataframe\">\n",
       "  <thead>\n",
       "    <tr style=\"text-align: right;\">\n",
       "      <th></th>\n",
       "      <th>user_id_hash</th>\n",
       "      <th>user_purchase_binary_7_days</th>\n",
       "      <th>user_purchase_binary_14_days</th>\n",
       "    </tr>\n",
       "  </thead>\n",
       "  <tbody>\n",
       "    <tr>\n",
       "      <th>0</th>\n",
       "      <td>e469dfaed039ead9110165d9bc457acb11609ca34057dc...</td>\n",
       "      <td>0.000000</td>\n",
       "      <td>0.000000</td>\n",
       "    </tr>\n",
       "    <tr>\n",
       "      <th>1</th>\n",
       "      <td>afcc639a324b6c598ef83d360450afa011cb2dd1358bf9...</td>\n",
       "      <td>0.039925</td>\n",
       "      <td>0.083020</td>\n",
       "    </tr>\n",
       "    <tr>\n",
       "      <th>2</th>\n",
       "      <td>fd5a7cf211d08e3e00f7be6a9df6e6ea3d2e5c22a5d9c3...</td>\n",
       "      <td>0.038787</td>\n",
       "      <td>0.081117</td>\n",
       "    </tr>\n",
       "    <tr>\n",
       "      <th>3</th>\n",
       "      <td>00bfff98b9d0329f014c2eeac7ce47cd18b2bc6e10d608...</td>\n",
       "      <td>0.040012</td>\n",
       "      <td>0.073595</td>\n",
       "    </tr>\n",
       "    <tr>\n",
       "      <th>4</th>\n",
       "      <td>0d298f3638c43e915c119d4935e1ce8d168f81b5e3e8c1...</td>\n",
       "      <td>0.000000</td>\n",
       "      <td>0.000000</td>\n",
       "    </tr>\n",
       "  </tbody>\n",
       "</table>\n",
       "</div>"
      ],
      "text/plain": [
       "                                        user_id_hash  \\\n",
       "0  e469dfaed039ead9110165d9bc457acb11609ca34057dc...   \n",
       "1  afcc639a324b6c598ef83d360450afa011cb2dd1358bf9...   \n",
       "2  fd5a7cf211d08e3e00f7be6a9df6e6ea3d2e5c22a5d9c3...   \n",
       "3  00bfff98b9d0329f014c2eeac7ce47cd18b2bc6e10d608...   \n",
       "4  0d298f3638c43e915c119d4935e1ce8d168f81b5e3e8c1...   \n",
       "\n",
       "   user_purchase_binary_7_days  user_purchase_binary_14_days  \n",
       "0                     0.000000                      0.000000  \n",
       "1                     0.039925                      0.083020  \n",
       "2                     0.038787                      0.081117  \n",
       "3                     0.040012                      0.073595  \n",
       "4                     0.000000                      0.000000  "
      ]
     },
     "execution_count": 123,
     "metadata": {},
     "output_type": "execute_result"
    }
   ],
   "source": [
    "submit.head()"
   ]
  },
  {
   "cell_type": "code",
   "execution_count": 124,
   "metadata": {
    "ExecuteTime": {
     "end_time": "2019-02-27T07:28:49.416154Z",
     "start_time": "2019-02-27T07:28:48.258816Z"
    }
   },
   "outputs": [],
   "source": [
    "submit.to_csv('submit_2.csv', index=False)"
   ]
  },
  {
   "cell_type": "code",
   "execution_count": 126,
   "metadata": {
    "ExecuteTime": {
     "end_time": "2019-02-27T07:30:02.752697Z",
     "start_time": "2019-02-27T07:30:02.749092Z"
    }
   },
   "outputs": [
    {
     "data": {
      "text/plain": [
       "312568"
      ]
     },
     "execution_count": 126,
     "metadata": {},
     "output_type": "execute_result"
    }
   ],
   "source": [
    "len(submit)"
   ]
  },
  {
   "cell_type": "code",
   "execution_count": 128,
   "metadata": {
    "ExecuteTime": {
     "end_time": "2019-02-27T07:30:31.503078Z",
     "start_time": "2019-02-27T07:30:31.499083Z"
    }
   },
   "outputs": [
    {
     "data": {
      "text/plain": [
       "163737"
      ]
     },
     "execution_count": 128,
     "metadata": {},
     "output_type": "execute_result"
    }
   ],
   "source": [
    "len(pred_7)"
   ]
  },
  {
   "cell_type": "code",
   "execution_count": null,
   "metadata": {},
   "outputs": [],
   "source": []
  },
  {
   "cell_type": "code",
   "execution_count": null,
   "metadata": {},
   "outputs": [],
   "source": []
  },
  {
   "cell_type": "code",
   "execution_count": 135,
   "metadata": {
    "ExecuteTime": {
     "end_time": "2019-02-27T07:40:17.932861Z",
     "start_time": "2019-02-27T07:38:37.057546Z"
    }
   },
   "outputs": [
    {
     "data": {
      "text/plain": [
       "81975"
      ]
     },
     "execution_count": 135,
     "metadata": {},
     "output_type": "execute_result"
    }
   ],
   "source": [
    "X = compute_features(events_data, sessions_data)\n",
    "y = training_label[training_label['user_id_hash'].isin(X.user_id_hash)]\n",
    "len(X)"
   ]
  },
  {
   "cell_type": "code",
   "execution_count": 157,
   "metadata": {
    "ExecuteTime": {
     "end_time": "2019-02-27T07:55:24.876443Z",
     "start_time": "2019-02-27T07:55:24.873407Z"
    }
   },
   "outputs": [],
   "source": [
    "rf = RandomForestClassifier(n_estimators=100, max_depth =5, max_features = 'log2', max_leaf_nodes= 11)"
   ]
  },
  {
   "cell_type": "code",
   "execution_count": 156,
   "metadata": {
    "ExecuteTime": {
     "end_time": "2019-02-27T07:55:23.836763Z",
     "start_time": "2019-02-27T07:55:19.374608Z"
    }
   },
   "outputs": [],
   "source": [
    "rf_7 = rf.fit(X.iloc[:,1:], y['user_purchase_binary_7_days'])\n",
    "# pred_7 = rf.predict_proba(X_val.iloc[:,1:])[:,1]"
   ]
  },
  {
   "cell_type": "code",
   "execution_count": 158,
   "metadata": {
    "ExecuteTime": {
     "end_time": "2019-02-27T07:55:31.436692Z",
     "start_time": "2019-02-27T07:55:26.353460Z"
    }
   },
   "outputs": [],
   "source": [
    "rf_14 = rf.fit(X.iloc[:,1:], y['user_purchase_binary_14_days'])\n",
    "# pred_14 = rf.predict_proba(X_val.iloc[:,1:])[:,1]"
   ]
  },
  {
   "cell_type": "code",
   "execution_count": 170,
   "metadata": {
    "ExecuteTime": {
     "end_time": "2019-02-27T08:02:27.908377Z",
     "start_time": "2019-02-27T07:58:51.279379Z"
    }
   },
   "outputs": [
    {
     "data": {
      "text/plain": [
       "294124"
      ]
     },
     "execution_count": 170,
     "metadata": {},
     "output_type": "execute_result"
    }
   ],
   "source": [
    "X_test = compute_features(get_data(events, submission), get_data(sessions, submission))\n",
    "# y_test = training_label[training_label['user_id_hash'].isin(X.user_id_hash)]\n",
    "len(X_test)"
   ]
  },
  {
   "cell_type": "code",
   "execution_count": 174,
   "metadata": {
    "ExecuteTime": {
     "end_time": "2019-02-27T08:03:48.086480Z",
     "start_time": "2019-02-27T08:03:48.065872Z"
    }
   },
   "outputs": [
    {
     "data": {
      "text/html": [
       "<div>\n",
       "<style scoped>\n",
       "    .dataframe tbody tr th:only-of-type {\n",
       "        vertical-align: middle;\n",
       "    }\n",
       "\n",
       "    .dataframe tbody tr th {\n",
       "        vertical-align: top;\n",
       "    }\n",
       "\n",
       "    .dataframe thead th {\n",
       "        text-align: right;\n",
       "    }\n",
       "</style>\n",
       "<table border=\"1\" class=\"dataframe\">\n",
       "  <thead>\n",
       "    <tr style=\"text-align: right;\">\n",
       "      <th></th>\n",
       "      <th>user_id_hash</th>\n",
       "      <th>total_time</th>\n",
       "      <th>total_time_last_week</th>\n",
       "      <th>avg_session_duration_x</th>\n",
       "      <th>avg_session_duration_last_week</th>\n",
       "      <th>avg_event_count</th>\n",
       "      <th>sum_purchase_value</th>\n",
       "      <th>sum_purchase_value_last_week</th>\n",
       "      <th>purchase_count</th>\n",
       "      <th>purchase_count_last_week</th>\n",
       "      <th>purchase_interval</th>\n",
       "      <th>purchase_interval_last_week</th>\n",
       "      <th>session_count</th>\n",
       "      <th>avg_session_duration_y</th>\n",
       "      <th>elapse_since_last_session</th>\n",
       "      <th>since_register</th>\n",
       "      <th>avg_session_interval</th>\n",
       "      <th>avg_session_interval_last_week</th>\n",
       "      <th>pred_7</th>\n",
       "      <th>pred_14</th>\n",
       "    </tr>\n",
       "  </thead>\n",
       "  <tbody>\n",
       "    <tr>\n",
       "      <th>0</th>\n",
       "      <td>00000db35682058bb7916cb90f85709f54c1a0f7a3b6de...</td>\n",
       "      <td>0.441477</td>\n",
       "      <td>0.219348</td>\n",
       "      <td>0.924145</td>\n",
       "      <td>4.518048</td>\n",
       "      <td>1.283193</td>\n",
       "      <td>1.552283</td>\n",
       "      <td>-0.053125</td>\n",
       "      <td>1.815472</td>\n",
       "      <td>-0.053349</td>\n",
       "      <td>-4.427274</td>\n",
       "      <td>0.088203</td>\n",
       "      <td>0.569684</td>\n",
       "      <td>0.185493</td>\n",
       "      <td>-1.892289</td>\n",
       "      <td>-0.564582</td>\n",
       "      <td>-0.883520</td>\n",
       "      <td>-2.329323</td>\n",
       "      <td>0.244510</td>\n",
       "      <td>0.325149</td>\n",
       "    </tr>\n",
       "    <tr>\n",
       "      <th>1</th>\n",
       "      <td>000059859ec188af6035870faf885c3038cedda05b3a54...</td>\n",
       "      <td>-0.053697</td>\n",
       "      <td>-0.122268</td>\n",
       "      <td>-0.073329</td>\n",
       "      <td>-0.187696</td>\n",
       "      <td>0.452875</td>\n",
       "      <td>-0.019483</td>\n",
       "      <td>-0.053125</td>\n",
       "      <td>0.110734</td>\n",
       "      <td>-0.053349</td>\n",
       "      <td>-2.098370</td>\n",
       "      <td>0.088203</td>\n",
       "      <td>0.052198</td>\n",
       "      <td>-0.009976</td>\n",
       "      <td>-0.927795</td>\n",
       "      <td>-1.297924</td>\n",
       "      <td>-1.013355</td>\n",
       "      <td>0.256153</td>\n",
       "      <td>0.174659</td>\n",
       "      <td>0.214616</td>\n",
       "    </tr>\n",
       "    <tr>\n",
       "      <th>2</th>\n",
       "      <td>000081a7d841b0f953bdba6c185fd5cc335fd6015a30c3...</td>\n",
       "      <td>-0.256374</td>\n",
       "      <td>-0.122268</td>\n",
       "      <td>-0.333810</td>\n",
       "      <td>-0.187696</td>\n",
       "      <td>-0.344722</td>\n",
       "      <td>-0.120609</td>\n",
       "      <td>-0.053125</td>\n",
       "      <td>-0.132800</td>\n",
       "      <td>-0.053349</td>\n",
       "      <td>0.251654</td>\n",
       "      <td>0.088203</td>\n",
       "      <td>-0.226448</td>\n",
       "      <td>-0.232648</td>\n",
       "      <td>-0.892998</td>\n",
       "      <td>-1.301366</td>\n",
       "      <td>-0.979303</td>\n",
       "      <td>0.256153</td>\n",
       "      <td>0.076275</td>\n",
       "      <td>0.056268</td>\n",
       "    </tr>\n",
       "    <tr>\n",
       "      <th>3</th>\n",
       "      <td>0000bc4e8bfc829d327fa69bdc426dd8a789c52550ed87...</td>\n",
       "      <td>-0.156948</td>\n",
       "      <td>-0.122268</td>\n",
       "      <td>-0.311196</td>\n",
       "      <td>-0.187696</td>\n",
       "      <td>-0.297002</td>\n",
       "      <td>-0.120609</td>\n",
       "      <td>-0.053125</td>\n",
       "      <td>-0.132800</td>\n",
       "      <td>-0.053349</td>\n",
       "      <td>0.251654</td>\n",
       "      <td>0.088203</td>\n",
       "      <td>0.012391</td>\n",
       "      <td>-0.095007</td>\n",
       "      <td>-1.120403</td>\n",
       "      <td>-1.505182</td>\n",
       "      <td>-1.007967</td>\n",
       "      <td>0.256153</td>\n",
       "      <td>0.076314</td>\n",
       "      <td>0.056031</td>\n",
       "    </tr>\n",
       "    <tr>\n",
       "      <th>4</th>\n",
       "      <td>0000c5de50d243cc39f6ac4268d7511705585ca3f2a20f...</td>\n",
       "      <td>-0.240051</td>\n",
       "      <td>-0.122268</td>\n",
       "      <td>-0.132510</td>\n",
       "      <td>-0.187696</td>\n",
       "      <td>0.146107</td>\n",
       "      <td>-0.120609</td>\n",
       "      <td>-0.053125</td>\n",
       "      <td>-0.132800</td>\n",
       "      <td>-0.053349</td>\n",
       "      <td>0.251654</td>\n",
       "      <td>0.088203</td>\n",
       "      <td>-0.226448</td>\n",
       "      <td>-0.239480</td>\n",
       "      <td>-0.025502</td>\n",
       "      <td>0.114124</td>\n",
       "      <td>-0.622029</td>\n",
       "      <td>0.256153</td>\n",
       "      <td>0.052383</td>\n",
       "      <td>0.053172</td>\n",
       "    </tr>\n",
       "  </tbody>\n",
       "</table>\n",
       "</div>"
      ],
      "text/plain": [
       "                                        user_id_hash  total_time  \\\n",
       "0  00000db35682058bb7916cb90f85709f54c1a0f7a3b6de...    0.441477   \n",
       "1  000059859ec188af6035870faf885c3038cedda05b3a54...   -0.053697   \n",
       "2  000081a7d841b0f953bdba6c185fd5cc335fd6015a30c3...   -0.256374   \n",
       "3  0000bc4e8bfc829d327fa69bdc426dd8a789c52550ed87...   -0.156948   \n",
       "4  0000c5de50d243cc39f6ac4268d7511705585ca3f2a20f...   -0.240051   \n",
       "\n",
       "   total_time_last_week  avg_session_duration_x  \\\n",
       "0              0.219348                0.924145   \n",
       "1             -0.122268               -0.073329   \n",
       "2             -0.122268               -0.333810   \n",
       "3             -0.122268               -0.311196   \n",
       "4             -0.122268               -0.132510   \n",
       "\n",
       "   avg_session_duration_last_week  avg_event_count  sum_purchase_value  \\\n",
       "0                        4.518048         1.283193            1.552283   \n",
       "1                       -0.187696         0.452875           -0.019483   \n",
       "2                       -0.187696        -0.344722           -0.120609   \n",
       "3                       -0.187696        -0.297002           -0.120609   \n",
       "4                       -0.187696         0.146107           -0.120609   \n",
       "\n",
       "   sum_purchase_value_last_week  purchase_count  purchase_count_last_week  \\\n",
       "0                     -0.053125        1.815472                 -0.053349   \n",
       "1                     -0.053125        0.110734                 -0.053349   \n",
       "2                     -0.053125       -0.132800                 -0.053349   \n",
       "3                     -0.053125       -0.132800                 -0.053349   \n",
       "4                     -0.053125       -0.132800                 -0.053349   \n",
       "\n",
       "   purchase_interval  purchase_interval_last_week  session_count  \\\n",
       "0          -4.427274                     0.088203       0.569684   \n",
       "1          -2.098370                     0.088203       0.052198   \n",
       "2           0.251654                     0.088203      -0.226448   \n",
       "3           0.251654                     0.088203       0.012391   \n",
       "4           0.251654                     0.088203      -0.226448   \n",
       "\n",
       "   avg_session_duration_y  elapse_since_last_session  since_register  \\\n",
       "0                0.185493                  -1.892289       -0.564582   \n",
       "1               -0.009976                  -0.927795       -1.297924   \n",
       "2               -0.232648                  -0.892998       -1.301366   \n",
       "3               -0.095007                  -1.120403       -1.505182   \n",
       "4               -0.239480                  -0.025502        0.114124   \n",
       "\n",
       "   avg_session_interval  avg_session_interval_last_week    pred_7   pred_14  \n",
       "0             -0.883520                       -2.329323  0.244510  0.325149  \n",
       "1             -1.013355                        0.256153  0.174659  0.214616  \n",
       "2             -0.979303                        0.256153  0.076275  0.056268  \n",
       "3             -1.007967                        0.256153  0.076314  0.056031  \n",
       "4             -0.622029                        0.256153  0.052383  0.053172  "
      ]
     },
     "execution_count": 174,
     "metadata": {},
     "output_type": "execute_result"
    }
   ],
   "source": [
    "X_test.head()"
   ]
  },
  {
   "cell_type": "code",
   "execution_count": 173,
   "metadata": {
    "ExecuteTime": {
     "end_time": "2019-02-27T08:03:42.308243Z",
     "start_time": "2019-02-27T08:03:40.547315Z"
    }
   },
   "outputs": [],
   "source": [
    "X_test['pred_7'] = rf_7.predict_proba(X_test.iloc[:,1:])[:,1]\n",
    "X_test['pred_14'] = rf_14.predict_proba(X_test.iloc[:,1:-1])[:,1]"
   ]
  },
  {
   "cell_type": "code",
   "execution_count": 175,
   "metadata": {
    "ExecuteTime": {
     "end_time": "2019-02-27T08:03:56.506451Z",
     "start_time": "2019-02-27T08:03:56.429071Z"
    }
   },
   "outputs": [],
   "source": [
    "pred_7 = X_test[['user_id_hash','pred_7']]\n",
    "pred_14 = X_test[['user_id_hash','pred_14']]"
   ]
  },
  {
   "cell_type": "code",
   "execution_count": 176,
   "metadata": {
    "ExecuteTime": {
     "end_time": "2019-02-27T08:03:56.940407Z",
     "start_time": "2019-02-27T08:03:56.931710Z"
    }
   },
   "outputs": [],
   "source": [
    "submit = submission.copy()"
   ]
  },
  {
   "cell_type": "code",
   "execution_count": 177,
   "metadata": {
    "ExecuteTime": {
     "end_time": "2019-02-27T08:03:57.995019Z",
     "start_time": "2019-02-27T08:03:57.384691Z"
    }
   },
   "outputs": [],
   "source": [
    "submit = submit.merge(pred_7, how='left', on='user_id_hash').merge(pred_14, how='left', on='user_id_hash').fillna(0)"
   ]
  },
  {
   "cell_type": "code",
   "execution_count": 178,
   "metadata": {
    "ExecuteTime": {
     "end_time": "2019-02-27T08:03:58.422834Z",
     "start_time": "2019-02-27T08:03:58.402890Z"
    }
   },
   "outputs": [],
   "source": [
    "# submit = submit.drop(['user_purchase_binary_7_days', 'user_purchase_binary_14_days'],axis=1)\n",
    "submit = submit.rename(columns={'pred_7':'user_purchase_binary_7_days', 'pred_14':'user_purchase_binary_14_days'})"
   ]
  },
  {
   "cell_type": "code",
   "execution_count": 179,
   "metadata": {
    "ExecuteTime": {
     "end_time": "2019-02-27T08:03:58.900150Z",
     "start_time": "2019-02-27T08:03:58.891555Z"
    }
   },
   "outputs": [
    {
     "data": {
      "text/html": [
       "<div>\n",
       "<style scoped>\n",
       "    .dataframe tbody tr th:only-of-type {\n",
       "        vertical-align: middle;\n",
       "    }\n",
       "\n",
       "    .dataframe tbody tr th {\n",
       "        vertical-align: top;\n",
       "    }\n",
       "\n",
       "    .dataframe thead th {\n",
       "        text-align: right;\n",
       "    }\n",
       "</style>\n",
       "<table border=\"1\" class=\"dataframe\">\n",
       "  <thead>\n",
       "    <tr style=\"text-align: right;\">\n",
       "      <th></th>\n",
       "      <th>user_id_hash</th>\n",
       "      <th>user_purchase_binary_7_days</th>\n",
       "      <th>user_purchase_binary_14_days</th>\n",
       "    </tr>\n",
       "  </thead>\n",
       "  <tbody>\n",
       "    <tr>\n",
       "      <th>0</th>\n",
       "      <td>e469dfaed039ead9110165d9bc457acb11609ca34057dc...</td>\n",
       "      <td>0.053121</td>\n",
       "      <td>0.052760</td>\n",
       "    </tr>\n",
       "    <tr>\n",
       "      <th>1</th>\n",
       "      <td>afcc639a324b6c598ef83d360450afa011cb2dd1358bf9...</td>\n",
       "      <td>0.075279</td>\n",
       "      <td>0.056764</td>\n",
       "    </tr>\n",
       "    <tr>\n",
       "      <th>2</th>\n",
       "      <td>fd5a7cf211d08e3e00f7be6a9df6e6ea3d2e5c22a5d9c3...</td>\n",
       "      <td>0.053121</td>\n",
       "      <td>0.052760</td>\n",
       "    </tr>\n",
       "    <tr>\n",
       "      <th>3</th>\n",
       "      <td>00bfff98b9d0329f014c2eeac7ce47cd18b2bc6e10d608...</td>\n",
       "      <td>0.052252</td>\n",
       "      <td>0.053537</td>\n",
       "    </tr>\n",
       "    <tr>\n",
       "      <th>4</th>\n",
       "      <td>0d298f3638c43e915c119d4935e1ce8d168f81b5e3e8c1...</td>\n",
       "      <td>0.052944</td>\n",
       "      <td>0.051728</td>\n",
       "    </tr>\n",
       "  </tbody>\n",
       "</table>\n",
       "</div>"
      ],
      "text/plain": [
       "                                        user_id_hash  \\\n",
       "0  e469dfaed039ead9110165d9bc457acb11609ca34057dc...   \n",
       "1  afcc639a324b6c598ef83d360450afa011cb2dd1358bf9...   \n",
       "2  fd5a7cf211d08e3e00f7be6a9df6e6ea3d2e5c22a5d9c3...   \n",
       "3  00bfff98b9d0329f014c2eeac7ce47cd18b2bc6e10d608...   \n",
       "4  0d298f3638c43e915c119d4935e1ce8d168f81b5e3e8c1...   \n",
       "\n",
       "   user_purchase_binary_7_days  user_purchase_binary_14_days  \n",
       "0                     0.053121                      0.052760  \n",
       "1                     0.075279                      0.056764  \n",
       "2                     0.053121                      0.052760  \n",
       "3                     0.052252                      0.053537  \n",
       "4                     0.052944                      0.051728  "
      ]
     },
     "execution_count": 179,
     "metadata": {},
     "output_type": "execute_result"
    }
   ],
   "source": [
    "submit.head()"
   ]
  },
  {
   "cell_type": "code",
   "execution_count": 180,
   "metadata": {
    "ExecuteTime": {
     "end_time": "2019-02-27T08:04:21.976107Z",
     "start_time": "2019-02-27T08:04:21.972108Z"
    }
   },
   "outputs": [
    {
     "data": {
      "text/plain": [
       "312568"
      ]
     },
     "execution_count": 180,
     "metadata": {},
     "output_type": "execute_result"
    }
   ],
   "source": [
    "len(submit)"
   ]
  },
  {
   "cell_type": "code",
   "execution_count": 181,
   "metadata": {
    "ExecuteTime": {
     "end_time": "2019-02-27T08:04:25.502043Z",
     "start_time": "2019-02-27T08:04:25.498431Z"
    }
   },
   "outputs": [
    {
     "data": {
      "text/plain": [
       "294124"
      ]
     },
     "execution_count": 181,
     "metadata": {},
     "output_type": "execute_result"
    }
   ],
   "source": [
    "len(pred_14)"
   ]
  },
  {
   "cell_type": "code",
   "execution_count": 182,
   "metadata": {
    "ExecuteTime": {
     "end_time": "2019-02-27T08:04:31.354310Z",
     "start_time": "2019-02-27T08:04:29.999744Z"
    }
   },
   "outputs": [],
   "source": [
    "submit.to_csv('submit_3.csv', index=False)"
   ]
  },
  {
   "cell_type": "code",
   "execution_count": null,
   "metadata": {},
   "outputs": [],
   "source": []
  },
  {
   "cell_type": "code",
   "execution_count": null,
   "metadata": {},
   "outputs": [],
   "source": []
  },
  {
   "cell_type": "code",
   "execution_count": null,
   "metadata": {},
   "outputs": [],
   "source": []
  },
  {
   "cell_type": "code",
   "execution_count": null,
   "metadata": {},
   "outputs": [],
   "source": []
  },
  {
   "cell_type": "code",
   "execution_count": null,
   "metadata": {},
   "outputs": [],
   "source": []
  },
  {
   "cell_type": "code",
   "execution_count": null,
   "metadata": {},
   "outputs": [],
   "source": []
  },
  {
   "cell_type": "code",
   "execution_count": null,
   "metadata": {},
   "outputs": [],
   "source": []
  },
  {
   "cell_type": "code",
   "execution_count": null,
   "metadata": {},
   "outputs": [],
   "source": []
  },
  {
   "cell_type": "code",
   "execution_count": 148,
   "metadata": {
    "ExecuteTime": {
     "end_time": "2019-02-25T01:25:02.181966Z",
     "start_time": "2019-02-25T01:24:53.254687Z"
    }
   },
   "outputs": [],
   "source": [
    "rf_7 = RandomForestClassifier(n_estimators=100, max_depth =5, max_features = 'sqrt', max_leaf_nodes= 8).\\\n",
    "                    fit(X_train.iloc[:,1:], y_train['user_purchase_binary_7_days'])\n",
    "rf_14 = RandomForestClassifier(n_estimators=100, max_depth =5, max_features = 'sqrt', max_leaf_nodes= 8).\\\n",
    "                    fit(X_train.iloc[:,1:], y_train['user_purchase_binary_14_days'])"
   ]
  },
  {
   "cell_type": "markdown",
   "metadata": {},
   "source": [
    "### predict"
   ]
  },
  {
   "cell_type": "code",
   "execution_count": 149,
   "metadata": {
    "ExecuteTime": {
     "end_time": "2019-02-25T01:25:51.776333Z",
     "start_time": "2019-02-25T01:25:51.425963Z"
    }
   },
   "outputs": [],
   "source": [
    "submission = pd.read_csv('../Data/sample_submission_2.csv')"
   ]
  },
  {
   "cell_type": "code",
   "execution_count": 150,
   "metadata": {
    "ExecuteTime": {
     "end_time": "2019-02-25T01:29:09.272835Z",
     "start_time": "2019-02-25T01:28:33.194189Z"
    }
   },
   "outputs": [],
   "source": [
    "events_pred = get_training_data(events, submission)\n",
    "sessions_pred = get_training_data(sessions, submission)"
   ]
  },
  {
   "cell_type": "code",
   "execution_count": 151,
   "metadata": {
    "ExecuteTime": {
     "end_time": "2019-02-25T01:32:51.316349Z",
     "start_time": "2019-02-25T01:29:22.306226Z"
    }
   },
   "outputs": [],
   "source": [
    "X_events = compute_event_features(events_pred)\n",
    "X_sessions = compute_session_features(sessions_pred)"
   ]
  },
  {
   "cell_type": "code",
   "execution_count": 152,
   "metadata": {
    "ExecuteTime": {
     "end_time": "2019-02-25T01:32:51.922958Z",
     "start_time": "2019-02-25T01:32:51.318197Z"
    }
   },
   "outputs": [],
   "source": [
    "X_test = X_events.merge(X_sessions, how='inner', on='user_id_hash').reset_index(drop=True)"
   ]
  },
  {
   "cell_type": "code",
   "execution_count": 153,
   "metadata": {
    "ExecuteTime": {
     "end_time": "2019-02-25T01:32:51.952811Z",
     "start_time": "2019-02-25T01:32:51.925075Z"
    }
   },
   "outputs": [
    {
     "data": {
      "text/html": [
       "<div>\n",
       "<style scoped>\n",
       "    .dataframe tbody tr th:only-of-type {\n",
       "        vertical-align: middle;\n",
       "    }\n",
       "\n",
       "    .dataframe tbody tr th {\n",
       "        vertical-align: top;\n",
       "    }\n",
       "\n",
       "    .dataframe thead th {\n",
       "        text-align: right;\n",
       "    }\n",
       "</style>\n",
       "<table border=\"1\" class=\"dataframe\">\n",
       "  <thead>\n",
       "    <tr style=\"text-align: right;\">\n",
       "      <th></th>\n",
       "      <th>user_id_hash</th>\n",
       "      <th>total_time</th>\n",
       "      <th>total_time_last_week</th>\n",
       "      <th>total_time_last_two_week</th>\n",
       "      <th>avg_session_duration_x</th>\n",
       "      <th>avg_session_duration_last_week</th>\n",
       "      <th>avg_session_duration_last_two_week</th>\n",
       "      <th>avg_event_count</th>\n",
       "      <th>sum_purchase_value</th>\n",
       "      <th>sum_purchase_value_last_week</th>\n",
       "      <th>...</th>\n",
       "      <th>purchase_interval_last_two_week</th>\n",
       "      <th>session_count</th>\n",
       "      <th>avg_session_duration_y</th>\n",
       "      <th>country</th>\n",
       "      <th>os_name</th>\n",
       "      <th>elapse_since_last_session</th>\n",
       "      <th>since_register</th>\n",
       "      <th>avg_session_interval</th>\n",
       "      <th>avg_session_interval_last_week</th>\n",
       "      <th>avg_session_interval_last_two_week</th>\n",
       "    </tr>\n",
       "  </thead>\n",
       "  <tbody>\n",
       "    <tr>\n",
       "      <th>0</th>\n",
       "      <td>00000db35682058bb7916cb90f85709f54c1a0f7a3b6de...</td>\n",
       "      <td>7.426202</td>\n",
       "      <td>0.497496</td>\n",
       "      <td>0.497496</td>\n",
       "      <td>0.495080</td>\n",
       "      <td>0.497496</td>\n",
       "      <td>0.497496</td>\n",
       "      <td>39.533333</td>\n",
       "      <td>23.044</td>\n",
       "      <td>0.0</td>\n",
       "      <td>...</td>\n",
       "      <td>336.0</td>\n",
       "      <td>23</td>\n",
       "      <td>2.137217</td>\n",
       "      <td>AU</td>\n",
       "      <td>iOS</td>\n",
       "      <td>36.466749</td>\n",
       "      <td>832.988641</td>\n",
       "      <td>36.205541</td>\n",
       "      <td>84.0</td>\n",
       "      <td>168.0</td>\n",
       "    </tr>\n",
       "    <tr>\n",
       "      <th>1</th>\n",
       "      <td>000059859ec188af6035870faf885c3038cedda05b3a54...</td>\n",
       "      <td>2.489036</td>\n",
       "      <td>0.000000</td>\n",
       "      <td>0.000000</td>\n",
       "      <td>0.226276</td>\n",
       "      <td>0.000000</td>\n",
       "      <td>0.000000</td>\n",
       "      <td>26.000000</td>\n",
       "      <td>1.393</td>\n",
       "      <td>0.0</td>\n",
       "      <td>...</td>\n",
       "      <td>336.0</td>\n",
       "      <td>10</td>\n",
       "      <td>1.256751</td>\n",
       "      <td>US</td>\n",
       "      <td>Android OS</td>\n",
       "      <td>488.904023</td>\n",
       "      <td>532.828048</td>\n",
       "      <td>4.880447</td>\n",
       "      <td>168.0</td>\n",
       "      <td>336.0</td>\n",
       "    </tr>\n",
       "    <tr>\n",
       "      <th>2</th>\n",
       "      <td>000081a7d841b0f953bdba6c185fd5cc335fd6015a30c3...</td>\n",
       "      <td>0.468241</td>\n",
       "      <td>0.000000</td>\n",
       "      <td>0.000000</td>\n",
       "      <td>0.156080</td>\n",
       "      <td>0.000000</td>\n",
       "      <td>0.000000</td>\n",
       "      <td>13.000000</td>\n",
       "      <td>0.000</td>\n",
       "      <td>0.0</td>\n",
       "      <td>...</td>\n",
       "      <td>336.0</td>\n",
       "      <td>3</td>\n",
       "      <td>0.253750</td>\n",
       "      <td>US</td>\n",
       "      <td>Android OS</td>\n",
       "      <td>505.226882</td>\n",
       "      <td>531.418912</td>\n",
       "      <td>13.096015</td>\n",
       "      <td>168.0</td>\n",
       "      <td>336.0</td>\n",
       "    </tr>\n",
       "    <tr>\n",
       "      <th>3</th>\n",
       "      <td>0000bc4e8bfc829d327fa69bdc426dd8a789c52550ed87...</td>\n",
       "      <td>1.459572</td>\n",
       "      <td>0.000000</td>\n",
       "      <td>0.000000</td>\n",
       "      <td>0.162175</td>\n",
       "      <td>0.000000</td>\n",
       "      <td>0.000000</td>\n",
       "      <td>13.777778</td>\n",
       "      <td>0.000</td>\n",
       "      <td>0.0</td>\n",
       "      <td>...</td>\n",
       "      <td>336.0</td>\n",
       "      <td>9</td>\n",
       "      <td>0.873740</td>\n",
       "      <td>RO</td>\n",
       "      <td>Android OS</td>\n",
       "      <td>398.552951</td>\n",
       "      <td>447.996161</td>\n",
       "      <td>6.180239</td>\n",
       "      <td>168.0</td>\n",
       "      <td>336.0</td>\n",
       "    </tr>\n",
       "    <tr>\n",
       "      <th>4</th>\n",
       "      <td>0000c5de50d243cc39f6ac4268d7511705585ca3f2a20f...</td>\n",
       "      <td>0.630983</td>\n",
       "      <td>0.000000</td>\n",
       "      <td>0.000000</td>\n",
       "      <td>0.210328</td>\n",
       "      <td>0.000000</td>\n",
       "      <td>0.000000</td>\n",
       "      <td>21.000000</td>\n",
       "      <td>0.000</td>\n",
       "      <td>0.0</td>\n",
       "      <td>...</td>\n",
       "      <td>336.0</td>\n",
       "      <td>3</td>\n",
       "      <td>0.222979</td>\n",
       "      <td>US</td>\n",
       "      <td>Android OS</td>\n",
       "      <td>912.163312</td>\n",
       "      <td>1110.786054</td>\n",
       "      <td>99.295397</td>\n",
       "      <td>168.0</td>\n",
       "      <td>336.0</td>\n",
       "    </tr>\n",
       "  </tbody>\n",
       "</table>\n",
       "<p>5 rows × 26 columns</p>\n",
       "</div>"
      ],
      "text/plain": [
       "                                        user_id_hash  total_time  \\\n",
       "0  00000db35682058bb7916cb90f85709f54c1a0f7a3b6de...    7.426202   \n",
       "1  000059859ec188af6035870faf885c3038cedda05b3a54...    2.489036   \n",
       "2  000081a7d841b0f953bdba6c185fd5cc335fd6015a30c3...    0.468241   \n",
       "3  0000bc4e8bfc829d327fa69bdc426dd8a789c52550ed87...    1.459572   \n",
       "4  0000c5de50d243cc39f6ac4268d7511705585ca3f2a20f...    0.630983   \n",
       "\n",
       "   total_time_last_week  total_time_last_two_week  avg_session_duration_x  \\\n",
       "0              0.497496                  0.497496                0.495080   \n",
       "1              0.000000                  0.000000                0.226276   \n",
       "2              0.000000                  0.000000                0.156080   \n",
       "3              0.000000                  0.000000                0.162175   \n",
       "4              0.000000                  0.000000                0.210328   \n",
       "\n",
       "   avg_session_duration_last_week  avg_session_duration_last_two_week  \\\n",
       "0                        0.497496                            0.497496   \n",
       "1                        0.000000                            0.000000   \n",
       "2                        0.000000                            0.000000   \n",
       "3                        0.000000                            0.000000   \n",
       "4                        0.000000                            0.000000   \n",
       "\n",
       "   avg_event_count  sum_purchase_value  sum_purchase_value_last_week  ...  \\\n",
       "0        39.533333              23.044                           0.0  ...   \n",
       "1        26.000000               1.393                           0.0  ...   \n",
       "2        13.000000               0.000                           0.0  ...   \n",
       "3        13.777778               0.000                           0.0  ...   \n",
       "4        21.000000               0.000                           0.0  ...   \n",
       "\n",
       "   purchase_interval_last_two_week  session_count  avg_session_duration_y  \\\n",
       "0                            336.0             23                2.137217   \n",
       "1                            336.0             10                1.256751   \n",
       "2                            336.0              3                0.253750   \n",
       "3                            336.0              9                0.873740   \n",
       "4                            336.0              3                0.222979   \n",
       "\n",
       "   country     os_name  elapse_since_last_session  since_register  \\\n",
       "0       AU         iOS                  36.466749      832.988641   \n",
       "1       US  Android OS                 488.904023      532.828048   \n",
       "2       US  Android OS                 505.226882      531.418912   \n",
       "3       RO  Android OS                 398.552951      447.996161   \n",
       "4       US  Android OS                 912.163312     1110.786054   \n",
       "\n",
       "   avg_session_interval  avg_session_interval_last_week  \\\n",
       "0             36.205541                            84.0   \n",
       "1              4.880447                           168.0   \n",
       "2             13.096015                           168.0   \n",
       "3              6.180239                           168.0   \n",
       "4             99.295397                           168.0   \n",
       "\n",
       "  avg_session_interval_last_two_week  \n",
       "0                              168.0  \n",
       "1                              336.0  \n",
       "2                              336.0  \n",
       "3                              336.0  \n",
       "4                              336.0  \n",
       "\n",
       "[5 rows x 26 columns]"
      ]
     },
     "execution_count": 153,
     "metadata": {},
     "output_type": "execute_result"
    }
   ],
   "source": [
    "X_test.head()"
   ]
  },
  {
   "cell_type": "code",
   "execution_count": 154,
   "metadata": {
    "ExecuteTime": {
     "end_time": "2019-02-25T01:33:12.821368Z",
     "start_time": "2019-02-25T01:33:12.815998Z"
    }
   },
   "outputs": [
    {
     "data": {
      "text/plain": [
       "Index(['user_id_hash', 'total_time', 'total_time_last_week',\n",
       "       'total_time_last_two_week', 'avg_session_duration_x',\n",
       "       'avg_session_duration_last_week', 'avg_session_duration_last_two_week',\n",
       "       'avg_event_count', 'sum_purchase_value', 'sum_purchase_value_last_week',\n",
       "       'sum_purchase_value_last_two_week', 'purchase_count',\n",
       "       'purchase_count_last_week', 'purchase_count_last_two_week',\n",
       "       'purchase_interval', 'purchase_interval_last_week',\n",
       "       'purchase_interval_last_two_week', 'session_count',\n",
       "       'avg_session_duration_y', 'country', 'os_name',\n",
       "       'elapse_since_last_session', 'since_register', 'avg_session_interval',\n",
       "       'avg_session_interval_last_week', 'avg_session_interval_last_two_week'],\n",
       "      dtype='object')"
      ]
     },
     "execution_count": 154,
     "metadata": {},
     "output_type": "execute_result"
    }
   ],
   "source": [
    "X_test.columns"
   ]
  },
  {
   "cell_type": "code",
   "execution_count": 155,
   "metadata": {
    "ExecuteTime": {
     "end_time": "2019-02-25T01:33:34.998822Z",
     "start_time": "2019-02-25T01:33:34.975897Z"
    }
   },
   "outputs": [],
   "source": [
    "X_test = X_test.drop(['country','os_name'],axis=1)"
   ]
  },
  {
   "cell_type": "code",
   "execution_count": 158,
   "metadata": {
    "ExecuteTime": {
     "end_time": "2019-02-25T01:35:46.014183Z",
     "start_time": "2019-02-25T01:35:45.909744Z"
    }
   },
   "outputs": [],
   "source": [
    "for c in list(X_test.columns)[1:]:\n",
    "    X_test[c] = standardize(X_test[c])"
   ]
  },
  {
   "cell_type": "code",
   "execution_count": 165,
   "metadata": {
    "ExecuteTime": {
     "end_time": "2019-02-25T01:40:14.734069Z",
     "start_time": "2019-02-25T01:40:14.678275Z"
    }
   },
   "outputs": [
    {
     "data": {
      "text/html": [
       "<div>\n",
       "<style scoped>\n",
       "    .dataframe tbody tr th:only-of-type {\n",
       "        vertical-align: middle;\n",
       "    }\n",
       "\n",
       "    .dataframe tbody tr th {\n",
       "        vertical-align: top;\n",
       "    }\n",
       "\n",
       "    .dataframe thead th {\n",
       "        text-align: right;\n",
       "    }\n",
       "</style>\n",
       "<table border=\"1\" class=\"dataframe\">\n",
       "  <thead>\n",
       "    <tr style=\"text-align: right;\">\n",
       "      <th></th>\n",
       "      <th>total_time</th>\n",
       "      <th>total_time_last_week</th>\n",
       "      <th>total_time_last_two_week</th>\n",
       "      <th>avg_session_duration_x</th>\n",
       "      <th>avg_session_duration_last_week</th>\n",
       "      <th>avg_session_duration_last_two_week</th>\n",
       "      <th>avg_event_count</th>\n",
       "      <th>sum_purchase_value</th>\n",
       "      <th>sum_purchase_value_last_week</th>\n",
       "      <th>sum_purchase_value_last_two_week</th>\n",
       "      <th>...</th>\n",
       "      <th>purchase_interval</th>\n",
       "      <th>purchase_interval_last_week</th>\n",
       "      <th>purchase_interval_last_two_week</th>\n",
       "      <th>session_count</th>\n",
       "      <th>avg_session_duration_y</th>\n",
       "      <th>elapse_since_last_session</th>\n",
       "      <th>since_register</th>\n",
       "      <th>avg_session_interval</th>\n",
       "      <th>avg_session_interval_last_week</th>\n",
       "      <th>avg_session_interval_last_two_week</th>\n",
       "    </tr>\n",
       "  </thead>\n",
       "  <tbody>\n",
       "    <tr>\n",
       "      <th>0</th>\n",
       "      <td>0.440217</td>\n",
       "      <td>0.218671</td>\n",
       "      <td>0.029979</td>\n",
       "      <td>0.921489</td>\n",
       "      <td>4.510104</td>\n",
       "      <td>3.647894</td>\n",
       "      <td>1.280341</td>\n",
       "      <td>1.549307</td>\n",
       "      <td>-0.053231</td>\n",
       "      <td>-0.064054</td>\n",
       "      <td>...</td>\n",
       "      <td>-4.373108</td>\n",
       "      <td>0.08838</td>\n",
       "      <td>0.115642</td>\n",
       "      <td>0.538464</td>\n",
       "      <td>0.164501</td>\n",
       "      <td>-1.871246</td>\n",
       "      <td>-0.567101</td>\n",
       "      <td>-0.853357</td>\n",
       "      <td>-2.260789</td>\n",
       "      <td>-1.637985</td>\n",
       "    </tr>\n",
       "    <tr>\n",
       "      <th>1</th>\n",
       "      <td>-0.054449</td>\n",
       "      <td>-0.122488</td>\n",
       "      <td>-0.143354</td>\n",
       "      <td>-0.075625</td>\n",
       "      <td>-0.188013</td>\n",
       "      <td>-0.234375</td>\n",
       "      <td>0.450070</td>\n",
       "      <td>-0.019846</td>\n",
       "      <td>-0.053231</td>\n",
       "      <td>-0.064054</td>\n",
       "      <td>...</td>\n",
       "      <td>-2.067668</td>\n",
       "      <td>0.08838</td>\n",
       "      <td>0.115642</td>\n",
       "      <td>0.034025</td>\n",
       "      <td>-0.026005</td>\n",
       "      <td>-0.911683</td>\n",
       "      <td>-1.299708</td>\n",
       "      <td>-0.944641</td>\n",
       "      <td>0.262829</td>\n",
       "      <td>0.339196</td>\n",
       "    </tr>\n",
       "    <tr>\n",
       "      <th>2</th>\n",
       "      <td>-0.256917</td>\n",
       "      <td>-0.122488</td>\n",
       "      <td>-0.143354</td>\n",
       "      <td>-0.336012</td>\n",
       "      <td>-0.188013</td>\n",
       "      <td>-0.234375</td>\n",
       "      <td>-0.347481</td>\n",
       "      <td>-0.120804</td>\n",
       "      <td>-0.053231</td>\n",
       "      <td>-0.064054</td>\n",
       "      <td>...</td>\n",
       "      <td>0.252367</td>\n",
       "      <td>0.08838</td>\n",
       "      <td>0.115642</td>\n",
       "      <td>-0.237596</td>\n",
       "      <td>-0.243023</td>\n",
       "      <td>-0.877065</td>\n",
       "      <td>-1.303147</td>\n",
       "      <td>-0.920700</td>\n",
       "      <td>0.262829</td>\n",
       "      <td>0.339196</td>\n",
       "    </tr>\n",
       "    <tr>\n",
       "      <th>3</th>\n",
       "      <td>-0.157593</td>\n",
       "      <td>-0.122488</td>\n",
       "      <td>-0.143354</td>\n",
       "      <td>-0.313405</td>\n",
       "      <td>-0.188013</td>\n",
       "      <td>-0.234375</td>\n",
       "      <td>-0.299764</td>\n",
       "      <td>-0.120804</td>\n",
       "      <td>-0.053231</td>\n",
       "      <td>-0.064054</td>\n",
       "      <td>...</td>\n",
       "      <td>0.252367</td>\n",
       "      <td>0.08838</td>\n",
       "      <td>0.115642</td>\n",
       "      <td>-0.004778</td>\n",
       "      <td>-0.108876</td>\n",
       "      <td>-1.103307</td>\n",
       "      <td>-1.506758</td>\n",
       "      <td>-0.940853</td>\n",
       "      <td>0.262829</td>\n",
       "      <td>0.339196</td>\n",
       "    </tr>\n",
       "    <tr>\n",
       "      <th>4</th>\n",
       "      <td>-0.240611</td>\n",
       "      <td>-0.122488</td>\n",
       "      <td>-0.143354</td>\n",
       "      <td>-0.134784</td>\n",
       "      <td>-0.188013</td>\n",
       "      <td>-0.234375</td>\n",
       "      <td>0.143320</td>\n",
       "      <td>-0.120804</td>\n",
       "      <td>-0.053231</td>\n",
       "      <td>-0.064054</td>\n",
       "      <td>...</td>\n",
       "      <td>0.252367</td>\n",
       "      <td>0.08838</td>\n",
       "      <td>0.115642</td>\n",
       "      <td>-0.237596</td>\n",
       "      <td>-0.249681</td>\n",
       "      <td>-0.014003</td>\n",
       "      <td>0.110923</td>\n",
       "      <td>-0.669507</td>\n",
       "      <td>0.262829</td>\n",
       "      <td>0.339196</td>\n",
       "    </tr>\n",
       "  </tbody>\n",
       "</table>\n",
       "<p>5 rows × 23 columns</p>\n",
       "</div>"
      ],
      "text/plain": [
       "   total_time  total_time_last_week  total_time_last_two_week  \\\n",
       "0    0.440217              0.218671                  0.029979   \n",
       "1   -0.054449             -0.122488                 -0.143354   \n",
       "2   -0.256917             -0.122488                 -0.143354   \n",
       "3   -0.157593             -0.122488                 -0.143354   \n",
       "4   -0.240611             -0.122488                 -0.143354   \n",
       "\n",
       "   avg_session_duration_x  avg_session_duration_last_week  \\\n",
       "0                0.921489                        4.510104   \n",
       "1               -0.075625                       -0.188013   \n",
       "2               -0.336012                       -0.188013   \n",
       "3               -0.313405                       -0.188013   \n",
       "4               -0.134784                       -0.188013   \n",
       "\n",
       "   avg_session_duration_last_two_week  avg_event_count  sum_purchase_value  \\\n",
       "0                            3.647894         1.280341            1.549307   \n",
       "1                           -0.234375         0.450070           -0.019846   \n",
       "2                           -0.234375        -0.347481           -0.120804   \n",
       "3                           -0.234375        -0.299764           -0.120804   \n",
       "4                           -0.234375         0.143320           -0.120804   \n",
       "\n",
       "   sum_purchase_value_last_week  sum_purchase_value_last_two_week  ...  \\\n",
       "0                     -0.053231                         -0.064054  ...   \n",
       "1                     -0.053231                         -0.064054  ...   \n",
       "2                     -0.053231                         -0.064054  ...   \n",
       "3                     -0.053231                         -0.064054  ...   \n",
       "4                     -0.053231                         -0.064054  ...   \n",
       "\n",
       "   purchase_interval  purchase_interval_last_week  \\\n",
       "0          -4.373108                      0.08838   \n",
       "1          -2.067668                      0.08838   \n",
       "2           0.252367                      0.08838   \n",
       "3           0.252367                      0.08838   \n",
       "4           0.252367                      0.08838   \n",
       "\n",
       "   purchase_interval_last_two_week  session_count  avg_session_duration_y  \\\n",
       "0                         0.115642       0.538464                0.164501   \n",
       "1                         0.115642       0.034025               -0.026005   \n",
       "2                         0.115642      -0.237596               -0.243023   \n",
       "3                         0.115642      -0.004778               -0.108876   \n",
       "4                         0.115642      -0.237596               -0.249681   \n",
       "\n",
       "   elapse_since_last_session  since_register  avg_session_interval  \\\n",
       "0                  -1.871246       -0.567101             -0.853357   \n",
       "1                  -0.911683       -1.299708             -0.944641   \n",
       "2                  -0.877065       -1.303147             -0.920700   \n",
       "3                  -1.103307       -1.506758             -0.940853   \n",
       "4                  -0.014003        0.110923             -0.669507   \n",
       "\n",
       "   avg_session_interval_last_week  avg_session_interval_last_two_week  \n",
       "0                       -2.260789                           -1.637985  \n",
       "1                        0.262829                            0.339196  \n",
       "2                        0.262829                            0.339196  \n",
       "3                        0.262829                            0.339196  \n",
       "4                        0.262829                            0.339196  \n",
       "\n",
       "[5 rows x 23 columns]"
      ]
     },
     "execution_count": 165,
     "metadata": {},
     "output_type": "execute_result"
    }
   ],
   "source": [
    "X_test.iloc[:,1:].head()"
   ]
  },
  {
   "cell_type": "code",
   "execution_count": 161,
   "metadata": {
    "ExecuteTime": {
     "end_time": "2019-02-25T01:37:18.799432Z",
     "start_time": "2019-02-25T01:37:18.795397Z"
    }
   },
   "outputs": [
    {
     "data": {
      "text/plain": [
       "294124"
      ]
     },
     "execution_count": 161,
     "metadata": {},
     "output_type": "execute_result"
    }
   ],
   "source": [
    "len(X_test)"
   ]
  },
  {
   "cell_type": "code",
   "execution_count": 169,
   "metadata": {
    "ExecuteTime": {
     "end_time": "2019-02-25T01:44:06.667286Z",
     "start_time": "2019-02-25T01:44:05.638021Z"
    }
   },
   "outputs": [
    {
     "data": {
      "text/plain": [
       "array([0.18045177, 0.13939927, 0.08468149, ..., 0.06325   , 0.08468149,\n",
       "       0.06995641])"
      ]
     },
     "execution_count": 169,
     "metadata": {},
     "output_type": "execute_result"
    }
   ],
   "source": [
    "rf_7.predict_proba(X_test.iloc[:,1:])[:,1]"
   ]
  },
  {
   "cell_type": "code",
   "execution_count": 170,
   "metadata": {
    "ExecuteTime": {
     "end_time": "2019-02-25T01:44:22.093139Z",
     "start_time": "2019-02-25T01:44:20.400594Z"
    }
   },
   "outputs": [],
   "source": [
    "X_test['pred_7'] = rf_7.predict_proba(X_test.iloc[:,1:])[:,1]\n",
    "X_test['pred_14'] = rf_14.predict_proba(X_test.iloc[:,1:-1])[:,1]"
   ]
  },
  {
   "cell_type": "code",
   "execution_count": 171,
   "metadata": {
    "ExecuteTime": {
     "end_time": "2019-02-25T01:44:39.071640Z",
     "start_time": "2019-02-25T01:44:38.964874Z"
    }
   },
   "outputs": [],
   "source": [
    "pred_7 = X_test[['user_id_hash','pred_7']]\n",
    "pred_14 = X_test[['user_id_hash','pred_14']]"
   ]
  },
  {
   "cell_type": "code",
   "execution_count": 172,
   "metadata": {
    "ExecuteTime": {
     "end_time": "2019-02-25T01:44:57.234696Z",
     "start_time": "2019-02-25T01:44:56.562768Z"
    }
   },
   "outputs": [],
   "source": [
    "submit = submission.copy()\n",
    "submit = submit.merge(pred_7, how='left', on='user_id_hash').merge(pred_14, how='left', on='user_id_hash').fillna(0)"
   ]
  },
  {
   "cell_type": "code",
   "execution_count": 173,
   "metadata": {
    "ExecuteTime": {
     "end_time": "2019-02-25T01:44:59.918316Z",
     "start_time": "2019-02-25T01:44:59.905770Z"
    }
   },
   "outputs": [],
   "source": [
    "submit = submit.drop(['user_purchase_binary_7_days', 'user_purchase_binary_14_days'],axis=1)"
   ]
  },
  {
   "cell_type": "code",
   "execution_count": 179,
   "metadata": {
    "ExecuteTime": {
     "end_time": "2019-02-25T01:50:23.550374Z",
     "start_time": "2019-02-25T01:50:23.530936Z"
    }
   },
   "outputs": [],
   "source": [
    "submit = submit.rename(columns={'pred_7':'user_purchase_binary_7_days', 'pred_14':'user_purchase_binary_14_days'})"
   ]
  },
  {
   "cell_type": "code",
   "execution_count": 180,
   "metadata": {
    "ExecuteTime": {
     "end_time": "2019-02-25T01:50:23.874690Z",
     "start_time": "2019-02-25T01:50:23.866375Z"
    }
   },
   "outputs": [
    {
     "data": {
      "text/html": [
       "<div>\n",
       "<style scoped>\n",
       "    .dataframe tbody tr th:only-of-type {\n",
       "        vertical-align: middle;\n",
       "    }\n",
       "\n",
       "    .dataframe tbody tr th {\n",
       "        vertical-align: top;\n",
       "    }\n",
       "\n",
       "    .dataframe thead th {\n",
       "        text-align: right;\n",
       "    }\n",
       "</style>\n",
       "<table border=\"1\" class=\"dataframe\">\n",
       "  <thead>\n",
       "    <tr style=\"text-align: right;\">\n",
       "      <th></th>\n",
       "      <th>user_id_hash</th>\n",
       "      <th>user_purchase_binary_7_days</th>\n",
       "      <th>user_purchase_binary_14_days</th>\n",
       "    </tr>\n",
       "  </thead>\n",
       "  <tbody>\n",
       "    <tr>\n",
       "      <th>0</th>\n",
       "      <td>e469dfaed039ead9110165d9bc457acb11609ca34057dc...</td>\n",
       "      <td>0.062124</td>\n",
       "      <td>0.100939</td>\n",
       "    </tr>\n",
       "    <tr>\n",
       "      <th>1</th>\n",
       "      <td>afcc639a324b6c598ef83d360450afa011cb2dd1358bf9...</td>\n",
       "      <td>0.084681</td>\n",
       "      <td>0.110099</td>\n",
       "    </tr>\n",
       "    <tr>\n",
       "      <th>2</th>\n",
       "      <td>fd5a7cf211d08e3e00f7be6a9df6e6ea3d2e5c22a5d9c3...</td>\n",
       "      <td>0.062124</td>\n",
       "      <td>0.099118</td>\n",
       "    </tr>\n",
       "    <tr>\n",
       "      <th>3</th>\n",
       "      <td>00bfff98b9d0329f014c2eeac7ce47cd18b2bc6e10d608...</td>\n",
       "      <td>0.062335</td>\n",
       "      <td>0.102973</td>\n",
       "    </tr>\n",
       "    <tr>\n",
       "      <th>4</th>\n",
       "      <td>0d298f3638c43e915c119d4935e1ce8d168f81b5e3e8c1...</td>\n",
       "      <td>0.062124</td>\n",
       "      <td>0.099118</td>\n",
       "    </tr>\n",
       "  </tbody>\n",
       "</table>\n",
       "</div>"
      ],
      "text/plain": [
       "                                        user_id_hash  \\\n",
       "0  e469dfaed039ead9110165d9bc457acb11609ca34057dc...   \n",
       "1  afcc639a324b6c598ef83d360450afa011cb2dd1358bf9...   \n",
       "2  fd5a7cf211d08e3e00f7be6a9df6e6ea3d2e5c22a5d9c3...   \n",
       "3  00bfff98b9d0329f014c2eeac7ce47cd18b2bc6e10d608...   \n",
       "4  0d298f3638c43e915c119d4935e1ce8d168f81b5e3e8c1...   \n",
       "\n",
       "   user_purchase_binary_7_days  user_purchase_binary_14_days  \n",
       "0                     0.062124                      0.100939  \n",
       "1                     0.084681                      0.110099  \n",
       "2                     0.062124                      0.099118  \n",
       "3                     0.062335                      0.102973  \n",
       "4                     0.062124                      0.099118  "
      ]
     },
     "execution_count": 180,
     "metadata": {},
     "output_type": "execute_result"
    }
   ],
   "source": [
    "submit.head()"
   ]
  },
  {
   "cell_type": "code",
   "execution_count": 181,
   "metadata": {
    "ExecuteTime": {
     "end_time": "2019-02-25T01:50:29.914974Z",
     "start_time": "2019-02-25T01:50:28.563173Z"
    }
   },
   "outputs": [],
   "source": [
    "submit.to_csv('prediction.csv', index=False)"
   ]
  },
  {
   "cell_type": "code",
   "execution_count": 182,
   "metadata": {
    "ExecuteTime": {
     "end_time": "2019-02-25T01:50:29.919992Z",
     "start_time": "2019-02-25T01:50:29.916823Z"
    }
   },
   "outputs": [
    {
     "data": {
      "text/plain": [
       "312568"
      ]
     },
     "execution_count": 182,
     "metadata": {},
     "output_type": "execute_result"
    }
   ],
   "source": [
    "len(submit)"
   ]
  },
  {
   "cell_type": "code",
   "execution_count": null,
   "metadata": {},
   "outputs": [],
   "source": []
  },
  {
   "cell_type": "code",
   "execution_count": null,
   "metadata": {},
   "outputs": [],
   "source": []
  },
  {
   "cell_type": "code",
   "execution_count": null,
   "metadata": {},
   "outputs": [],
   "source": []
  },
  {
   "cell_type": "code",
   "execution_count": null,
   "metadata": {},
   "outputs": [],
   "source": []
  },
  {
   "cell_type": "code",
   "execution_count": null,
   "metadata": {},
   "outputs": [],
   "source": []
  },
  {
   "cell_type": "code",
   "execution_count": null,
   "metadata": {},
   "outputs": [],
   "source": []
  },
  {
   "cell_type": "code",
   "execution_count": null,
   "metadata": {},
   "outputs": [],
   "source": []
  },
  {
   "cell_type": "code",
   "execution_count": null,
   "metadata": {},
   "outputs": [],
   "source": []
  },
  {
   "cell_type": "code",
   "execution_count": null,
   "metadata": {},
   "outputs": [],
   "source": []
  },
  {
   "cell_type": "code",
   "execution_count": null,
   "metadata": {},
   "outputs": [],
   "source": []
  },
  {
   "cell_type": "code",
   "execution_count": null,
   "metadata": {},
   "outputs": [],
   "source": []
  },
  {
   "cell_type": "code",
   "execution_count": null,
   "metadata": {},
   "outputs": [],
   "source": []
  },
  {
   "cell_type": "markdown",
   "metadata": {},
   "source": [
    "## using validation set"
   ]
  },
  {
   "cell_type": "markdown",
   "metadata": {},
   "source": [
    "### train using subset 1"
   ]
  },
  {
   "cell_type": "code",
   "execution_count": 85,
   "metadata": {
    "ExecuteTime": {
     "end_time": "2019-02-27T00:56:59.808739Z",
     "start_time": "2019-02-27T00:56:25.349316Z"
    }
   },
   "outputs": [
    {
     "name": "stdout",
     "output_type": "stream",
     "text": [
      "65672\n"
     ]
    },
    {
     "data": {
      "text/html": [
       "<div>\n",
       "<style scoped>\n",
       "    .dataframe tbody tr th:only-of-type {\n",
       "        vertical-align: middle;\n",
       "    }\n",
       "\n",
       "    .dataframe tbody tr th {\n",
       "        vertical-align: top;\n",
       "    }\n",
       "\n",
       "    .dataframe thead th {\n",
       "        text-align: right;\n",
       "    }\n",
       "</style>\n",
       "<table border=\"1\" class=\"dataframe\">\n",
       "  <thead>\n",
       "    <tr style=\"text-align: right;\">\n",
       "      <th></th>\n",
       "      <th>user_id_hash</th>\n",
       "      <th>total_time</th>\n",
       "      <th>total_time_last_week</th>\n",
       "      <th>total_time_last_two_week</th>\n",
       "      <th>avg_session_duration</th>\n",
       "      <th>avg_session_duration_last_week</th>\n",
       "      <th>avg_session_duration_last_two_week</th>\n",
       "      <th>avg_event_count</th>\n",
       "      <th>sum_purchase_value</th>\n",
       "      <th>sum_purchase_value_last_week</th>\n",
       "      <th>sum_purchase_value_last_two_week</th>\n",
       "      <th>purchase_count</th>\n",
       "      <th>purchase_count_last_week</th>\n",
       "      <th>purchase_count_last_two_week</th>\n",
       "      <th>purchase_interval</th>\n",
       "      <th>purchase_interval_last_week</th>\n",
       "      <th>purchase_interval_last_two_week</th>\n",
       "    </tr>\n",
       "  </thead>\n",
       "  <tbody>\n",
       "    <tr>\n",
       "      <th>0</th>\n",
       "      <td>00000db35682058bb7916cb90f85709f54c1a0f7a3b6de...</td>\n",
       "      <td>6.928706</td>\n",
       "      <td>0.000000</td>\n",
       "      <td>0.000000</td>\n",
       "      <td>0.494908</td>\n",
       "      <td>0.000000</td>\n",
       "      <td>0.000000</td>\n",
       "      <td>36.071429</td>\n",
       "      <td>23.044</td>\n",
       "      <td>0.0</td>\n",
       "      <td>0.0</td>\n",
       "      <td>8.0</td>\n",
       "      <td>0.0</td>\n",
       "      <td>0.0</td>\n",
       "      <td>4.529346</td>\n",
       "      <td>168.0</td>\n",
       "      <td>336.0</td>\n",
       "    </tr>\n",
       "    <tr>\n",
       "      <th>1</th>\n",
       "      <td>0000a464ad921c3288e73a3a788b5f113cabf84251a74b...</td>\n",
       "      <td>0.278788</td>\n",
       "      <td>0.000000</td>\n",
       "      <td>0.278788</td>\n",
       "      <td>0.139394</td>\n",
       "      <td>0.000000</td>\n",
       "      <td>0.139394</td>\n",
       "      <td>12.500000</td>\n",
       "      <td>0.000</td>\n",
       "      <td>0.0</td>\n",
       "      <td>0.0</td>\n",
       "      <td>0.0</td>\n",
       "      <td>0.0</td>\n",
       "      <td>0.0</td>\n",
       "      <td>1440.000000</td>\n",
       "      <td>168.0</td>\n",
       "      <td>336.0</td>\n",
       "    </tr>\n",
       "    <tr>\n",
       "      <th>2</th>\n",
       "      <td>0000bc4e8bfc829d327fa69bdc426dd8a789c52550ed87...</td>\n",
       "      <td>1.459572</td>\n",
       "      <td>1.459572</td>\n",
       "      <td>1.459572</td>\n",
       "      <td>0.182446</td>\n",
       "      <td>0.182446</td>\n",
       "      <td>0.182446</td>\n",
       "      <td>15.375000</td>\n",
       "      <td>0.000</td>\n",
       "      <td>0.0</td>\n",
       "      <td>0.0</td>\n",
       "      <td>0.0</td>\n",
       "      <td>0.0</td>\n",
       "      <td>0.0</td>\n",
       "      <td>1440.000000</td>\n",
       "      <td>168.0</td>\n",
       "      <td>336.0</td>\n",
       "    </tr>\n",
       "    <tr>\n",
       "      <th>3</th>\n",
       "      <td>0002e987a7c0f2c23b8ef2230f3934c77ed94a15778d2c...</td>\n",
       "      <td>1.750760</td>\n",
       "      <td>1.750760</td>\n",
       "      <td>1.750760</td>\n",
       "      <td>0.350152</td>\n",
       "      <td>0.350152</td>\n",
       "      <td>0.350152</td>\n",
       "      <td>27.200000</td>\n",
       "      <td>0.000</td>\n",
       "      <td>0.0</td>\n",
       "      <td>0.0</td>\n",
       "      <td>0.0</td>\n",
       "      <td>0.0</td>\n",
       "      <td>0.0</td>\n",
       "      <td>1440.000000</td>\n",
       "      <td>168.0</td>\n",
       "      <td>336.0</td>\n",
       "    </tr>\n",
       "    <tr>\n",
       "      <th>4</th>\n",
       "      <td>000640d9f785d21ded61bdff159144b25dea23300ae1b8...</td>\n",
       "      <td>43.717894</td>\n",
       "      <td>5.217313</td>\n",
       "      <td>19.218381</td>\n",
       "      <td>0.361305</td>\n",
       "      <td>0.289851</td>\n",
       "      <td>0.343185</td>\n",
       "      <td>23.322314</td>\n",
       "      <td>0.000</td>\n",
       "      <td>0.0</td>\n",
       "      <td>0.0</td>\n",
       "      <td>0.0</td>\n",
       "      <td>0.0</td>\n",
       "      <td>0.0</td>\n",
       "      <td>1440.000000</td>\n",
       "      <td>168.0</td>\n",
       "      <td>336.0</td>\n",
       "    </tr>\n",
       "  </tbody>\n",
       "</table>\n",
       "</div>"
      ],
      "text/plain": [
       "                                        user_id_hash  total_time  \\\n",
       "0  00000db35682058bb7916cb90f85709f54c1a0f7a3b6de...    6.928706   \n",
       "1  0000a464ad921c3288e73a3a788b5f113cabf84251a74b...    0.278788   \n",
       "2  0000bc4e8bfc829d327fa69bdc426dd8a789c52550ed87...    1.459572   \n",
       "3  0002e987a7c0f2c23b8ef2230f3934c77ed94a15778d2c...    1.750760   \n",
       "4  000640d9f785d21ded61bdff159144b25dea23300ae1b8...   43.717894   \n",
       "\n",
       "   total_time_last_week  total_time_last_two_week  avg_session_duration  \\\n",
       "0              0.000000                  0.000000              0.494908   \n",
       "1              0.000000                  0.278788              0.139394   \n",
       "2              1.459572                  1.459572              0.182446   \n",
       "3              1.750760                  1.750760              0.350152   \n",
       "4              5.217313                 19.218381              0.361305   \n",
       "\n",
       "   avg_session_duration_last_week  avg_session_duration_last_two_week  \\\n",
       "0                        0.000000                            0.000000   \n",
       "1                        0.000000                            0.139394   \n",
       "2                        0.182446                            0.182446   \n",
       "3                        0.350152                            0.350152   \n",
       "4                        0.289851                            0.343185   \n",
       "\n",
       "   avg_event_count  sum_purchase_value  sum_purchase_value_last_week  \\\n",
       "0        36.071429              23.044                           0.0   \n",
       "1        12.500000               0.000                           0.0   \n",
       "2        15.375000               0.000                           0.0   \n",
       "3        27.200000               0.000                           0.0   \n",
       "4        23.322314               0.000                           0.0   \n",
       "\n",
       "   sum_purchase_value_last_two_week  purchase_count  purchase_count_last_week  \\\n",
       "0                               0.0             8.0                       0.0   \n",
       "1                               0.0             0.0                       0.0   \n",
       "2                               0.0             0.0                       0.0   \n",
       "3                               0.0             0.0                       0.0   \n",
       "4                               0.0             0.0                       0.0   \n",
       "\n",
       "   purchase_count_last_two_week  purchase_interval  \\\n",
       "0                           0.0           4.529346   \n",
       "1                           0.0        1440.000000   \n",
       "2                           0.0        1440.000000   \n",
       "3                           0.0        1440.000000   \n",
       "4                           0.0        1440.000000   \n",
       "\n",
       "   purchase_interval_last_week  purchase_interval_last_two_week  \n",
       "0                        168.0                            336.0  \n",
       "1                        168.0                            336.0  \n",
       "2                        168.0                            336.0  \n",
       "3                        168.0                            336.0  \n",
       "4                        168.0                            336.0  "
      ]
     },
     "execution_count": 85,
     "metadata": {},
     "output_type": "execute_result"
    }
   ],
   "source": [
    "train_events_X_1 = compute_event_features(train_events_data_1)\n",
    "print(len(train_events_X_1))\n",
    "train_events_X_1.head()"
   ]
  },
  {
   "cell_type": "code",
   "execution_count": 86,
   "metadata": {
    "ExecuteTime": {
     "end_time": "2019-02-27T00:57:54.422895Z",
     "start_time": "2019-02-27T00:56:59.811108Z"
    }
   },
   "outputs": [
    {
     "name": "stdout",
     "output_type": "stream",
     "text": [
      "67079\n"
     ]
    },
    {
     "data": {
      "text/html": [
       "<div>\n",
       "<style scoped>\n",
       "    .dataframe tbody tr th:only-of-type {\n",
       "        vertical-align: middle;\n",
       "    }\n",
       "\n",
       "    .dataframe tbody tr th {\n",
       "        vertical-align: top;\n",
       "    }\n",
       "\n",
       "    .dataframe thead th {\n",
       "        text-align: right;\n",
       "    }\n",
       "</style>\n",
       "<table border=\"1\" class=\"dataframe\">\n",
       "  <thead>\n",
       "    <tr style=\"text-align: right;\">\n",
       "      <th></th>\n",
       "      <th>user_id_hash</th>\n",
       "      <th>session_count</th>\n",
       "      <th>avg_session_duration</th>\n",
       "      <th>country</th>\n",
       "      <th>os_name</th>\n",
       "      <th>elapse_since_last_session</th>\n",
       "      <th>since_register</th>\n",
       "      <th>avg_session_interval</th>\n",
       "      <th>avg_session_interval_last_week</th>\n",
       "      <th>avg_session_interval_last_two_week</th>\n",
       "    </tr>\n",
       "  </thead>\n",
       "  <tbody>\n",
       "    <tr>\n",
       "      <th>0</th>\n",
       "      <td>00000db35682058bb7916cb90f85709f54c1a0f7a3b6de...</td>\n",
       "      <td>22</td>\n",
       "      <td>1.980453</td>\n",
       "      <td>AU</td>\n",
       "      <td>iOS</td>\n",
       "      <td>326.751133</td>\n",
       "      <td>496.990247</td>\n",
       "      <td>8.106624</td>\n",
       "      <td>168.000000</td>\n",
       "      <td>168.000000</td>\n",
       "    </tr>\n",
       "    <tr>\n",
       "      <th>1</th>\n",
       "      <td>0000a464ad921c3288e73a3a788b5f113cabf84251a74b...</td>\n",
       "      <td>2</td>\n",
       "      <td>0.149162</td>\n",
       "      <td>US</td>\n",
       "      <td>iOS</td>\n",
       "      <td>190.540179</td>\n",
       "      <td>209.772951</td>\n",
       "      <td>19.232772</td>\n",
       "      <td>168.000000</td>\n",
       "      <td>19.232772</td>\n",
       "    </tr>\n",
       "    <tr>\n",
       "      <th>2</th>\n",
       "      <td>0000bc4e8bfc829d327fa69bdc426dd8a789c52550ed87...</td>\n",
       "      <td>9</td>\n",
       "      <td>0.873740</td>\n",
       "      <td>RO</td>\n",
       "      <td>Android OS</td>\n",
       "      <td>62.554556</td>\n",
       "      <td>111.997767</td>\n",
       "      <td>6.180239</td>\n",
       "      <td>6.180239</td>\n",
       "      <td>6.180239</td>\n",
       "    </tr>\n",
       "    <tr>\n",
       "      <th>3</th>\n",
       "      <td>0002e987a7c0f2c23b8ef2230f3934c77ed94a15778d2c...</td>\n",
       "      <td>6</td>\n",
       "      <td>0.987521</td>\n",
       "      <td>US</td>\n",
       "      <td>Android OS</td>\n",
       "      <td>0.055704</td>\n",
       "      <td>44.345226</td>\n",
       "      <td>8.857904</td>\n",
       "      <td>8.857904</td>\n",
       "      <td>8.857904</td>\n",
       "    </tr>\n",
       "    <tr>\n",
       "      <th>4</th>\n",
       "      <td>000640d9f785d21ded61bdff159144b25dea23300ae1b8...</td>\n",
       "      <td>154</td>\n",
       "      <td>21.923546</td>\n",
       "      <td>SV</td>\n",
       "      <td>Android OS</td>\n",
       "      <td>7.673025</td>\n",
       "      <td>632.209240</td>\n",
       "      <td>4.081895</td>\n",
       "      <td>8.179413</td>\n",
       "      <td>5.329350</td>\n",
       "    </tr>\n",
       "  </tbody>\n",
       "</table>\n",
       "</div>"
      ],
      "text/plain": [
       "                                        user_id_hash  session_count  \\\n",
       "0  00000db35682058bb7916cb90f85709f54c1a0f7a3b6de...             22   \n",
       "1  0000a464ad921c3288e73a3a788b5f113cabf84251a74b...              2   \n",
       "2  0000bc4e8bfc829d327fa69bdc426dd8a789c52550ed87...              9   \n",
       "3  0002e987a7c0f2c23b8ef2230f3934c77ed94a15778d2c...              6   \n",
       "4  000640d9f785d21ded61bdff159144b25dea23300ae1b8...            154   \n",
       "\n",
       "   avg_session_duration country     os_name  elapse_since_last_session  \\\n",
       "0              1.980453      AU         iOS                 326.751133   \n",
       "1              0.149162      US         iOS                 190.540179   \n",
       "2              0.873740      RO  Android OS                  62.554556   \n",
       "3              0.987521      US  Android OS                   0.055704   \n",
       "4             21.923546      SV  Android OS                   7.673025   \n",
       "\n",
       "   since_register  avg_session_interval  avg_session_interval_last_week  \\\n",
       "0      496.990247              8.106624                      168.000000   \n",
       "1      209.772951             19.232772                      168.000000   \n",
       "2      111.997767              6.180239                        6.180239   \n",
       "3       44.345226              8.857904                        8.857904   \n",
       "4      632.209240              4.081895                        8.179413   \n",
       "\n",
       "   avg_session_interval_last_two_week  \n",
       "0                          168.000000  \n",
       "1                           19.232772  \n",
       "2                            6.180239  \n",
       "3                            8.857904  \n",
       "4                            5.329350  "
      ]
     },
     "execution_count": 86,
     "metadata": {},
     "output_type": "execute_result"
    }
   ],
   "source": [
    "train_sessions_X_1 = compute_session_features(train_sessions_data_1)\n",
    "print(len(train_sessions_X_1))\n",
    "train_sessions_X_1.head()"
   ]
  },
  {
   "cell_type": "code",
   "execution_count": 87,
   "metadata": {
    "ExecuteTime": {
     "end_time": "2019-02-27T00:57:54.459809Z",
     "start_time": "2019-02-27T00:57:54.424207Z"
    }
   },
   "outputs": [
    {
     "data": {
      "text/html": [
       "<div>\n",
       "<style scoped>\n",
       "    .dataframe tbody tr th:only-of-type {\n",
       "        vertical-align: middle;\n",
       "    }\n",
       "\n",
       "    .dataframe tbody tr th {\n",
       "        vertical-align: top;\n",
       "    }\n",
       "\n",
       "    .dataframe thead th {\n",
       "        text-align: right;\n",
       "    }\n",
       "</style>\n",
       "<table border=\"1\" class=\"dataframe\">\n",
       "  <thead>\n",
       "    <tr style=\"text-align: right;\">\n",
       "      <th></th>\n",
       "      <th>user_id_hash</th>\n",
       "      <th>session_count</th>\n",
       "      <th>avg_session_duration</th>\n",
       "      <th>elapse_since_last_session</th>\n",
       "      <th>since_register</th>\n",
       "      <th>avg_session_interval</th>\n",
       "      <th>avg_session_interval_last_week</th>\n",
       "      <th>avg_session_interval_last_two_week</th>\n",
       "    </tr>\n",
       "  </thead>\n",
       "  <tbody>\n",
       "    <tr>\n",
       "      <th>0</th>\n",
       "      <td>00000db35682058bb7916cb90f85709f54c1a0f7a3b6de...</td>\n",
       "      <td>22</td>\n",
       "      <td>1.980453</td>\n",
       "      <td>326.751133</td>\n",
       "      <td>496.990247</td>\n",
       "      <td>8.106624</td>\n",
       "      <td>168.000000</td>\n",
       "      <td>168.000000</td>\n",
       "    </tr>\n",
       "    <tr>\n",
       "      <th>1</th>\n",
       "      <td>0000a464ad921c3288e73a3a788b5f113cabf84251a74b...</td>\n",
       "      <td>2</td>\n",
       "      <td>0.149162</td>\n",
       "      <td>190.540179</td>\n",
       "      <td>209.772951</td>\n",
       "      <td>19.232772</td>\n",
       "      <td>168.000000</td>\n",
       "      <td>19.232772</td>\n",
       "    </tr>\n",
       "    <tr>\n",
       "      <th>2</th>\n",
       "      <td>0000bc4e8bfc829d327fa69bdc426dd8a789c52550ed87...</td>\n",
       "      <td>9</td>\n",
       "      <td>0.873740</td>\n",
       "      <td>62.554556</td>\n",
       "      <td>111.997767</td>\n",
       "      <td>6.180239</td>\n",
       "      <td>6.180239</td>\n",
       "      <td>6.180239</td>\n",
       "    </tr>\n",
       "    <tr>\n",
       "      <th>3</th>\n",
       "      <td>0002e987a7c0f2c23b8ef2230f3934c77ed94a15778d2c...</td>\n",
       "      <td>6</td>\n",
       "      <td>0.987521</td>\n",
       "      <td>0.055704</td>\n",
       "      <td>44.345226</td>\n",
       "      <td>8.857904</td>\n",
       "      <td>8.857904</td>\n",
       "      <td>8.857904</td>\n",
       "    </tr>\n",
       "    <tr>\n",
       "      <th>4</th>\n",
       "      <td>000640d9f785d21ded61bdff159144b25dea23300ae1b8...</td>\n",
       "      <td>154</td>\n",
       "      <td>21.923546</td>\n",
       "      <td>7.673025</td>\n",
       "      <td>632.209240</td>\n",
       "      <td>4.081895</td>\n",
       "      <td>8.179413</td>\n",
       "      <td>5.329350</td>\n",
       "    </tr>\n",
       "  </tbody>\n",
       "</table>\n",
       "</div>"
      ],
      "text/plain": [
       "                                        user_id_hash  session_count  \\\n",
       "0  00000db35682058bb7916cb90f85709f54c1a0f7a3b6de...             22   \n",
       "1  0000a464ad921c3288e73a3a788b5f113cabf84251a74b...              2   \n",
       "2  0000bc4e8bfc829d327fa69bdc426dd8a789c52550ed87...              9   \n",
       "3  0002e987a7c0f2c23b8ef2230f3934c77ed94a15778d2c...              6   \n",
       "4  000640d9f785d21ded61bdff159144b25dea23300ae1b8...            154   \n",
       "\n",
       "   avg_session_duration  elapse_since_last_session  since_register  \\\n",
       "0              1.980453                 326.751133      496.990247   \n",
       "1              0.149162                 190.540179      209.772951   \n",
       "2              0.873740                  62.554556      111.997767   \n",
       "3              0.987521                   0.055704       44.345226   \n",
       "4             21.923546                   7.673025      632.209240   \n",
       "\n",
       "   avg_session_interval  avg_session_interval_last_week  \\\n",
       "0              8.106624                      168.000000   \n",
       "1             19.232772                      168.000000   \n",
       "2              6.180239                        6.180239   \n",
       "3              8.857904                        8.857904   \n",
       "4              4.081895                        8.179413   \n",
       "\n",
       "   avg_session_interval_last_two_week  \n",
       "0                          168.000000  \n",
       "1                           19.232772  \n",
       "2                            6.180239  \n",
       "3                            8.857904  \n",
       "4                            5.329350  "
      ]
     },
     "execution_count": 87,
     "metadata": {},
     "output_type": "execute_result"
    }
   ],
   "source": [
    "# not use country and os_name\n",
    "train_sessions_X_1 = train_sessions_X_1.drop(['country', 'os_name'], axis=1)\n",
    "train_sessions_X_1.head()"
   ]
  },
  {
   "cell_type": "code",
   "execution_count": 88,
   "metadata": {
    "ExecuteTime": {
     "end_time": "2019-02-27T00:57:54.488087Z",
     "start_time": "2019-02-27T00:57:54.462156Z"
    }
   },
   "outputs": [],
   "source": [
    "for c in list(train_events_X_1.columns)[1:]:\n",
    "    train_events_X_1[c] = standardize(train_events_X_1[c])"
   ]
  },
  {
   "cell_type": "code",
   "execution_count": 89,
   "metadata": {
    "ExecuteTime": {
     "end_time": "2019-02-27T00:57:54.503183Z",
     "start_time": "2019-02-27T00:57:54.489579Z"
    }
   },
   "outputs": [],
   "source": [
    "# standardize\n",
    "for c in ['session_count', 'avg_session_duration','elapse_since_last_session', 'since_register',\n",
    "       'avg_session_interval', 'avg_session_interval_last_week',\n",
    "       'avg_session_interval_last_two_week']:\n",
    "    train_sessions_X_1[c] = standardize(train_sessions_X_1[c])"
   ]
  },
  {
   "cell_type": "code",
   "execution_count": 93,
   "metadata": {
    "ExecuteTime": {
     "end_time": "2019-02-27T00:58:05.497871Z",
     "start_time": "2019-02-27T00:58:05.376159Z"
    }
   },
   "outputs": [
    {
     "data": {
      "text/plain": [
       "65595"
      ]
     },
     "execution_count": 93,
     "metadata": {},
     "output_type": "execute_result"
    }
   ],
   "source": [
    "X_train_1 = train_events_X_1.merge(train_sessions_X_1, how='inner', on='user_id_hash').reset_index(drop=True)\n",
    "y_train_1 = train_label_1[train_label_1['user_id_hash'].isin(X_train_1.user_id_hash)]\n",
    "len(X_train_1)"
   ]
  },
  {
   "cell_type": "code",
   "execution_count": 94,
   "metadata": {
    "ExecuteTime": {
     "end_time": "2019-02-27T00:58:07.211456Z",
     "start_time": "2019-02-27T00:58:07.188988Z"
    }
   },
   "outputs": [
    {
     "data": {
      "text/html": [
       "<div>\n",
       "<style scoped>\n",
       "    .dataframe tbody tr th:only-of-type {\n",
       "        vertical-align: middle;\n",
       "    }\n",
       "\n",
       "    .dataframe tbody tr th {\n",
       "        vertical-align: top;\n",
       "    }\n",
       "\n",
       "    .dataframe thead th {\n",
       "        text-align: right;\n",
       "    }\n",
       "</style>\n",
       "<table border=\"1\" class=\"dataframe\">\n",
       "  <thead>\n",
       "    <tr style=\"text-align: right;\">\n",
       "      <th></th>\n",
       "      <th>user_id_hash</th>\n",
       "      <th>total_time</th>\n",
       "      <th>total_time_last_week</th>\n",
       "      <th>total_time_last_two_week</th>\n",
       "      <th>avg_session_duration_x</th>\n",
       "      <th>avg_session_duration_last_week</th>\n",
       "      <th>avg_session_duration_last_two_week</th>\n",
       "      <th>avg_event_count</th>\n",
       "      <th>sum_purchase_value</th>\n",
       "      <th>sum_purchase_value_last_week</th>\n",
       "      <th>...</th>\n",
       "      <th>purchase_interval</th>\n",
       "      <th>purchase_interval_last_week</th>\n",
       "      <th>purchase_interval_last_two_week</th>\n",
       "      <th>session_count</th>\n",
       "      <th>avg_session_duration_y</th>\n",
       "      <th>elapse_since_last_session</th>\n",
       "      <th>since_register</th>\n",
       "      <th>avg_session_interval</th>\n",
       "      <th>avg_session_interval_last_week</th>\n",
       "      <th>avg_session_interval_last_two_week</th>\n",
       "    </tr>\n",
       "  </thead>\n",
       "  <tbody>\n",
       "    <tr>\n",
       "      <th>0</th>\n",
       "      <td>00000db35682058bb7916cb90f85709f54c1a0f7a3b6de...</td>\n",
       "      <td>-0.063264</td>\n",
       "      <td>-0.486369</td>\n",
       "      <td>-0.506823</td>\n",
       "      <td>0.396234</td>\n",
       "      <td>-0.789436</td>\n",
       "      <td>-0.974992</td>\n",
       "      <td>0.564164</td>\n",
       "      <td>0.869346</td>\n",
       "      <td>-0.150153</td>\n",
       "      <td>...</td>\n",
       "      <td>-2.850669</td>\n",
       "      <td>0.258645</td>\n",
       "      <td>0.30493</td>\n",
       "      <td>-0.008376</td>\n",
       "      <td>-0.221329</td>\n",
       "      <td>0.504879</td>\n",
       "      <td>0.085448</td>\n",
       "      <td>-0.544087</td>\n",
       "      <td>1.318052</td>\n",
       "      <td>0.468335</td>\n",
       "    </tr>\n",
       "    <tr>\n",
       "      <th>1</th>\n",
       "      <td>0000a464ad921c3288e73a3a788b5f113cabf84251a74b...</td>\n",
       "      <td>-0.471223</td>\n",
       "      <td>-0.486369</td>\n",
       "      <td>-0.466019</td>\n",
       "      <td>-0.865129</td>\n",
       "      <td>-0.789436</td>\n",
       "      <td>-0.518643</td>\n",
       "      <td>-0.800048</td>\n",
       "      <td>-0.184819</td>\n",
       "      <td>-0.150153</td>\n",
       "      <td>...</td>\n",
       "      <td>0.386844</td>\n",
       "      <td>0.258645</td>\n",
       "      <td>0.30493</td>\n",
       "      <td>-0.483069</td>\n",
       "      <td>-0.465831</td>\n",
       "      <td>0.003869</td>\n",
       "      <td>-0.624318</td>\n",
       "      <td>-0.502902</td>\n",
       "      <td>1.318052</td>\n",
       "      <td>-0.714164</td>\n",
       "    </tr>\n",
       "    <tr>\n",
       "      <th>2</th>\n",
       "      <td>0000bc4e8bfc829d327fa69bdc426dd8a789c52550ed87...</td>\n",
       "      <td>-0.398784</td>\n",
       "      <td>-0.122419</td>\n",
       "      <td>-0.293196</td>\n",
       "      <td>-0.712380</td>\n",
       "      <td>-0.206835</td>\n",
       "      <td>-0.377698</td>\n",
       "      <td>-0.633655</td>\n",
       "      <td>-0.184819</td>\n",
       "      <td>-0.150153</td>\n",
       "      <td>...</td>\n",
       "      <td>0.386844</td>\n",
       "      <td>0.258645</td>\n",
       "      <td>0.30493</td>\n",
       "      <td>-0.316926</td>\n",
       "      <td>-0.369090</td>\n",
       "      <td>-0.466886</td>\n",
       "      <td>-0.865939</td>\n",
       "      <td>-0.551218</td>\n",
       "      <td>-1.033395</td>\n",
       "      <td>-0.817914</td>\n",
       "    </tr>\n",
       "    <tr>\n",
       "      <th>3</th>\n",
       "      <td>0002e987a7c0f2c23b8ef2230f3934c77ed94a15778d2c...</td>\n",
       "      <td>-0.380920</td>\n",
       "      <td>-0.049810</td>\n",
       "      <td>-0.250577</td>\n",
       "      <td>-0.117360</td>\n",
       "      <td>0.328695</td>\n",
       "      <td>0.171337</td>\n",
       "      <td>0.050724</td>\n",
       "      <td>-0.184819</td>\n",
       "      <td>-0.150153</td>\n",
       "      <td>...</td>\n",
       "      <td>0.386844</td>\n",
       "      <td>0.258645</td>\n",
       "      <td>0.30493</td>\n",
       "      <td>-0.388130</td>\n",
       "      <td>-0.353899</td>\n",
       "      <td>-0.696769</td>\n",
       "      <td>-1.033120</td>\n",
       "      <td>-0.541306</td>\n",
       "      <td>-0.994485</td>\n",
       "      <td>-0.796630</td>\n",
       "    </tr>\n",
       "    <tr>\n",
       "      <th>4</th>\n",
       "      <td>000640d9f785d21ded61bdff159144b25dea23300ae1b8...</td>\n",
       "      <td>2.193675</td>\n",
       "      <td>0.814588</td>\n",
       "      <td>2.306028</td>\n",
       "      <td>-0.077789</td>\n",
       "      <td>0.136136</td>\n",
       "      <td>0.148530</td>\n",
       "      <td>-0.173699</td>\n",
       "      <td>-0.184819</td>\n",
       "      <td>-0.150153</td>\n",
       "      <td>...</td>\n",
       "      <td>0.386844</td>\n",
       "      <td>0.258645</td>\n",
       "      <td>0.30493</td>\n",
       "      <td>3.124599</td>\n",
       "      <td>2.441336</td>\n",
       "      <td>-0.668751</td>\n",
       "      <td>0.419599</td>\n",
       "      <td>-0.558985</td>\n",
       "      <td>-1.004345</td>\n",
       "      <td>-0.824678</td>\n",
       "    </tr>\n",
       "  </tbody>\n",
       "</table>\n",
       "<p>5 rows × 24 columns</p>\n",
       "</div>"
      ],
      "text/plain": [
       "                                        user_id_hash  total_time  \\\n",
       "0  00000db35682058bb7916cb90f85709f54c1a0f7a3b6de...   -0.063264   \n",
       "1  0000a464ad921c3288e73a3a788b5f113cabf84251a74b...   -0.471223   \n",
       "2  0000bc4e8bfc829d327fa69bdc426dd8a789c52550ed87...   -0.398784   \n",
       "3  0002e987a7c0f2c23b8ef2230f3934c77ed94a15778d2c...   -0.380920   \n",
       "4  000640d9f785d21ded61bdff159144b25dea23300ae1b8...    2.193675   \n",
       "\n",
       "   total_time_last_week  total_time_last_two_week  avg_session_duration_x  \\\n",
       "0             -0.486369                 -0.506823                0.396234   \n",
       "1             -0.486369                 -0.466019               -0.865129   \n",
       "2             -0.122419                 -0.293196               -0.712380   \n",
       "3             -0.049810                 -0.250577               -0.117360   \n",
       "4              0.814588                  2.306028               -0.077789   \n",
       "\n",
       "   avg_session_duration_last_week  avg_session_duration_last_two_week  \\\n",
       "0                       -0.789436                           -0.974992   \n",
       "1                       -0.789436                           -0.518643   \n",
       "2                       -0.206835                           -0.377698   \n",
       "3                        0.328695                            0.171337   \n",
       "4                        0.136136                            0.148530   \n",
       "\n",
       "   avg_event_count  sum_purchase_value  sum_purchase_value_last_week  ...  \\\n",
       "0         0.564164            0.869346                     -0.150153  ...   \n",
       "1        -0.800048           -0.184819                     -0.150153  ...   \n",
       "2        -0.633655           -0.184819                     -0.150153  ...   \n",
       "3         0.050724           -0.184819                     -0.150153  ...   \n",
       "4        -0.173699           -0.184819                     -0.150153  ...   \n",
       "\n",
       "   purchase_interval  purchase_interval_last_week  \\\n",
       "0          -2.850669                     0.258645   \n",
       "1           0.386844                     0.258645   \n",
       "2           0.386844                     0.258645   \n",
       "3           0.386844                     0.258645   \n",
       "4           0.386844                     0.258645   \n",
       "\n",
       "   purchase_interval_last_two_week  session_count  avg_session_duration_y  \\\n",
       "0                          0.30493      -0.008376               -0.221329   \n",
       "1                          0.30493      -0.483069               -0.465831   \n",
       "2                          0.30493      -0.316926               -0.369090   \n",
       "3                          0.30493      -0.388130               -0.353899   \n",
       "4                          0.30493       3.124599                2.441336   \n",
       "\n",
       "   elapse_since_last_session  since_register  avg_session_interval  \\\n",
       "0                   0.504879        0.085448             -0.544087   \n",
       "1                   0.003869       -0.624318             -0.502902   \n",
       "2                  -0.466886       -0.865939             -0.551218   \n",
       "3                  -0.696769       -1.033120             -0.541306   \n",
       "4                  -0.668751        0.419599             -0.558985   \n",
       "\n",
       "   avg_session_interval_last_week  avg_session_interval_last_two_week  \n",
       "0                        1.318052                            0.468335  \n",
       "1                        1.318052                           -0.714164  \n",
       "2                       -1.033395                           -0.817914  \n",
       "3                       -0.994485                           -0.796630  \n",
       "4                       -1.004345                           -0.824678  \n",
       "\n",
       "[5 rows x 24 columns]"
      ]
     },
     "execution_count": 94,
     "metadata": {},
     "output_type": "execute_result"
    }
   ],
   "source": [
    "X_train_1.head()"
   ]
  },
  {
   "cell_type": "code",
   "execution_count": 95,
   "metadata": {
    "ExecuteTime": {
     "end_time": "2019-02-27T00:58:20.161290Z",
     "start_time": "2019-02-27T00:58:12.022643Z"
    }
   },
   "outputs": [],
   "source": [
    "rf_7 = RandomForestClassifier(n_estimators=100, max_depth =5, max_features = 'sqrt', max_leaf_nodes= 8).\\\n",
    "                    fit(X_train_1.iloc[:,1:], y_train_1['user_purchase_binary_7_days'])\n",
    "rf_14 = RandomForestClassifier(n_estimators=100, max_depth =5, max_features = 'sqrt', max_leaf_nodes= 8).\\\n",
    "                    fit(X_train_1.iloc[:,1:], y_train_1['user_purchase_binary_14_days'])"
   ]
  },
  {
   "cell_type": "markdown",
   "metadata": {},
   "source": [
    "### validation"
   ]
  },
  {
   "cell_type": "code",
   "execution_count": 109,
   "metadata": {
    "ExecuteTime": {
     "end_time": "2019-02-27T01:01:19.008225Z",
     "start_time": "2019-02-27T01:01:12.398212Z"
    }
   },
   "outputs": [
    {
     "name": "stdout",
     "output_type": "stream",
     "text": [
      "16398\n"
     ]
    },
    {
     "data": {
      "text/html": [
       "<div>\n",
       "<style scoped>\n",
       "    .dataframe tbody tr th:only-of-type {\n",
       "        vertical-align: middle;\n",
       "    }\n",
       "\n",
       "    .dataframe tbody tr th {\n",
       "        vertical-align: top;\n",
       "    }\n",
       "\n",
       "    .dataframe thead th {\n",
       "        text-align: right;\n",
       "    }\n",
       "</style>\n",
       "<table border=\"1\" class=\"dataframe\">\n",
       "  <thead>\n",
       "    <tr style=\"text-align: right;\">\n",
       "      <th></th>\n",
       "      <th>user_id_hash</th>\n",
       "      <th>total_time</th>\n",
       "      <th>total_time_last_week</th>\n",
       "      <th>total_time_last_two_week</th>\n",
       "      <th>avg_session_duration</th>\n",
       "      <th>avg_session_duration_last_week</th>\n",
       "      <th>avg_session_duration_last_two_week</th>\n",
       "      <th>avg_event_count</th>\n",
       "      <th>sum_purchase_value</th>\n",
       "      <th>sum_purchase_value_last_week</th>\n",
       "      <th>sum_purchase_value_last_two_week</th>\n",
       "      <th>purchase_count</th>\n",
       "      <th>purchase_count_last_week</th>\n",
       "      <th>purchase_count_last_two_week</th>\n",
       "      <th>purchase_interval</th>\n",
       "      <th>purchase_interval_last_week</th>\n",
       "      <th>purchase_interval_last_two_week</th>\n",
       "    </tr>\n",
       "  </thead>\n",
       "  <tbody>\n",
       "    <tr>\n",
       "      <th>0</th>\n",
       "      <td>000081a7d841b0f953bdba6c185fd5cc335fd6015a30c3...</td>\n",
       "      <td>0.468241</td>\n",
       "      <td>0.000000</td>\n",
       "      <td>0.468241</td>\n",
       "      <td>0.234120</td>\n",
       "      <td>0.000000</td>\n",
       "      <td>0.234120</td>\n",
       "      <td>19.000000</td>\n",
       "      <td>0.0</td>\n",
       "      <td>0.0</td>\n",
       "      <td>0.0</td>\n",
       "      <td>0.0</td>\n",
       "      <td>0.0</td>\n",
       "      <td>0.0</td>\n",
       "      <td>1440.0</td>\n",
       "      <td>168.0</td>\n",
       "      <td>336.0</td>\n",
       "    </tr>\n",
       "    <tr>\n",
       "      <th>1</th>\n",
       "      <td>00020102f66f89759868c843ae9fe634870f132f9e3d79...</td>\n",
       "      <td>0.093692</td>\n",
       "      <td>0.093692</td>\n",
       "      <td>0.093692</td>\n",
       "      <td>0.093692</td>\n",
       "      <td>0.093692</td>\n",
       "      <td>0.093692</td>\n",
       "      <td>14.000000</td>\n",
       "      <td>0.0</td>\n",
       "      <td>0.0</td>\n",
       "      <td>0.0</td>\n",
       "      <td>0.0</td>\n",
       "      <td>0.0</td>\n",
       "      <td>0.0</td>\n",
       "      <td>1440.0</td>\n",
       "      <td>168.0</td>\n",
       "      <td>336.0</td>\n",
       "    </tr>\n",
       "    <tr>\n",
       "      <th>2</th>\n",
       "      <td>0007e356e960e1a802454c83e1a6cea122cbd32d6382df...</td>\n",
       "      <td>0.703842</td>\n",
       "      <td>0.000000</td>\n",
       "      <td>0.703842</td>\n",
       "      <td>0.703842</td>\n",
       "      <td>0.000000</td>\n",
       "      <td>0.703842</td>\n",
       "      <td>41.000000</td>\n",
       "      <td>0.0</td>\n",
       "      <td>0.0</td>\n",
       "      <td>0.0</td>\n",
       "      <td>0.0</td>\n",
       "      <td>0.0</td>\n",
       "      <td>0.0</td>\n",
       "      <td>1440.0</td>\n",
       "      <td>168.0</td>\n",
       "      <td>336.0</td>\n",
       "    </tr>\n",
       "    <tr>\n",
       "      <th>3</th>\n",
       "      <td>000c48f36832eb902f680d4ff9b6b93684352a9100a5fe...</td>\n",
       "      <td>0.108426</td>\n",
       "      <td>0.000000</td>\n",
       "      <td>0.000000</td>\n",
       "      <td>0.108426</td>\n",
       "      <td>0.000000</td>\n",
       "      <td>0.000000</td>\n",
       "      <td>11.000000</td>\n",
       "      <td>0.0</td>\n",
       "      <td>0.0</td>\n",
       "      <td>0.0</td>\n",
       "      <td>0.0</td>\n",
       "      <td>0.0</td>\n",
       "      <td>0.0</td>\n",
       "      <td>1440.0</td>\n",
       "      <td>168.0</td>\n",
       "      <td>336.0</td>\n",
       "    </tr>\n",
       "    <tr>\n",
       "      <th>4</th>\n",
       "      <td>000e54395ce0694f3a6b95bbdd48759e3d18c7051650b4...</td>\n",
       "      <td>14.285491</td>\n",
       "      <td>0.287129</td>\n",
       "      <td>1.666413</td>\n",
       "      <td>0.324670</td>\n",
       "      <td>0.287129</td>\n",
       "      <td>0.277736</td>\n",
       "      <td>24.409091</td>\n",
       "      <td>0.0</td>\n",
       "      <td>0.0</td>\n",
       "      <td>0.0</td>\n",
       "      <td>0.0</td>\n",
       "      <td>0.0</td>\n",
       "      <td>0.0</td>\n",
       "      <td>1440.0</td>\n",
       "      <td>168.0</td>\n",
       "      <td>336.0</td>\n",
       "    </tr>\n",
       "  </tbody>\n",
       "</table>\n",
       "</div>"
      ],
      "text/plain": [
       "                                        user_id_hash  total_time  \\\n",
       "0  000081a7d841b0f953bdba6c185fd5cc335fd6015a30c3...    0.468241   \n",
       "1  00020102f66f89759868c843ae9fe634870f132f9e3d79...    0.093692   \n",
       "2  0007e356e960e1a802454c83e1a6cea122cbd32d6382df...    0.703842   \n",
       "3  000c48f36832eb902f680d4ff9b6b93684352a9100a5fe...    0.108426   \n",
       "4  000e54395ce0694f3a6b95bbdd48759e3d18c7051650b4...   14.285491   \n",
       "\n",
       "   total_time_last_week  total_time_last_two_week  avg_session_duration  \\\n",
       "0              0.000000                  0.468241              0.234120   \n",
       "1              0.093692                  0.093692              0.093692   \n",
       "2              0.000000                  0.703842              0.703842   \n",
       "3              0.000000                  0.000000              0.108426   \n",
       "4              0.287129                  1.666413              0.324670   \n",
       "\n",
       "   avg_session_duration_last_week  avg_session_duration_last_two_week  \\\n",
       "0                        0.000000                            0.234120   \n",
       "1                        0.093692                            0.093692   \n",
       "2                        0.000000                            0.703842   \n",
       "3                        0.000000                            0.000000   \n",
       "4                        0.287129                            0.277736   \n",
       "\n",
       "   avg_event_count  sum_purchase_value  sum_purchase_value_last_week  \\\n",
       "0        19.000000                 0.0                           0.0   \n",
       "1        14.000000                 0.0                           0.0   \n",
       "2        41.000000                 0.0                           0.0   \n",
       "3        11.000000                 0.0                           0.0   \n",
       "4        24.409091                 0.0                           0.0   \n",
       "\n",
       "   sum_purchase_value_last_two_week  purchase_count  purchase_count_last_week  \\\n",
       "0                               0.0             0.0                       0.0   \n",
       "1                               0.0             0.0                       0.0   \n",
       "2                               0.0             0.0                       0.0   \n",
       "3                               0.0             0.0                       0.0   \n",
       "4                               0.0             0.0                       0.0   \n",
       "\n",
       "   purchase_count_last_two_week  purchase_interval  \\\n",
       "0                           0.0             1440.0   \n",
       "1                           0.0             1440.0   \n",
       "2                           0.0             1440.0   \n",
       "3                           0.0             1440.0   \n",
       "4                           0.0             1440.0   \n",
       "\n",
       "   purchase_interval_last_week  purchase_interval_last_two_week  \n",
       "0                        168.0                            336.0  \n",
       "1                        168.0                            336.0  \n",
       "2                        168.0                            336.0  \n",
       "3                        168.0                            336.0  \n",
       "4                        168.0                            336.0  "
      ]
     },
     "execution_count": 109,
     "metadata": {},
     "output_type": "execute_result"
    }
   ],
   "source": [
    "val_events_X_1 = compute_event_features(val_events_data_1)\n",
    "print(len(val_events_X_1))\n",
    "val_events_X_1.head()"
   ]
  },
  {
   "cell_type": "code",
   "execution_count": 110,
   "metadata": {
    "ExecuteTime": {
     "end_time": "2019-02-27T01:01:32.191911Z",
     "start_time": "2019-02-27T01:01:19.010175Z"
    }
   },
   "outputs": [
    {
     "name": "stdout",
     "output_type": "stream",
     "text": [
      "16763\n"
     ]
    },
    {
     "data": {
      "text/html": [
       "<div>\n",
       "<style scoped>\n",
       "    .dataframe tbody tr th:only-of-type {\n",
       "        vertical-align: middle;\n",
       "    }\n",
       "\n",
       "    .dataframe tbody tr th {\n",
       "        vertical-align: top;\n",
       "    }\n",
       "\n",
       "    .dataframe thead th {\n",
       "        text-align: right;\n",
       "    }\n",
       "</style>\n",
       "<table border=\"1\" class=\"dataframe\">\n",
       "  <thead>\n",
       "    <tr style=\"text-align: right;\">\n",
       "      <th></th>\n",
       "      <th>user_id_hash</th>\n",
       "      <th>session_count</th>\n",
       "      <th>avg_session_duration</th>\n",
       "      <th>country</th>\n",
       "      <th>os_name</th>\n",
       "      <th>elapse_since_last_session</th>\n",
       "      <th>since_register</th>\n",
       "      <th>avg_session_interval</th>\n",
       "      <th>avg_session_interval_last_week</th>\n",
       "      <th>avg_session_interval_last_two_week</th>\n",
       "    </tr>\n",
       "  </thead>\n",
       "  <tbody>\n",
       "    <tr>\n",
       "      <th>0</th>\n",
       "      <td>000081a7d841b0f953bdba6c185fd5cc335fd6015a30c3...</td>\n",
       "      <td>3</td>\n",
       "      <td>0.253750</td>\n",
       "      <td>US</td>\n",
       "      <td>Android OS</td>\n",
       "      <td>169.228539</td>\n",
       "      <td>195.420569</td>\n",
       "      <td>13.096015</td>\n",
       "      <td>168.000000</td>\n",
       "      <td>13.096015</td>\n",
       "    </tr>\n",
       "    <tr>\n",
       "      <th>1</th>\n",
       "      <td>00020102f66f89759868c843ae9fe634870f132f9e3d79...</td>\n",
       "      <td>1</td>\n",
       "      <td>0.000000</td>\n",
       "      <td>GB</td>\n",
       "      <td>iOS</td>\n",
       "      <td>3.762060</td>\n",
       "      <td>3.762060</td>\n",
       "      <td>720.000000</td>\n",
       "      <td>84.000000</td>\n",
       "      <td>168.000000</td>\n",
       "    </tr>\n",
       "    <tr>\n",
       "      <th>2</th>\n",
       "      <td>0007e356e960e1a802454c83e1a6cea122cbd32d6382df...</td>\n",
       "      <td>2</td>\n",
       "      <td>0.373987</td>\n",
       "      <td>US</td>\n",
       "      <td>iOS</td>\n",
       "      <td>226.384016</td>\n",
       "      <td>233.684354</td>\n",
       "      <td>7.300338</td>\n",
       "      <td>168.000000</td>\n",
       "      <td>7.300338</td>\n",
       "    </tr>\n",
       "    <tr>\n",
       "      <th>3</th>\n",
       "      <td>000c48f36832eb902f680d4ff9b6b93684352a9100a5fe...</td>\n",
       "      <td>2</td>\n",
       "      <td>0.067656</td>\n",
       "      <td>AU</td>\n",
       "      <td>iOS</td>\n",
       "      <td>1024.113060</td>\n",
       "      <td>1045.479911</td>\n",
       "      <td>21.366851</td>\n",
       "      <td>168.000000</td>\n",
       "      <td>336.000000</td>\n",
       "    </tr>\n",
       "    <tr>\n",
       "      <th>4</th>\n",
       "      <td>000e54395ce0694f3a6b95bbdd48759e3d18c7051650b4...</td>\n",
       "      <td>56</td>\n",
       "      <td>7.690253</td>\n",
       "      <td>US</td>\n",
       "      <td>iOS</td>\n",
       "      <td>31.365213</td>\n",
       "      <td>643.438218</td>\n",
       "      <td>11.128600</td>\n",
       "      <td>52.990373</td>\n",
       "      <td>27.858972</td>\n",
       "    </tr>\n",
       "  </tbody>\n",
       "</table>\n",
       "</div>"
      ],
      "text/plain": [
       "                                        user_id_hash  session_count  \\\n",
       "0  000081a7d841b0f953bdba6c185fd5cc335fd6015a30c3...              3   \n",
       "1  00020102f66f89759868c843ae9fe634870f132f9e3d79...              1   \n",
       "2  0007e356e960e1a802454c83e1a6cea122cbd32d6382df...              2   \n",
       "3  000c48f36832eb902f680d4ff9b6b93684352a9100a5fe...              2   \n",
       "4  000e54395ce0694f3a6b95bbdd48759e3d18c7051650b4...             56   \n",
       "\n",
       "   avg_session_duration country     os_name  elapse_since_last_session  \\\n",
       "0              0.253750      US  Android OS                 169.228539   \n",
       "1              0.000000      GB         iOS                   3.762060   \n",
       "2              0.373987      US         iOS                 226.384016   \n",
       "3              0.067656      AU         iOS                1024.113060   \n",
       "4              7.690253      US         iOS                  31.365213   \n",
       "\n",
       "   since_register  avg_session_interval  avg_session_interval_last_week  \\\n",
       "0      195.420569             13.096015                      168.000000   \n",
       "1        3.762060            720.000000                       84.000000   \n",
       "2      233.684354              7.300338                      168.000000   \n",
       "3     1045.479911             21.366851                      168.000000   \n",
       "4      643.438218             11.128600                       52.990373   \n",
       "\n",
       "   avg_session_interval_last_two_week  \n",
       "0                           13.096015  \n",
       "1                          168.000000  \n",
       "2                            7.300338  \n",
       "3                          336.000000  \n",
       "4                           27.858972  "
      ]
     },
     "execution_count": 110,
     "metadata": {},
     "output_type": "execute_result"
    }
   ],
   "source": [
    "val_sessions_X_1 = compute_session_features(val_sessions_data_1)\n",
    "print(len(val_sessions_X_1))\n",
    "val_sessions_X_1.head()"
   ]
  },
  {
   "cell_type": "code",
   "execution_count": 111,
   "metadata": {
    "ExecuteTime": {
     "end_time": "2019-02-27T01:01:32.206599Z",
     "start_time": "2019-02-27T01:01:32.193533Z"
    }
   },
   "outputs": [
    {
     "data": {
      "text/html": [
       "<div>\n",
       "<style scoped>\n",
       "    .dataframe tbody tr th:only-of-type {\n",
       "        vertical-align: middle;\n",
       "    }\n",
       "\n",
       "    .dataframe tbody tr th {\n",
       "        vertical-align: top;\n",
       "    }\n",
       "\n",
       "    .dataframe thead th {\n",
       "        text-align: right;\n",
       "    }\n",
       "</style>\n",
       "<table border=\"1\" class=\"dataframe\">\n",
       "  <thead>\n",
       "    <tr style=\"text-align: right;\">\n",
       "      <th></th>\n",
       "      <th>user_id_hash</th>\n",
       "      <th>session_count</th>\n",
       "      <th>avg_session_duration</th>\n",
       "      <th>elapse_since_last_session</th>\n",
       "      <th>since_register</th>\n",
       "      <th>avg_session_interval</th>\n",
       "      <th>avg_session_interval_last_week</th>\n",
       "      <th>avg_session_interval_last_two_week</th>\n",
       "    </tr>\n",
       "  </thead>\n",
       "  <tbody>\n",
       "    <tr>\n",
       "      <th>0</th>\n",
       "      <td>000081a7d841b0f953bdba6c185fd5cc335fd6015a30c3...</td>\n",
       "      <td>3</td>\n",
       "      <td>0.253750</td>\n",
       "      <td>169.228539</td>\n",
       "      <td>195.420569</td>\n",
       "      <td>13.096015</td>\n",
       "      <td>168.000000</td>\n",
       "      <td>13.096015</td>\n",
       "    </tr>\n",
       "    <tr>\n",
       "      <th>1</th>\n",
       "      <td>00020102f66f89759868c843ae9fe634870f132f9e3d79...</td>\n",
       "      <td>1</td>\n",
       "      <td>0.000000</td>\n",
       "      <td>3.762060</td>\n",
       "      <td>3.762060</td>\n",
       "      <td>720.000000</td>\n",
       "      <td>84.000000</td>\n",
       "      <td>168.000000</td>\n",
       "    </tr>\n",
       "    <tr>\n",
       "      <th>2</th>\n",
       "      <td>0007e356e960e1a802454c83e1a6cea122cbd32d6382df...</td>\n",
       "      <td>2</td>\n",
       "      <td>0.373987</td>\n",
       "      <td>226.384016</td>\n",
       "      <td>233.684354</td>\n",
       "      <td>7.300338</td>\n",
       "      <td>168.000000</td>\n",
       "      <td>7.300338</td>\n",
       "    </tr>\n",
       "    <tr>\n",
       "      <th>3</th>\n",
       "      <td>000c48f36832eb902f680d4ff9b6b93684352a9100a5fe...</td>\n",
       "      <td>2</td>\n",
       "      <td>0.067656</td>\n",
       "      <td>1024.113060</td>\n",
       "      <td>1045.479911</td>\n",
       "      <td>21.366851</td>\n",
       "      <td>168.000000</td>\n",
       "      <td>336.000000</td>\n",
       "    </tr>\n",
       "    <tr>\n",
       "      <th>4</th>\n",
       "      <td>000e54395ce0694f3a6b95bbdd48759e3d18c7051650b4...</td>\n",
       "      <td>56</td>\n",
       "      <td>7.690253</td>\n",
       "      <td>31.365213</td>\n",
       "      <td>643.438218</td>\n",
       "      <td>11.128600</td>\n",
       "      <td>52.990373</td>\n",
       "      <td>27.858972</td>\n",
       "    </tr>\n",
       "  </tbody>\n",
       "</table>\n",
       "</div>"
      ],
      "text/plain": [
       "                                        user_id_hash  session_count  \\\n",
       "0  000081a7d841b0f953bdba6c185fd5cc335fd6015a30c3...              3   \n",
       "1  00020102f66f89759868c843ae9fe634870f132f9e3d79...              1   \n",
       "2  0007e356e960e1a802454c83e1a6cea122cbd32d6382df...              2   \n",
       "3  000c48f36832eb902f680d4ff9b6b93684352a9100a5fe...              2   \n",
       "4  000e54395ce0694f3a6b95bbdd48759e3d18c7051650b4...             56   \n",
       "\n",
       "   avg_session_duration  elapse_since_last_session  since_register  \\\n",
       "0              0.253750                 169.228539      195.420569   \n",
       "1              0.000000                   3.762060        3.762060   \n",
       "2              0.373987                 226.384016      233.684354   \n",
       "3              0.067656                1024.113060     1045.479911   \n",
       "4              7.690253                  31.365213      643.438218   \n",
       "\n",
       "   avg_session_interval  avg_session_interval_last_week  \\\n",
       "0             13.096015                      168.000000   \n",
       "1            720.000000                       84.000000   \n",
       "2              7.300338                      168.000000   \n",
       "3             21.366851                      168.000000   \n",
       "4             11.128600                       52.990373   \n",
       "\n",
       "   avg_session_interval_last_two_week  \n",
       "0                           13.096015  \n",
       "1                          168.000000  \n",
       "2                            7.300338  \n",
       "3                          336.000000  \n",
       "4                           27.858972  "
      ]
     },
     "execution_count": 111,
     "metadata": {},
     "output_type": "execute_result"
    }
   ],
   "source": [
    "# not use country and os_name\n",
    "val_sessions_X_1 = val_sessions_X_1.drop(['country', 'os_name'], axis=1)\n",
    "val_sessions_X_1.head()"
   ]
  },
  {
   "cell_type": "code",
   "execution_count": 112,
   "metadata": {
    "ExecuteTime": {
     "end_time": "2019-02-27T01:01:32.228205Z",
     "start_time": "2019-02-27T01:01:32.208669Z"
    }
   },
   "outputs": [],
   "source": [
    "for c in list(val_events_X_1.columns)[1:]:\n",
    "    val_events_X_1[c] = standardize(val_events_X_1[c])"
   ]
  },
  {
   "cell_type": "code",
   "execution_count": 113,
   "metadata": {
    "ExecuteTime": {
     "end_time": "2019-02-27T01:01:32.239721Z",
     "start_time": "2019-02-27T01:01:32.229761Z"
    }
   },
   "outputs": [],
   "source": [
    "# standardize\n",
    "for c in ['session_count', 'avg_session_duration','elapse_since_last_session', 'since_register',\n",
    "       'avg_session_interval', 'avg_session_interval_last_week',\n",
    "       'avg_session_interval_last_two_week']:\n",
    "    val_sessions_X_1[c] = standardize(val_sessions_X_1[c])"
   ]
  },
  {
   "cell_type": "code",
   "execution_count": 114,
   "metadata": {
    "ExecuteTime": {
     "end_time": "2019-02-27T01:01:32.270835Z",
     "start_time": "2019-02-27T01:01:32.241094Z"
    }
   },
   "outputs": [
    {
     "data": {
      "text/plain": [
       "16380"
      ]
     },
     "execution_count": 114,
     "metadata": {},
     "output_type": "execute_result"
    }
   ],
   "source": [
    "X_val_1 = val_events_X_1.merge(val_sessions_X_1, how='inner', on='user_id_hash').reset_index(drop=True)\n",
    "y_val_1 = val_label_1[val_label_1['user_id_hash'].isin(X_val_1.user_id_hash)]\n",
    "len(X_val_1)"
   ]
  },
  {
   "cell_type": "code",
   "execution_count": 115,
   "metadata": {
    "ExecuteTime": {
     "end_time": "2019-02-27T01:01:32.291012Z",
     "start_time": "2019-02-27T01:01:32.272298Z"
    }
   },
   "outputs": [
    {
     "data": {
      "text/html": [
       "<div>\n",
       "<style scoped>\n",
       "    .dataframe tbody tr th:only-of-type {\n",
       "        vertical-align: middle;\n",
       "    }\n",
       "\n",
       "    .dataframe tbody tr th {\n",
       "        vertical-align: top;\n",
       "    }\n",
       "\n",
       "    .dataframe thead th {\n",
       "        text-align: right;\n",
       "    }\n",
       "</style>\n",
       "<table border=\"1\" class=\"dataframe\">\n",
       "  <thead>\n",
       "    <tr style=\"text-align: right;\">\n",
       "      <th></th>\n",
       "      <th>user_id_hash</th>\n",
       "      <th>total_time</th>\n",
       "      <th>total_time_last_week</th>\n",
       "      <th>total_time_last_two_week</th>\n",
       "      <th>avg_session_duration_x</th>\n",
       "      <th>avg_session_duration_last_week</th>\n",
       "      <th>avg_session_duration_last_two_week</th>\n",
       "      <th>avg_event_count</th>\n",
       "      <th>sum_purchase_value</th>\n",
       "      <th>sum_purchase_value_last_week</th>\n",
       "      <th>...</th>\n",
       "      <th>purchase_interval</th>\n",
       "      <th>purchase_interval_last_week</th>\n",
       "      <th>purchase_interval_last_two_week</th>\n",
       "      <th>session_count</th>\n",
       "      <th>avg_session_duration_y</th>\n",
       "      <th>elapse_since_last_session</th>\n",
       "      <th>since_register</th>\n",
       "      <th>avg_session_interval</th>\n",
       "      <th>avg_session_interval_last_week</th>\n",
       "      <th>avg_session_interval_last_two_week</th>\n",
       "    </tr>\n",
       "  </thead>\n",
       "  <tbody>\n",
       "    <tr>\n",
       "      <th>0</th>\n",
       "      <td>000081a7d841b0f953bdba6c185fd5cc335fd6015a30c3...</td>\n",
       "      <td>-0.463280</td>\n",
       "      <td>-0.493589</td>\n",
       "      <td>-0.441637</td>\n",
       "      <td>-0.509253</td>\n",
       "      <td>-0.782078</td>\n",
       "      <td>-0.214546</td>\n",
       "      <td>-0.374540</td>\n",
       "      <td>-0.200991</td>\n",
       "      <td>-0.158207</td>\n",
       "      <td>...</td>\n",
       "      <td>0.391406</td>\n",
       "      <td>0.261816</td>\n",
       "      <td>0.306336</td>\n",
       "      <td>-0.447887</td>\n",
       "      <td>-0.461018</td>\n",
       "      <td>-0.060721</td>\n",
       "      <td>-0.653042</td>\n",
       "      <td>-0.533460</td>\n",
       "      <td>1.327898</td>\n",
       "      <td>-0.764872</td>\n",
       "    </tr>\n",
       "    <tr>\n",
       "      <th>1</th>\n",
       "      <td>00020102f66f89759868c843ae9fe634870f132f9e3d79...</td>\n",
       "      <td>-0.485979</td>\n",
       "      <td>-0.469793</td>\n",
       "      <td>-0.496575</td>\n",
       "      <td>-0.975095</td>\n",
       "      <td>-0.489776</td>\n",
       "      <td>-0.651810</td>\n",
       "      <td>-0.616560</td>\n",
       "      <td>-0.200991</td>\n",
       "      <td>-0.158207</td>\n",
       "      <td>...</td>\n",
       "      <td>0.391406</td>\n",
       "      <td>0.261816</td>\n",
       "      <td>0.306336</td>\n",
       "      <td>-0.492846</td>\n",
       "      <td>-0.495087</td>\n",
       "      <td>-0.681383</td>\n",
       "      <td>-1.125878</td>\n",
       "      <td>2.048783</td>\n",
       "      <td>0.100773</td>\n",
       "      <td>0.472521</td>\n",
       "    </tr>\n",
       "    <tr>\n",
       "      <th>2</th>\n",
       "      <td>0007e356e960e1a802454c83e1a6cea122cbd32d6382df...</td>\n",
       "      <td>-0.449001</td>\n",
       "      <td>-0.493589</td>\n",
       "      <td>-0.407080</td>\n",
       "      <td>1.048948</td>\n",
       "      <td>-0.782078</td>\n",
       "      <td>1.248065</td>\n",
       "      <td>0.690350</td>\n",
       "      <td>-0.200991</td>\n",
       "      <td>-0.158207</td>\n",
       "      <td>...</td>\n",
       "      <td>0.391406</td>\n",
       "      <td>0.261816</td>\n",
       "      <td>0.306336</td>\n",
       "      <td>-0.470367</td>\n",
       "      <td>-0.444875</td>\n",
       "      <td>0.153668</td>\n",
       "      <td>-0.558642</td>\n",
       "      <td>-0.554631</td>\n",
       "      <td>1.327898</td>\n",
       "      <td>-0.811168</td>\n",
       "    </tr>\n",
       "    <tr>\n",
       "      <th>3</th>\n",
       "      <td>000c48f36832eb902f680d4ff9b6b93684352a9100a5fe...</td>\n",
       "      <td>-0.485086</td>\n",
       "      <td>-0.493589</td>\n",
       "      <td>-0.510317</td>\n",
       "      <td>-0.926218</td>\n",
       "      <td>-0.782078</td>\n",
       "      <td>-0.943546</td>\n",
       "      <td>-0.761772</td>\n",
       "      <td>-0.200991</td>\n",
       "      <td>-0.158207</td>\n",
       "      <td>...</td>\n",
       "      <td>0.391406</td>\n",
       "      <td>0.261816</td>\n",
       "      <td>0.306336</td>\n",
       "      <td>-0.470367</td>\n",
       "      <td>-0.486003</td>\n",
       "      <td>3.145936</td>\n",
       "      <td>1.444118</td>\n",
       "      <td>-0.503247</td>\n",
       "      <td>1.327898</td>\n",
       "      <td>1.814527</td>\n",
       "    </tr>\n",
       "    <tr>\n",
       "      <th>4</th>\n",
       "      <td>000e54395ce0694f3a6b95bbdd48759e3d18c7051650b4...</td>\n",
       "      <td>0.374106</td>\n",
       "      <td>-0.420664</td>\n",
       "      <td>-0.265893</td>\n",
       "      <td>-0.208874</td>\n",
       "      <td>0.113713</td>\n",
       "      <td>-0.078738</td>\n",
       "      <td>-0.112718</td>\n",
       "      <td>-0.200991</td>\n",
       "      <td>-0.158207</td>\n",
       "      <td>...</td>\n",
       "      <td>0.391406</td>\n",
       "      <td>0.261816</td>\n",
       "      <td>0.306336</td>\n",
       "      <td>0.743541</td>\n",
       "      <td>0.537424</td>\n",
       "      <td>-0.577844</td>\n",
       "      <td>0.452251</td>\n",
       "      <td>-0.540647</td>\n",
       "      <td>-0.352236</td>\n",
       "      <td>-0.646943</td>\n",
       "    </tr>\n",
       "  </tbody>\n",
       "</table>\n",
       "<p>5 rows × 24 columns</p>\n",
       "</div>"
      ],
      "text/plain": [
       "                                        user_id_hash  total_time  \\\n",
       "0  000081a7d841b0f953bdba6c185fd5cc335fd6015a30c3...   -0.463280   \n",
       "1  00020102f66f89759868c843ae9fe634870f132f9e3d79...   -0.485979   \n",
       "2  0007e356e960e1a802454c83e1a6cea122cbd32d6382df...   -0.449001   \n",
       "3  000c48f36832eb902f680d4ff9b6b93684352a9100a5fe...   -0.485086   \n",
       "4  000e54395ce0694f3a6b95bbdd48759e3d18c7051650b4...    0.374106   \n",
       "\n",
       "   total_time_last_week  total_time_last_two_week  avg_session_duration_x  \\\n",
       "0             -0.493589                 -0.441637               -0.509253   \n",
       "1             -0.469793                 -0.496575               -0.975095   \n",
       "2             -0.493589                 -0.407080                1.048948   \n",
       "3             -0.493589                 -0.510317               -0.926218   \n",
       "4             -0.420664                 -0.265893               -0.208874   \n",
       "\n",
       "   avg_session_duration_last_week  avg_session_duration_last_two_week  \\\n",
       "0                       -0.782078                           -0.214546   \n",
       "1                       -0.489776                           -0.651810   \n",
       "2                       -0.782078                            1.248065   \n",
       "3                       -0.782078                           -0.943546   \n",
       "4                        0.113713                           -0.078738   \n",
       "\n",
       "   avg_event_count  sum_purchase_value  sum_purchase_value_last_week  ...  \\\n",
       "0        -0.374540           -0.200991                     -0.158207  ...   \n",
       "1        -0.616560           -0.200991                     -0.158207  ...   \n",
       "2         0.690350           -0.200991                     -0.158207  ...   \n",
       "3        -0.761772           -0.200991                     -0.158207  ...   \n",
       "4        -0.112718           -0.200991                     -0.158207  ...   \n",
       "\n",
       "   purchase_interval  purchase_interval_last_week  \\\n",
       "0           0.391406                     0.261816   \n",
       "1           0.391406                     0.261816   \n",
       "2           0.391406                     0.261816   \n",
       "3           0.391406                     0.261816   \n",
       "4           0.391406                     0.261816   \n",
       "\n",
       "   purchase_interval_last_two_week  session_count  avg_session_duration_y  \\\n",
       "0                         0.306336      -0.447887               -0.461018   \n",
       "1                         0.306336      -0.492846               -0.495087   \n",
       "2                         0.306336      -0.470367               -0.444875   \n",
       "3                         0.306336      -0.470367               -0.486003   \n",
       "4                         0.306336       0.743541                0.537424   \n",
       "\n",
       "   elapse_since_last_session  since_register  avg_session_interval  \\\n",
       "0                  -0.060721       -0.653042             -0.533460   \n",
       "1                  -0.681383       -1.125878              2.048783   \n",
       "2                   0.153668       -0.558642             -0.554631   \n",
       "3                   3.145936        1.444118             -0.503247   \n",
       "4                  -0.577844        0.452251             -0.540647   \n",
       "\n",
       "   avg_session_interval_last_week  avg_session_interval_last_two_week  \n",
       "0                        1.327898                           -0.764872  \n",
       "1                        0.100773                            0.472521  \n",
       "2                        1.327898                           -0.811168  \n",
       "3                        1.327898                            1.814527  \n",
       "4                       -0.352236                           -0.646943  \n",
       "\n",
       "[5 rows x 24 columns]"
      ]
     },
     "execution_count": 115,
     "metadata": {},
     "output_type": "execute_result"
    }
   ],
   "source": [
    "X_val_1.head()"
   ]
  },
  {
   "cell_type": "code",
   "execution_count": 116,
   "metadata": {
    "ExecuteTime": {
     "end_time": "2019-02-27T01:02:08.010490Z",
     "start_time": "2019-02-27T01:02:07.862700Z"
    }
   },
   "outputs": [],
   "source": [
    "# predict\n",
    "X_val_1['pred_7'] = rf_7.predict_proba(X_val_1.iloc[:,1:])[:,1]\n",
    "X_val_1['pred_14'] = rf_14.predict_proba(X_val_1.iloc[:,1:-1])[:,1]\n",
    "\n",
    "pred_7 = X_val_1[['user_id_hash','pred_7']]\n",
    "pred_14 = X_val_1[['user_id_hash','pred_14']]\n",
    "\n",
    "y_val_1 = val_label_1.merge(pred_7, how='left', on='user_id_hash').merge(pred_14, how='left', on='user_id_hash').fillna(0)"
   ]
  },
  {
   "cell_type": "code",
   "execution_count": 117,
   "metadata": {
    "ExecuteTime": {
     "end_time": "2019-02-27T01:02:08.865958Z",
     "start_time": "2019-02-27T01:02:08.855869Z"
    }
   },
   "outputs": [
    {
     "data": {
      "text/html": [
       "<div>\n",
       "<style scoped>\n",
       "    .dataframe tbody tr th:only-of-type {\n",
       "        vertical-align: middle;\n",
       "    }\n",
       "\n",
       "    .dataframe tbody tr th {\n",
       "        vertical-align: top;\n",
       "    }\n",
       "\n",
       "    .dataframe thead th {\n",
       "        text-align: right;\n",
       "    }\n",
       "</style>\n",
       "<table border=\"1\" class=\"dataframe\">\n",
       "  <thead>\n",
       "    <tr style=\"text-align: right;\">\n",
       "      <th></th>\n",
       "      <th>user_id_hash</th>\n",
       "      <th>user_purchase_binary_14_days</th>\n",
       "      <th>user_purchase_binary_7_days</th>\n",
       "      <th>pred_7</th>\n",
       "      <th>pred_14</th>\n",
       "    </tr>\n",
       "  </thead>\n",
       "  <tbody>\n",
       "    <tr>\n",
       "      <th>0</th>\n",
       "      <td>1e5f2870732c749aa68f2763c078f2962af27c74340acf...</td>\n",
       "      <td>0</td>\n",
       "      <td>0.0</td>\n",
       "      <td>0.053359</td>\n",
       "      <td>0.072025</td>\n",
       "    </tr>\n",
       "    <tr>\n",
       "      <th>1</th>\n",
       "      <td>436c43808fac6f7b40e595abb68b9754bed32a2c7aeb8f...</td>\n",
       "      <td>1</td>\n",
       "      <td>1.0</td>\n",
       "      <td>0.055830</td>\n",
       "      <td>0.072288</td>\n",
       "    </tr>\n",
       "    <tr>\n",
       "      <th>2</th>\n",
       "      <td>c36c48be9645c609270b03d92257c0b062b790874597f8...</td>\n",
       "      <td>0</td>\n",
       "      <td>0.0</td>\n",
       "      <td>0.075170</td>\n",
       "      <td>0.087439</td>\n",
       "    </tr>\n",
       "    <tr>\n",
       "      <th>3</th>\n",
       "      <td>e16ae9801f4477d9f252e806eac67494dd6fb8e757435c...</td>\n",
       "      <td>0</td>\n",
       "      <td>0.0</td>\n",
       "      <td>0.056235</td>\n",
       "      <td>0.073339</td>\n",
       "    </tr>\n",
       "    <tr>\n",
       "      <th>4</th>\n",
       "      <td>ffa885f430a31606c8023ef48e718ac24b280622bdec4f...</td>\n",
       "      <td>0</td>\n",
       "      <td>0.0</td>\n",
       "      <td>0.056147</td>\n",
       "      <td>0.073449</td>\n",
       "    </tr>\n",
       "  </tbody>\n",
       "</table>\n",
       "</div>"
      ],
      "text/plain": [
       "                                        user_id_hash  \\\n",
       "0  1e5f2870732c749aa68f2763c078f2962af27c74340acf...   \n",
       "1  436c43808fac6f7b40e595abb68b9754bed32a2c7aeb8f...   \n",
       "2  c36c48be9645c609270b03d92257c0b062b790874597f8...   \n",
       "3  e16ae9801f4477d9f252e806eac67494dd6fb8e757435c...   \n",
       "4  ffa885f430a31606c8023ef48e718ac24b280622bdec4f...   \n",
       "\n",
       "   user_purchase_binary_14_days  user_purchase_binary_7_days    pred_7  \\\n",
       "0                             0                          0.0  0.053359   \n",
       "1                             1                          1.0  0.055830   \n",
       "2                             0                          0.0  0.075170   \n",
       "3                             0                          0.0  0.056235   \n",
       "4                             0                          0.0  0.056147   \n",
       "\n",
       "    pred_14  \n",
       "0  0.072025  \n",
       "1  0.072288  \n",
       "2  0.087439  \n",
       "3  0.073339  \n",
       "4  0.073449  "
      ]
     },
     "execution_count": 117,
     "metadata": {},
     "output_type": "execute_result"
    }
   ],
   "source": [
    "y_val_1.head()"
   ]
  },
  {
   "cell_type": "markdown",
   "metadata": {},
   "source": [
    "### performance"
   ]
  },
  {
   "cell_type": "code",
   "execution_count": 122,
   "metadata": {
    "ExecuteTime": {
     "end_time": "2019-02-27T01:04:01.133202Z",
     "start_time": "2019-02-27T01:04:01.125930Z"
    }
   },
   "outputs": [
    {
     "name": "stdout",
     "output_type": "stream",
     "text": [
      "0.6455012961862278\n"
     ]
    }
   ],
   "source": [
    "# roc-auc for 7 days\n",
    "\n",
    "fpr, tpr, thresholds = metrics.roc_curve(y_val_1['user_purchase_binary_7_days'], y_val_1['pred_7'], pos_label=1)\n",
    "roc_lg_auc = metrics.auc(fpr, tpr)\n",
    "print(roc_lg_auc)"
   ]
  },
  {
   "cell_type": "code",
   "execution_count": 119,
   "metadata": {
    "ExecuteTime": {
     "end_time": "2019-02-27T01:02:11.908846Z",
     "start_time": "2019-02-27T01:02:11.740514Z"
    }
   },
   "outputs": [
    {
     "data": {
      "image/png": "[encoded data removed]",
      "text/plain": [
       "<Figure size 360x360 with 1 Axes>"
      ]
     },
     "metadata": {
      "needs_background": "light"
     },
     "output_type": "display_data"
    }
   ],
   "source": [
    "plt.figure(figsize=(5, 5))\n",
    "plt.plot(fpr, tpr, label='LG ROC curve for 7 days(area = %0.2f)' % roc_lg_auc)\n",
    "plt.plot([0, 1], [0, 1], 'k--')\n",
    "plt.xlim([0.0, 1.0])\n",
    "plt.ylim([0.0, 1.005])\n",
    "plt.xlabel('False Positive Rate')\n",
    "plt.ylabel('True Positive Rate')\n",
    "plt.title('Receiver operating characteristic for next 7 days model ')\n",
    "plt.legend(loc=\"lower right\")\n",
    "plt.show()"
   ]
  },
  {
   "cell_type": "code",
   "execution_count": 120,
   "metadata": {
    "ExecuteTime": {
     "end_time": "2019-02-27T01:02:12.552983Z",
     "start_time": "2019-02-27T01:02:12.545477Z"
    }
   },
   "outputs": [
    {
     "name": "stdout",
     "output_type": "stream",
     "text": [
      "0.4405992590810044\n"
     ]
    }
   ],
   "source": [
    "# roc-auc for 14 days\n",
    "\n",
    "fpr, tpr, thresholds = metrics.roc_curve(y_val_1['user_purchase_binary_14_days'], y_val_1['pred_14'], pos_label=1)\n",
    "roc_lg_auc = metrics.auc(fpr, tpr)\n",
    "print(roc_lg_auc)"
   ]
  },
  {
   "cell_type": "code",
   "execution_count": 121,
   "metadata": {
    "ExecuteTime": {
     "end_time": "2019-02-27T01:02:13.078837Z",
     "start_time": "2019-02-27T01:02:12.912888Z"
    }
   },
   "outputs": [
    {
     "data": {
      "image/png": "[encoded data removed]",
      "text/plain": [
       "<Figure size 360x360 with 1 Axes>"
      ]
     },
     "metadata": {
      "needs_background": "light"
     },
     "output_type": "display_data"
    }
   ],
   "source": [
    "plt.figure(figsize=(5, 5))\n",
    "plt.plot(fpr, tpr, label='LG ROC curve for 14 days(area = %0.2f)' % roc_lg_auc)\n",
    "plt.plot([0, 1], [0, 1], 'k--')\n",
    "plt.xlim([0.0, 1.0])\n",
    "plt.ylim([0.0, 1.005])\n",
    "plt.xlabel('False Positive Rate')\n",
    "plt.ylabel('True Positive Rate')\n",
    "plt.title('Receiver operating characteristic for next 14 days model ')\n",
    "plt.legend(loc=\"lower right\")\n",
    "plt.show()"
   ]
  },
  {
   "cell_type": "code",
   "execution_count": null,
   "metadata": {},
   "outputs": [],
   "source": []
  }
 ],
 "metadata": {
  "anaconda-cloud": {},
  "kernelspec": {
   "display_name": "Python 3",
   "language": "python",
   "name": "python3"
  },
  "language_info": {
   "codemirror_mode": {
    "name": "ipython",
    "version": 3
   },
   "file_extension": ".py",
   "mimetype": "text/x-python",
   "name": "python",
   "nbconvert_exporter": "python",
   "pygments_lexer": "ipython3",
   "version": "3.6.7"
  }
 },
 "nbformat": 4,
 "nbformat_minor": 1
}
