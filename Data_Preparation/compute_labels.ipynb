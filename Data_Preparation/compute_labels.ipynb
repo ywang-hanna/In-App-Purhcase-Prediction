{
 "cells": [
  {
   "cell_type": "code",
   "execution_count": 1,
   "metadata": {
    "ExecuteTime": {
     "end_time": "2019-02-20T00:47:43.238285Z",
     "start_time": "2019-02-20T00:47:42.883231Z"
    }
   },
   "outputs": [],
   "source": [
    "import pandas as pd\n",
    "import numpy as np\n",
    "import pickle"
   ]
  },
  {
   "cell_type": "code",
   "execution_count": 2,
   "metadata": {
    "ExecuteTime": {
     "end_time": "2019-02-20T00:47:49.401550Z",
     "start_time": "2019-02-20T00:47:43.239846Z"
    }
   },
   "outputs": [],
   "source": [
    "event1 = pickle.load(open('../Data/event1.pkl', 'rb'))\n",
    "event2 = pickle.load(open('../Data/event2.pkl', 'rb'))\n",
    "events = pd.concat([event1, event2])"
   ]
  },
  {
   "cell_type": "code",
   "execution_count": 3,
   "metadata": {
    "ExecuteTime": {
     "end_time": "2019-02-20T00:47:50.234344Z",
     "start_time": "2019-02-20T00:47:49.404493Z"
    }
   },
   "outputs": [],
   "source": [
    "sessions = pickle.load(open('../Data/sessions.pkl', 'rb'))"
   ]
  },
  {
   "cell_type": "markdown",
   "metadata": {},
   "source": [
    "### feature from 10.1-11.30, label from 12.1-12.14"
   ]
  },
  {
   "cell_type": "code",
   "execution_count": 4,
   "metadata": {
    "ExecuteTime": {
     "end_time": "2019-02-20T00:47:50.248396Z",
     "start_time": "2019-02-20T00:47:50.237899Z"
    }
   },
   "outputs": [
    {
     "data": {
      "text/plain": [
       "Index(['session_id', 'event', 'event_timestamp', 'event_value',\n",
       "       'user_id_hash'],\n",
       "      dtype='object')"
      ]
     },
     "execution_count": 4,
     "metadata": {},
     "output_type": "execute_result"
    }
   ],
   "source": [
    "events.columns"
   ]
  },
  {
   "cell_type": "code",
   "execution_count": 5,
   "metadata": {
    "ExecuteTime": {
     "end_time": "2019-02-20T00:47:50.254354Z",
     "start_time": "2019-02-20T00:47:50.249927Z"
    }
   },
   "outputs": [
    {
     "data": {
      "text/plain": [
       "Index(['session_id', 'start_timestamp', 'timezone', 'timezone_offset',\n",
       "       'previous_sessions_duration', 'user_created_timestamp',\n",
       "       'is_user_first_session', 'is_session', 'country', 'region', 'city',\n",
       "       'latitude', 'longitude', 'locale', 'os_name', 'session_index',\n",
       "       'device_id', 'user_id_hash'],\n",
       "      dtype='object')"
      ]
     },
     "execution_count": 5,
     "metadata": {},
     "output_type": "execute_result"
    }
   ],
   "source": [
    "sessions.columns"
   ]
  },
  {
   "cell_type": "code",
   "execution_count": 6,
   "metadata": {
    "ExecuteTime": {
     "end_time": "2019-02-20T00:47:56.080881Z",
     "start_time": "2019-02-20T00:47:50.256208Z"
    }
   },
   "outputs": [],
   "source": [
    "events['event_time'] = pd.to_datetime(events['event_timestamp'],unit='ms')\n",
    "sessions['start_time'] = pd.to_datetime(sessions['start_timestamp'],unit='ms')"
   ]
  },
  {
   "cell_type": "code",
   "execution_count": 7,
   "metadata": {
    "ExecuteTime": {
     "end_time": "2019-02-20T00:48:36.122692Z",
     "start_time": "2019-02-20T00:47:56.082179Z"
    }
   },
   "outputs": [],
   "source": [
    "events = events.sort_values(by='event_time')\n",
    "sessions = sessions.sort_values(by='start_time')\n",
    "events = events.reset_index(drop=True)\n",
    "sessions = sessions.reset_index(drop=True)"
   ]
  },
  {
   "cell_type": "code",
   "execution_count": 8,
   "metadata": {
    "ExecuteTime": {
     "end_time": "2019-02-20T00:48:36.141464Z",
     "start_time": "2019-02-20T00:48:36.124485Z"
    }
   },
   "outputs": [
    {
     "data": {
      "text/html": [
       "<div>\n",
       "<style scoped>\n",
       "    .dataframe tbody tr th:only-of-type {\n",
       "        vertical-align: middle;\n",
       "    }\n",
       "\n",
       "    .dataframe tbody tr th {\n",
       "        vertical-align: top;\n",
       "    }\n",
       "\n",
       "    .dataframe thead th {\n",
       "        text-align: right;\n",
       "    }\n",
       "</style>\n",
       "<table border=\"1\" class=\"dataframe\">\n",
       "  <thead>\n",
       "    <tr style=\"text-align: right;\">\n",
       "      <th></th>\n",
       "      <th>session_id</th>\n",
       "      <th>event</th>\n",
       "      <th>event_timestamp</th>\n",
       "      <th>event_value</th>\n",
       "      <th>user_id_hash</th>\n",
       "      <th>event_time</th>\n",
       "    </tr>\n",
       "  </thead>\n",
       "  <tbody>\n",
       "    <tr>\n",
       "      <th>111946529</th>\n",
       "      <td>177520398663374058</td>\n",
       "      <td>55</td>\n",
       "      <td>1544831999738</td>\n",
       "      <td>0.0</td>\n",
       "      <td>9c57e2aac03f96e2934ffdb2284c7a715e2db154add6f4...</td>\n",
       "      <td>2018-12-14 23:59:59.738</td>\n",
       "    </tr>\n",
       "    <tr>\n",
       "      <th>111946530</th>\n",
       "      <td>177520398663374058</td>\n",
       "      <td>63</td>\n",
       "      <td>1544831999820</td>\n",
       "      <td>0.0</td>\n",
       "      <td>9c57e2aac03f96e2934ffdb2284c7a715e2db154add6f4...</td>\n",
       "      <td>2018-12-14 23:59:59.820</td>\n",
       "    </tr>\n",
       "    <tr>\n",
       "      <th>111946531</th>\n",
       "      <td>177520398663374058</td>\n",
       "      <td>47</td>\n",
       "      <td>1544831999847</td>\n",
       "      <td>0.0</td>\n",
       "      <td>9c57e2aac03f96e2934ffdb2284c7a715e2db154add6f4...</td>\n",
       "      <td>2018-12-14 23:59:59.847</td>\n",
       "    </tr>\n",
       "    <tr>\n",
       "      <th>111946532</th>\n",
       "      <td>6897354445902686402</td>\n",
       "      <td>5</td>\n",
       "      <td>1544831999968</td>\n",
       "      <td>0.0</td>\n",
       "      <td>96bf27d07f30a55533f968729140a15efe4fbea13acf9d...</td>\n",
       "      <td>2018-12-14 23:59:59.968</td>\n",
       "    </tr>\n",
       "    <tr>\n",
       "      <th>111946533</th>\n",
       "      <td>6897354445902686402</td>\n",
       "      <td>55</td>\n",
       "      <td>1544831999977</td>\n",
       "      <td>0.0</td>\n",
       "      <td>96bf27d07f30a55533f968729140a15efe4fbea13acf9d...</td>\n",
       "      <td>2018-12-14 23:59:59.977</td>\n",
       "    </tr>\n",
       "  </tbody>\n",
       "</table>\n",
       "</div>"
      ],
      "text/plain": [
       "                    session_id event  event_timestamp  event_value  \\\n",
       "111946529   177520398663374058    55    1544831999738          0.0   \n",
       "111946530   177520398663374058    63    1544831999820          0.0   \n",
       "111946531   177520398663374058    47    1544831999847          0.0   \n",
       "111946532  6897354445902686402     5    1544831999968          0.0   \n",
       "111946533  6897354445902686402    55    1544831999977          0.0   \n",
       "\n",
       "                                                user_id_hash  \\\n",
       "111946529  9c57e2aac03f96e2934ffdb2284c7a715e2db154add6f4...   \n",
       "111946530  9c57e2aac03f96e2934ffdb2284c7a715e2db154add6f4...   \n",
       "111946531  9c57e2aac03f96e2934ffdb2284c7a715e2db154add6f4...   \n",
       "111946532  96bf27d07f30a55533f968729140a15efe4fbea13acf9d...   \n",
       "111946533  96bf27d07f30a55533f968729140a15efe4fbea13acf9d...   \n",
       "\n",
       "                       event_time  \n",
       "111946529 2018-12-14 23:59:59.738  \n",
       "111946530 2018-12-14 23:59:59.820  \n",
       "111946531 2018-12-14 23:59:59.847  \n",
       "111946532 2018-12-14 23:59:59.968  \n",
       "111946533 2018-12-14 23:59:59.977  "
      ]
     },
     "execution_count": 8,
     "metadata": {},
     "output_type": "execute_result"
    }
   ],
   "source": [
    "events.tail()"
   ]
  },
  {
   "cell_type": "code",
   "execution_count": 9,
   "metadata": {
    "ExecuteTime": {
     "end_time": "2019-02-20T00:48:36.165700Z",
     "start_time": "2019-02-20T00:48:36.143113Z"
    }
   },
   "outputs": [
    {
     "data": {
      "text/html": [
       "<div>\n",
       "<style scoped>\n",
       "    .dataframe tbody tr th:only-of-type {\n",
       "        vertical-align: middle;\n",
       "    }\n",
       "\n",
       "    .dataframe tbody tr th {\n",
       "        vertical-align: top;\n",
       "    }\n",
       "\n",
       "    .dataframe thead th {\n",
       "        text-align: right;\n",
       "    }\n",
       "</style>\n",
       "<table border=\"1\" class=\"dataframe\">\n",
       "  <thead>\n",
       "    <tr style=\"text-align: right;\">\n",
       "      <th></th>\n",
       "      <th>session_id</th>\n",
       "      <th>start_timestamp</th>\n",
       "      <th>timezone</th>\n",
       "      <th>timezone_offset</th>\n",
       "      <th>previous_sessions_duration</th>\n",
       "      <th>user_created_timestamp</th>\n",
       "      <th>is_user_first_session</th>\n",
       "      <th>is_session</th>\n",
       "      <th>country</th>\n",
       "      <th>region</th>\n",
       "      <th>city</th>\n",
       "      <th>latitude</th>\n",
       "      <th>longitude</th>\n",
       "      <th>locale</th>\n",
       "      <th>os_name</th>\n",
       "      <th>session_index</th>\n",
       "      <th>device_id</th>\n",
       "      <th>user_id_hash</th>\n",
       "      <th>start_time</th>\n",
       "    </tr>\n",
       "  </thead>\n",
       "  <tbody>\n",
       "    <tr>\n",
       "      <th>6199331</th>\n",
       "      <td>4630145786485338110</td>\n",
       "      <td>1544831992054</td>\n",
       "      <td>America/New_York</td>\n",
       "      <td>4276967296</td>\n",
       "      <td>57572666</td>\n",
       "      <td>1543168229079</td>\n",
       "      <td>False</td>\n",
       "      <td>True</td>\n",
       "      <td>US</td>\n",
       "      <td>ny</td>\n",
       "      <td>new york</td>\n",
       "      <td>40.712776</td>\n",
       "      <td>-74.005974</td>\n",
       "      <td>en_US</td>\n",
       "      <td>Android OS</td>\n",
       "      <td>29</td>\n",
       "      <td>2286f0ad-fe81-46c1-bbe2-c53fa47dc0b7</td>\n",
       "      <td>acbe8be8a5385c199ba6cf46d99583f5c934ab6e178e57...</td>\n",
       "      <td>2018-12-14 23:59:52.054</td>\n",
       "    </tr>\n",
       "    <tr>\n",
       "      <th>6199332</th>\n",
       "      <td>5151306523957173938</td>\n",
       "      <td>1544831993499</td>\n",
       "      <td>America/Los_Angeles</td>\n",
       "      <td>4266167296</td>\n",
       "      <td>49514614</td>\n",
       "      <td>1543599631466</td>\n",
       "      <td>False</td>\n",
       "      <td>True</td>\n",
       "      <td>US</td>\n",
       "      <td>ca</td>\n",
       "      <td>los angeles</td>\n",
       "      <td>34.052235</td>\n",
       "      <td>-118.243683</td>\n",
       "      <td>en-US_US</td>\n",
       "      <td>iOS</td>\n",
       "      <td>50</td>\n",
       "      <td>81D95D32-3E50-435F-9E93-1A03F60BAEF1</td>\n",
       "      <td>6c72cc39fbcac0cc069851ebdec246df36fefd6429117f...</td>\n",
       "      <td>2018-12-14 23:59:53.499</td>\n",
       "    </tr>\n",
       "    <tr>\n",
       "      <th>6199333</th>\n",
       "      <td>3875638290458693581</td>\n",
       "      <td>1544831996682</td>\n",
       "      <td>Europe/Budapest</td>\n",
       "      <td>3600000</td>\n",
       "      <td>194801716</td>\n",
       "      <td>1542807614627</td>\n",
       "      <td>False</td>\n",
       "      <td>True</td>\n",
       "      <td>HU</td>\n",
       "      <td>bk</td>\n",
       "      <td>baja</td>\n",
       "      <td>46.181793</td>\n",
       "      <td>18.954306</td>\n",
       "      <td>hu_HU</td>\n",
       "      <td>Android OS</td>\n",
       "      <td>106</td>\n",
       "      <td>e7fbf700-5a7a-4936-8eb7-7e42473c6545</td>\n",
       "      <td>0c3ee12e6bb7a0c41b9d76783beb7d15266ade9c60cf4a...</td>\n",
       "      <td>2018-12-14 23:59:56.682</td>\n",
       "    </tr>\n",
       "    <tr>\n",
       "      <th>6199334</th>\n",
       "      <td>4641995394180881661</td>\n",
       "      <td>1544831997984</td>\n",
       "      <td>America/Chicago</td>\n",
       "      <td>4273367296</td>\n",
       "      <td>5428285</td>\n",
       "      <td>1541706994860</td>\n",
       "      <td>False</td>\n",
       "      <td>True</td>\n",
       "      <td>US</td>\n",
       "      <td>ar</td>\n",
       "      <td>maumelle</td>\n",
       "      <td>34.866756</td>\n",
       "      <td>-92.404320</td>\n",
       "      <td>en_US</td>\n",
       "      <td>Android OS</td>\n",
       "      <td>5</td>\n",
       "      <td>cd7fb7ba-6e2a-4cec-8e7a-1e6ecca5f71b</td>\n",
       "      <td>df83ee2cc447f02ace5af1422780f047749eec51b6f68f...</td>\n",
       "      <td>2018-12-14 23:59:57.984</td>\n",
       "    </tr>\n",
       "    <tr>\n",
       "      <th>6199335</th>\n",
       "      <td>4396398648740242752</td>\n",
       "      <td>1544831999484</td>\n",
       "      <td>America/Los_Angeles</td>\n",
       "      <td>4266167296</td>\n",
       "      <td>14045050</td>\n",
       "      <td>1541982118974</td>\n",
       "      <td>False</td>\n",
       "      <td>True</td>\n",
       "      <td>US</td>\n",
       "      <td>wa</td>\n",
       "      <td>seattle</td>\n",
       "      <td>47.606209</td>\n",
       "      <td>-122.332069</td>\n",
       "      <td>en-US_US</td>\n",
       "      <td>iOS</td>\n",
       "      <td>25</td>\n",
       "      <td>0956AA94-F0D9-4295-B67F-AF03672E10A3</td>\n",
       "      <td>1168d0cd1e76c4cc78098df49a93afa63b5f19e3b0d43e...</td>\n",
       "      <td>2018-12-14 23:59:59.484</td>\n",
       "    </tr>\n",
       "  </tbody>\n",
       "</table>\n",
       "</div>"
      ],
      "text/plain": [
       "                  session_id  start_timestamp             timezone  \\\n",
       "6199331  4630145786485338110    1544831992054     America/New_York   \n",
       "6199332  5151306523957173938    1544831993499  America/Los_Angeles   \n",
       "6199333  3875638290458693581    1544831996682      Europe/Budapest   \n",
       "6199334  4641995394180881661    1544831997984      America/Chicago   \n",
       "6199335  4396398648740242752    1544831999484  America/Los_Angeles   \n",
       "\n",
       "         timezone_offset  previous_sessions_duration  user_created_timestamp  \\\n",
       "6199331       4276967296                    57572666           1543168229079   \n",
       "6199332       4266167296                    49514614           1543599631466   \n",
       "6199333          3600000                   194801716           1542807614627   \n",
       "6199334       4273367296                     5428285           1541706994860   \n",
       "6199335       4266167296                    14045050           1541982118974   \n",
       "\n",
       "         is_user_first_session  is_session country region         city  \\\n",
       "6199331                  False        True      US     ny     new york   \n",
       "6199332                  False        True      US     ca  los angeles   \n",
       "6199333                  False        True      HU     bk         baja   \n",
       "6199334                  False        True      US     ar     maumelle   \n",
       "6199335                  False        True      US     wa      seattle   \n",
       "\n",
       "          latitude   longitude    locale     os_name  session_index  \\\n",
       "6199331  40.712776  -74.005974     en_US  Android OS             29   \n",
       "6199332  34.052235 -118.243683  en-US_US         iOS             50   \n",
       "6199333  46.181793   18.954306     hu_HU  Android OS            106   \n",
       "6199334  34.866756  -92.404320     en_US  Android OS              5   \n",
       "6199335  47.606209 -122.332069  en-US_US         iOS             25   \n",
       "\n",
       "                                    device_id  \\\n",
       "6199331  2286f0ad-fe81-46c1-bbe2-c53fa47dc0b7   \n",
       "6199332  81D95D32-3E50-435F-9E93-1A03F60BAEF1   \n",
       "6199333  e7fbf700-5a7a-4936-8eb7-7e42473c6545   \n",
       "6199334  cd7fb7ba-6e2a-4cec-8e7a-1e6ecca5f71b   \n",
       "6199335  0956AA94-F0D9-4295-B67F-AF03672E10A3   \n",
       "\n",
       "                                              user_id_hash  \\\n",
       "6199331  acbe8be8a5385c199ba6cf46d99583f5c934ab6e178e57...   \n",
       "6199332  6c72cc39fbcac0cc069851ebdec246df36fefd6429117f...   \n",
       "6199333  0c3ee12e6bb7a0c41b9d76783beb7d15266ade9c60cf4a...   \n",
       "6199334  df83ee2cc447f02ace5af1422780f047749eec51b6f68f...   \n",
       "6199335  1168d0cd1e76c4cc78098df49a93afa63b5f19e3b0d43e...   \n",
       "\n",
       "                     start_time  \n",
       "6199331 2018-12-14 23:59:52.054  \n",
       "6199332 2018-12-14 23:59:53.499  \n",
       "6199333 2018-12-14 23:59:56.682  \n",
       "6199334 2018-12-14 23:59:57.984  \n",
       "6199335 2018-12-14 23:59:59.484  "
      ]
     },
     "execution_count": 9,
     "metadata": {},
     "output_type": "execute_result"
    }
   ],
   "source": [
    "sessions.tail()"
   ]
  },
  {
   "cell_type": "code",
   "execution_count": 10,
   "metadata": {
    "ExecuteTime": {
     "end_time": "2019-02-20T00:48:36.673543Z",
     "start_time": "2019-02-20T00:48:36.166939Z"
    }
   },
   "outputs": [],
   "source": [
    "event_end_time = events['event_time'][events.shape[0]-1] - pd.Timedelta(days=14)\n",
    "session_end_time = sessions['start_time'][sessions.shape[0]-1] - pd.Timedelta(days=14)"
   ]
  },
  {
   "cell_type": "code",
   "execution_count": 11,
   "metadata": {
    "ExecuteTime": {
     "end_time": "2019-02-20T00:48:42.378866Z",
     "start_time": "2019-02-20T00:48:36.675099Z"
    }
   },
   "outputs": [],
   "source": [
    "# features from 10.1 - 11.30\n",
    "events_feature = events[events['event_time'] <= event_end_time]\n",
    "sessions_feature = sessions[sessions['start_time'] <= session_end_time]"
   ]
  },
  {
   "cell_type": "code",
   "execution_count": 12,
   "metadata": {
    "ExecuteTime": {
     "end_time": "2019-02-20T00:48:44.629692Z",
     "start_time": "2019-02-20T00:48:42.381220Z"
    }
   },
   "outputs": [],
   "source": [
    "events_feature = events_feature.drop('event_time', axis=1)"
   ]
  },
  {
   "cell_type": "code",
   "execution_count": 13,
   "metadata": {
    "ExecuteTime": {
     "end_time": "2019-02-20T00:48:44.638721Z",
     "start_time": "2019-02-20T00:48:44.631566Z"
    }
   },
   "outputs": [],
   "source": [
    "events_feature_1 = events_feature[:48902576]\n",
    "events_feature_2 = events_feature[48902576:]"
   ]
  },
  {
   "cell_type": "code",
   "execution_count": 14,
   "metadata": {
    "ExecuteTime": {
     "end_time": "2019-02-20T00:48:56.023772Z",
     "start_time": "2019-02-20T00:48:44.641797Z"
    }
   },
   "outputs": [],
   "source": [
    "pickle.dump(events_feature_1, open('../Data/events_feature_1.pkl', 'wb'))\n",
    "pickle.dump(events_feature_2, open('../Data/events_feature_2.pkl', 'wb'))\n",
    "pickle.dump(sessions_feature, open('../Data/sessions_feature.pkl', 'wb'))"
   ]
  },
  {
   "cell_type": "code",
   "execution_count": 15,
   "metadata": {
    "ExecuteTime": {
     "end_time": "2019-02-20T00:48:57.186950Z",
     "start_time": "2019-02-20T00:48:56.027363Z"
    }
   },
   "outputs": [],
   "source": [
    "# labels from 12.1 - 12.14\n",
    "events_label = events[events['event_time'] > event_end_time]"
   ]
  },
  {
   "cell_type": "markdown",
   "metadata": {},
   "source": [
    "### compute labels"
   ]
  },
  {
   "cell_type": "code",
   "execution_count": 16,
   "metadata": {
    "ExecuteTime": {
     "end_time": "2019-02-20T00:48:57.203662Z",
     "start_time": "2019-02-20T00:48:57.189346Z"
    }
   },
   "outputs": [
    {
     "data": {
      "text/html": [
       "<div>\n",
       "<style scoped>\n",
       "    .dataframe tbody tr th:only-of-type {\n",
       "        vertical-align: middle;\n",
       "    }\n",
       "\n",
       "    .dataframe tbody tr th {\n",
       "        vertical-align: top;\n",
       "    }\n",
       "\n",
       "    .dataframe thead th {\n",
       "        text-align: right;\n",
       "    }\n",
       "</style>\n",
       "<table border=\"1\" class=\"dataframe\">\n",
       "  <thead>\n",
       "    <tr style=\"text-align: right;\">\n",
       "      <th></th>\n",
       "      <th>session_id</th>\n",
       "      <th>event</th>\n",
       "      <th>event_timestamp</th>\n",
       "      <th>event_value</th>\n",
       "      <th>user_id_hash</th>\n",
       "      <th>event_time</th>\n",
       "    </tr>\n",
       "  </thead>\n",
       "  <tbody>\n",
       "    <tr>\n",
       "      <th>97805153</th>\n",
       "      <td>77389957355639787</td>\n",
       "      <td>5</td>\n",
       "      <td>1543622400044</td>\n",
       "      <td>1.0</td>\n",
       "      <td>20450cdc6f2baa71f5a7614923abb3097a92dfadfa95c5...</td>\n",
       "      <td>2018-12-01 00:00:00.044</td>\n",
       "    </tr>\n",
       "    <tr>\n",
       "      <th>97805154</th>\n",
       "      <td>4167658236034840927</td>\n",
       "      <td>45</td>\n",
       "      <td>1543622400083</td>\n",
       "      <td>0.0</td>\n",
       "      <td>150d1a292b55f6d71c5b09f714ae08af579675b2fb590c...</td>\n",
       "      <td>2018-12-01 00:00:00.083</td>\n",
       "    </tr>\n",
       "    <tr>\n",
       "      <th>97805155</th>\n",
       "      <td>7138928556980582923</td>\n",
       "      <td>45</td>\n",
       "      <td>1543622400106</td>\n",
       "      <td>0.0</td>\n",
       "      <td>715c63497a42c283199a5565b6bbb9aaa7e7b512b4b54d...</td>\n",
       "      <td>2018-12-01 00:00:00.106</td>\n",
       "    </tr>\n",
       "    <tr>\n",
       "      <th>97805156</th>\n",
       "      <td>3524213767395801970</td>\n",
       "      <td>45</td>\n",
       "      <td>1543622400112</td>\n",
       "      <td>0.0</td>\n",
       "      <td>90abb567b69e5f7746f7911f00a8f2f66f13d9b3a54915...</td>\n",
       "      <td>2018-12-01 00:00:00.112</td>\n",
       "    </tr>\n",
       "    <tr>\n",
       "      <th>97805157</th>\n",
       "      <td>3103980515953267388</td>\n",
       "      <td>45</td>\n",
       "      <td>1543622400124</td>\n",
       "      <td>0.0</td>\n",
       "      <td>b62a4d5bb100f060b6bdc9bb8239dbe80ccc1fbb7e10ad...</td>\n",
       "      <td>2018-12-01 00:00:00.124</td>\n",
       "    </tr>\n",
       "  </tbody>\n",
       "</table>\n",
       "</div>"
      ],
      "text/plain": [
       "                   session_id event  event_timestamp  event_value  \\\n",
       "97805153    77389957355639787     5    1543622400044          1.0   \n",
       "97805154  4167658236034840927    45    1543622400083          0.0   \n",
       "97805155  7138928556980582923    45    1543622400106          0.0   \n",
       "97805156  3524213767395801970    45    1543622400112          0.0   \n",
       "97805157  3103980515953267388    45    1543622400124          0.0   \n",
       "\n",
       "                                               user_id_hash  \\\n",
       "97805153  20450cdc6f2baa71f5a7614923abb3097a92dfadfa95c5...   \n",
       "97805154  150d1a292b55f6d71c5b09f714ae08af579675b2fb590c...   \n",
       "97805155  715c63497a42c283199a5565b6bbb9aaa7e7b512b4b54d...   \n",
       "97805156  90abb567b69e5f7746f7911f00a8f2f66f13d9b3a54915...   \n",
       "97805157  b62a4d5bb100f060b6bdc9bb8239dbe80ccc1fbb7e10ad...   \n",
       "\n",
       "                      event_time  \n",
       "97805153 2018-12-01 00:00:00.044  \n",
       "97805154 2018-12-01 00:00:00.083  \n",
       "97805155 2018-12-01 00:00:00.106  \n",
       "97805156 2018-12-01 00:00:00.112  \n",
       "97805157 2018-12-01 00:00:00.124  "
      ]
     },
     "execution_count": 16,
     "metadata": {},
     "output_type": "execute_result"
    }
   ],
   "source": [
    "events_label.head()"
   ]
  },
  {
   "cell_type": "code",
   "execution_count": 17,
   "metadata": {
    "ExecuteTime": {
     "end_time": "2019-02-20T00:48:57.220888Z",
     "start_time": "2019-02-20T00:48:57.216062Z"
    }
   },
   "outputs": [],
   "source": [
    "seven_endtime = pd.to_datetime(event_end_time) + pd.Timedelta(days=7)\n",
    "fourteen_endtime = pd.to_datetime(event_end_time) + pd.Timedelta(days=14)"
   ]
  },
  {
   "cell_type": "code",
   "execution_count": 18,
   "metadata": {
    "ExecuteTime": {
     "end_time": "2019-02-20T00:49:00.431968Z",
     "start_time": "2019-02-20T00:48:57.222586Z"
    }
   },
   "outputs": [
    {
     "name": "stderr",
     "output_type": "stream",
     "text": [
      "/anaconda3/envs/ml/lib/python3.6/site-packages/ipykernel_launcher.py:1: SettingWithCopyWarning: \n",
      "A value is trying to be set on a copy of a slice from a DataFrame.\n",
      "Try using .loc[row_indexer,col_indexer] = value instead\n",
      "\n",
      "See the caveats in the documentation: http://pandas.pydata.org/pandas-docs/stable/indexing.html#indexing-view-versus-copy\n",
      "  \"\"\"Entry point for launching an IPython kernel.\n"
     ]
    }
   ],
   "source": [
    "events_label['purchases'] = list(events_label['event'].eq('8'))\n",
    "# events_label['event'] = [e=='8' for e in events_label.event]\n",
    "events_7 = events_label[np.logical_and(events_label['event_time'] > event_end_time, \n",
    "                                       events_label['event_time'] <= seven_endtime)]\n",
    "events_14 = events_label[events_label['event_time'] > event_end_time]  # = events_label.copy()"
   ]
  },
  {
   "cell_type": "code",
   "execution_count": 19,
   "metadata": {
    "ExecuteTime": {
     "end_time": "2019-02-20T00:49:00.440110Z",
     "start_time": "2019-02-20T00:49:00.433858Z"
    }
   },
   "outputs": [
    {
     "name": "stdout",
     "output_type": "stream",
     "text": [
      "14141381 14141381\n"
     ]
    }
   ],
   "source": [
    "print(len(events_label), len(events_14))"
   ]
  },
  {
   "cell_type": "code",
   "execution_count": 20,
   "metadata": {
    "ExecuteTime": {
     "end_time": "2019-02-20T00:49:01.034077Z",
     "start_time": "2019-02-20T00:49:00.446902Z"
    }
   },
   "outputs": [],
   "source": [
    "events_14 = events_14.groupby('user_id_hash')['purchases'].sum().reset_index(name='purchase_in_14_days')\n",
    "events_7 = events_7.groupby('user_id_hash')['purchases'].sum().reset_index(name='purchase_in_7_days')"
   ]
  },
  {
   "cell_type": "code",
   "execution_count": 21,
   "metadata": {
    "ExecuteTime": {
     "end_time": "2019-02-20T00:49:02.287302Z",
     "start_time": "2019-02-20T00:49:01.036129Z"
    }
   },
   "outputs": [],
   "source": [
    "training_label = events_14.merge(events_7, how='left', on='user_id_hash')"
   ]
  },
  {
   "cell_type": "code",
   "execution_count": 22,
   "metadata": {
    "ExecuteTime": {
     "end_time": "2019-02-20T00:49:02.704729Z",
     "start_time": "2019-02-20T00:49:02.289020Z"
    }
   },
   "outputs": [],
   "source": [
    "training_label['purchase_in_7_days'] = [int(e!=0) for e in training_label.purchase_in_7_days]\n",
    "training_label['purchase_in_14_days'] = [int(e!=0) for e in training_label.purchase_in_14_days]"
   ]
  },
  {
   "cell_type": "code",
   "execution_count": 23,
   "metadata": {
    "ExecuteTime": {
     "end_time": "2019-02-20T00:49:02.713002Z",
     "start_time": "2019-02-20T00:49:02.706080Z"
    }
   },
   "outputs": [
    {
     "data": {
      "text/html": [
       "<div>\n",
       "<style scoped>\n",
       "    .dataframe tbody tr th:only-of-type {\n",
       "        vertical-align: middle;\n",
       "    }\n",
       "\n",
       "    .dataframe tbody tr th {\n",
       "        vertical-align: top;\n",
       "    }\n",
       "\n",
       "    .dataframe thead th {\n",
       "        text-align: right;\n",
       "    }\n",
       "</style>\n",
       "<table border=\"1\" class=\"dataframe\">\n",
       "  <thead>\n",
       "    <tr style=\"text-align: right;\">\n",
       "      <th></th>\n",
       "      <th>user_id_hash</th>\n",
       "      <th>purchase_in_14_days</th>\n",
       "      <th>purchase_in_7_days</th>\n",
       "    </tr>\n",
       "  </thead>\n",
       "  <tbody>\n",
       "    <tr>\n",
       "      <th>0</th>\n",
       "      <td>00000db35682058bb7916cb90f85709f54c1a0f7a3b6de...</td>\n",
       "      <td>0</td>\n",
       "      <td>0</td>\n",
       "    </tr>\n",
       "    <tr>\n",
       "      <th>1</th>\n",
       "      <td>000059859ec188af6035870faf885c3038cedda05b3a54...</td>\n",
       "      <td>0</td>\n",
       "      <td>0</td>\n",
       "    </tr>\n",
       "    <tr>\n",
       "      <th>2</th>\n",
       "      <td>000062e9be78f3da274fec338e78f89d12000e781967f2...</td>\n",
       "      <td>0</td>\n",
       "      <td>0</td>\n",
       "    </tr>\n",
       "    <tr>\n",
       "      <th>3</th>\n",
       "      <td>00006ad44c0d33a2a526caf75514643639b7b7070dfffd...</td>\n",
       "      <td>0</td>\n",
       "      <td>0</td>\n",
       "    </tr>\n",
       "    <tr>\n",
       "      <th>4</th>\n",
       "      <td>000081a7d841b0f953bdba6c185fd5cc335fd6015a30c3...</td>\n",
       "      <td>0</td>\n",
       "      <td>0</td>\n",
       "    </tr>\n",
       "  </tbody>\n",
       "</table>\n",
       "</div>"
      ],
      "text/plain": [
       "                                        user_id_hash  purchase_in_14_days  \\\n",
       "0  00000db35682058bb7916cb90f85709f54c1a0f7a3b6de...                    0   \n",
       "1  000059859ec188af6035870faf885c3038cedda05b3a54...                    0   \n",
       "2  000062e9be78f3da274fec338e78f89d12000e781967f2...                    0   \n",
       "3  00006ad44c0d33a2a526caf75514643639b7b7070dfffd...                    0   \n",
       "4  000081a7d841b0f953bdba6c185fd5cc335fd6015a30c3...                    0   \n",
       "\n",
       "   purchase_in_7_days  \n",
       "0                   0  \n",
       "1                   0  \n",
       "2                   0  \n",
       "3                   0  \n",
       "4                   0  "
      ]
     },
     "execution_count": 23,
     "metadata": {},
     "output_type": "execute_result"
    }
   ],
   "source": [
    "training_label.head()"
   ]
  },
  {
   "cell_type": "code",
   "execution_count": 24,
   "metadata": {
    "ExecuteTime": {
     "end_time": "2019-02-20T00:49:02.959794Z",
     "start_time": "2019-02-20T00:49:02.714379Z"
    }
   },
   "outputs": [],
   "source": [
    "pickle.dump(training_label, open('../Data/training_label.pkl', 'wb'))"
   ]
  },
  {
   "cell_type": "code",
   "execution_count": null,
   "metadata": {},
   "outputs": [],
   "source": []
  }
 ],
 "metadata": {
  "kernelspec": {
   "display_name": "Python 3",
   "language": "python",
   "name": "python3"
  },
  "language_info": {
   "codemirror_mode": {
    "name": "ipython",
    "version": 3
   },
   "file_extension": ".py",
   "mimetype": "text/x-python",
   "name": "python",
   "nbconvert_exporter": "python",
   "pygments_lexer": "ipython3",
   "version": "3.6.7"
  }
 },
 "nbformat": 4,
 "nbformat_minor": 2
}
