{
 "cells": [
  {
   "cell_type": "code",
   "execution_count": 26,
   "metadata": {
    "ExecuteTime": {
     "end_time": "2019-02-27T08:18:23.714332Z",
     "start_time": "2019-02-27T08:18:23.711606Z"
    }
   },
   "outputs": [],
   "source": [
    "import pandas as pd\n",
    "import numpy as np\n",
    "import pickle\n",
    "from collections import Counter"
   ]
  },
  {
   "cell_type": "code",
   "execution_count": 69,
   "metadata": {
    "ExecuteTime": {
     "end_time": "2019-02-27T09:09:05.650227Z",
     "start_time": "2019-02-27T09:08:55.188844Z"
    }
   },
   "outputs": [],
   "source": [
    "attr1 = pd.read_csv('../Data/attr1.csv')"
   ]
  },
  {
   "cell_type": "code",
   "execution_count": 70,
   "metadata": {
    "ExecuteTime": {
     "end_time": "2019-02-27T09:09:15.995519Z",
     "start_time": "2019-02-27T09:09:05.655740Z"
    }
   },
   "outputs": [],
   "source": [
    "attr2 = pd.read_csv('../Data/attr2.csv')"
   ]
  },
  {
   "cell_type": "code",
   "execution_count": 71,
   "metadata": {
    "ExecuteTime": {
     "end_time": "2019-02-27T09:09:26.753079Z",
     "start_time": "2019-02-27T09:09:15.997700Z"
    }
   },
   "outputs": [],
   "source": [
    "attr3 = pd.read_csv('../Data/attr3.csv')"
   ]
  },
  {
   "cell_type": "code",
   "execution_count": 72,
   "metadata": {
    "ExecuteTime": {
     "end_time": "2019-02-27T09:09:37.827390Z",
     "start_time": "2019-02-27T09:09:26.756389Z"
    }
   },
   "outputs": [],
   "source": [
    "attr4 = pd.read_csv('../Data/attr4.csv')"
   ]
  },
  {
   "cell_type": "code",
   "execution_count": 73,
   "metadata": {
    "ExecuteTime": {
     "end_time": "2019-02-27T09:09:48.241872Z",
     "start_time": "2019-02-27T09:09:37.830245Z"
    }
   },
   "outputs": [],
   "source": [
    "attr5 = pd.read_csv('../Data/attr5.csv')"
   ]
  },
  {
   "cell_type": "code",
   "execution_count": 74,
   "metadata": {
    "ExecuteTime": {
     "end_time": "2019-02-27T09:09:58.371338Z",
     "start_time": "2019-02-27T09:09:48.243281Z"
    }
   },
   "outputs": [],
   "source": [
    "attr6 = pd.read_csv('../Data/attr6.csv')"
   ]
  },
  {
   "cell_type": "code",
   "execution_count": 75,
   "metadata": {
    "ExecuteTime": {
     "end_time": "2019-02-27T09:10:09.149983Z",
     "start_time": "2019-02-27T09:09:58.372908Z"
    }
   },
   "outputs": [],
   "source": [
    "attr7 = pd.read_csv('../Data/attr7.csv')"
   ]
  },
  {
   "cell_type": "code",
   "execution_count": 76,
   "metadata": {
    "ExecuteTime": {
     "end_time": "2019-02-27T09:10:19.239729Z",
     "start_time": "2019-02-27T09:10:09.151593Z"
    }
   },
   "outputs": [],
   "source": [
    "attr8 = pd.read_csv('../Data/attr8.csv')"
   ]
  },
  {
   "cell_type": "code",
   "execution_count": 77,
   "metadata": {
    "ExecuteTime": {
     "end_time": "2019-02-27T09:10:29.864952Z",
     "start_time": "2019-02-27T09:10:19.241417Z"
    }
   },
   "outputs": [],
   "source": [
    "attr9 = pd.read_csv('../Data/attr9.csv')"
   ]
  },
  {
   "cell_type": "code",
   "execution_count": 78,
   "metadata": {
    "ExecuteTime": {
     "end_time": "2019-02-27T09:10:38.361873Z",
     "start_time": "2019-02-27T09:10:29.866377Z"
    }
   },
   "outputs": [],
   "source": [
    "attr10 = pd.read_csv('../Data/attr10.csv')"
   ]
  },
  {
   "cell_type": "code",
   "execution_count": 14,
   "metadata": {
    "ExecuteTime": {
     "end_time": "2019-02-27T08:16:13.555761Z",
     "start_time": "2019-02-27T08:16:13.544503Z"
    }
   },
   "outputs": [
    {
     "name": "stdout",
     "output_type": "stream",
     "text": [
      "15793815 15791764 15788618 15794035 15797123 15787436 15788647 15789406 15793444 12120624\n"
     ]
    }
   ],
   "source": [
    "print(len(attr1), len(attr2), len(attr3), len(attr4), len(attr5), len(attr6), len(attr7), len(attr8), len(attr9), len(attr10))"
   ]
  },
  {
   "cell_type": "code",
   "execution_count": 97,
   "metadata": {
    "ExecuteTime": {
     "end_time": "2019-02-27T09:17:23.028847Z",
     "start_time": "2019-02-27T09:17:03.123467Z"
    }
   },
   "outputs": [],
   "source": [
    "attr1 = attr1.dropna()\n",
    "attr2 = attr2.dropna()\n",
    "attr3 = attr3.dropna()\n",
    "attr4 = attr4.dropna()\n",
    "attr5 = attr5.dropna()\n",
    "attr6 = attr6.dropna()\n",
    "attr7 = attr7.dropna()\n",
    "attr8 = attr8.dropna()\n",
    "attr9 = attr9.dropna()\n",
    "attr10 = attr10.dropna()"
   ]
  },
  {
   "cell_type": "code",
   "execution_count": 98,
   "metadata": {
    "ExecuteTime": {
     "end_time": "2019-02-27T09:17:23.038744Z",
     "start_time": "2019-02-27T09:17:23.033115Z"
    }
   },
   "outputs": [
    {
     "name": "stdout",
     "output_type": "stream",
     "text": [
      "14916021 14915926 14917362 14914832 14915184 14914285 14915479 14911383 14916978 11450055\n"
     ]
    }
   ],
   "source": [
    "print(len(attr1), len(attr2), len(attr3), len(attr4), len(attr5), len(attr6), len(attr7), len(attr8), len(attr9), len(attr10))"
   ]
  },
  {
   "cell_type": "code",
   "execution_count": 107,
   "metadata": {
    "ExecuteTime": {
     "end_time": "2019-02-27T09:22:00.137699Z",
     "start_time": "2019-02-27T09:21:54.551106Z"
    }
   },
   "outputs": [],
   "source": [
    "attr1 = attr1.rename(columns={' attribute':'attribute', ' attribute_value':'attribute_value',' user_id_hash':'user_id_hash'})\n",
    "attr2 = attr2.rename(columns={' attribute':'attribute', ' attribute_value':'attribute_value',' user_id_hash':'user_id_hash'})\n",
    "attr3 = attr3.rename(columns={' attribute':'attribute', ' attribute_value':'attribute_value',' user_id_hash':'user_id_hash'})\n",
    "attr4 = attr4.rename(columns={' attribute':'attribute', ' attribute_value':'attribute_value',' user_id_hash':'user_id_hash'})\n",
    "attr5 = attr5.rename(columns={' attribute':'attribute', ' attribute_value':'attribute_value',' user_id_hash':'user_id_hash'})\n",
    "attr6 = attr6.rename(columns={' attribute':'attribute', ' attribute_value':'attribute_value',' user_id_hash':'user_id_hash'})\n",
    "attr7 = attr7.rename(columns={' attribute':'attribute', ' attribute_value':'attribute_value',' user_id_hash':'user_id_hash'})\n",
    "attr8 = attr8.rename(columns={' attribute':'attribute', ' attribute_value':'attribute_value',' user_id_hash':'user_id_hash'})\n",
    "attr9 = attr9.rename(columns={' attribute':'attribute', ' attribute_value':'attribute_value',' user_id_hash':'user_id_hash'})\n",
    "attr10 = attr10.rename(columns={' attribute':'attribute', ' attribute_value':'attribute_value',' user_id_hash':'user_id_hash'})"
   ]
  },
  {
   "cell_type": "code",
   "execution_count": 122,
   "metadata": {
    "ExecuteTime": {
     "end_time": "2019-02-27T09:27:27.545565Z",
     "start_time": "2019-02-27T09:27:27.534631Z"
    }
   },
   "outputs": [
    {
     "data": {
      "text/html": [
       "<div>\n",
       "<style scoped>\n",
       "    .dataframe tbody tr th:only-of-type {\n",
       "        vertical-align: middle;\n",
       "    }\n",
       "\n",
       "    .dataframe tbody tr th {\n",
       "        vertical-align: top;\n",
       "    }\n",
       "\n",
       "    .dataframe thead th {\n",
       "        text-align: right;\n",
       "    }\n",
       "</style>\n",
       "<table border=\"1\" class=\"dataframe\">\n",
       "  <thead>\n",
       "    <tr style=\"text-align: right;\">\n",
       "      <th></th>\n",
       "      <th>session_id</th>\n",
       "      <th>attribute</th>\n",
       "      <th>attribute_value</th>\n",
       "      <th>user_id_hash</th>\n",
       "    </tr>\n",
       "  </thead>\n",
       "  <tbody>\n",
       "    <tr>\n",
       "      <th>0</th>\n",
       "      <td>2201961907282901522</td>\n",
       "      <td>0</td>\n",
       "      <td>1.0</td>\n",
       "      <td>9943447915df3a45fd6720a026af905b6da6b56a37701b...</td>\n",
       "    </tr>\n",
       "    <tr>\n",
       "      <th>1</th>\n",
       "      <td>2201961907282901522</td>\n",
       "      <td>1</td>\n",
       "      <td>1.0</td>\n",
       "      <td>9943447915df3a45fd6720a026af905b6da6b56a37701b...</td>\n",
       "    </tr>\n",
       "    <tr>\n",
       "      <th>2</th>\n",
       "      <td>2201961907282901522</td>\n",
       "      <td>3</td>\n",
       "      <td>0.0</td>\n",
       "      <td>9943447915df3a45fd6720a026af905b6da6b56a37701b...</td>\n",
       "    </tr>\n",
       "    <tr>\n",
       "      <th>3</th>\n",
       "      <td>2201961907282901522</td>\n",
       "      <td>4</td>\n",
       "      <td>0.0</td>\n",
       "      <td>9943447915df3a45fd6720a026af905b6da6b56a37701b...</td>\n",
       "    </tr>\n",
       "    <tr>\n",
       "      <th>4</th>\n",
       "      <td>2201961907282901522</td>\n",
       "      <td>6</td>\n",
       "      <td>29.0</td>\n",
       "      <td>9943447915df3a45fd6720a026af905b6da6b56a37701b...</td>\n",
       "    </tr>\n",
       "  </tbody>\n",
       "</table>\n",
       "</div>"
      ],
      "text/plain": [
       "            session_id attribute  attribute_value  \\\n",
       "0  2201961907282901522         0              1.0   \n",
       "1  2201961907282901522         1              1.0   \n",
       "2  2201961907282901522         3              0.0   \n",
       "3  2201961907282901522         4              0.0   \n",
       "4  2201961907282901522         6             29.0   \n",
       "\n",
       "                                        user_id_hash  \n",
       "0  9943447915df3a45fd6720a026af905b6da6b56a37701b...  \n",
       "1  9943447915df3a45fd6720a026af905b6da6b56a37701b...  \n",
       "2  9943447915df3a45fd6720a026af905b6da6b56a37701b...  \n",
       "3  9943447915df3a45fd6720a026af905b6da6b56a37701b...  \n",
       "4  9943447915df3a45fd6720a026af905b6da6b56a37701b...  "
      ]
     },
     "execution_count": 122,
     "metadata": {},
     "output_type": "execute_result"
    }
   ],
   "source": [
    "attr1.head()"
   ]
  },
  {
   "cell_type": "code",
   "execution_count": 119,
   "metadata": {
    "ExecuteTime": {
     "end_time": "2019-02-27T09:26:57.257390Z",
     "start_time": "2019-02-27T09:26:54.152259Z"
    }
   },
   "outputs": [],
   "source": [
    "attr1.session_id = attr1.session_id.astype(np.uint64)\n",
    "attr1.attribute = attr1.attribute.astype('category')\n",
    "attr1.attribute_value = attr1.attribute_value.astype(np.float16)\n",
    "\n",
    "attr2.session_id = attr2.session_id.astype(np.uint64)\n",
    "attr2.attribute = attr2.attribute.astype('category')\n",
    "attr2.attribute_value = attr2.attribute_value.astype(np.float16)\n",
    "\n",
    "attr3.session_id = attr3.session_id.astype(np.uint64)\n",
    "attr3.attribute = attr3.attribute.astype('category')\n",
    "attr3.attribute_value = attr3.attribute_value.astype(np.float16)\n",
    "\n",
    "attr4.session_id = attr4.session_id.astype(np.uint64)\n",
    "attr4.attribute = attr4.attribute.astype('category')\n",
    "attr4.attribute_value = attr4.attribute_value.astype(np.float16)\n",
    "\n",
    "attr5.session_id = attr5.session_id.astype(np.uint64)\n",
    "attr5.attribute = attr5.attribute.astype('category')\n",
    "attr5.attribute_value = attr5.attribute_value.astype(np.float16)\n",
    "\n",
    "attr6.session_id = attr6.session_id.astype(np.uint64)\n",
    "attr6.attribute = attr6.attribute.astype('category')\n",
    "attr6.attribute_value = attr6.attribute_value.astype(np.float16)\n",
    "\n",
    "attr7.session_id = attr7.session_id.astype(np.uint64)\n",
    "attr7.attribute = attr7.attribute.astype('category')\n",
    "attr7.attribute_value = attr7.attribute_value.astype(np.float16)\n",
    "\n",
    "attr8.session_id = attr8.session_id.astype(np.uint64)\n",
    "attr8.attribute = attr8.attribute.astype('category')\n",
    "attr8.attribute_value = attr8.attribute_value.astype(np.float16)\n",
    "\n",
    "attr9.session_id = attr9.session_id.astype(np.uint64)\n",
    "attr9.attribute = attr9.attribute.astype('category')\n",
    "attr9.attribute_value = attr9.attribute_value.astype(np.float16)\n",
    "\n",
    "attr10.session_id = attr10.session_id.astype(np.uint64)\n",
    "attr10.attribute = attr10.attribute.astype('category')\n",
    "attr10.attribute_value = attr10.attribute_value.astype(np.float16)"
   ]
  },
  {
   "cell_type": "code",
   "execution_count": 123,
   "metadata": {
    "ExecuteTime": {
     "end_time": "2019-02-27T09:28:08.075077Z",
     "start_time": "2019-02-27T09:28:06.750943Z"
    }
   },
   "outputs": [],
   "source": [
    "attr1 = attr1.reset_index(drop=True)\n",
    "attr2 = attr2.reset_index(drop=True)\n",
    "attr3 = attr3.reset_index(drop=True)\n",
    "attr4 = attr4.reset_index(drop=True)\n",
    "attr5 = attr5.reset_index(drop=True)\n",
    "attr6 = attr6.reset_index(drop=True)\n",
    "attr7 = attr7.reset_index(drop=True)\n",
    "attr8 = attr8.reset_index(drop=True)\n",
    "attr9 = attr9.reset_index(drop=True)\n",
    "attr10 = attr10.reset_index(drop=True)"
   ]
  },
  {
   "cell_type": "code",
   "execution_count": 127,
   "metadata": {
    "ExecuteTime": {
     "end_time": "2019-02-27T09:28:58.203005Z",
     "start_time": "2019-02-27T09:28:52.797000Z"
    }
   },
   "outputs": [
    {
     "name": "stdout",
     "output_type": "stream",
     "text": [
      "<class 'pandas.core.frame.DataFrame'>\n",
      "RangeIndex: 11450055 entries, 0 to 11450054\n",
      "Data columns (total 4 columns):\n",
      "session_id         uint64\n",
      "attribute          category\n",
      "attribute_value    float16\n",
      "user_id_hash       object\n",
      "dtypes: category(1), float16(1), object(1), uint64(1)\n",
      "memory usage: 1.4 GB\n"
     ]
    }
   ],
   "source": [
    "attr10.info(memory_usage='deep')"
   ]
  },
  {
   "cell_type": "code",
   "execution_count": 128,
   "metadata": {
    "ExecuteTime": {
     "end_time": "2019-02-27T09:33:44.939985Z",
     "start_time": "2019-02-27T09:33:39.890710Z"
    }
   },
   "outputs": [],
   "source": [
    "attr = pd.concat([attr1, attr2, attr3, attr4, attr5, attr6, attr7, attr8, attr9, attr10], ignore_index=True)"
   ]
  },
  {
   "cell_type": "code",
   "execution_count": 129,
   "metadata": {
    "ExecuteTime": {
     "end_time": "2019-02-27T09:33:46.500038Z",
     "start_time": "2019-02-27T09:33:46.494590Z"
    }
   },
   "outputs": [
    {
     "data": {
      "text/plain": [
       "145687505"
      ]
     },
     "execution_count": 129,
     "metadata": {},
     "output_type": "execute_result"
    }
   ],
   "source": [
    "len(attr)"
   ]
  },
  {
   "cell_type": "code",
   "execution_count": 131,
   "metadata": {
    "ExecuteTime": {
     "end_time": "2019-02-27T09:34:18.327481Z",
     "start_time": "2019-02-27T09:34:18.303391Z"
    }
   },
   "outputs": [
    {
     "data": {
      "text/html": [
       "<div>\n",
       "<style scoped>\n",
       "    .dataframe tbody tr th:only-of-type {\n",
       "        vertical-align: middle;\n",
       "    }\n",
       "\n",
       "    .dataframe tbody tr th {\n",
       "        vertical-align: top;\n",
       "    }\n",
       "\n",
       "    .dataframe thead th {\n",
       "        text-align: right;\n",
       "    }\n",
       "</style>\n",
       "<table border=\"1\" class=\"dataframe\">\n",
       "  <thead>\n",
       "    <tr style=\"text-align: right;\">\n",
       "      <th></th>\n",
       "      <th>session_id</th>\n",
       "      <th>attribute</th>\n",
       "      <th>attribute_value</th>\n",
       "      <th>user_id_hash</th>\n",
       "    </tr>\n",
       "  </thead>\n",
       "  <tbody>\n",
       "    <tr>\n",
       "      <th>0</th>\n",
       "      <td>2201961907282901522</td>\n",
       "      <td>0</td>\n",
       "      <td>1.0</td>\n",
       "      <td>9943447915df3a45fd6720a026af905b6da6b56a37701b...</td>\n",
       "    </tr>\n",
       "    <tr>\n",
       "      <th>1</th>\n",
       "      <td>2201961907282901522</td>\n",
       "      <td>1</td>\n",
       "      <td>1.0</td>\n",
       "      <td>9943447915df3a45fd6720a026af905b6da6b56a37701b...</td>\n",
       "    </tr>\n",
       "    <tr>\n",
       "      <th>2</th>\n",
       "      <td>2201961907282901522</td>\n",
       "      <td>3</td>\n",
       "      <td>0.0</td>\n",
       "      <td>9943447915df3a45fd6720a026af905b6da6b56a37701b...</td>\n",
       "    </tr>\n",
       "    <tr>\n",
       "      <th>3</th>\n",
       "      <td>2201961907282901522</td>\n",
       "      <td>4</td>\n",
       "      <td>0.0</td>\n",
       "      <td>9943447915df3a45fd6720a026af905b6da6b56a37701b...</td>\n",
       "    </tr>\n",
       "    <tr>\n",
       "      <th>4</th>\n",
       "      <td>2201961907282901522</td>\n",
       "      <td>6</td>\n",
       "      <td>29.0</td>\n",
       "      <td>9943447915df3a45fd6720a026af905b6da6b56a37701b...</td>\n",
       "    </tr>\n",
       "  </tbody>\n",
       "</table>\n",
       "</div>"
      ],
      "text/plain": [
       "            session_id attribute  attribute_value  \\\n",
       "0  2201961907282901522         0              1.0   \n",
       "1  2201961907282901522         1              1.0   \n",
       "2  2201961907282901522         3              0.0   \n",
       "3  2201961907282901522         4              0.0   \n",
       "4  2201961907282901522         6             29.0   \n",
       "\n",
       "                                        user_id_hash  \n",
       "0  9943447915df3a45fd6720a026af905b6da6b56a37701b...  \n",
       "1  9943447915df3a45fd6720a026af905b6da6b56a37701b...  \n",
       "2  9943447915df3a45fd6720a026af905b6da6b56a37701b...  \n",
       "3  9943447915df3a45fd6720a026af905b6da6b56a37701b...  \n",
       "4  9943447915df3a45fd6720a026af905b6da6b56a37701b...  "
      ]
     },
     "execution_count": 131,
     "metadata": {},
     "output_type": "execute_result"
    }
   ],
   "source": [
    "attr.head()"
   ]
  },
  {
   "cell_type": "code",
   "execution_count": 132,
   "metadata": {
    "ExecuteTime": {
     "end_time": "2019-02-27T09:44:27.037065Z",
     "start_time": "2019-02-27T09:35:50.882569Z"
    }
   },
   "outputs": [],
   "source": [
    "attr.to_csv('../Data/attr.csv', index=False)"
   ]
  },
  {
   "cell_type": "code",
   "execution_count": 133,
   "metadata": {
    "ExecuteTime": {
     "end_time": "2019-02-27T09:46:54.086413Z",
     "start_time": "2019-02-27T09:45:02.550122Z"
    }
   },
   "outputs": [],
   "source": [
    "attrs = pd.read_csv('../Data/attr.csv')"
   ]
  },
  {
   "cell_type": "code",
   "execution_count": 134,
   "metadata": {
    "ExecuteTime": {
     "end_time": "2019-02-27T09:46:54.101704Z",
     "start_time": "2019-02-27T09:46:54.089912Z"
    }
   },
   "outputs": [
    {
     "data": {
      "text/plain": [
       "145687505"
      ]
     },
     "execution_count": 134,
     "metadata": {},
     "output_type": "execute_result"
    }
   ],
   "source": [
    "len(attrs)"
   ]
  },
  {
   "cell_type": "code",
   "execution_count": 135,
   "metadata": {
    "ExecuteTime": {
     "end_time": "2019-02-27T09:46:54.147511Z",
     "start_time": "2019-02-27T09:46:54.104635Z"
    }
   },
   "outputs": [
    {
     "data": {
      "text/html": [
       "<div>\n",
       "<style scoped>\n",
       "    .dataframe tbody tr th:only-of-type {\n",
       "        vertical-align: middle;\n",
       "    }\n",
       "\n",
       "    .dataframe tbody tr th {\n",
       "        vertical-align: top;\n",
       "    }\n",
       "\n",
       "    .dataframe thead th {\n",
       "        text-align: right;\n",
       "    }\n",
       "</style>\n",
       "<table border=\"1\" class=\"dataframe\">\n",
       "  <thead>\n",
       "    <tr style=\"text-align: right;\">\n",
       "      <th></th>\n",
       "      <th>session_id</th>\n",
       "      <th>attribute</th>\n",
       "      <th>attribute_value</th>\n",
       "      <th>user_id_hash</th>\n",
       "    </tr>\n",
       "  </thead>\n",
       "  <tbody>\n",
       "    <tr>\n",
       "      <th>0</th>\n",
       "      <td>2201961907282901522</td>\n",
       "      <td>0</td>\n",
       "      <td>1.0</td>\n",
       "      <td>9943447915df3a45fd6720a026af905b6da6b56a37701b...</td>\n",
       "    </tr>\n",
       "    <tr>\n",
       "      <th>1</th>\n",
       "      <td>2201961907282901522</td>\n",
       "      <td>1</td>\n",
       "      <td>1.0</td>\n",
       "      <td>9943447915df3a45fd6720a026af905b6da6b56a37701b...</td>\n",
       "    </tr>\n",
       "    <tr>\n",
       "      <th>2</th>\n",
       "      <td>2201961907282901522</td>\n",
       "      <td>3</td>\n",
       "      <td>0.0</td>\n",
       "      <td>9943447915df3a45fd6720a026af905b6da6b56a37701b...</td>\n",
       "    </tr>\n",
       "    <tr>\n",
       "      <th>3</th>\n",
       "      <td>2201961907282901522</td>\n",
       "      <td>4</td>\n",
       "      <td>0.0</td>\n",
       "      <td>9943447915df3a45fd6720a026af905b6da6b56a37701b...</td>\n",
       "    </tr>\n",
       "    <tr>\n",
       "      <th>4</th>\n",
       "      <td>2201961907282901522</td>\n",
       "      <td>6</td>\n",
       "      <td>29.0</td>\n",
       "      <td>9943447915df3a45fd6720a026af905b6da6b56a37701b...</td>\n",
       "    </tr>\n",
       "  </tbody>\n",
       "</table>\n",
       "</div>"
      ],
      "text/plain": [
       "            session_id  attribute  attribute_value  \\\n",
       "0  2201961907282901522          0              1.0   \n",
       "1  2201961907282901522          1              1.0   \n",
       "2  2201961907282901522          3              0.0   \n",
       "3  2201961907282901522          4              0.0   \n",
       "4  2201961907282901522          6             29.0   \n",
       "\n",
       "                                        user_id_hash  \n",
       "0  9943447915df3a45fd6720a026af905b6da6b56a37701b...  \n",
       "1  9943447915df3a45fd6720a026af905b6da6b56a37701b...  \n",
       "2  9943447915df3a45fd6720a026af905b6da6b56a37701b...  \n",
       "3  9943447915df3a45fd6720a026af905b6da6b56a37701b...  \n",
       "4  9943447915df3a45fd6720a026af905b6da6b56a37701b...  "
      ]
     },
     "execution_count": 135,
     "metadata": {},
     "output_type": "execute_result"
    }
   ],
   "source": [
    "attrs.head()"
   ]
  },
  {
   "cell_type": "code",
   "execution_count": null,
   "metadata": {},
   "outputs": [],
   "source": []
  }
 ],
 "metadata": {
  "kernelspec": {
   "display_name": "Python 3",
   "language": "python",
   "name": "python3"
  },
  "language_info": {
   "codemirror_mode": {
    "name": "ipython",
    "version": 3
   },
   "file_extension": ".py",
   "mimetype": "text/x-python",
   "name": "python",
   "nbconvert_exporter": "python",
   "pygments_lexer": "ipython3",
   "version": "3.6.7"
  }
 },
 "nbformat": 4,
 "nbformat_minor": 2
}
